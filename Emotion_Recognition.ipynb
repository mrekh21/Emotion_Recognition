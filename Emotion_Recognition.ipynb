{
  "nbformat": 4,
  "nbformat_minor": 0,
  "metadata": {
    "colab": {
      "provenance": [],
      "gpuType": "T4",
      "include_colab_link": true
    },
    "kernelspec": {
      "name": "python3",
      "display_name": "Python 3"
    },
    "language_info": {
      "name": "python"
    },
    "accelerator": "GPU"
  },
  "cells": [
    {
      "cell_type": "markdown",
      "metadata": {
        "id": "view-in-github",
        "colab_type": "text"
      },
      "source": [
        "<a href=\"https://colab.research.google.com/github/mrekh21/Emotion_Recognition/blob/main/Emotion_Recognition.ipynb\" target=\"_parent\"><img src=\"https://colab.research.google.com/assets/colab-badge.svg\" alt=\"Open In Colab\"/></a>"
      ]
    },
    {
      "cell_type": "markdown",
      "source": [
        "# Connect to Kaggle:"
      ],
      "metadata": {
        "id": "LbAiPke7MS-E"
      }
    },
    {
      "cell_type": "code",
      "execution_count": 1,
      "metadata": {
        "colab": {
          "base_uri": "https://localhost:8080/",
          "height": 72
        },
        "id": "CYoD1SVoI2t5",
        "outputId": "784ece46-c668-4d45-f38c-e7847d655093"
      },
      "outputs": [
        {
          "output_type": "display_data",
          "data": {
            "text/plain": [
              "<IPython.core.display.HTML object>"
            ],
            "text/html": [
              "\n",
              "     <input type=\"file\" id=\"files-38f996e5-774f-48ba-9189-a5a3b61112fb\" name=\"files[]\" multiple disabled\n",
              "        style=\"border:none\" />\n",
              "     <output id=\"result-38f996e5-774f-48ba-9189-a5a3b61112fb\">\n",
              "      Upload widget is only available when the cell has been executed in the\n",
              "      current browser session. Please rerun this cell to enable.\n",
              "      </output>\n",
              "      <script>// Copyright 2017 Google LLC\n",
              "//\n",
              "// Licensed under the Apache License, Version 2.0 (the \"License\");\n",
              "// you may not use this file except in compliance with the License.\n",
              "// You may obtain a copy of the License at\n",
              "//\n",
              "//      http://www.apache.org/licenses/LICENSE-2.0\n",
              "//\n",
              "// Unless required by applicable law or agreed to in writing, software\n",
              "// distributed under the License is distributed on an \"AS IS\" BASIS,\n",
              "// WITHOUT WARRANTIES OR CONDITIONS OF ANY KIND, either express or implied.\n",
              "// See the License for the specific language governing permissions and\n",
              "// limitations under the License.\n",
              "\n",
              "/**\n",
              " * @fileoverview Helpers for google.colab Python module.\n",
              " */\n",
              "(function(scope) {\n",
              "function span(text, styleAttributes = {}) {\n",
              "  const element = document.createElement('span');\n",
              "  element.textContent = text;\n",
              "  for (const key of Object.keys(styleAttributes)) {\n",
              "    element.style[key] = styleAttributes[key];\n",
              "  }\n",
              "  return element;\n",
              "}\n",
              "\n",
              "// Max number of bytes which will be uploaded at a time.\n",
              "const MAX_PAYLOAD_SIZE = 100 * 1024;\n",
              "\n",
              "function _uploadFiles(inputId, outputId) {\n",
              "  const steps = uploadFilesStep(inputId, outputId);\n",
              "  const outputElement = document.getElementById(outputId);\n",
              "  // Cache steps on the outputElement to make it available for the next call\n",
              "  // to uploadFilesContinue from Python.\n",
              "  outputElement.steps = steps;\n",
              "\n",
              "  return _uploadFilesContinue(outputId);\n",
              "}\n",
              "\n",
              "// This is roughly an async generator (not supported in the browser yet),\n",
              "// where there are multiple asynchronous steps and the Python side is going\n",
              "// to poll for completion of each step.\n",
              "// This uses a Promise to block the python side on completion of each step,\n",
              "// then passes the result of the previous step as the input to the next step.\n",
              "function _uploadFilesContinue(outputId) {\n",
              "  const outputElement = document.getElementById(outputId);\n",
              "  const steps = outputElement.steps;\n",
              "\n",
              "  const next = steps.next(outputElement.lastPromiseValue);\n",
              "  return Promise.resolve(next.value.promise).then((value) => {\n",
              "    // Cache the last promise value to make it available to the next\n",
              "    // step of the generator.\n",
              "    outputElement.lastPromiseValue = value;\n",
              "    return next.value.response;\n",
              "  });\n",
              "}\n",
              "\n",
              "/**\n",
              " * Generator function which is called between each async step of the upload\n",
              " * process.\n",
              " * @param {string} inputId Element ID of the input file picker element.\n",
              " * @param {string} outputId Element ID of the output display.\n",
              " * @return {!Iterable<!Object>} Iterable of next steps.\n",
              " */\n",
              "function* uploadFilesStep(inputId, outputId) {\n",
              "  const inputElement = document.getElementById(inputId);\n",
              "  inputElement.disabled = false;\n",
              "\n",
              "  const outputElement = document.getElementById(outputId);\n",
              "  outputElement.innerHTML = '';\n",
              "\n",
              "  const pickedPromise = new Promise((resolve) => {\n",
              "    inputElement.addEventListener('change', (e) => {\n",
              "      resolve(e.target.files);\n",
              "    });\n",
              "  });\n",
              "\n",
              "  const cancel = document.createElement('button');\n",
              "  inputElement.parentElement.appendChild(cancel);\n",
              "  cancel.textContent = 'Cancel upload';\n",
              "  const cancelPromise = new Promise((resolve) => {\n",
              "    cancel.onclick = () => {\n",
              "      resolve(null);\n",
              "    };\n",
              "  });\n",
              "\n",
              "  // Wait for the user to pick the files.\n",
              "  const files = yield {\n",
              "    promise: Promise.race([pickedPromise, cancelPromise]),\n",
              "    response: {\n",
              "      action: 'starting',\n",
              "    }\n",
              "  };\n",
              "\n",
              "  cancel.remove();\n",
              "\n",
              "  // Disable the input element since further picks are not allowed.\n",
              "  inputElement.disabled = true;\n",
              "\n",
              "  if (!files) {\n",
              "    return {\n",
              "      response: {\n",
              "        action: 'complete',\n",
              "      }\n",
              "    };\n",
              "  }\n",
              "\n",
              "  for (const file of files) {\n",
              "    const li = document.createElement('li');\n",
              "    li.append(span(file.name, {fontWeight: 'bold'}));\n",
              "    li.append(span(\n",
              "        `(${file.type || 'n/a'}) - ${file.size} bytes, ` +\n",
              "        `last modified: ${\n",
              "            file.lastModifiedDate ? file.lastModifiedDate.toLocaleDateString() :\n",
              "                                    'n/a'} - `));\n",
              "    const percent = span('0% done');\n",
              "    li.appendChild(percent);\n",
              "\n",
              "    outputElement.appendChild(li);\n",
              "\n",
              "    const fileDataPromise = new Promise((resolve) => {\n",
              "      const reader = new FileReader();\n",
              "      reader.onload = (e) => {\n",
              "        resolve(e.target.result);\n",
              "      };\n",
              "      reader.readAsArrayBuffer(file);\n",
              "    });\n",
              "    // Wait for the data to be ready.\n",
              "    let fileData = yield {\n",
              "      promise: fileDataPromise,\n",
              "      response: {\n",
              "        action: 'continue',\n",
              "      }\n",
              "    };\n",
              "\n",
              "    // Use a chunked sending to avoid message size limits. See b/62115660.\n",
              "    let position = 0;\n",
              "    do {\n",
              "      const length = Math.min(fileData.byteLength - position, MAX_PAYLOAD_SIZE);\n",
              "      const chunk = new Uint8Array(fileData, position, length);\n",
              "      position += length;\n",
              "\n",
              "      const base64 = btoa(String.fromCharCode.apply(null, chunk));\n",
              "      yield {\n",
              "        response: {\n",
              "          action: 'append',\n",
              "          file: file.name,\n",
              "          data: base64,\n",
              "        },\n",
              "      };\n",
              "\n",
              "      let percentDone = fileData.byteLength === 0 ?\n",
              "          100 :\n",
              "          Math.round((position / fileData.byteLength) * 100);\n",
              "      percent.textContent = `${percentDone}% done`;\n",
              "\n",
              "    } while (position < fileData.byteLength);\n",
              "  }\n",
              "\n",
              "  // All done.\n",
              "  yield {\n",
              "    response: {\n",
              "      action: 'complete',\n",
              "    }\n",
              "  };\n",
              "}\n",
              "\n",
              "scope.google = scope.google || {};\n",
              "scope.google.colab = scope.google.colab || {};\n",
              "scope.google.colab._files = {\n",
              "  _uploadFiles,\n",
              "  _uploadFilesContinue,\n",
              "};\n",
              "})(self);\n",
              "</script> "
            ]
          },
          "metadata": {}
        },
        {
          "output_type": "stream",
          "name": "stdout",
          "text": [
            "Saving kaggle.json to kaggle.json\n"
          ]
        }
      ],
      "source": [
        "from google.colab import files\n",
        "files.upload()\n",
        "\n",
        "!mkdir -p ~/.kaggle\n",
        "!cp kaggle.json ~/.kaggle/\n",
        "!chmod 600 ~/.kaggle/kaggle.json"
      ]
    },
    {
      "cell_type": "code",
      "source": [
        "!pip install kaggle\n",
        "\n",
        "!kaggle competitions download -c challenges-in-representation-learning-facial-expression-recognition-challenge"
      ],
      "metadata": {
        "colab": {
          "base_uri": "https://localhost:8080/"
        },
        "id": "bbPd4oGyJXMt",
        "outputId": "65be437e-b69f-41c7-d91e-86678d69d490"
      },
      "execution_count": 2,
      "outputs": [
        {
          "output_type": "stream",
          "name": "stdout",
          "text": [
            "Requirement already satisfied: kaggle in /usr/local/lib/python3.11/dist-packages (1.7.4.5)\n",
            "Requirement already satisfied: bleach in /usr/local/lib/python3.11/dist-packages (from kaggle) (6.2.0)\n",
            "Requirement already satisfied: certifi>=14.05.14 in /usr/local/lib/python3.11/dist-packages (from kaggle) (2025.4.26)\n",
            "Requirement already satisfied: charset-normalizer in /usr/local/lib/python3.11/dist-packages (from kaggle) (3.4.2)\n",
            "Requirement already satisfied: idna in /usr/local/lib/python3.11/dist-packages (from kaggle) (3.10)\n",
            "Requirement already satisfied: protobuf in /usr/local/lib/python3.11/dist-packages (from kaggle) (5.29.4)\n",
            "Requirement already satisfied: python-dateutil>=2.5.3 in /usr/local/lib/python3.11/dist-packages (from kaggle) (2.9.0.post0)\n",
            "Requirement already satisfied: python-slugify in /usr/local/lib/python3.11/dist-packages (from kaggle) (8.0.4)\n",
            "Requirement already satisfied: requests in /usr/local/lib/python3.11/dist-packages (from kaggle) (2.32.3)\n",
            "Requirement already satisfied: setuptools>=21.0.0 in /usr/local/lib/python3.11/dist-packages (from kaggle) (75.2.0)\n",
            "Requirement already satisfied: six>=1.10 in /usr/local/lib/python3.11/dist-packages (from kaggle) (1.17.0)\n",
            "Requirement already satisfied: text-unidecode in /usr/local/lib/python3.11/dist-packages (from kaggle) (1.3)\n",
            "Requirement already satisfied: tqdm in /usr/local/lib/python3.11/dist-packages (from kaggle) (4.67.1)\n",
            "Requirement already satisfied: urllib3>=1.15.1 in /usr/local/lib/python3.11/dist-packages (from kaggle) (2.4.0)\n",
            "Requirement already satisfied: webencodings in /usr/local/lib/python3.11/dist-packages (from kaggle) (0.5.1)\n",
            "Downloading challenges-in-representation-learning-facial-expression-recognition-challenge.zip to /content\n",
            " 87% 249M/285M [00:02<00:00, 112MB/s] \n",
            "100% 285M/285M [00:05<00:00, 51.9MB/s]\n"
          ]
        }
      ]
    },
    {
      "cell_type": "markdown",
      "source": [
        "# Connect to Git:"
      ],
      "metadata": {
        "id": "_Vbrj6UsMZSa"
      }
    },
    {
      "cell_type": "code",
      "source": [
        "%cd /content"
      ],
      "metadata": {
        "colab": {
          "base_uri": "https://localhost:8080/"
        },
        "id": "ECvPX00fPE0c",
        "outputId": "7fcc51a8-5bd9-437c-efe9-61fc829a6136"
      },
      "execution_count": 3,
      "outputs": [
        {
          "output_type": "stream",
          "name": "stdout",
          "text": [
            "/content\n"
          ]
        }
      ]
    },
    {
      "cell_type": "code",
      "source": [
        "!git clone https://github.com/mrekh21/Emotion_Recognition"
      ],
      "metadata": {
        "id": "ybuPg2BJL1yr",
        "colab": {
          "base_uri": "https://localhost:8080/"
        },
        "outputId": "06eff340-dd73-459b-c2c6-f5b821307e08"
      },
      "execution_count": 4,
      "outputs": [
        {
          "output_type": "stream",
          "name": "stdout",
          "text": [
            "Cloning into 'Emotion_Recognition'...\n",
            "remote: Enumerating objects: 3, done.\u001b[K\n",
            "remote: Counting objects: 100% (3/3), done.\u001b[K\n",
            "remote: Total 3 (delta 0), reused 0 (delta 0), pack-reused 0 (from 0)\u001b[K\n",
            "Receiving objects: 100% (3/3), done.\n"
          ]
        }
      ]
    },
    {
      "cell_type": "code",
      "source": [
        "# !git config --global user.email \"mrekh21@freeuni.edu.ge\"\n",
        "# !git config --global user.name \"mrekh21\"\n",
        "\n",
        "# !git add .\n",
        "# !git commit -m \"Your commit message\"\n",
        "# !git push origin main"
      ],
      "metadata": {
        "id": "Al6qpBkVOzyq"
      },
      "execution_count": 5,
      "outputs": []
    },
    {
      "cell_type": "code",
      "source": [
        "!ls -l Emotion_Recognition"
      ],
      "metadata": {
        "colab": {
          "base_uri": "https://localhost:8080/"
        },
        "id": "_2QuBhk7PSQu",
        "outputId": "a7f38fcb-e4f2-4dd9-fd81-563e4a31fd7e"
      },
      "execution_count": 6,
      "outputs": [
        {
          "output_type": "stream",
          "name": "stdout",
          "text": [
            "total 4\n",
            "-rw-r--r-- 1 root root 21 Jun  2 10:03 README.md\n"
          ]
        }
      ]
    },
    {
      "cell_type": "code",
      "source": [
        "%cd Emotion_Recognition"
      ],
      "metadata": {
        "colab": {
          "base_uri": "https://localhost:8080/"
        },
        "id": "v_IRbO-xPStt",
        "outputId": "a916dcd6-c8de-4123-837b-e8902009f3fa"
      },
      "execution_count": 7,
      "outputs": [
        {
          "output_type": "stream",
          "name": "stdout",
          "text": [
            "/content/Emotion_Recognition\n"
          ]
        }
      ]
    },
    {
      "cell_type": "code",
      "source": [
        "!ls -l"
      ],
      "metadata": {
        "colab": {
          "base_uri": "https://localhost:8080/"
        },
        "id": "jOleCxC-PnkJ",
        "outputId": "cfcd50b6-144c-464d-e63b-736c5473798f"
      },
      "execution_count": 8,
      "outputs": [
        {
          "output_type": "stream",
          "name": "stdout",
          "text": [
            "total 4\n",
            "-rw-r--r-- 1 root root 21 Jun  2 10:03 README.md\n"
          ]
        }
      ]
    },
    {
      "cell_type": "markdown",
      "source": [
        "# Connect to Wandb:"
      ],
      "metadata": {
        "id": "jbOBdbVKPvSc"
      }
    },
    {
      "cell_type": "code",
      "source": [
        "!pip install wandb"
      ],
      "metadata": {
        "colab": {
          "base_uri": "https://localhost:8080/"
        },
        "id": "SIoX1n8BPpWc",
        "outputId": "2f81e47d-8d42-46c7-fa81-1b16bc800a91"
      },
      "execution_count": 9,
      "outputs": [
        {
          "output_type": "stream",
          "name": "stdout",
          "text": [
            "Requirement already satisfied: wandb in /usr/local/lib/python3.11/dist-packages (0.19.11)\n",
            "Requirement already satisfied: click!=8.0.0,>=7.1 in /usr/local/lib/python3.11/dist-packages (from wandb) (8.2.1)\n",
            "Requirement already satisfied: docker-pycreds>=0.4.0 in /usr/local/lib/python3.11/dist-packages (from wandb) (0.4.0)\n",
            "Requirement already satisfied: gitpython!=3.1.29,>=1.0.0 in /usr/local/lib/python3.11/dist-packages (from wandb) (3.1.44)\n",
            "Requirement already satisfied: platformdirs in /usr/local/lib/python3.11/dist-packages (from wandb) (4.3.8)\n",
            "Requirement already satisfied: protobuf!=4.21.0,!=5.28.0,<7,>=3.19.0 in /usr/local/lib/python3.11/dist-packages (from wandb) (5.29.4)\n",
            "Requirement already satisfied: psutil>=5.0.0 in /usr/local/lib/python3.11/dist-packages (from wandb) (5.9.5)\n",
            "Requirement already satisfied: pydantic<3 in /usr/local/lib/python3.11/dist-packages (from wandb) (2.11.4)\n",
            "Requirement already satisfied: pyyaml in /usr/local/lib/python3.11/dist-packages (from wandb) (6.0.2)\n",
            "Requirement already satisfied: requests<3,>=2.0.0 in /usr/local/lib/python3.11/dist-packages (from wandb) (2.32.3)\n",
            "Requirement already satisfied: sentry-sdk>=2.0.0 in /usr/local/lib/python3.11/dist-packages (from wandb) (2.29.1)\n",
            "Requirement already satisfied: setproctitle in /usr/local/lib/python3.11/dist-packages (from wandb) (1.3.6)\n",
            "Requirement already satisfied: setuptools in /usr/local/lib/python3.11/dist-packages (from wandb) (75.2.0)\n",
            "Requirement already satisfied: typing-extensions<5,>=4.4 in /usr/local/lib/python3.11/dist-packages (from wandb) (4.13.2)\n",
            "Requirement already satisfied: six>=1.4.0 in /usr/local/lib/python3.11/dist-packages (from docker-pycreds>=0.4.0->wandb) (1.17.0)\n",
            "Requirement already satisfied: gitdb<5,>=4.0.1 in /usr/local/lib/python3.11/dist-packages (from gitpython!=3.1.29,>=1.0.0->wandb) (4.0.12)\n",
            "Requirement already satisfied: annotated-types>=0.6.0 in /usr/local/lib/python3.11/dist-packages (from pydantic<3->wandb) (0.7.0)\n",
            "Requirement already satisfied: pydantic-core==2.33.2 in /usr/local/lib/python3.11/dist-packages (from pydantic<3->wandb) (2.33.2)\n",
            "Requirement already satisfied: typing-inspection>=0.4.0 in /usr/local/lib/python3.11/dist-packages (from pydantic<3->wandb) (0.4.1)\n",
            "Requirement already satisfied: charset-normalizer<4,>=2 in /usr/local/lib/python3.11/dist-packages (from requests<3,>=2.0.0->wandb) (3.4.2)\n",
            "Requirement already satisfied: idna<4,>=2.5 in /usr/local/lib/python3.11/dist-packages (from requests<3,>=2.0.0->wandb) (3.10)\n",
            "Requirement already satisfied: urllib3<3,>=1.21.1 in /usr/local/lib/python3.11/dist-packages (from requests<3,>=2.0.0->wandb) (2.4.0)\n",
            "Requirement already satisfied: certifi>=2017.4.17 in /usr/local/lib/python3.11/dist-packages (from requests<3,>=2.0.0->wandb) (2025.4.26)\n",
            "Requirement already satisfied: smmap<6,>=3.0.1 in /usr/local/lib/python3.11/dist-packages (from gitdb<5,>=4.0.1->gitpython!=3.1.29,>=1.0.0->wandb) (5.0.2)\n"
          ]
        }
      ]
    },
    {
      "cell_type": "code",
      "source": [
        "import wandb\n",
        "\n",
        "wandb.login()"
      ],
      "metadata": {
        "colab": {
          "base_uri": "https://localhost:8080/",
          "height": 210
        },
        "id": "RFTxtmaTPze5",
        "outputId": "0d076982-7bcc-4376-fdb2-1388dea897d0"
      },
      "execution_count": 10,
      "outputs": [
        {
          "output_type": "display_data",
          "data": {
            "text/plain": [
              "<IPython.core.display.Javascript object>"
            ],
            "application/javascript": [
              "\n",
              "        window._wandbApiKey = new Promise((resolve, reject) => {\n",
              "            function loadScript(url) {\n",
              "            return new Promise(function(resolve, reject) {\n",
              "                let newScript = document.createElement(\"script\");\n",
              "                newScript.onerror = reject;\n",
              "                newScript.onload = resolve;\n",
              "                document.body.appendChild(newScript);\n",
              "                newScript.src = url;\n",
              "            });\n",
              "            }\n",
              "            loadScript(\"https://cdn.jsdelivr.net/npm/postmate/build/postmate.min.js\").then(() => {\n",
              "            const iframe = document.createElement('iframe')\n",
              "            iframe.style.cssText = \"width:0;height:0;border:none\"\n",
              "            document.body.appendChild(iframe)\n",
              "            const handshake = new Postmate({\n",
              "                container: iframe,\n",
              "                url: 'https://wandb.ai/authorize'\n",
              "            });\n",
              "            const timeout = setTimeout(() => reject(\"Couldn't auto authenticate\"), 5000)\n",
              "            handshake.then(function(child) {\n",
              "                child.on('authorize', data => {\n",
              "                    clearTimeout(timeout)\n",
              "                    resolve(data)\n",
              "                });\n",
              "            });\n",
              "            })\n",
              "        });\n",
              "    "
            ]
          },
          "metadata": {}
        },
        {
          "output_type": "stream",
          "name": "stderr",
          "text": [
            "\u001b[34m\u001b[1mwandb\u001b[0m: Logging into wandb.ai. (Learn how to deploy a W&B server locally: https://wandb.me/wandb-server)\n",
            "\u001b[34m\u001b[1mwandb\u001b[0m: You can find your API key in your browser here: https://wandb.ai/authorize\n",
            "wandb: Paste an API key from your profile and hit enter:"
          ]
        },
        {
          "name": "stdout",
          "output_type": "stream",
          "text": [
            " ··········\n"
          ]
        },
        {
          "output_type": "stream",
          "name": "stderr",
          "text": [
            "\u001b[34m\u001b[1mwandb\u001b[0m: \u001b[33mWARNING\u001b[0m If you're specifying your api key in code, ensure this code is not shared publicly.\n",
            "\u001b[34m\u001b[1mwandb\u001b[0m: \u001b[33mWARNING\u001b[0m Consider setting the WANDB_API_KEY environment variable, or running `wandb login` from the command line.\n",
            "\u001b[34m\u001b[1mwandb\u001b[0m: No netrc file found, creating one.\n",
            "\u001b[34m\u001b[1mwandb\u001b[0m: Appending key for api.wandb.ai to your netrc file: /root/.netrc\n",
            "\u001b[34m\u001b[1mwandb\u001b[0m: Currently logged in as: \u001b[33mmrekh21\u001b[0m (\u001b[33mmrekh21-free-university-of-tbilisi-\u001b[0m) to \u001b[32mhttps://api.wandb.ai\u001b[0m. Use \u001b[1m`wandb login --relogin`\u001b[0m to force relogin\n"
          ]
        },
        {
          "output_type": "execute_result",
          "data": {
            "text/plain": [
              "True"
            ]
          },
          "metadata": {},
          "execution_count": 10
        }
      ]
    },
    {
      "cell_type": "markdown",
      "source": [
        "# Load datasets:"
      ],
      "metadata": {
        "id": "jsBa22TRQQtL"
      }
    },
    {
      "cell_type": "code",
      "source": [
        "!unzip -q /content/challenges-in-representation-learning-facial-expression-recognition-challenge.zip -d /content/dataset"
      ],
      "metadata": {
        "id": "MgKEAXxJQHmC"
      },
      "execution_count": 11,
      "outputs": []
    },
    {
      "cell_type": "code",
      "source": [
        "!ls /content/dataset"
      ],
      "metadata": {
        "colab": {
          "base_uri": "https://localhost:8080/"
        },
        "id": "ZuWIzBG0QsBf",
        "outputId": "abdff7a4-3c12-4ff6-f9b7-71365c606393"
      },
      "execution_count": 12,
      "outputs": [
        {
          "output_type": "stream",
          "name": "stdout",
          "text": [
            "example_submission.csv\tfer2013.tar.gz\ticml_face_data.csv  test.csv  train.csv\n"
          ]
        }
      ]
    },
    {
      "cell_type": "code",
      "source": [
        "import pandas as pd\n",
        "\n",
        "train = pd.read_csv('/content/dataset/train.csv')\n",
        "test = pd.read_csv('/content/dataset/test.csv')\n",
        "\n",
        "print(train.head())"
      ],
      "metadata": {
        "colab": {
          "base_uri": "https://localhost:8080/"
        },
        "id": "y3Ap6ll0Qwci",
        "outputId": "ed8e1a62-8202-499f-caa4-63c78cbeacad"
      },
      "execution_count": 13,
      "outputs": [
        {
          "output_type": "stream",
          "name": "stdout",
          "text": [
            "   emotion                                             pixels\n",
            "0        0  70 80 82 72 58 58 60 63 54 58 60 48 89 115 121...\n",
            "1        0  151 150 147 155 148 133 111 140 170 174 182 15...\n",
            "2        2  231 212 156 164 174 138 161 173 182 200 106 38...\n",
            "3        4  24 32 36 30 32 23 19 20 30 41 21 22 32 34 21 1...\n",
            "4        6  4 0 0 0 0 0 0 0 0 0 0 0 3 15 23 28 48 50 58 84...\n"
          ]
        }
      ]
    },
    {
      "cell_type": "code",
      "source": [
        "print(test.head())"
      ],
      "metadata": {
        "colab": {
          "base_uri": "https://localhost:8080/"
        },
        "id": "9UU4cPWDIs_E",
        "outputId": "7cfa617b-ec00-4a48-e9c5-5bbf605bc55b"
      },
      "execution_count": 14,
      "outputs": [
        {
          "output_type": "stream",
          "name": "stdout",
          "text": [
            "                                              pixels\n",
            "0  254 254 254 254 254 249 255 160 2 58 53 70 77 ...\n",
            "1  156 184 198 202 204 207 210 212 213 214 215 21...\n",
            "2  69 118 61 60 96 121 103 87 103 88 70 90 115 12...\n",
            "3  205 203 236 157 83 158 120 116 94 86 155 180 2...\n",
            "4  87 79 74 66 74 96 77 80 80 84 83 89 102 91 84 ...\n"
          ]
        }
      ]
    },
    {
      "cell_type": "code",
      "source": [
        "train.shape, test.shape"
      ],
      "metadata": {
        "colab": {
          "base_uri": "https://localhost:8080/"
        },
        "id": "iez2cO_ZFQiX",
        "outputId": "16280c64-91c8-4e34-b811-d8e0d2775344"
      },
      "execution_count": 15,
      "outputs": [
        {
          "output_type": "execute_result",
          "data": {
            "text/plain": [
              "((28709, 2), (7178, 1))"
            ]
          },
          "metadata": {},
          "execution_count": 15
        }
      ]
    },
    {
      "cell_type": "code",
      "source": [
        "icml_face_data = pd.read_csv('/content/dataset/icml_face_data.csv')\n",
        "icml_face_data.head()"
      ],
      "metadata": {
        "colab": {
          "base_uri": "https://localhost:8080/",
          "height": 206
        },
        "id": "e00BYDNKFpWi",
        "outputId": "e7c5a1e5-579c-4d96-f8d3-a5145ef78a0c"
      },
      "execution_count": 16,
      "outputs": [
        {
          "output_type": "execute_result",
          "data": {
            "text/plain": [
              "   emotion     Usage                                             pixels\n",
              "0        0  Training  70 80 82 72 58 58 60 63 54 58 60 48 89 115 121...\n",
              "1        0  Training  151 150 147 155 148 133 111 140 170 174 182 15...\n",
              "2        2  Training  231 212 156 164 174 138 161 173 182 200 106 38...\n",
              "3        4  Training  24 32 36 30 32 23 19 20 30 41 21 22 32 34 21 1...\n",
              "4        6  Training  4 0 0 0 0 0 0 0 0 0 0 0 3 15 23 28 48 50 58 84..."
            ],
            "text/html": [
              "\n",
              "  <div id=\"df-19ff94e2-8063-4957-b681-7e2bfb9842d5\" class=\"colab-df-container\">\n",
              "    <div>\n",
              "<style scoped>\n",
              "    .dataframe tbody tr th:only-of-type {\n",
              "        vertical-align: middle;\n",
              "    }\n",
              "\n",
              "    .dataframe tbody tr th {\n",
              "        vertical-align: top;\n",
              "    }\n",
              "\n",
              "    .dataframe thead th {\n",
              "        text-align: right;\n",
              "    }\n",
              "</style>\n",
              "<table border=\"1\" class=\"dataframe\">\n",
              "  <thead>\n",
              "    <tr style=\"text-align: right;\">\n",
              "      <th></th>\n",
              "      <th>emotion</th>\n",
              "      <th>Usage</th>\n",
              "      <th>pixels</th>\n",
              "    </tr>\n",
              "  </thead>\n",
              "  <tbody>\n",
              "    <tr>\n",
              "      <th>0</th>\n",
              "      <td>0</td>\n",
              "      <td>Training</td>\n",
              "      <td>70 80 82 72 58 58 60 63 54 58 60 48 89 115 121...</td>\n",
              "    </tr>\n",
              "    <tr>\n",
              "      <th>1</th>\n",
              "      <td>0</td>\n",
              "      <td>Training</td>\n",
              "      <td>151 150 147 155 148 133 111 140 170 174 182 15...</td>\n",
              "    </tr>\n",
              "    <tr>\n",
              "      <th>2</th>\n",
              "      <td>2</td>\n",
              "      <td>Training</td>\n",
              "      <td>231 212 156 164 174 138 161 173 182 200 106 38...</td>\n",
              "    </tr>\n",
              "    <tr>\n",
              "      <th>3</th>\n",
              "      <td>4</td>\n",
              "      <td>Training</td>\n",
              "      <td>24 32 36 30 32 23 19 20 30 41 21 22 32 34 21 1...</td>\n",
              "    </tr>\n",
              "    <tr>\n",
              "      <th>4</th>\n",
              "      <td>6</td>\n",
              "      <td>Training</td>\n",
              "      <td>4 0 0 0 0 0 0 0 0 0 0 0 3 15 23 28 48 50 58 84...</td>\n",
              "    </tr>\n",
              "  </tbody>\n",
              "</table>\n",
              "</div>\n",
              "    <div class=\"colab-df-buttons\">\n",
              "\n",
              "  <div class=\"colab-df-container\">\n",
              "    <button class=\"colab-df-convert\" onclick=\"convertToInteractive('df-19ff94e2-8063-4957-b681-7e2bfb9842d5')\"\n",
              "            title=\"Convert this dataframe to an interactive table.\"\n",
              "            style=\"display:none;\">\n",
              "\n",
              "  <svg xmlns=\"http://www.w3.org/2000/svg\" height=\"24px\" viewBox=\"0 -960 960 960\">\n",
              "    <path d=\"M120-120v-720h720v720H120Zm60-500h600v-160H180v160Zm220 220h160v-160H400v160Zm0 220h160v-160H400v160ZM180-400h160v-160H180v160Zm440 0h160v-160H620v160ZM180-180h160v-160H180v160Zm440 0h160v-160H620v160Z\"/>\n",
              "  </svg>\n",
              "    </button>\n",
              "\n",
              "  <style>\n",
              "    .colab-df-container {\n",
              "      display:flex;\n",
              "      gap: 12px;\n",
              "    }\n",
              "\n",
              "    .colab-df-convert {\n",
              "      background-color: #E8F0FE;\n",
              "      border: none;\n",
              "      border-radius: 50%;\n",
              "      cursor: pointer;\n",
              "      display: none;\n",
              "      fill: #1967D2;\n",
              "      height: 32px;\n",
              "      padding: 0 0 0 0;\n",
              "      width: 32px;\n",
              "    }\n",
              "\n",
              "    .colab-df-convert:hover {\n",
              "      background-color: #E2EBFA;\n",
              "      box-shadow: 0px 1px 2px rgba(60, 64, 67, 0.3), 0px 1px 3px 1px rgba(60, 64, 67, 0.15);\n",
              "      fill: #174EA6;\n",
              "    }\n",
              "\n",
              "    .colab-df-buttons div {\n",
              "      margin-bottom: 4px;\n",
              "    }\n",
              "\n",
              "    [theme=dark] .colab-df-convert {\n",
              "      background-color: #3B4455;\n",
              "      fill: #D2E3FC;\n",
              "    }\n",
              "\n",
              "    [theme=dark] .colab-df-convert:hover {\n",
              "      background-color: #434B5C;\n",
              "      box-shadow: 0px 1px 3px 1px rgba(0, 0, 0, 0.15);\n",
              "      filter: drop-shadow(0px 1px 2px rgba(0, 0, 0, 0.3));\n",
              "      fill: #FFFFFF;\n",
              "    }\n",
              "  </style>\n",
              "\n",
              "    <script>\n",
              "      const buttonEl =\n",
              "        document.querySelector('#df-19ff94e2-8063-4957-b681-7e2bfb9842d5 button.colab-df-convert');\n",
              "      buttonEl.style.display =\n",
              "        google.colab.kernel.accessAllowed ? 'block' : 'none';\n",
              "\n",
              "      async function convertToInteractive(key) {\n",
              "        const element = document.querySelector('#df-19ff94e2-8063-4957-b681-7e2bfb9842d5');\n",
              "        const dataTable =\n",
              "          await google.colab.kernel.invokeFunction('convertToInteractive',\n",
              "                                                    [key], {});\n",
              "        if (!dataTable) return;\n",
              "\n",
              "        const docLinkHtml = 'Like what you see? Visit the ' +\n",
              "          '<a target=\"_blank\" href=https://colab.research.google.com/notebooks/data_table.ipynb>data table notebook</a>'\n",
              "          + ' to learn more about interactive tables.';\n",
              "        element.innerHTML = '';\n",
              "        dataTable['output_type'] = 'display_data';\n",
              "        await google.colab.output.renderOutput(dataTable, element);\n",
              "        const docLink = document.createElement('div');\n",
              "        docLink.innerHTML = docLinkHtml;\n",
              "        element.appendChild(docLink);\n",
              "      }\n",
              "    </script>\n",
              "  </div>\n",
              "\n",
              "\n",
              "    <div id=\"df-9b70b77a-af57-42e2-8c11-d5a149f3708a\">\n",
              "      <button class=\"colab-df-quickchart\" onclick=\"quickchart('df-9b70b77a-af57-42e2-8c11-d5a149f3708a')\"\n",
              "                title=\"Suggest charts\"\n",
              "                style=\"display:none;\">\n",
              "\n",
              "<svg xmlns=\"http://www.w3.org/2000/svg\" height=\"24px\"viewBox=\"0 0 24 24\"\n",
              "     width=\"24px\">\n",
              "    <g>\n",
              "        <path d=\"M19 3H5c-1.1 0-2 .9-2 2v14c0 1.1.9 2 2 2h14c1.1 0 2-.9 2-2V5c0-1.1-.9-2-2-2zM9 17H7v-7h2v7zm4 0h-2V7h2v10zm4 0h-2v-4h2v4z\"/>\n",
              "    </g>\n",
              "</svg>\n",
              "      </button>\n",
              "\n",
              "<style>\n",
              "  .colab-df-quickchart {\n",
              "      --bg-color: #E8F0FE;\n",
              "      --fill-color: #1967D2;\n",
              "      --hover-bg-color: #E2EBFA;\n",
              "      --hover-fill-color: #174EA6;\n",
              "      --disabled-fill-color: #AAA;\n",
              "      --disabled-bg-color: #DDD;\n",
              "  }\n",
              "\n",
              "  [theme=dark] .colab-df-quickchart {\n",
              "      --bg-color: #3B4455;\n",
              "      --fill-color: #D2E3FC;\n",
              "      --hover-bg-color: #434B5C;\n",
              "      --hover-fill-color: #FFFFFF;\n",
              "      --disabled-bg-color: #3B4455;\n",
              "      --disabled-fill-color: #666;\n",
              "  }\n",
              "\n",
              "  .colab-df-quickchart {\n",
              "    background-color: var(--bg-color);\n",
              "    border: none;\n",
              "    border-radius: 50%;\n",
              "    cursor: pointer;\n",
              "    display: none;\n",
              "    fill: var(--fill-color);\n",
              "    height: 32px;\n",
              "    padding: 0;\n",
              "    width: 32px;\n",
              "  }\n",
              "\n",
              "  .colab-df-quickchart:hover {\n",
              "    background-color: var(--hover-bg-color);\n",
              "    box-shadow: 0 1px 2px rgba(60, 64, 67, 0.3), 0 1px 3px 1px rgba(60, 64, 67, 0.15);\n",
              "    fill: var(--button-hover-fill-color);\n",
              "  }\n",
              "\n",
              "  .colab-df-quickchart-complete:disabled,\n",
              "  .colab-df-quickchart-complete:disabled:hover {\n",
              "    background-color: var(--disabled-bg-color);\n",
              "    fill: var(--disabled-fill-color);\n",
              "    box-shadow: none;\n",
              "  }\n",
              "\n",
              "  .colab-df-spinner {\n",
              "    border: 2px solid var(--fill-color);\n",
              "    border-color: transparent;\n",
              "    border-bottom-color: var(--fill-color);\n",
              "    animation:\n",
              "      spin 1s steps(1) infinite;\n",
              "  }\n",
              "\n",
              "  @keyframes spin {\n",
              "    0% {\n",
              "      border-color: transparent;\n",
              "      border-bottom-color: var(--fill-color);\n",
              "      border-left-color: var(--fill-color);\n",
              "    }\n",
              "    20% {\n",
              "      border-color: transparent;\n",
              "      border-left-color: var(--fill-color);\n",
              "      border-top-color: var(--fill-color);\n",
              "    }\n",
              "    30% {\n",
              "      border-color: transparent;\n",
              "      border-left-color: var(--fill-color);\n",
              "      border-top-color: var(--fill-color);\n",
              "      border-right-color: var(--fill-color);\n",
              "    }\n",
              "    40% {\n",
              "      border-color: transparent;\n",
              "      border-right-color: var(--fill-color);\n",
              "      border-top-color: var(--fill-color);\n",
              "    }\n",
              "    60% {\n",
              "      border-color: transparent;\n",
              "      border-right-color: var(--fill-color);\n",
              "    }\n",
              "    80% {\n",
              "      border-color: transparent;\n",
              "      border-right-color: var(--fill-color);\n",
              "      border-bottom-color: var(--fill-color);\n",
              "    }\n",
              "    90% {\n",
              "      border-color: transparent;\n",
              "      border-bottom-color: var(--fill-color);\n",
              "    }\n",
              "  }\n",
              "</style>\n",
              "\n",
              "      <script>\n",
              "        async function quickchart(key) {\n",
              "          const quickchartButtonEl =\n",
              "            document.querySelector('#' + key + ' button');\n",
              "          quickchartButtonEl.disabled = true;  // To prevent multiple clicks.\n",
              "          quickchartButtonEl.classList.add('colab-df-spinner');\n",
              "          try {\n",
              "            const charts = await google.colab.kernel.invokeFunction(\n",
              "                'suggestCharts', [key], {});\n",
              "          } catch (error) {\n",
              "            console.error('Error during call to suggestCharts:', error);\n",
              "          }\n",
              "          quickchartButtonEl.classList.remove('colab-df-spinner');\n",
              "          quickchartButtonEl.classList.add('colab-df-quickchart-complete');\n",
              "        }\n",
              "        (() => {\n",
              "          let quickchartButtonEl =\n",
              "            document.querySelector('#df-9b70b77a-af57-42e2-8c11-d5a149f3708a button');\n",
              "          quickchartButtonEl.style.display =\n",
              "            google.colab.kernel.accessAllowed ? 'block' : 'none';\n",
              "        })();\n",
              "      </script>\n",
              "    </div>\n",
              "\n",
              "    </div>\n",
              "  </div>\n"
            ],
            "application/vnd.google.colaboratory.intrinsic+json": {
              "type": "dataframe",
              "variable_name": "icml_face_data",
              "summary": "{\n  \"name\": \"icml_face_data\",\n  \"rows\": 35887,\n  \"fields\": [\n    {\n      \"column\": \"emotion\",\n      \"properties\": {\n        \"dtype\": \"number\",\n        \"std\": 1,\n        \"min\": 0,\n        \"max\": 6,\n        \"num_unique_values\": 7,\n        \"samples\": [\n          0,\n          2,\n          5\n        ],\n        \"semantic_type\": \"\",\n        \"description\": \"\"\n      }\n    },\n    {\n      \"column\": \" Usage\",\n      \"properties\": {\n        \"dtype\": \"category\",\n        \"num_unique_values\": 3,\n        \"samples\": [\n          \"Training\",\n          \"PublicTest\",\n          \"PrivateTest\"\n        ],\n        \"semantic_type\": \"\",\n        \"description\": \"\"\n      }\n    },\n    {\n      \"column\": \" pixels\",\n      \"properties\": {\n        \"dtype\": \"string\",\n        \"num_unique_values\": 34034,\n        \"samples\": [\n          \"34 40 24 31 27 18 26 21 28 86 131 143 146 143 135 126 141 153 136 132 138 134 131 135 133 134 124 118 109 99 92 87 79 65 59 37 25 30 21 15 10 28 79 79 81 81 80 77 42 29 31 33 21 22 27 19 36 100 129 134 145 151 143 149 166 163 147 154 154 148 146 140 135 134 127 124 114 105 100 93 81 67 57 47 33 25 20 22 15 17 69 76 81 81 81 78 35 32 32 30 25 29 23 24 49 118 118 138 156 157 158 178 182 162 169 168 156 154 147 143 139 134 132 126 119 111 103 100 85 69 59 43 42 26 18 17 15 16 58 80 79 80 81 81 31 34 30 24 30 27 22 25 79 122 131 160 167 175 186 189 181 177 177 168 162 162 152 144 138 137 133 127 123 115 104 99 89 74 59 44 37 34 18 16 14 8 45 80 78 79 80 79 39 30 23 32 37 26 27 36 91 136 174 178 183 187 187 186 187 184 177 172 168 165 157 147 143 142 135 130 123 114 101 98 90 76 62 48 32 33 21 15 15 9 38 73 78 77 77 76 37 28 33 40 30 27 33 49 123 184 187 188 186 188 190 189 188 184 179 173 173 169 160 154 147 145 138 131 127 110 100 97 89 75 61 51 35 28 19 14 15 9 33 65 74 76 76 76 46 40 46 37 27 31 43 70 178 189 188 185 188 190 191 187 188 182 177 176 172 168 161 156 151 144 140 133 129 113 101 95 86 76 63 53 41 24 17 12 16 11 27 65 77 78 75 73 35 38 38 30 34 42 51 125 198 185 190 189 189 191 190 188 185 182 177 177 174 170 165 158 150 143 139 135 126 118 108 97 82 72 64 56 42 28 16 13 15 11 23 68 79 75 72 70 35 40 33 36 39 50 83 167 190 186 190 190 187 187 188 186 186 180 174 178 177 173 168 159 152 146 142 136 131 122 108 99 85 74 63 53 45 39 22 12 14 10 26 66 74 73 71 70 47 40 40 42 45 62 128 186 184 184 183 184 183 178 178 176 180 176 172 173 177 175 169 161 152 145 143 140 133 127 114 102 91 75 64 55 48 42 30 12 14 11 24 63 69 73 70 68 38 45 36 50 43 89 163 188 195 198 196 183 176 177 180 181 179 174 170 168 174 175 170 165 155 145 144 146 139 131 122 109 95 75 64 54 49 46 36 15 13 11 24 64 64 68 66 67 45 43 40 59 48 134 186 170 147 128 117 102 103 96 88 112 148 158 149 152 161 171 169 167 158 147 147 148 145 135 131 124 105 83 68 58 54 49 42 15 12 14 17 63 62 63 64 67 54 30 65 53 78 182 179 158 152 162 177 193 195 166 118 61 48 60 84 101 138 163 170 166 161 152 148 149 147 144 143 134 112 82 58 47 43 46 51 14 12 14 13 58 64 62 65 68 47 32 77 46 136 191 185 199 207 208 206 201 198 203 200 183 141 97 95 105 136 158 172 172 171 160 152 148 153 147 135 106 73 32 15 16 23 25 36 15 11 14 17 50 65 63 67 69 28 42 61 65 181 191 193 193 192 191 193 198 195 158 135 122 140 166 164 158 167 179 181 184 173 162 153 151 153 141 110 92 56 53 76 77 66 49 40 16 11 16 22 47 66 64 68 68 27 49 39 120 195 193 197 193 190 184 179 150 77 72 73 83 63 84 141 168 179 194 199 197 185 169 147 143 145 150 155 137 133 141 129 121 89 55 60 18 11 17 22 43 66 66 68 67 37 32 45 172 194 194 201 196 187 187 134 122 137 132 78 120 132 92 121 160 157 194 208 211 197 173 133 95 86 94 65 63 73 44 46 47 51 56 58 17 12 17 24 36 67 66 68 65 44 12 77 193 186 195 196 196 193 184 162 163 161 120 125 144 169 93 76 165 168 197 205 214 199 164 97 46 42 33 63 47 83 81 60 42 52 49 59 16 12 17 24 29 65 65 66 65 46 8 105 194 188 193 188 185 183 183 189 185 165 139 122 128 107 90 100 150 186 191 196 207 193 147 68 41 34 48 56 60 65 103 60 29 52 57 59 14 13 19 25 24 58 64 64 64 43 7 124 192 185 190 186 180 179 181 188 201 199 183 166 139 133 127 132 134 168 179 191 196 181 135 63 38 43 53 71 66 72 67 54 52 46 61 58 10 15 20 24 22 55 64 62 61 37 8 133 191 185 192 187 181 177 178 180 188 189 182 170 154 138 132 131 147 161 170 187 190 174 130 70 39 37 45 62 83 89 78 74 60 63 68 53 8 16 20 22 22 56 65 60 60 32 8 137 188 189 195 193 191 184 176 174 173 169 169 163 154 151 150 152 162 166 170 183 186 176 136 77 47 46 44 50 62 78 80 68 65 67 74 50 8 16 20 23 20 51 62 58 57 33 6 137 192 190 199 201 200 192 180 171 166 163 161 158 155 155 157 161 170 171 173 182 186 176 146 100 76 63 56 55 61 67 70 72 77 75 77 42 7 17 19 25 18 43 65 59 56 34 10 137 192 190 200 203 199 194 188 179 171 166 160 160 158 160 164 166 172 172 174 179 183 175 143 103 90 87 81 71 64 70 76 78 81 78 75 32 8 20 18 23 18 30 67 64 58 30 11 132 192 189 193 196 195 195 194 188 178 170 164 163 162 163 167 172 179 181 176 176 179 168 144 109 91 88 90 92 85 73 73 77 77 73 71 21 11 19 18 23 18 20 57 58 54 32 6 132 190 184 190 193 194 195 193 188 183 177 169 166 164 166 171 179 192 189 177 175 175 164 145 119 97 88 88 92 95 93 78 70 70 68 63 12 14 19 16 24 20 15 45 48 42 29 16 131 185 185 191 191 194 195 194 192 186 180 174 169 170 168 172 181 189 179 176 174 173 163 146 125 100 82 86 89 92 94 97 81 60 64 48 7 16 20 15 22 24 14 33 46 40 48 47 133 184 185 191 191 192 196 196 194 192 185 177 172 168 167 169 179 174 161 169 178 179 166 152 130 97 71 82 90 99 104 104 97 72 60 30 9 17 20 17 22 25 15 24 40 42 65 48 131 183 184 190 191 193 195 197 195 192 187 179 173 166 164 165 179 178 176 181 193 193 172 163 137 92 74 86 106 118 115 109 97 87 70 13 13 17 20 18 20 27 18 19 30 36 62 44 122 182 183 190 192 194 197 197 196 195 192 184 173 164 162 166 185 200 193 190 193 197 180 167 119 88 92 114 135 133 120 109 93 85 75 24 12 18 20 15 19 24 21 19 23 27 62 44 111 184 179 188 191 193 195 200 201 201 197 186 173 166 167 176 177 176 167 179 195 187 182 145 108 122 89 121 140 137 124 108 90 83 61 50 22 17 18 15 18 19 21 21 19 22 65 47 103 180 181 188 192 193 199 205 205 200 196 187 175 171 176 180 179 171 176 187 195 187 142 59 41 55 65 100 129 134 126 106 87 78 50 53 47 18 16 15 18 17 23 27 16 34 68 47 96 173 183 188 193 200 204 205 204 202 195 187 180 180 180 182 184 182 181 180 179 163 132 69 53 58 60 71 104 126 123 100 84 68 47 53 57 37 12 14 19 16 22 33 17 36 70 48 82 166 181 192 197 203 204 204 203 200 195 192 188 185 186 188 187 184 182 176 151 156 164 95 58 55 58 63 77 104 116 92 83 55 50 54 54 54 20 13 18 17 18 33 24 21 64 56 60 154 181 196 198 201 203 203 203 201 198 196 190 184 185 186 187 184 178 172 138 136 155 90 56 54 54 62 74 80 95 87 74 48 53 54 54 56 40 13 17 18 17 26 29 18 66 56 50 129 184 191 197 197 200 201 203 202 198 190 187 187 192 196 191 187 180 172 156 136 130 102 64 52 60 76 77 83 69 69 63 49 54 54 54 53 53 26 14 21 20 19 34 20 68 56 48 69 186 188 195 196 197 201 201 197 191 188 171 129 137 146 141 140 134 140 132 117 102 112 113 64 92 112 84 82 60 41 33 56 53 55 54 53 54 42 15 20 20 16 31 24 66 56 37 15 147 198 192 198 198 198 194 192 189 185 173 170 145 130 137 133 116 102 94 100 72 61 58 65 104 112 95 72 54 20 11 45 56 54 54 52 52 53 24 16 19 16 29 29 68 50 28 9 59 201 189 198 200 194 193 190 189 186 184 189 196 184 175 170 153 128 109 119 90 68 65 78 105 118 92 61 33 9 14 21 53 54 54 52 51 56 38 16 24 18 25 32 67 32 25 25 6 128 210 191 194 193 194 191 190 188 187 184 187 191 190 178 161 146 130 121 102 83 81 87 95 110 91 40 9 17 17 14 32 56 53 52 52 54 52 20 20 22 21 33 58 21 29 22 23 17 161 204 188 194 194 194 194 192 190 187 186 184 181 173 160 159 155 154 136 109 87 86 88 93 79 29 15 19 15 17 15 47 53 52 53 53 57 30 18 24 23 32 45 18 29 23 27 19 34 170 201 188 192 194 194 193 191 190 191 185 178 163 158 152 156 154 133 110 88 82 87 77 50 56 28 14 17 16 12 30 54 52 53 53 57 41 18 23 24 32 33 20 28 26 24 27 47 60 154 204 187 192 195 194 199 202 194 186 176 165 163 144 132 126 116 96 79 83 75 49 55 60 48 12 21 18 16 17 48 52 53 54 58 49 19 24 22 30 27 17 33 29 24 32 65 64 58 132 199 193 189 200 206 204 199 190 176 169 161 146 124 102 76 67 83 73 50 56 58 57 57 28 20 20 15 12 36 54 52 54 57 56 22 22 21 24 27 16 35 28 21 46 66 65 73 64 109 180 198 198 200 202 204 197 186 174 164 154 133 101 60 49 58 55 53 63 57 59 56 47 20 17 16 12 25 53 53 55 57 58 27 19 23 18 30 18 28 33 20 52 66 68 73 83 81 100 152 197 203 201 197 194 185 170 162 157 139 104 67 44 19 47 55 60 53 58 56 57 27 13 18 14 18 48 52 56 56 59 33 18 22 21 32 16 26 33 24 55 65 66 70 75 90 92 86 123 159 181 187 186 178 168 167 160 139 97 53 42 27 25 50 59 54 57 57 60 36 12 21 14 15 45 54 55 55 61 39 19 22 21 37 16 23 29 30 64 69 66 68 72 83 79 82 93 100 111 121 122 122 129 136 131 113 55 55 51 32 18 38 60 57 59 60 62 44 15 20 15 13 41 55 56 57 59 42 18 24 18\",\n          \"30 31 31 31 31 31 32 32 32 34 41 46 35 60 70 51 58 110 101 77 60 53 51 42 43 47 38 26 19 14 14 14 17 21 20 20 17 20 21 26 35 35 34 33 31 29 27 27 30 31 31 31 31 31 32 32 33 38 46 36 49 63 55 60 113 103 74 72 63 53 44 43 41 32 24 19 16 13 11 12 13 15 19 21 20 20 19 20 29 36 35 33 31 29 28 28 30 31 31 31 31 32 33 34 35 40 40 34 39 50 56 116 97 65 59 50 43 35 33 40 30 16 14 15 16 15 11 9 10 12 16 17 20 19 18 16 17 31 36 34 32 30 28 28 30 31 31 31 32 32 35 36 42 37 29 24 39 53 96 108 66 76 76 64 53 52 45 35 23 13 8 4 2 3 9 11 12 11 14 17 18 20 19 21 15 17 37 35 33 30 28 28 30 31 31 31 31 32 36 38 42 23 17 16 30 65 137 141 155 158 148 145 145 149 144 129 118 112 100 83 68 41 7 3 10 13 13 14 17 18 21 24 24 15 24 37 33 30 29 28 30 31 31 31 31 32 33 41 30 13 7 9 53 134 181 192 201 199 192 192 192 194 194 185 178 173 165 155 141 125 89 39 8 6 12 12 15 17 17 21 28 19 10 33 35 31 29 28 30 31 31 31 31 33 35 42 24 14 10 69 154 193 204 206 207 206 202 200 200 198 194 189 185 172 159 153 144 132 127 118 75 26 10 11 11 16 17 15 24 29 9 20 36 32 29 28 30 30 31 32 32 33 43 36 25 10 43 154 195 196 201 207 208 208 206 202 202 200 196 192 187 175 164 155 149 141 134 131 120 85 37 14 14 14 18 18 15 25 17 6 30 33 29 28 30 30 32 32 32 33 43 34 19 8 112 188 191 198 203 207 207 206 204 202 201 200 196 193 188 180 170 163 153 143 139 138 126 104 73 28 16 15 14 16 19 18 19 1 17 32 29 28 30 30 31 32 31 33 46 27 8 37 167 189 193 199 206 208 206 203 203 202 200 199 197 193 188 180 172 166 156 148 143 139 127 113 89 43 18 14 16 14 21 24 10 0 6 28 31 28 30 31 31 31 32 36 44 20 6 78 184 189 194 200 206 207 205 203 202 201 202 201 197 191 187 182 175 168 159 149 143 138 125 114 104 72 35 14 15 17 16 23 9 0 1 20 32 28 30 31 31 32 32 39 40 12 7 97 185 189 196 201 205 208 207 204 204 204 204 204 199 193 190 185 178 171 163 153 144 136 126 114 104 97 76 36 14 16 17 21 19 19 8 14 32 28 30 30 31 32 32 40 43 10 11 97 185 189 195 200 204 207 210 210 207 206 206 205 201 194 188 185 182 176 171 159 147 142 131 113 104 98 89 69 29 16 20 21 23 60 43 8 30 29 30 30 31 31 31 41 49 8 11 94 184 190 195 199 203 208 212 213 208 207 207 207 204 195 187 183 174 156 137 115 105 111 116 117 108 100 93 80 47 16 20 22 24 33 43 18 26 31 30 31 31 32 30 49 62 8 8 85 180 189 194 198 205 208 210 211 207 206 206 204 199 193 167 133 95 73 73 79 85 83 79 85 100 102 96 87 60 21 18 20 22 26 48 38 25 33 30 31 31 32 31 49 71 9 6 76 174 188 192 200 208 213 213 209 205 203 203 196 190 179 127 81 72 85 104 118 113 106 98 85 90 102 99 93 77 29 16 18 19 24 37 43 28 37 30 30 30 32 29 48 79 11 6 59 165 185 195 205 203 192 177 186 198 195 196 188 177 153 105 81 72 64 68 59 48 46 57 83 93 98 100 97 89 46 19 17 19 18 32 45 22 39 30 31 31 32 30 52 77 19 7 42 154 187 172 143 123 97 95 123 168 186 190 183 163 119 85 72 53 79 89 25 45 68 30 55 97 110 109 101 94 72 32 22 17 17 23 43 13 34 31 31 31 32 32 57 80 29 1 18 148 163 105 109 116 115 108 112 134 169 193 192 161 102 81 77 66 162 126 55 77 86 70 89 123 134 122 106 97 90 62 29 22 14 17 29 10 24 30 31 31 33 33 56 77 31 0 7 126 127 142 169 136 91 70 67 80 140 193 198 162 106 95 115 122 150 149 131 117 112 121 144 153 143 127 109 98 91 83 45 27 13 20 20 7 16 30 30 31 32 33 53 71 33 8 16 97 147 165 113 58 86 76 38 82 129 190 196 164 118 115 133 154 149 144 143 139 145 160 165 157 139 123 111 99 90 88 60 29 14 23 24 10 14 30 30 30 31 33 53 63 35 9 19 94 170 139 44 111 163 66 75 132 165 194 194 166 130 121 131 146 157 160 164 172 180 181 171 153 135 121 110 99 89 85 66 31 19 26 31 13 13 30 30 30 31 32 59 64 35 9 19 88 173 151 87 122 151 144 155 149 183 199 196 167 136 125 126 145 162 174 182 183 182 178 165 149 133 120 108 100 87 84 66 30 30 29 40 19 12 30 30 30 32 34 61 65 40 15 13 81 168 180 169 163 163 153 146 177 190 196 200 165 134 120 120 142 163 167 177 183 182 176 162 145 130 116 106 100 87 83 63 34 38 29 38 25 10 30 30 30 32 35 63 66 41 21 6 62 168 190 190 186 179 177 194 204 187 192 203 175 145 120 114 127 146 162 171 175 177 172 160 142 127 111 102 99 88 83 59 36 36 28 32 23 7 30 30 31 32 37 68 70 38 25 11 46 164 184 194 201 203 205 207 199 186 191 204 189 159 123 117 130 118 132 154 162 167 164 152 136 119 106 98 97 91 84 50 11 28 23 27 19 9 30 30 31 33 38 67 64 41 26 17 30 147 177 188 198 204 208 205 197 184 189 206 196 165 131 123 134 101 88 123 144 154 153 141 126 113 101 96 95 93 80 61 20 22 20 24 18 9 30 30 31 31 38 67 63 45 26 14 7 105 174 179 190 198 203 199 182 175 188 196 185 145 102 89 77 72 77 98 117 134 138 130 119 103 94 93 92 93 77 65 43 21 20 22 15 5 30 30 30 32 39 66 60 46 28 12 1 56 163 174 185 189 193 185 151 154 160 148 149 105 75 65 68 81 87 95 103 106 117 119 108 95 89 90 89 93 79 38 27 30 19 19 15 8 30 30 30 30 39 71 58 47 27 10 5 17 136 171 178 183 180 164 129 154 149 108 110 86 71 79 87 92 100 101 103 109 111 116 112 97 91 86 89 95 74 39 11 30 22 16 12 9 30 30 30 30 45 71 56 43 27 7 6 2 77 164 167 171 167 144 124 168 185 171 155 140 119 117 113 114 117 108 98 88 103 130 127 106 90 84 90 93 66 40 13 26 23 16 13 8 30 31 31 30 47 68 54 41 24 6 5 2 61 153 158 160 153 127 118 171 182 185 194 192 180 159 110 84 74 72 53 41 105 135 133 102 84 86 90 88 57 41 12 26 25 15 12 7 30 31 30 29 47 66 51 42 23 5 7 7 85 118 153 148 143 110 124 184 190 182 155 132 120 88 86 106 115 98 71 101 127 125 130 98 84 88 88 80 46 42 10 21 26 15 12 8 31 30 30 30 49 63 50 40 23 3 7 10 76 64 138 146 144 111 142 156 122 95 123 143 156 167 205 172 138 108 108 120 118 123 128 97 87 87 84 65 44 44 7 25 29 13 14 10 31 31 31 32 51 58 49 38 21 3 11 10 56 46 107 151 147 132 148 145 78 78 188 207 215 185 159 124 130 115 103 108 116 122 120 94 88 84 79 49 47 36 5 24 33 13 15 10 31 32 31 35 48 50 46 30 16 5 13 18 27 33 63 144 142 143 153 186 181 152 153 162 169 150 147 145 106 87 95 109 114 116 106 91 87 79 66 38 53 31 6 22 32 18 16 10 31 31 31 35 48 48 39 23 14 5 15 22 24 35 25 117 141 139 151 176 180 155 151 176 168 152 137 105 78 88 101 108 112 111 97 85 79 73 45 43 53 23 6 25 32 22 19 10 31 31 31 35 44 41 40 22 15 7 21 28 24 37 24 55 141 137 151 166 174 167 143 128 124 111 87 79 89 101 104 114 116 100 87 76 71 59 31 55 43 14 6 26 36 22 21 14 31 31 29 37 43 40 38 18 13 11 25 30 27 34 33 7 82 145 145 161 165 167 157 136 116 107 97 110 118 118 124 127 111 92 78 69 65 35 41 53 29 8 8 27 35 26 19 15 31 31 30 38 43 39 38 19 15 14 29 31 29 29 32 14 7 105 144 149 162 163 158 152 149 149 147 150 147 140 137 126 99 80 67 62 41 26 53 43 21 9 11 28 36 29 18 13 30 31 31 37 39 34 43 19 13 18 37 31 27 25 32 16 2 22 115 143 153 165 165 163 168 172 170 164 156 143 130 107 81 64 57 45 22 46 49 34 17 8 12 30 42 32 19 15 30 30 31 38 36 28 44 22 14 18 42 35 26 21 29 12 6 5 38 109 136 152 165 170 174 172 162 153 144 132 107 80 59 51 42 23 38 51 42 29 16 6 15 29 39 36 22 18 30 30 29 39 33 30 46 26 16 18 45 40 26 16 26 12 6 6 12 38 92 125 146 162 164 157 139 126 125 102 73 56 46 36 25 39 49 46 39 27 14 10 21 28 40 36 21 20 30 30 31 39 34 29 48 33 16 19 45 37 28 14 26 10 11 4 6 26 34 65 102 118 129 126 110 104 91 65 47 37 31 29 43 49 49 47 39 28 12 13 21 26 44 36 23 22 30 30 29 36 33 32 47 31 19 17 44 37 31 15 24 10 8 5 14 34 30 31 61 111 92 77 67 60 48 37 27 27 39 53 51 47 49 50 36 27 11 15 20 27 46 35 24 26 30 30 29 34 36 36 43 30 18 17 44 39 30 14 26 15 11 2 27 36 47 33 23 95 138 102 80 59 44 35 39 56 62 57 49 47 57 51 36 25 11 19 24 27 43 33 26 28 29 29 32 37 35 36 42 24 15 17 47 40 30 15 25 14 14 9 24 26 48 38 17 49 129 131 110 98 86 83 82 77 69 60 56 60 62 49 37 17 16 22 26 28 46 33 24 29 29 28 31 39 35 41 40 22 17 16 44 41 30 18 25 12 10 16 22 27 43 42 23 41 110 140 127 116 111 105 96 88 78 70 71 67 61 52 34 19 22 21 25 33 48 34 25 30\",\n          \"172 170 169 140 56 27 43 49 40 22 29 30 30 46 55 88 115 129 135 134 144 143 138 137 148 165 160 145 148 141 136 139 123 97 89 73 47 28 20 26 16 13 13 14 14 12 10 10 172 170 166 109 43 34 36 35 18 22 14 21 42 65 98 120 132 138 137 144 153 161 162 157 164 167 163 160 152 150 145 149 137 118 107 85 62 51 31 31 21 11 12 9 11 14 12 11 170 168 154 74 36 37 34 23 20 13 21 37 59 100 123 134 139 143 149 154 160 170 175 174 175 170 169 168 160 159 154 152 146 133 117 107 90 66 53 37 24 22 15 10 9 10 12 12 167 167 123 52 43 42 29 20 10 17 32 58 87 112 129 138 147 158 161 167 174 180 183 182 182 180 170 168 168 169 166 159 146 140 127 115 105 101 88 64 49 37 17 12 11 11 12 12 165 157 87 44 56 35 20 14 11 24 51 76 98 118 134 144 159 165 163 175 182 184 184 186 189 183 173 175 175 175 170 163 156 141 135 118 112 110 96 91 76 56 48 26 16 11 9 10 168 129 55 51 63 27 14 8 14 34 60 89 107 128 142 155 165 169 173 183 193 193 192 192 194 190 187 180 179 177 174 172 159 139 133 113 117 119 115 103 83 66 55 41 23 10 11 11 159 90 45 54 52 22 10 10 23 55 75 95 122 137 148 157 169 175 185 187 189 187 192 197 194 195 192 192 190 185 178 173 163 146 134 133 131 121 109 110 100 85 66 38 31 23 12 12 121 66 49 57 43 18 10 11 43 79 94 107 122 133 147 162 173 175 181 188 185 189 196 197 196 196 192 190 188 186 182 175 167 153 143 143 130 129 127 119 111 96 82 58 34 27 13 13 91 47 49 53 36 12 12 17 56 82 102 114 125 139 149 163 175 174 177 186 187 191 195 194 194 193 188 185 185 185 182 175 167 153 148 148 144 137 138 129 126 115 89 62 42 26 19 15 81 48 52 38 29 13 10 16 54 93 112 114 127 135 147 164 178 177 175 186 185 189 194 195 198 195 190 190 184 183 182 175 169 161 150 145 147 142 135 134 135 124 100 65 45 32 24 12 62 51 46 31 19 14 10 13 68 109 114 120 128 140 147 161 172 173 177 186 183 189 190 195 196 194 193 192 183 178 185 174 165 163 159 153 145 142 138 134 129 118 106 84 41 33 26 11 52 49 42 27 14 12 9 12 74 107 117 126 144 158 161 170 178 172 181 195 191 188 192 197 189 191 196 197 180 178 184 173 168 163 163 163 152 148 142 134 125 112 100 87 70 55 33 17 51 49 36 20 13 10 9 16 74 113 125 130 150 164 181 189 184 178 191 196 193 191 194 199 195 191 198 207 189 173 186 176 176 174 174 168 159 154 143 132 122 115 100 92 84 73 35 18 58 50 36 16 14 10 9 16 86 114 110 112 104 121 131 137 144 168 182 177 173 188 192 197 190 176 180 187 185 179 174 165 157 148 143 153 145 131 129 122 121 116 108 99 95 88 53 27 53 43 33 22 12 13 7 25 93 107 128 132 136 113 92 84 91 115 151 144 143 177 191 194 184 160 146 148 141 129 118 106 104 112 128 144 141 138 127 119 119 119 115 106 97 96 78 37 47 35 33 23 10 14 5 38 106 122 138 154 168 166 159 129 105 102 120 128 139 170 186 184 175 154 137 127 103 90 88 95 127 159 168 164 161 153 140 132 128 114 116 113 104 101 98 53 41 35 31 13 11 13 5 59 117 118 130 147 145 155 161 157 140 127 124 129 131 158 189 191 172 150 135 132 120 122 141 163 180 177 163 162 159 148 134 128 125 128 125 123 112 99 98 133 39 36 22 14 12 12 10 79 119 114 103 101 124 150 147 138 126 128 134 131 133 149 189 195 174 159 147 141 128 126 125 135 154 155 144 140 140 130 127 118 111 119 128 129 116 87 153 196 37 35 24 14 11 10 18 97 121 111 92 111 118 131 142 138 124 130 131 140 140 152 184 191 178 164 147 133 112 109 83 101 139 151 150 153 152 130 112 99 102 113 132 129 139 101 183 187 40 31 22 14 11 6 32 116 134 111 66 29 9 39 157 166 155 132 120 137 148 158 181 189 179 161 148 122 113 99 85 38 51 68 149 131 113 103 94 87 92 105 136 178 181 102 179 195 40 27 19 14 11 4 46 133 145 104 58 62 62 60 206 216 180 146 137 142 157 166 182 188 179 163 154 141 112 105 138 88 67 107 170 120 74 51 65 97 129 119 177 198 159 80 160 195 41 26 23 12 12 4 59 139 145 137 145 107 94 113 133 143 152 154 163 167 164 167 181 183 177 168 167 163 145 131 130 144 146 137 130 144 148 136 137 147 153 127 191 200 170 77 134 200 53 27 12 10 12 4 71 145 149 163 155 138 125 127 134 144 148 165 184 174 167 166 180 179 167 161 170 171 177 167 141 133 140 137 146 152 157 160 162 167 161 129 196 200 169 94 124 208 57 21 11 10 12 5 92 147 157 164 164 159 156 153 155 160 183 200 183 169 159 167 176 174 162 150 157 170 178 192 195 185 172 165 166 171 173 182 178 178 165 145 211 201 185 106 97 202 59 16 10 11 10 7 100 151 163 169 172 170 167 169 177 188 200 195 177 161 160 167 171 173 166 153 145 169 173 191 201 203 202 198 198 197 193 192 185 182 160 167 216 199 187 117 71 188 47 12 11 11 11 9 101 152 169 180 181 184 187 193 198 197 203 199 172 158 174 179 183 185 174 152 131 149 181 196 206 207 209 206 204 203 199 190 183 182 148 171 212 187 169 103 72 177 39 12 11 11 11 7 101 153 166 177 182 190 195 203 208 213 212 194 156 162 190 216 209 200 186 154 142 134 146 206 216 219 216 211 208 203 200 196 190 175 154 208 203 171 136 98 129 194 32 13 11 11 11 3 89 156 159 173 182 193 201 207 220 219 203 170 170 176 187 205 200 186 188 187 188 176 134 148 213 220 218 215 207 202 200 201 193 159 188 209 192 167 120 94 152 210 32 12 11 11 12 2 67 154 158 172 185 196 206 214 216 209 179 178 187 167 160 171 176 165 161 180 184 191 167 111 182 215 216 216 210 206 202 200 174 172 219 205 187 166 127 93 189 215 28 12 11 10 13 4 45 144 157 171 184 194 203 209 206 193 176 167 118 83 85 143 153 129 110 77 80 150 172 112 176 216 216 216 206 204 201 183 161 202 220 209 193 165 108 105 197 203 27 12 10 9 12 3 25 134 155 171 184 191 202 206 202 189 190 162 146 162 174 193 162 177 191 181 182 165 138 135 196 211 213 211 203 198 178 162 201 217 214 207 187 164 116 160 199 188 29 11 10 12 6 24 45 111 157 166 179 192 196 200 197 193 186 171 156 147 172 206 186 191 184 167 157 151 156 181 192 203 212 204 196 178 157 200 218 213 208 195 178 150 117 192 197 176 26 9 11 9 14 76 11 77 155 159 175 184 191 193 192 188 180 171 162 155 167 185 172 178 172 158 165 176 184 188 191 193 199 192 180 152 197 224 221 211 204 183 170 152 123 170 179 160 26 11 15 2 60 41 0 46 140 155 166 179 184 184 179 180 166 160 149 147 156 159 158 164 161 162 166 175 180 185 187 185 187 172 144 168 210 222 217 208 199 174 168 162 150 155 160 147 26 11 14 13 71 11 9 20 123 151 160 169 175 167 164 164 141 144 146 157 172 168 185 180 164 162 158 158 165 169 168 165 159 140 179 218 218 216 212 205 182 164 166 161 156 151 145 144 21 12 11 26 69 3 13 7 94 142 155 166 166 156 157 139 138 140 147 173 184 198 209 197 194 186 175 167 160 153 135 121 106 170 223 220 222 216 210 199 169 161 168 162 155 142 135 147 20 10 14 29 67 6 13 3 71 136 144 159 160 151 138 119 130 133 140 144 157 172 162 162 158 147 143 142 142 129 106 58 138 220 221 223 217 213 213 195 169 166 177 162 145 124 139 140 18 10 14 16 52 15 10 5 47 128 132 147 156 153 131 106 99 124 132 137 131 130 135 132 132 134 132 141 125 93 56 103 216 219 221 221 216 210 203 189 171 169 169 155 134 131 152 139 17 11 16 19 33 33 7 10 25 109 128 138 154 158 130 95 119 148 164 168 174 173 179 186 184 195 184 155 137 104 102 207 219 223 224 218 215 203 192 181 172 166 159 151 139 152 148 125 20 11 14 24 18 31 17 12 10 73 134 129 144 159 142 118 119 130 153 172 191 195 198 212 192 184 155 133 117 74 173 222 221 221 222 216 209 197 187 174 168 161 157 149 145 149 133 100 20 13 11 20 25 15 16 10 16 41 119 129 133 147 147 139 126 119 125 147 160 166 159 166 152 133 119 106 77 138 226 218 225 224 218 215 200 188 180 171 165 159 152 146 147 136 113 110 16 15 14 13 20 19 14 10 19 13 69 131 122 136 140 144 129 120 122 133 135 135 133 128 122 118 114 107 127 213 222 226 227 223 216 209 196 184 176 166 160 155 145 138 139 123 116 129 24 15 16 13 14 19 11 13 15 10 23 109 120 127 136 139 130 126 133 136 130 127 133 131 135 142 136 119 182 227 226 228 223 218 214 207 190 178 171 164 153 151 142 135 127 119 127 130 47 24 22 20 15 18 17 13 15 20 6 50 121 118 129 135 132 131 133 136 138 139 150 154 163 164 144 164 220 222 229 226 220 214 210 203 187 175 166 154 151 149 134 126 123 128 127 115 64 50 33 24 21 22 25 25 26 18 13 5 81 125 121 137 135 136 139 146 150 159 166 171 174 171 157 204 226 224 224 219 213 214 208 194 183 173 161 149 148 141 129 121 120 126 115 91 66 65 57 42 28 25 28 29 30 22 13 7 14 98 124 134 137 135 141 153 160 162 165 168 179 178 174 212 224 227 225 218 216 210 205 195 180 169 159 147 141 131 121 115 118 117 103 57 68 69 67 59 43 33 29 29 33 32 21 10 5 26 100 122 134 138 141 150 158 163 161 157 173 176 183 214 218 219 220 215 211 207 200 190 176 165 153 142 132 123 115 113 114 108 82 15 73 67 67 65 57 47 37 34 39 38 34 13 9 19 57 98 116 133 137 141 150 158 158 154 163 162 180 217 213 213 212 215 212 204 192 178 168 158 147 135 121 113 113 112 108 105 53 11\"\n        ],\n        \"semantic_type\": \"\",\n        \"description\": \"\"\n      }\n    }\n  ]\n}"
            }
          },
          "metadata": {},
          "execution_count": 16
        }
      ]
    },
    {
      "cell_type": "code",
      "source": [
        "icml_face_data[' Usage'].value_counts()"
      ],
      "metadata": {
        "colab": {
          "base_uri": "https://localhost:8080/",
          "height": 209
        },
        "id": "ldCyNLeSF2H9",
        "outputId": "c25e7148-2caa-412c-af7b-abb179d8b977"
      },
      "execution_count": 17,
      "outputs": [
        {
          "output_type": "execute_result",
          "data": {
            "text/plain": [
              " Usage\n",
              "Training       28709\n",
              "PublicTest      3589\n",
              "PrivateTest     3589\n",
              "Name: count, dtype: int64"
            ],
            "text/html": [
              "<div>\n",
              "<style scoped>\n",
              "    .dataframe tbody tr th:only-of-type {\n",
              "        vertical-align: middle;\n",
              "    }\n",
              "\n",
              "    .dataframe tbody tr th {\n",
              "        vertical-align: top;\n",
              "    }\n",
              "\n",
              "    .dataframe thead th {\n",
              "        text-align: right;\n",
              "    }\n",
              "</style>\n",
              "<table border=\"1\" class=\"dataframe\">\n",
              "  <thead>\n",
              "    <tr style=\"text-align: right;\">\n",
              "      <th></th>\n",
              "      <th>count</th>\n",
              "    </tr>\n",
              "    <tr>\n",
              "      <th>Usage</th>\n",
              "      <th></th>\n",
              "    </tr>\n",
              "  </thead>\n",
              "  <tbody>\n",
              "    <tr>\n",
              "      <th>Training</th>\n",
              "      <td>28709</td>\n",
              "    </tr>\n",
              "    <tr>\n",
              "      <th>PublicTest</th>\n",
              "      <td>3589</td>\n",
              "    </tr>\n",
              "    <tr>\n",
              "      <th>PrivateTest</th>\n",
              "      <td>3589</td>\n",
              "    </tr>\n",
              "  </tbody>\n",
              "</table>\n",
              "</div><br><label><b>dtype:</b> int64</label>"
            ]
          },
          "metadata": {},
          "execution_count": 17
        }
      ]
    },
    {
      "cell_type": "code",
      "source": [
        "icml_face_data[icml_face_data[' Usage'] == 'PrivateTest'].head()"
      ],
      "metadata": {
        "colab": {
          "base_uri": "https://localhost:8080/",
          "height": 206
        },
        "id": "RNrVY3PxG7ZS",
        "outputId": "0cc16852-404c-4b1f-f31e-418bfa80c934"
      },
      "execution_count": 18,
      "outputs": [
        {
          "output_type": "execute_result",
          "data": {
            "text/plain": [
              "       emotion        Usage                                             pixels\n",
              "32298        0  PrivateTest  170 118 101 88 88 75 78 82 66 74 68 59 63 64 6...\n",
              "32299        5  PrivateTest  7 5 8 6 7 3 2 6 5 4 4 5 7 5 5 5 6 7 7 7 10 10 ...\n",
              "32300        6  PrivateTest  232 240 241 239 237 235 246 117 24 24 22 13 12...\n",
              "32301        4  PrivateTest  200 197 149 139 156 89 111 58 62 95 113 117 11...\n",
              "32302        2  PrivateTest  40 28 33 56 45 33 31 78 152 194 200 186 196 20..."
            ],
            "text/html": [
              "\n",
              "  <div id=\"df-7f3bc70a-b66b-4df2-bd74-aedb0faf7eb1\" class=\"colab-df-container\">\n",
              "    <div>\n",
              "<style scoped>\n",
              "    .dataframe tbody tr th:only-of-type {\n",
              "        vertical-align: middle;\n",
              "    }\n",
              "\n",
              "    .dataframe tbody tr th {\n",
              "        vertical-align: top;\n",
              "    }\n",
              "\n",
              "    .dataframe thead th {\n",
              "        text-align: right;\n",
              "    }\n",
              "</style>\n",
              "<table border=\"1\" class=\"dataframe\">\n",
              "  <thead>\n",
              "    <tr style=\"text-align: right;\">\n",
              "      <th></th>\n",
              "      <th>emotion</th>\n",
              "      <th>Usage</th>\n",
              "      <th>pixels</th>\n",
              "    </tr>\n",
              "  </thead>\n",
              "  <tbody>\n",
              "    <tr>\n",
              "      <th>32298</th>\n",
              "      <td>0</td>\n",
              "      <td>PrivateTest</td>\n",
              "      <td>170 118 101 88 88 75 78 82 66 74 68 59 63 64 6...</td>\n",
              "    </tr>\n",
              "    <tr>\n",
              "      <th>32299</th>\n",
              "      <td>5</td>\n",
              "      <td>PrivateTest</td>\n",
              "      <td>7 5 8 6 7 3 2 6 5 4 4 5 7 5 5 5 6 7 7 7 10 10 ...</td>\n",
              "    </tr>\n",
              "    <tr>\n",
              "      <th>32300</th>\n",
              "      <td>6</td>\n",
              "      <td>PrivateTest</td>\n",
              "      <td>232 240 241 239 237 235 246 117 24 24 22 13 12...</td>\n",
              "    </tr>\n",
              "    <tr>\n",
              "      <th>32301</th>\n",
              "      <td>4</td>\n",
              "      <td>PrivateTest</td>\n",
              "      <td>200 197 149 139 156 89 111 58 62 95 113 117 11...</td>\n",
              "    </tr>\n",
              "    <tr>\n",
              "      <th>32302</th>\n",
              "      <td>2</td>\n",
              "      <td>PrivateTest</td>\n",
              "      <td>40 28 33 56 45 33 31 78 152 194 200 186 196 20...</td>\n",
              "    </tr>\n",
              "  </tbody>\n",
              "</table>\n",
              "</div>\n",
              "    <div class=\"colab-df-buttons\">\n",
              "\n",
              "  <div class=\"colab-df-container\">\n",
              "    <button class=\"colab-df-convert\" onclick=\"convertToInteractive('df-7f3bc70a-b66b-4df2-bd74-aedb0faf7eb1')\"\n",
              "            title=\"Convert this dataframe to an interactive table.\"\n",
              "            style=\"display:none;\">\n",
              "\n",
              "  <svg xmlns=\"http://www.w3.org/2000/svg\" height=\"24px\" viewBox=\"0 -960 960 960\">\n",
              "    <path d=\"M120-120v-720h720v720H120Zm60-500h600v-160H180v160Zm220 220h160v-160H400v160Zm0 220h160v-160H400v160ZM180-400h160v-160H180v160Zm440 0h160v-160H620v160ZM180-180h160v-160H180v160Zm440 0h160v-160H620v160Z\"/>\n",
              "  </svg>\n",
              "    </button>\n",
              "\n",
              "  <style>\n",
              "    .colab-df-container {\n",
              "      display:flex;\n",
              "      gap: 12px;\n",
              "    }\n",
              "\n",
              "    .colab-df-convert {\n",
              "      background-color: #E8F0FE;\n",
              "      border: none;\n",
              "      border-radius: 50%;\n",
              "      cursor: pointer;\n",
              "      display: none;\n",
              "      fill: #1967D2;\n",
              "      height: 32px;\n",
              "      padding: 0 0 0 0;\n",
              "      width: 32px;\n",
              "    }\n",
              "\n",
              "    .colab-df-convert:hover {\n",
              "      background-color: #E2EBFA;\n",
              "      box-shadow: 0px 1px 2px rgba(60, 64, 67, 0.3), 0px 1px 3px 1px rgba(60, 64, 67, 0.15);\n",
              "      fill: #174EA6;\n",
              "    }\n",
              "\n",
              "    .colab-df-buttons div {\n",
              "      margin-bottom: 4px;\n",
              "    }\n",
              "\n",
              "    [theme=dark] .colab-df-convert {\n",
              "      background-color: #3B4455;\n",
              "      fill: #D2E3FC;\n",
              "    }\n",
              "\n",
              "    [theme=dark] .colab-df-convert:hover {\n",
              "      background-color: #434B5C;\n",
              "      box-shadow: 0px 1px 3px 1px rgba(0, 0, 0, 0.15);\n",
              "      filter: drop-shadow(0px 1px 2px rgba(0, 0, 0, 0.3));\n",
              "      fill: #FFFFFF;\n",
              "    }\n",
              "  </style>\n",
              "\n",
              "    <script>\n",
              "      const buttonEl =\n",
              "        document.querySelector('#df-7f3bc70a-b66b-4df2-bd74-aedb0faf7eb1 button.colab-df-convert');\n",
              "      buttonEl.style.display =\n",
              "        google.colab.kernel.accessAllowed ? 'block' : 'none';\n",
              "\n",
              "      async function convertToInteractive(key) {\n",
              "        const element = document.querySelector('#df-7f3bc70a-b66b-4df2-bd74-aedb0faf7eb1');\n",
              "        const dataTable =\n",
              "          await google.colab.kernel.invokeFunction('convertToInteractive',\n",
              "                                                    [key], {});\n",
              "        if (!dataTable) return;\n",
              "\n",
              "        const docLinkHtml = 'Like what you see? Visit the ' +\n",
              "          '<a target=\"_blank\" href=https://colab.research.google.com/notebooks/data_table.ipynb>data table notebook</a>'\n",
              "          + ' to learn more about interactive tables.';\n",
              "        element.innerHTML = '';\n",
              "        dataTable['output_type'] = 'display_data';\n",
              "        await google.colab.output.renderOutput(dataTable, element);\n",
              "        const docLink = document.createElement('div');\n",
              "        docLink.innerHTML = docLinkHtml;\n",
              "        element.appendChild(docLink);\n",
              "      }\n",
              "    </script>\n",
              "  </div>\n",
              "\n",
              "\n",
              "    <div id=\"df-50fbd734-937c-4689-a5b0-01a19dc10f61\">\n",
              "      <button class=\"colab-df-quickchart\" onclick=\"quickchart('df-50fbd734-937c-4689-a5b0-01a19dc10f61')\"\n",
              "                title=\"Suggest charts\"\n",
              "                style=\"display:none;\">\n",
              "\n",
              "<svg xmlns=\"http://www.w3.org/2000/svg\" height=\"24px\"viewBox=\"0 0 24 24\"\n",
              "     width=\"24px\">\n",
              "    <g>\n",
              "        <path d=\"M19 3H5c-1.1 0-2 .9-2 2v14c0 1.1.9 2 2 2h14c1.1 0 2-.9 2-2V5c0-1.1-.9-2-2-2zM9 17H7v-7h2v7zm4 0h-2V7h2v10zm4 0h-2v-4h2v4z\"/>\n",
              "    </g>\n",
              "</svg>\n",
              "      </button>\n",
              "\n",
              "<style>\n",
              "  .colab-df-quickchart {\n",
              "      --bg-color: #E8F0FE;\n",
              "      --fill-color: #1967D2;\n",
              "      --hover-bg-color: #E2EBFA;\n",
              "      --hover-fill-color: #174EA6;\n",
              "      --disabled-fill-color: #AAA;\n",
              "      --disabled-bg-color: #DDD;\n",
              "  }\n",
              "\n",
              "  [theme=dark] .colab-df-quickchart {\n",
              "      --bg-color: #3B4455;\n",
              "      --fill-color: #D2E3FC;\n",
              "      --hover-bg-color: #434B5C;\n",
              "      --hover-fill-color: #FFFFFF;\n",
              "      --disabled-bg-color: #3B4455;\n",
              "      --disabled-fill-color: #666;\n",
              "  }\n",
              "\n",
              "  .colab-df-quickchart {\n",
              "    background-color: var(--bg-color);\n",
              "    border: none;\n",
              "    border-radius: 50%;\n",
              "    cursor: pointer;\n",
              "    display: none;\n",
              "    fill: var(--fill-color);\n",
              "    height: 32px;\n",
              "    padding: 0;\n",
              "    width: 32px;\n",
              "  }\n",
              "\n",
              "  .colab-df-quickchart:hover {\n",
              "    background-color: var(--hover-bg-color);\n",
              "    box-shadow: 0 1px 2px rgba(60, 64, 67, 0.3), 0 1px 3px 1px rgba(60, 64, 67, 0.15);\n",
              "    fill: var(--button-hover-fill-color);\n",
              "  }\n",
              "\n",
              "  .colab-df-quickchart-complete:disabled,\n",
              "  .colab-df-quickchart-complete:disabled:hover {\n",
              "    background-color: var(--disabled-bg-color);\n",
              "    fill: var(--disabled-fill-color);\n",
              "    box-shadow: none;\n",
              "  }\n",
              "\n",
              "  .colab-df-spinner {\n",
              "    border: 2px solid var(--fill-color);\n",
              "    border-color: transparent;\n",
              "    border-bottom-color: var(--fill-color);\n",
              "    animation:\n",
              "      spin 1s steps(1) infinite;\n",
              "  }\n",
              "\n",
              "  @keyframes spin {\n",
              "    0% {\n",
              "      border-color: transparent;\n",
              "      border-bottom-color: var(--fill-color);\n",
              "      border-left-color: var(--fill-color);\n",
              "    }\n",
              "    20% {\n",
              "      border-color: transparent;\n",
              "      border-left-color: var(--fill-color);\n",
              "      border-top-color: var(--fill-color);\n",
              "    }\n",
              "    30% {\n",
              "      border-color: transparent;\n",
              "      border-left-color: var(--fill-color);\n",
              "      border-top-color: var(--fill-color);\n",
              "      border-right-color: var(--fill-color);\n",
              "    }\n",
              "    40% {\n",
              "      border-color: transparent;\n",
              "      border-right-color: var(--fill-color);\n",
              "      border-top-color: var(--fill-color);\n",
              "    }\n",
              "    60% {\n",
              "      border-color: transparent;\n",
              "      border-right-color: var(--fill-color);\n",
              "    }\n",
              "    80% {\n",
              "      border-color: transparent;\n",
              "      border-right-color: var(--fill-color);\n",
              "      border-bottom-color: var(--fill-color);\n",
              "    }\n",
              "    90% {\n",
              "      border-color: transparent;\n",
              "      border-bottom-color: var(--fill-color);\n",
              "    }\n",
              "  }\n",
              "</style>\n",
              "\n",
              "      <script>\n",
              "        async function quickchart(key) {\n",
              "          const quickchartButtonEl =\n",
              "            document.querySelector('#' + key + ' button');\n",
              "          quickchartButtonEl.disabled = true;  // To prevent multiple clicks.\n",
              "          quickchartButtonEl.classList.add('colab-df-spinner');\n",
              "          try {\n",
              "            const charts = await google.colab.kernel.invokeFunction(\n",
              "                'suggestCharts', [key], {});\n",
              "          } catch (error) {\n",
              "            console.error('Error during call to suggestCharts:', error);\n",
              "          }\n",
              "          quickchartButtonEl.classList.remove('colab-df-spinner');\n",
              "          quickchartButtonEl.classList.add('colab-df-quickchart-complete');\n",
              "        }\n",
              "        (() => {\n",
              "          let quickchartButtonEl =\n",
              "            document.querySelector('#df-50fbd734-937c-4689-a5b0-01a19dc10f61 button');\n",
              "          quickchartButtonEl.style.display =\n",
              "            google.colab.kernel.accessAllowed ? 'block' : 'none';\n",
              "        })();\n",
              "      </script>\n",
              "    </div>\n",
              "\n",
              "    </div>\n",
              "  </div>\n"
            ],
            "application/vnd.google.colaboratory.intrinsic+json": {
              "type": "dataframe",
              "summary": "{\n  \"name\": \"icml_face_data[icml_face_data[' Usage'] == 'PrivateTest']\",\n  \"rows\": 5,\n  \"fields\": [\n    {\n      \"column\": \"emotion\",\n      \"properties\": {\n        \"dtype\": \"number\",\n        \"std\": 2,\n        \"min\": 0,\n        \"max\": 6,\n        \"num_unique_values\": 5,\n        \"samples\": [\n          5,\n          2,\n          6\n        ],\n        \"semantic_type\": \"\",\n        \"description\": \"\"\n      }\n    },\n    {\n      \"column\": \" Usage\",\n      \"properties\": {\n        \"dtype\": \"category\",\n        \"num_unique_values\": 1,\n        \"samples\": [\n          \"PrivateTest\"\n        ],\n        \"semantic_type\": \"\",\n        \"description\": \"\"\n      }\n    },\n    {\n      \"column\": \" pixels\",\n      \"properties\": {\n        \"dtype\": \"string\",\n        \"num_unique_values\": 5,\n        \"samples\": [\n          \"7 5 8 6 7 3 2 6 5 4 4 5 7 5 5 5 6 7 7 7 10 10 8 6 8 11 12 15 9 7 16 21 9 8 13 18 23 20 23 27 24 26 28 47 54 18 10 15 7 5 8 6 3 1 0 9 7 1 2 4 6 6 6 7 7 9 8 7 8 9 8 5 8 14 14 12 6 7 13 15 10 10 13 24 25 21 30 32 35 35 35 41 53 29 9 19 7 5 7 8 1 1 3 16 8 3 5 3 7 5 5 5 7 9 7 7 8 9 8 6 7 14 13 9 7 6 14 12 8 12 19 28 25 30 25 37 47 42 43 50 57 49 12 23 7 6 7 7 1 0 9 22 6 10 15 3 7 5 5 6 7 8 7 8 9 10 8 6 8 11 9 5 7 8 17 10 13 15 21 26 29 27 31 49 54 48 45 58 50 45 16 15 8 6 10 6 1 0 14 23 3 16 19 5 7 5 6 5 7 8 8 8 9 11 9 5 9 9 5 5 7 8 15 11 17 21 30 37 34 32 51 55 56 54 49 55 48 39 19 15 8 7 10 5 1 0 15 20 3 15 14 6 8 5 6 7 7 8 7 8 9 10 9 5 9 9 3 7 9 12 8 11 25 35 44 50 45 53 63 63 61 58 51 54 46 34 21 17 10 9 9 5 1 0 12 14 2 8 6 6 9 6 5 6 8 8 8 9 9 10 8 6 9 8 3 9 11 14 8 11 37 45 56 58 63 69 67 69 62 56 53 53 44 36 24 16 12 10 7 5 1 1 7 9 3 4 4 5 8 6 5 6 7 8 8 8 9 10 9 6 10 8 3 10 13 16 9 20 44 55 63 69 69 71 69 70 65 59 57 53 45 39 28 16 11 10 9 6 2 1 3 7 5 3 3 4 6 7 5 6 7 9 7 8 10 10 9 7 11 7 3 9 14 15 10 38 55 64 66 68 72 73 71 69 67 64 57 50 46 42 31 19 12 10 11 9 5 2 1 7 6 3 2 2 3 6 5 6 8 8 8 9 10 9 8 6 11 7 3 5 14 8 17 51 59 69 71 73 79 78 76 70 71 70 59 50 46 45 33 20 13 10 13 10 7 2 1 6 5 5 2 0 3 6 6 6 7 9 8 9 9 10 9 7 10 6 4 4 14 9 25 57 64 74 78 79 84 85 81 76 71 71 62 50 49 47 36 24 10 8 13 6 5 2 2 4 3 6 2 0 2 6 6 5 7 9 8 8 9 10 8 7 10 7 4 5 17 12 34 60 68 77 80 83 88 89 82 81 78 72 63 50 48 52 39 26 9 5 10 5 3 2 1 2 4 13 3 0 2 7 7 6 7 8 8 7 10 11 9 7 10 10 8 4 13 15 39 62 69 78 81 83 88 89 85 86 84 75 65 56 51 55 39 26 9 5 6 9 2 1 3 3 8 20 4 0 2 6 6 6 7 9 8 8 10 10 9 7 11 14 9 3 8 13 45 65 72 83 84 85 89 94 91 90 88 79 68 59 54 54 35 28 12 7 10 15 4 2 4 6 13 27 6 0 2 4 6 6 8 9 9 9 11 11 9 8 11 12 8 4 7 13 48 66 75 84 85 89 92 94 88 90 88 80 68 62 55 49 34 28 14 10 14 20 5 2 5 11 14 29 9 0 4 5 6 6 7 9 8 8 10 10 9 8 10 9 6 4 6 17 51 69 74 82 89 90 90 90 90 91 90 79 66 62 57 47 36 28 13 10 16 22 7 1 11 17 10 29 11 0 6 7 6 5 7 9 9 9 11 11 10 7 9 10 6 4 6 18 53 69 75 84 91 94 93 93 91 89 88 80 68 62 54 54 42 27 13 10 14 25 10 2 15 18 7 27 12 0 9 10 7 6 7 10 9 9 11 12 9 7 10 14 7 5 5 19 55 70 76 84 90 91 91 92 91 89 88 79 68 64 53 53 43 28 13 10 11 28 15 3 16 16 5 23 10 2 10 11 8 7 8 8 8 9 11 12 10 9 11 18 9 6 6 19 57 69 75 83 85 87 89 92 90 86 85 80 68 64 53 50 44 26 12 10 10 29 20 7 13 13 3 18 7 2 10 12 8 8 8 8 8 9 12 12 11 9 11 19 10 6 7 21 58 67 72 77 82 86 86 86 84 82 79 71 64 63 56 50 49 30 11 9 12 26 17 11 12 9 2 12 5 3 10 10 8 8 9 9 8 9 11 12 11 9 9 19 13 7 5 22 57 67 69 78 81 79 81 89 85 82 78 68 62 60 57 49 65 41 9 8 16 21 9 13 15 6 4 10 9 5 7 8 9 8 10 10 9 8 11 12 11 10 10 18 18 13 6 22 57 66 72 78 79 79 83 86 83 79 77 72 63 56 56 53 63 45 10 8 17 16 7 15 22 4 4 17 20 7 7 8 8 9 9 9 9 9 12 13 11 10 10 16 16 17 8 23 56 67 75 81 80 80 80 85 83 81 79 73 63 58 57 54 64 49 10 8 15 12 11 19 27 8 5 23 29 8 9 8 8 9 9 10 9 10 12 14 12 9 11 15 12 19 11 21 56 68 75 84 84 81 78 83 80 82 79 73 64 61 57 57 69 59 10 8 13 10 16 21 32 19 5 21 33 10 10 8 7 8 9 10 9 10 12 14 12 8 12 14 10 20 15 21 57 68 78 85 85 84 78 82 81 84 80 73 67 59 55 65 68 55 10 10 17 11 16 23 32 23 5 13 27 11 9 6 8 8 9 11 10 10 13 14 12 8 12 11 13 20 18 21 57 69 81 87 90 89 83 87 87 88 83 75 71 63 57 69 70 54 10 11 18 15 15 21 25 19 7 11 19 10 6 5 7 8 10 11 9 10 13 14 13 8 11 10 14 21 17 21 56 65 80 90 96 95 87 90 91 90 83 76 66 53 60 82 73 58 10 9 17 22 16 17 17 14 7 20 16 6 3 6 8 8 9 10 10 10 13 14 13 9 12 12 12 17 15 22 53 60 82 89 96 97 87 91 95 91 78 78 65 46 44 85 86 75 11 8 15 31 24 13 11 12 7 30 21 4 4 6 8 8 9 11 10 11 13 14 12 10 15 16 13 13 10 23 49 56 78 89 95 97 87 90 95 91 81 74 61 44 34 77 106 92 11 8 15 34 31 10 10 13 5 34 30 6 3 6 7 9 10 11 11 11 13 14 13 11 15 21 19 12 8 23 44 47 68 87 92 95 88 89 94 86 81 65 50 39 28 61 124 89 11 11 18 30 32 8 10 10 5 30 34 10 5 6 7 9 10 10 10 11 14 15 14 11 13 24 28 12 6 21 43 42 47 70 84 88 87 88 92 81 66 49 40 53 34 44 109 99 12 12 18 25 29 8 9 6 6 23 32 16 10 7 7 9 10 11 9 11 14 15 14 12 13 23 30 12 7 20 50 69 45 44 72 83 85 86 81 71 45 31 54 71 47 40 84 100 15 12 17 21 25 9 9 4 9 18 26 18 13 9 7 9 10 10 9 12 14 15 13 11 14 20 28 13 6 25 58 79 81 41 52 73 83 89 72 56 40 44 53 66 58 44 76 104 18 14 17 21 21 11 9 6 12 17 22 17 13 9 8 8 11 9 9 11 14 16 15 11 14 17 23 12 8 28 66 66 43 40 50 66 84 89 65 58 65 45 31 35 52 51 68 105 19 16 19 22 17 13 9 10 13 19 19 15 12 9 8 8 11 10 9 11 15 16 14 13 16 18 19 13 9 33 70 41 26 43 62 72 86 86 63 69 76 68 51 46 38 56 68 99 19 16 22 21 14 17 10 11 13 19 13 14 11 9 8 8 11 11 10 11 14 16 13 13 15 17 17 13 11 39 68 43 67 60 77 80 86 85 61 70 84 81 49 58 44 56 65 92 19 15 25 20 11 21 11 9 13 18 8 12 11 8 7 8 10 10 10 11 15 16 14 13 15 18 14 15 11 40 69 53 52 52 72 74 85 80 56 74 74 61 48 52 39 57 62 88 16 12 23 18 11 21 12 9 15 17 7 13 9 8 8 8 10 10 9 11 16 16 14 13 17 19 13 16 13 42 72 51 59 66 69 78 82 78 50 75 84 74 64 49 47 59 60 83 14 11 19 15 11 19 11 13 18 16 8 13 8 9 9 9 11 10 10 12 16 16 14 14 17 19 13 16 14 45 74 64 66 76 73 83 80 75 47 70 85 81 76 60 60 68 59 75 14 9 15 12 9 16 10 15 20 14 8 12 8 7 8 8 10 11 10 11 17 16 14 13 15 19 12 14 13 50 78 75 79 83 73 77 79 72 46 64 81 76 76 67 70 71 60 71 17 12 16 10 7 12 8 16 19 9 8 12 6 7 9 9 11 11 9 12 16 16 14 12 14 16 11 11 14 54 79 80 81 82 82 79 80 70 44 61 82 82 81 76 75 71 61 71 20 17 20 7 6 10 7 13 15 5 8 11 7 7 9 9 11 11 9 12 17 16 15 12 16 15 9 11 14 54 80 81 88 91 87 78 80 67 45 61 82 86 87 83 74 71 62 67 21 18 21 8 6 9 5 10 12 5 10 10 8 8 9 9 11 10 8 12 17 17 16 13 19 16 8 10 13 57 82 80 89 94 88 76 79 64 45 59 81 85 90 85 74 74 64 67 20 18 20 11 6 8 6 10 13 9 13 9 11 10 8 9 11 11 9 12 17 17 16 14 19 17 8 10 11 57 83 83 89 92 88 75 77 60 41 57 81 83 89 88 79 76 64 68 22 17 19 12 6 9 8 10 14 15 15 9 12 9 8 9 11 11 9 12 17 17 15 14 17 16 9 10 10 56 84 86 91 90 87 74 77 60 37 53 79 84 87 90 83 75 61 64 22 16 20 17 6 9 10 9 13 17 15 10 12 9 8 8 10 10 9 12 17 18 16 14 16 16 11 10 11 55 84 88 92 89 85 73 78 62 35 46 78 84 85 90 85 76 61 59 21 15 24 24 9 8 9 7 10 22 17 11 13 10 9 9 11 10 9 12 17 18 17 15 17 21 17 10 16 56 83 89 92 91 85 75 81 69 38 40 76 88 83 89 85 73 60 55 17 16 28 28 12 7 12 10 11 28 19 12 12 11 9 9 11 10 10 14 18 19 18 14 18 24 21 13 20 58 82 90 93 90 87 79 85 75 41 37 76 88 84 88 82 72 57 52\"\n        ],\n        \"semantic_type\": \"\",\n        \"description\": \"\"\n      }\n    }\n  ]\n}"
            }
          },
          "metadata": {},
          "execution_count": 18
        }
      ]
    },
    {
      "cell_type": "code",
      "source": [
        "icml_face_data[icml_face_data[' Usage'] == 'PublicTest'].head()"
      ],
      "metadata": {
        "colab": {
          "base_uri": "https://localhost:8080/",
          "height": 206
        },
        "id": "u5wa33b5HIxn",
        "outputId": "eef241b7-7de3-4ba2-aeb0-5e479549d148"
      },
      "execution_count": 19,
      "outputs": [
        {
          "output_type": "execute_result",
          "data": {
            "text/plain": [
              "       emotion       Usage                                             pixels\n",
              "28709        0  PublicTest  254 254 254 254 254 249 255 160 2 58 53 70 77 ...\n",
              "28710        1  PublicTest  156 184 198 202 204 207 210 212 213 214 215 21...\n",
              "28711        4  PublicTest  69 118 61 60 96 121 103 87 103 88 70 90 115 12...\n",
              "28712        6  PublicTest  205 203 236 157 83 158 120 116 94 86 155 180 2...\n",
              "28713        3  PublicTest  87 79 74 66 74 96 77 80 80 84 83 89 102 91 84 ..."
            ],
            "text/html": [
              "\n",
              "  <div id=\"df-2661417e-864a-418b-a094-c86f655724c9\" class=\"colab-df-container\">\n",
              "    <div>\n",
              "<style scoped>\n",
              "    .dataframe tbody tr th:only-of-type {\n",
              "        vertical-align: middle;\n",
              "    }\n",
              "\n",
              "    .dataframe tbody tr th {\n",
              "        vertical-align: top;\n",
              "    }\n",
              "\n",
              "    .dataframe thead th {\n",
              "        text-align: right;\n",
              "    }\n",
              "</style>\n",
              "<table border=\"1\" class=\"dataframe\">\n",
              "  <thead>\n",
              "    <tr style=\"text-align: right;\">\n",
              "      <th></th>\n",
              "      <th>emotion</th>\n",
              "      <th>Usage</th>\n",
              "      <th>pixels</th>\n",
              "    </tr>\n",
              "  </thead>\n",
              "  <tbody>\n",
              "    <tr>\n",
              "      <th>28709</th>\n",
              "      <td>0</td>\n",
              "      <td>PublicTest</td>\n",
              "      <td>254 254 254 254 254 249 255 160 2 58 53 70 77 ...</td>\n",
              "    </tr>\n",
              "    <tr>\n",
              "      <th>28710</th>\n",
              "      <td>1</td>\n",
              "      <td>PublicTest</td>\n",
              "      <td>156 184 198 202 204 207 210 212 213 214 215 21...</td>\n",
              "    </tr>\n",
              "    <tr>\n",
              "      <th>28711</th>\n",
              "      <td>4</td>\n",
              "      <td>PublicTest</td>\n",
              "      <td>69 118 61 60 96 121 103 87 103 88 70 90 115 12...</td>\n",
              "    </tr>\n",
              "    <tr>\n",
              "      <th>28712</th>\n",
              "      <td>6</td>\n",
              "      <td>PublicTest</td>\n",
              "      <td>205 203 236 157 83 158 120 116 94 86 155 180 2...</td>\n",
              "    </tr>\n",
              "    <tr>\n",
              "      <th>28713</th>\n",
              "      <td>3</td>\n",
              "      <td>PublicTest</td>\n",
              "      <td>87 79 74 66 74 96 77 80 80 84 83 89 102 91 84 ...</td>\n",
              "    </tr>\n",
              "  </tbody>\n",
              "</table>\n",
              "</div>\n",
              "    <div class=\"colab-df-buttons\">\n",
              "\n",
              "  <div class=\"colab-df-container\">\n",
              "    <button class=\"colab-df-convert\" onclick=\"convertToInteractive('df-2661417e-864a-418b-a094-c86f655724c9')\"\n",
              "            title=\"Convert this dataframe to an interactive table.\"\n",
              "            style=\"display:none;\">\n",
              "\n",
              "  <svg xmlns=\"http://www.w3.org/2000/svg\" height=\"24px\" viewBox=\"0 -960 960 960\">\n",
              "    <path d=\"M120-120v-720h720v720H120Zm60-500h600v-160H180v160Zm220 220h160v-160H400v160Zm0 220h160v-160H400v160ZM180-400h160v-160H180v160Zm440 0h160v-160H620v160ZM180-180h160v-160H180v160Zm440 0h160v-160H620v160Z\"/>\n",
              "  </svg>\n",
              "    </button>\n",
              "\n",
              "  <style>\n",
              "    .colab-df-container {\n",
              "      display:flex;\n",
              "      gap: 12px;\n",
              "    }\n",
              "\n",
              "    .colab-df-convert {\n",
              "      background-color: #E8F0FE;\n",
              "      border: none;\n",
              "      border-radius: 50%;\n",
              "      cursor: pointer;\n",
              "      display: none;\n",
              "      fill: #1967D2;\n",
              "      height: 32px;\n",
              "      padding: 0 0 0 0;\n",
              "      width: 32px;\n",
              "    }\n",
              "\n",
              "    .colab-df-convert:hover {\n",
              "      background-color: #E2EBFA;\n",
              "      box-shadow: 0px 1px 2px rgba(60, 64, 67, 0.3), 0px 1px 3px 1px rgba(60, 64, 67, 0.15);\n",
              "      fill: #174EA6;\n",
              "    }\n",
              "\n",
              "    .colab-df-buttons div {\n",
              "      margin-bottom: 4px;\n",
              "    }\n",
              "\n",
              "    [theme=dark] .colab-df-convert {\n",
              "      background-color: #3B4455;\n",
              "      fill: #D2E3FC;\n",
              "    }\n",
              "\n",
              "    [theme=dark] .colab-df-convert:hover {\n",
              "      background-color: #434B5C;\n",
              "      box-shadow: 0px 1px 3px 1px rgba(0, 0, 0, 0.15);\n",
              "      filter: drop-shadow(0px 1px 2px rgba(0, 0, 0, 0.3));\n",
              "      fill: #FFFFFF;\n",
              "    }\n",
              "  </style>\n",
              "\n",
              "    <script>\n",
              "      const buttonEl =\n",
              "        document.querySelector('#df-2661417e-864a-418b-a094-c86f655724c9 button.colab-df-convert');\n",
              "      buttonEl.style.display =\n",
              "        google.colab.kernel.accessAllowed ? 'block' : 'none';\n",
              "\n",
              "      async function convertToInteractive(key) {\n",
              "        const element = document.querySelector('#df-2661417e-864a-418b-a094-c86f655724c9');\n",
              "        const dataTable =\n",
              "          await google.colab.kernel.invokeFunction('convertToInteractive',\n",
              "                                                    [key], {});\n",
              "        if (!dataTable) return;\n",
              "\n",
              "        const docLinkHtml = 'Like what you see? Visit the ' +\n",
              "          '<a target=\"_blank\" href=https://colab.research.google.com/notebooks/data_table.ipynb>data table notebook</a>'\n",
              "          + ' to learn more about interactive tables.';\n",
              "        element.innerHTML = '';\n",
              "        dataTable['output_type'] = 'display_data';\n",
              "        await google.colab.output.renderOutput(dataTable, element);\n",
              "        const docLink = document.createElement('div');\n",
              "        docLink.innerHTML = docLinkHtml;\n",
              "        element.appendChild(docLink);\n",
              "      }\n",
              "    </script>\n",
              "  </div>\n",
              "\n",
              "\n",
              "    <div id=\"df-4cf95ebd-f450-4862-96ef-3c37db7d32a4\">\n",
              "      <button class=\"colab-df-quickchart\" onclick=\"quickchart('df-4cf95ebd-f450-4862-96ef-3c37db7d32a4')\"\n",
              "                title=\"Suggest charts\"\n",
              "                style=\"display:none;\">\n",
              "\n",
              "<svg xmlns=\"http://www.w3.org/2000/svg\" height=\"24px\"viewBox=\"0 0 24 24\"\n",
              "     width=\"24px\">\n",
              "    <g>\n",
              "        <path d=\"M19 3H5c-1.1 0-2 .9-2 2v14c0 1.1.9 2 2 2h14c1.1 0 2-.9 2-2V5c0-1.1-.9-2-2-2zM9 17H7v-7h2v7zm4 0h-2V7h2v10zm4 0h-2v-4h2v4z\"/>\n",
              "    </g>\n",
              "</svg>\n",
              "      </button>\n",
              "\n",
              "<style>\n",
              "  .colab-df-quickchart {\n",
              "      --bg-color: #E8F0FE;\n",
              "      --fill-color: #1967D2;\n",
              "      --hover-bg-color: #E2EBFA;\n",
              "      --hover-fill-color: #174EA6;\n",
              "      --disabled-fill-color: #AAA;\n",
              "      --disabled-bg-color: #DDD;\n",
              "  }\n",
              "\n",
              "  [theme=dark] .colab-df-quickchart {\n",
              "      --bg-color: #3B4455;\n",
              "      --fill-color: #D2E3FC;\n",
              "      --hover-bg-color: #434B5C;\n",
              "      --hover-fill-color: #FFFFFF;\n",
              "      --disabled-bg-color: #3B4455;\n",
              "      --disabled-fill-color: #666;\n",
              "  }\n",
              "\n",
              "  .colab-df-quickchart {\n",
              "    background-color: var(--bg-color);\n",
              "    border: none;\n",
              "    border-radius: 50%;\n",
              "    cursor: pointer;\n",
              "    display: none;\n",
              "    fill: var(--fill-color);\n",
              "    height: 32px;\n",
              "    padding: 0;\n",
              "    width: 32px;\n",
              "  }\n",
              "\n",
              "  .colab-df-quickchart:hover {\n",
              "    background-color: var(--hover-bg-color);\n",
              "    box-shadow: 0 1px 2px rgba(60, 64, 67, 0.3), 0 1px 3px 1px rgba(60, 64, 67, 0.15);\n",
              "    fill: var(--button-hover-fill-color);\n",
              "  }\n",
              "\n",
              "  .colab-df-quickchart-complete:disabled,\n",
              "  .colab-df-quickchart-complete:disabled:hover {\n",
              "    background-color: var(--disabled-bg-color);\n",
              "    fill: var(--disabled-fill-color);\n",
              "    box-shadow: none;\n",
              "  }\n",
              "\n",
              "  .colab-df-spinner {\n",
              "    border: 2px solid var(--fill-color);\n",
              "    border-color: transparent;\n",
              "    border-bottom-color: var(--fill-color);\n",
              "    animation:\n",
              "      spin 1s steps(1) infinite;\n",
              "  }\n",
              "\n",
              "  @keyframes spin {\n",
              "    0% {\n",
              "      border-color: transparent;\n",
              "      border-bottom-color: var(--fill-color);\n",
              "      border-left-color: var(--fill-color);\n",
              "    }\n",
              "    20% {\n",
              "      border-color: transparent;\n",
              "      border-left-color: var(--fill-color);\n",
              "      border-top-color: var(--fill-color);\n",
              "    }\n",
              "    30% {\n",
              "      border-color: transparent;\n",
              "      border-left-color: var(--fill-color);\n",
              "      border-top-color: var(--fill-color);\n",
              "      border-right-color: var(--fill-color);\n",
              "    }\n",
              "    40% {\n",
              "      border-color: transparent;\n",
              "      border-right-color: var(--fill-color);\n",
              "      border-top-color: var(--fill-color);\n",
              "    }\n",
              "    60% {\n",
              "      border-color: transparent;\n",
              "      border-right-color: var(--fill-color);\n",
              "    }\n",
              "    80% {\n",
              "      border-color: transparent;\n",
              "      border-right-color: var(--fill-color);\n",
              "      border-bottom-color: var(--fill-color);\n",
              "    }\n",
              "    90% {\n",
              "      border-color: transparent;\n",
              "      border-bottom-color: var(--fill-color);\n",
              "    }\n",
              "  }\n",
              "</style>\n",
              "\n",
              "      <script>\n",
              "        async function quickchart(key) {\n",
              "          const quickchartButtonEl =\n",
              "            document.querySelector('#' + key + ' button');\n",
              "          quickchartButtonEl.disabled = true;  // To prevent multiple clicks.\n",
              "          quickchartButtonEl.classList.add('colab-df-spinner');\n",
              "          try {\n",
              "            const charts = await google.colab.kernel.invokeFunction(\n",
              "                'suggestCharts', [key], {});\n",
              "          } catch (error) {\n",
              "            console.error('Error during call to suggestCharts:', error);\n",
              "          }\n",
              "          quickchartButtonEl.classList.remove('colab-df-spinner');\n",
              "          quickchartButtonEl.classList.add('colab-df-quickchart-complete');\n",
              "        }\n",
              "        (() => {\n",
              "          let quickchartButtonEl =\n",
              "            document.querySelector('#df-4cf95ebd-f450-4862-96ef-3c37db7d32a4 button');\n",
              "          quickchartButtonEl.style.display =\n",
              "            google.colab.kernel.accessAllowed ? 'block' : 'none';\n",
              "        })();\n",
              "      </script>\n",
              "    </div>\n",
              "\n",
              "    </div>\n",
              "  </div>\n"
            ],
            "application/vnd.google.colaboratory.intrinsic+json": {
              "type": "dataframe",
              "summary": "{\n  \"name\": \"icml_face_data[icml_face_data[' Usage'] == 'PublicTest']\",\n  \"rows\": 5,\n  \"fields\": [\n    {\n      \"column\": \"emotion\",\n      \"properties\": {\n        \"dtype\": \"number\",\n        \"std\": 2,\n        \"min\": 0,\n        \"max\": 6,\n        \"num_unique_values\": 5,\n        \"samples\": [\n          1,\n          3,\n          4\n        ],\n        \"semantic_type\": \"\",\n        \"description\": \"\"\n      }\n    },\n    {\n      \"column\": \" Usage\",\n      \"properties\": {\n        \"dtype\": \"category\",\n        \"num_unique_values\": 1,\n        \"samples\": [\n          \"PublicTest\"\n        ],\n        \"semantic_type\": \"\",\n        \"description\": \"\"\n      }\n    },\n    {\n      \"column\": \" pixels\",\n      \"properties\": {\n        \"dtype\": \"string\",\n        \"num_unique_values\": 5,\n        \"samples\": [\n          \"156 184 198 202 204 207 210 212 213 214 215 214 214 213 216 217 218 217 216 214 213 214 213 214 215 211 207 205 204 202 198 195 193 190 184 180 176 174 172 168 164 168 167 163 161 157 154 150 146 182 199 204 207 210 213 214 214 214 214 212 210 209 212 216 220 217 216 213 217 218 213 205 196 189 189 189 187 186 190 192 193 194 193 189 182 177 178 176 173 171 166 167 167 161 154 150 135 176 195 205 210 213 215 215 215 215 213 211 210 206 210 214 215 216 217 210 197 169 147 130 126 129 136 134 132 133 132 137 141 150 164 175 184 188 185 184 182 174 163 170 166 165 161 155 104 179 194 206 211 215 218 218 218 218 216 214 212 209 210 209 210 209 187 148 114 92 94 115 141 152 162 176 170 169 164 158 149 141 135 134 151 172 185 188 183 179 173 170 165 163 164 158 71 167 190 209 211 215 217 219 219 219 217 217 213 207 204 205 186 150 115 84 83 123 172 191 204 207 211 210 210 213 209 210 207 204 201 196 187 185 187 194 189 183 175 173 169 164 161 156 48 170 182 203 216 213 216 219 218 218 216 215 213 204 200 173 128 101 85 113 154 178 188 185 190 195 200 197 197 197 195 197 190 194 196 199 200 202 204 202 198 192 185 179 173 167 161 163 27 157 196 197 202 215 215 213 213 216 215 213 212 210 174 127 109 100 127 166 170 172 180 187 193 192 188 185 181 179 178 178 179 180 181 188 193 198 202 206 203 198 191 181 175 172 169 161 12 149 199 205 202 199 207 205 201 209 214 213 213 208 179 135 126 153 167 167 166 179 188 188 172 158 143 113 86 78 79 102 120 140 157 172 189 202 210 208 203 201 197 190 180 179 159 156 6 135 187 176 173 165 154 158 168 201 215 214 213 213 209 189 180 186 175 174 176 184 172 143 127 78 49 55 69 41 49 29 42 54 91 146 183 205 213 211 209 205 200 197 189 168 165 163 0 117 143 95 91 88 86 87 103 174 211 212 215 215 215 210 202 194 186 177 177 173 145 113 64 81 151 97 83 63 105 45 50 79 128 173 194 207 211 210 210 209 209 195 178 176 169 163 0 92 92 101 129 131 131 133 134 152 199 210 211 215 216 213 208 200 190 181 174 163 137 58 113 219 248 176 69 78 61 99 151 183 200 205 207 207 209 207 207 211 198 192 190 178 170 166 3 55 125 186 180 172 169 164 168 166 172 201 211 215 219 216 213 207 199 185 174 175 123 59 171 205 180 135 91 118 157 195 202 205 207 209 209 207 207 209 208 197 197 200 193 182 173 165 0 63 173 179 181 183 180 178 175 175 170 171 203 215 217 219 216 212 204 191 180 189 130 66 107 90 91 118 155 196 204 203 209 210 211 211 212 211 213 209 195 203 205 198 193 185 175 168 0 49 174 175 180 176 179 168 162 159 172 176 181 209 218 221 220 216 208 199 194 203 167 118 143 162 188 206 203 200 200 208 212 215 215 215 215 212 212 209 206 206 201 197 191 186 177 170 12 13 146 167 145 121 94 69 60 66 64 104 172 195 214 223 223 222 212 205 197 206 210 200 193 191 191 191 194 200 205 212 217 218 217 217 218 214 211 209 208 207 203 197 190 187 179 172 75 54 84 156 98 52 47 135 116 151 135 47 94 197 205 221 223 221 213 207 204 204 216 211 199 191 191 196 201 208 212 214 218 220 218 218 218 215 213 211 209 208 206 202 191 187 182 176 89 90 64 98 71 19 91 244 177 58 59 45 36 181 207 217 223 217 214 207 207 207 209 215 215 212 211 214 215 212 213 216 220 220 219 219 219 216 214 212 210 209 206 202 196 191 186 181 40 76 69 52 71 40 90 221 231 126 54 84 153 195 202 215 222 218 213 209 205 206 206 209 212 214 214 214 213 212 212 216 221 222 221 222 220 217 215 210 209 209 206 202 200 196 189 184 33 18 46 41 127 121 61 99 101 106 135 175 189 193 202 204 211 213 212 209 206 207 206 208 210 212 212 213 213 214 215 218 220 224 220 213 212 211 212 214 211 210 208 206 203 196 191 187 94 56 20 41 153 177 119 94 134 174 186 181 176 190 196 206 212 204 199 207 209 210 209 210 210 213 213 214 213 214 218 220 225 217 204 216 218 214 205 202 207 203 204 205 202 198 193 190 54 90 59 0 118 217 202 191 202 201 189 183 183 208 222 215 215 223 197 200 211 210 214 214 212 218 220 218 215 217 220 223 220 209 232 226 218 219 224 201 201 197 196 205 203 199 196 192 33 45 93 24 61 210 210 194 191 198 194 193 203 223 195 195 204 197 198 209 199 198 200 208 220 215 211 214 212 207 210 223 209 225 222 206 213 207 199 205 196 217 200 194 200 202 190 183 71 22 75 65 30 195 219 198 199 208 210 205 209 214 191 212 216 212 203 194 206 211 213 200 205 206 212 203 214 220 212 208 209 226 223 206 215 220 220 202 208 225 216 203 191 188 193 203 79 37 56 79 19 174 225 204 204 215 216 204 207 213 192 209 209 207 200 193 204 198 201 221 192 195 227 220 209 212 232 212 210 209 232 222 210 206 204 204 202 224 208 198 186 198 216 197 80 44 56 80 13 157 230 204 205 215 215 203 208 216 193 209 206 205 201 192 184 188 179 203 193 170 208 189 199 194 217 215 212 215 205 212 220 229 220 200 195 221 198 201 192 212 197 184 84 35 71 75 5 139 228 202 203 214 215 204 210 216 193 208 205 207 194 189 205 195 198 209 190 167 194 166 190 192 211 212 208 222 221 213 207 203 226 220 188 222 201 203 193 209 193 195 50 49 94 51 15 118 220 199 201 212 216 206 210 221 189 206 207 194 188 218 195 182 179 204 195 172 198 152 148 168 203 204 201 199 203 213 219 202 210 225 187 219 198 203 191 211 193 186 40 97 88 19 49 90 199 202 200 212 213 211 200 222 215 204 209 208 187 223 204 197 202 221 203 183 207 158 130 155 206 201 179 212 219 207 205 210 230 210 187 220 211 195 183 201 212 189 94 99 45 41 91 76 159 205 198 213 212 214 207 199 209 222 231 223 194 204 217 217 203 210 204 185 202 161 127 167 202 198 188 194 208 219 220 218 205 200 204 197 214 215 192 180 199 208 67 41 38 50 51 39 63 179 203 212 214 213 214 209 194 200 205 208 213 201 192 200 203 200 199 187 177 141 151 193 191 198 211 205 192 196 200 200 202 209 209 200 192 193 192 198 190 186 20 26 34 25 13 6 0 115 212 204 212 212 212 210 203 206 214 214 210 206 198 181 181 192 194 184 165 159 190 202 207 214 215 212 206 201 205 210 211 209 207 206 207 204 203 197 199 200 20 29 33 35 23 11 3 25 182 206 205 213 214 209 201 198 197 205 199 192 181 152 156 176 187 186 190 201 202 201 208 210 210 209 209 203 200 203 206 208 209 207 204 203 202 200 198 197 20 24 39 33 26 10 9 0 95 208 200 203 210 216 209 201 170 165 178 178 173 172 185 200 201 202 207 204 201 206 209 207 205 201 204 210 205 203 204 207 201 204 206 204 201 199 199 196 22 18 33 32 27 14 10 5 11 162 197 200 212 213 214 207 188 178 170 181 197 199 203 205 210 206 204 201 198 199 202 199 199 191 189 200 207 204 203 206 203 197 198 199 201 198 196 197 28 14 33 28 26 13 7 14 32 85 197 202 207 211 213 213 209 208 202 195 200 208 208 207 204 195 196 196 197 198 197 196 195 184 171 187 202 207 204 203 206 208 203 195 191 192 195 196 27 14 27 24 27 24 21 47 83 1 120 206 198 206 210 210 204 203 204 201 196 200 203 199 193 194 198 198 194 181 173 163 152 150 126 119 176 203 207 206 205 204 202 204 197 191 187 189 20 13 24 33 43 30 4 60 56 0 17 164 205 200 206 207 203 201 200 201 196 200 201 201 206 201 189 178 166 147 136 135 160 152 95 113 168 194 205 208 205 202 202 200 198 197 197 191 24 29 39 31 26 13 10 93 18 7 1 44 189 201 201 204 203 201 200 198 195 197 200 206 192 177 170 156 140 151 175 166 188 161 160 189 190 192 202 206 205 202 202 202 200 198 194 194 32 25 24 20 25 6 39 117 0 8 10 0 71 201 196 199 201 198 192 194 191 183 180 179 173 162 152 147 163 179 186 158 162 169 181 184 191 201 202 205 205 202 202 201 200 198 194 191 11 18 21 24 27 0 65 105 0 8 8 7 0 96 199 194 199 186 185 182 167 166 164 157 149 146 156 188 189 159 160 163 175 177 179 191 202 204 203 202 204 203 201 201 198 195 194 190 13 22 26 29 22 0 74 100 0 11 7 4 7 0 116 203 194 183 173 147 129 136 145 123 114 156 169 174 169 173 178 182 178 171 179 199 204 204 203 203 204 203 200 199 197 193 191 189 15 22 27 28 19 0 69 98 0 12 8 4 6 6 6 137 201 186 166 122 109 134 168 169 171 177 179 182 189 188 183 184 167 163 188 201 204 205 204 203 204 205 201 195 191 189 188 187 23 24 22 26 15 3 47 104 0 9 8 6 5 8 4 16 158 202 176 159 167 179 189 192 200 202 208 207 200 182 176 166 163 181 196 201 205 204 204 204 204 207 202 197 190 186 185 183 29 27 28 24 13 6 28 132 4 7 8 6 5 7 11 3 32 176 201 178 171 165 179 199 208 200 194 190 179 167 161 164 185 197 200 203 203 202 203 203 202 204 198 195 191 185 182 179 26 26 28 17 10 8 4 140 37 0 9 8 4 5 8 11 1 41 184 199 180 164 161 174 182 180 174 167 154 154 176 191 195 201 203 203 204 203 201 200 199 199 196 193 188 183 178 175 28 25 21 17 8 8 0 93 111 0 11 7 7 4 5 5 11 1 38 169 195 181 172 159 162 159 154 151 156 175 188 195 200 203 204 205 205 204 202 198 198 197 194 191 185 179 175 173 29 18 22 15 5 5 4 18 166 28 0 9 5 4 5 7 5 9 1 23 149 193 186 188 185 179 178 187 194 196 198 198 202 204 205 208 204 203 203 198 199 196 191 187 182 177 172 169 21 14 23 10 7 6 10 0 91 134 0 8 5 5 6 7 4 5 8 2 12 141 188 190 193 192 200 206 208 207 206 205 204 206 206 206 206 204 201 199 197 193 188 184 180 172 167 161\"\n        ],\n        \"semantic_type\": \"\",\n        \"description\": \"\"\n      }\n    }\n  ]\n}"
            }
          },
          "metadata": {},
          "execution_count": 19
        }
      ]
    },
    {
      "cell_type": "code",
      "source": [
        "training = icml_face_data[icml_face_data[' Usage'] == 'Training']\n",
        "private_test = icml_face_data[icml_face_data[' Usage'] == 'PrivateTest']\n",
        "public_test = icml_face_data[icml_face_data[' Usage'] == 'PublicTest']\n",
        "\n",
        "percentage = pd.DataFrame({\n",
        "    'Usage' : ['Training', 'PrivateTest', 'PublicTest'],\n",
        "    'Percentage' : [len(training) / (len(training) + len(private_test) + len(public_test)) * 100,\n",
        "                    len(private_test) / (len(training) + len(private_test) + len(public_test)) * 100,\n",
        "                    len(public_test) / (len(training) + len(private_test) + len(public_test)) * 100]\n",
        "})\n",
        "\n",
        "print(percentage)"
      ],
      "metadata": {
        "colab": {
          "base_uri": "https://localhost:8080/"
        },
        "id": "G6erjWG1I0in",
        "outputId": "e0d45c84-2900-4ee2-8d7d-3c9e3eec19de"
      },
      "execution_count": 20,
      "outputs": [
        {
          "output_type": "stream",
          "name": "stdout",
          "text": [
            "         Usage  Percentage\n",
            "0     Training   79.998328\n",
            "1  PrivateTest   10.000836\n",
            "2   PublicTest   10.000836\n"
          ]
        }
      ]
    },
    {
      "cell_type": "markdown",
      "source": [
        "# ანუ test.csv-ში არის icml_face_data-ს PublicTest + PrivateTest ოღონდ 'emotion'-ის გარეშე. კონკურსის აღწერაში წერია, რომ public test set არის ლიდერბორდისთვის, ხოლო private test set არის საბოლოო გამარჯვებულის გამოსავლენად, ამიტომ training ავიღოთ სატრენინგოდ, public test ავიღოთ ვალიდაციისთვის, ხოლო private test ავიღოთ საბოლოო ტესტისთვის. მაშინ განაწილება იქნება ასეთი: train- 80%, validation- 10%, test- 10%.\n"
      ],
      "metadata": {
        "id": "upoFgRIOGe00"
      }
    },
    {
      "cell_type": "code",
      "source": [
        "train_df = training.drop([' Usage'], axis=1)\n",
        "val_df = public_test.drop([' Usage'], axis=1)\n",
        "test_df = private_test.drop([' Usage'], axis=1)"
      ],
      "metadata": {
        "id": "Q8ORISwINJZM"
      },
      "execution_count": 21,
      "outputs": []
    },
    {
      "cell_type": "code",
      "source": [
        "train_df['emotion'].value_counts()"
      ],
      "metadata": {
        "colab": {
          "base_uri": "https://localhost:8080/",
          "height": 334
        },
        "id": "7ZxNNkCoRbbt",
        "outputId": "96d5d81d-1721-4ee3-9612-fd908ee6676e"
      },
      "execution_count": 22,
      "outputs": [
        {
          "output_type": "execute_result",
          "data": {
            "text/plain": [
              "emotion\n",
              "3    7215\n",
              "6    4965\n",
              "4    4830\n",
              "2    4097\n",
              "0    3995\n",
              "5    3171\n",
              "1     436\n",
              "Name: count, dtype: int64"
            ],
            "text/html": [
              "<div>\n",
              "<style scoped>\n",
              "    .dataframe tbody tr th:only-of-type {\n",
              "        vertical-align: middle;\n",
              "    }\n",
              "\n",
              "    .dataframe tbody tr th {\n",
              "        vertical-align: top;\n",
              "    }\n",
              "\n",
              "    .dataframe thead th {\n",
              "        text-align: right;\n",
              "    }\n",
              "</style>\n",
              "<table border=\"1\" class=\"dataframe\">\n",
              "  <thead>\n",
              "    <tr style=\"text-align: right;\">\n",
              "      <th></th>\n",
              "      <th>count</th>\n",
              "    </tr>\n",
              "    <tr>\n",
              "      <th>emotion</th>\n",
              "      <th></th>\n",
              "    </tr>\n",
              "  </thead>\n",
              "  <tbody>\n",
              "    <tr>\n",
              "      <th>3</th>\n",
              "      <td>7215</td>\n",
              "    </tr>\n",
              "    <tr>\n",
              "      <th>6</th>\n",
              "      <td>4965</td>\n",
              "    </tr>\n",
              "    <tr>\n",
              "      <th>4</th>\n",
              "      <td>4830</td>\n",
              "    </tr>\n",
              "    <tr>\n",
              "      <th>2</th>\n",
              "      <td>4097</td>\n",
              "    </tr>\n",
              "    <tr>\n",
              "      <th>0</th>\n",
              "      <td>3995</td>\n",
              "    </tr>\n",
              "    <tr>\n",
              "      <th>5</th>\n",
              "      <td>3171</td>\n",
              "    </tr>\n",
              "    <tr>\n",
              "      <th>1</th>\n",
              "      <td>436</td>\n",
              "    </tr>\n",
              "  </tbody>\n",
              "</table>\n",
              "</div><br><label><b>dtype:</b> int64</label>"
            ]
          },
          "metadata": {},
          "execution_count": 22
        }
      ]
    },
    {
      "cell_type": "markdown",
      "source": [
        "# ვნახოთ target ცვლადის ანუ ემოციების განაწილება სატრენინგო მონაცემებში."
      ],
      "metadata": {
        "id": "njOJinvHPy_j"
      }
    },
    {
      "cell_type": "code",
      "source": [
        "import matplotlib.pyplot as plt\n",
        "\n",
        "emotion_counts = train_df['emotion'].value_counts()\n",
        "\n",
        "emotion_percentages = (emotion_counts / emotion_counts.sum()) * 100\n",
        "\n",
        "emotion_labels = {\n",
        "    0: \"Angry\",\n",
        "    1: \"Disgust\",\n",
        "    2: \"Fear\",\n",
        "    3: \"Happy\",\n",
        "    4: \"Sad\",\n",
        "    5: \"Surprise\",\n",
        "    6: \"Neutral\"\n",
        "}\n",
        "\n",
        "combined_labels = [f\"{num}- {name}\" for num, name in emotion_labels.items()]\n",
        "\n",
        "plt.figure(figsize=(8,5))\n",
        "plt.bar(emotion_percentages.index, emotion_percentages.values)\n",
        "\n",
        "plt.xticks(ticks=list(emotion_labels.keys()), labels=combined_labels)\n",
        "\n",
        "plt.xlabel('Emotion')\n",
        "plt.ylabel('Percentage (%)')\n",
        "plt.title('Percentage Distribution of Emotions in Training Data')\n",
        "plt.tight_layout()\n",
        "plt.show()\n"
      ],
      "metadata": {
        "colab": {
          "base_uri": "https://localhost:8080/",
          "height": 499
        },
        "id": "bbW7LlzyUI_q",
        "outputId": "a5f67fad-853d-4561-c552-70c343ffc3c2"
      },
      "execution_count": 23,
      "outputs": [
        {
          "output_type": "display_data",
          "data": {
            "text/plain": [
              "<Figure size 800x500 with 1 Axes>"
            ],
            "image/png": "[encoded data removed]"
          },
          "metadata": {}
        }
      ]
    },
    {
      "cell_type": "markdown",
      "source": [
        "# ვნახოთ target ცვლადის ანუ ემოციების განაწილება სავალიდაციო მონაცემებში."
      ],
      "metadata": {
        "id": "yOJ19xizP93N"
      }
    },
    {
      "cell_type": "code",
      "source": [
        "import matplotlib.pyplot as plt\n",
        "\n",
        "emotion_counts = val_df['emotion'].value_counts()\n",
        "\n",
        "emotion_percentages = (emotion_counts / emotion_counts.sum()) * 100\n",
        "\n",
        "emotion_labels = {\n",
        "    0: \"Angry\",\n",
        "    1: \"Disgust\",\n",
        "    2: \"Fear\",\n",
        "    3: \"Happy\",\n",
        "    4: \"Sad\",\n",
        "    5: \"Surprise\",\n",
        "    6: \"Neutral\"\n",
        "}\n",
        "\n",
        "combined_labels = [f\"{num}- {name}\" for num, name in emotion_labels.items()]\n",
        "\n",
        "plt.figure(figsize=(8,5))\n",
        "plt.bar(emotion_percentages.index, emotion_percentages.values)\n",
        "\n",
        "plt.xticks(ticks=list(emotion_labels.keys()), labels=combined_labels)\n",
        "\n",
        "plt.xlabel('Emotion')\n",
        "plt.ylabel('Percentage (%)')\n",
        "plt.title('Percentage Distribution of Emotions in Validation Data')\n",
        "plt.tight_layout()\n",
        "plt.show()\n"
      ],
      "metadata": {
        "colab": {
          "base_uri": "https://localhost:8080/",
          "height": 499
        },
        "id": "gb7aTvW-O5-x",
        "outputId": "68e9e345-1476-431c-af6c-5d1dfa767e51"
      },
      "execution_count": 24,
      "outputs": [
        {
          "output_type": "display_data",
          "data": {
            "text/plain": [
              "<Figure size 800x500 with 1 Axes>"
            ],
            "image/png": "[encoded data removed]"
          },
          "metadata": {}
        }
      ]
    },
    {
      "cell_type": "markdown",
      "source": [
        "# ვნახოთ target ცვლადის ანუ ემოციების განაწილება სატესტო მონაცემებში."
      ],
      "metadata": {
        "id": "XQ_TbKZYQA44"
      }
    },
    {
      "cell_type": "code",
      "source": [
        "import matplotlib.pyplot as plt\n",
        "\n",
        "emotion_counts = test_df['emotion'].value_counts()\n",
        "\n",
        "emotion_percentages = (emotion_counts / emotion_counts.sum()) * 100\n",
        "\n",
        "emotion_labels = {\n",
        "    0: \"Angry\",\n",
        "    1: \"Disgust\",\n",
        "    2: \"Fear\",\n",
        "    3: \"Happy\",\n",
        "    4: \"Sad\",\n",
        "    5: \"Surprise\",\n",
        "    6: \"Neutral\"\n",
        "}\n",
        "\n",
        "combined_labels = [f\"{num}- {name}\" for num, name in emotion_labels.items()]\n",
        "\n",
        "plt.figure(figsize=(8,5))\n",
        "plt.bar(emotion_percentages.index, emotion_percentages.values)\n",
        "\n",
        "plt.xticks(ticks=list(emotion_labels.keys()), labels=combined_labels)\n",
        "\n",
        "plt.xlabel('Emotion')\n",
        "plt.ylabel('Percentage (%)')\n",
        "plt.title('Percentage Distribution of Emotions in Test Data')\n",
        "plt.tight_layout()\n",
        "plt.show()\n"
      ],
      "metadata": {
        "colab": {
          "base_uri": "https://localhost:8080/",
          "height": 499
        },
        "id": "miQ0crY-PCjX",
        "outputId": "2beff82a-0468-4b86-8539-bf9a685db04d"
      },
      "execution_count": 25,
      "outputs": [
        {
          "output_type": "display_data",
          "data": {
            "text/plain": [
              "<Figure size 800x500 with 1 Axes>"
            ],
            "image/png": "[encoded data removed]"
          },
          "metadata": {}
        }
      ]
    },
    {
      "cell_type": "markdown",
      "source": [
        "ემოციების ერთნაირი განაწილებები გვაქვს სატრენინგო, სავალიდაციო და სატესტო დატაში, თუმცა თვითონ ემოციების კლასები არაა დაბალანსებული- Happy ყველაზე მეტია, ხოლო Disgust გვაქვს ძალიან ცოტა. (დანარჩენი ემოციები ასე თუ ისე თანაბრადაა)"
      ],
      "metadata": {
        "id": "XaJZ2EbkPRuP"
      }
    },
    {
      "cell_type": "markdown",
      "source": [
        "# როგორც ჩანს ყველა ფოტოსთვის პიქსელების სიგრძე არის განსხვავებული."
      ],
      "metadata": {
        "id": "HBYKyA62QT0o"
      }
    },
    {
      "cell_type": "code",
      "source": [
        "len(train_df[' pixels'][0])"
      ],
      "metadata": {
        "colab": {
          "base_uri": "https://localhost:8080/"
        },
        "id": "GFd7WKx4Vdyd",
        "outputId": "bcbb836e-a62f-4896-8292-831e4df413bf"
      },
      "execution_count": 26,
      "outputs": [
        {
          "output_type": "execute_result",
          "data": {
            "text/plain": [
              "8287"
            ]
          },
          "metadata": {},
          "execution_count": 26
        }
      ]
    },
    {
      "cell_type": "code",
      "source": [
        "pixel_counts = [len(train_df[' pixels'][i]) for i in range(len(train_df[' pixels']))]\n",
        "pixel_counts[0:10]"
      ],
      "metadata": {
        "colab": {
          "base_uri": "https://localhost:8080/"
        },
        "id": "FGKLbYClVqBQ",
        "outputId": "6734ccef-2379-47f5-8233-c6ad5eb69a31"
      },
      "execution_count": 27,
      "outputs": [
        {
          "output_type": "execute_result",
          "data": {
            "text/plain": [
              "[8287, 8687, 8581, 8555, 7721, 8640, 8550, 7912, 8793, 9076]"
            ]
          },
          "metadata": {},
          "execution_count": 27
        }
      ]
    },
    {
      "cell_type": "markdown",
      "source": [
        "# Preprocessing:"
      ],
      "metadata": {
        "id": "5EozUE33TXtp"
      }
    },
    {
      "cell_type": "code",
      "source": [
        "import numpy as np\n",
        "\n",
        "def string2array(x):\n",
        "  return np.array(x.split(' ')).reshape(48, 48, 1).astype('float32') / 255.0"
      ],
      "metadata": {
        "id": "x9hupbLVXHVS"
      },
      "execution_count": 28,
      "outputs": []
    },
    {
      "cell_type": "code",
      "source": [
        "train_df['pixels'] = train_df[' pixels'].apply(lambda x: string2array(x))\n",
        "val_df['pixels'] = val_df[' pixels'].apply(lambda x: string2array(x))\n",
        "test_df['pixels'] = test_df[' pixels'].apply(lambda x: string2array(x))"
      ],
      "metadata": {
        "id": "sc9MSiYYYBXY"
      },
      "execution_count": 29,
      "outputs": []
    },
    {
      "cell_type": "code",
      "source": [
        "train_df['pixels'].head()"
      ],
      "metadata": {
        "colab": {
          "base_uri": "https://localhost:8080/",
          "height": 240
        },
        "id": "z2yWINcxYJlx",
        "outputId": "fb7a753a-8601-4409-87f4-65ef570ce05b"
      },
      "execution_count": 30,
      "outputs": [
        {
          "output_type": "execute_result",
          "data": {
            "text/plain": [
              "0    [[[0.27450982], [0.3137255], [0.32156864], [0....\n",
              "1    [[[0.5921569], [0.5882353], [0.5764706], [0.60...\n",
              "2    [[[0.90588236], [0.83137256], [0.6117647], [0....\n",
              "3    [[[0.09411765], [0.1254902], [0.14117648], [0....\n",
              "4    [[[0.015686275], [0.0], [0.0], [0.0], [0.0], [...\n",
              "Name: pixels, dtype: object"
            ],
            "text/html": [
              "<div>\n",
              "<style scoped>\n",
              "    .dataframe tbody tr th:only-of-type {\n",
              "        vertical-align: middle;\n",
              "    }\n",
              "\n",
              "    .dataframe tbody tr th {\n",
              "        vertical-align: top;\n",
              "    }\n",
              "\n",
              "    .dataframe thead th {\n",
              "        text-align: right;\n",
              "    }\n",
              "</style>\n",
              "<table border=\"1\" class=\"dataframe\">\n",
              "  <thead>\n",
              "    <tr style=\"text-align: right;\">\n",
              "      <th></th>\n",
              "      <th>pixels</th>\n",
              "    </tr>\n",
              "  </thead>\n",
              "  <tbody>\n",
              "    <tr>\n",
              "      <th>0</th>\n",
              "      <td>[[[0.27450982], [0.3137255], [0.32156864], [0....</td>\n",
              "    </tr>\n",
              "    <tr>\n",
              "      <th>1</th>\n",
              "      <td>[[[0.5921569], [0.5882353], [0.5764706], [0.60...</td>\n",
              "    </tr>\n",
              "    <tr>\n",
              "      <th>2</th>\n",
              "      <td>[[[0.90588236], [0.83137256], [0.6117647], [0....</td>\n",
              "    </tr>\n",
              "    <tr>\n",
              "      <th>3</th>\n",
              "      <td>[[[0.09411765], [0.1254902], [0.14117648], [0....</td>\n",
              "    </tr>\n",
              "    <tr>\n",
              "      <th>4</th>\n",
              "      <td>[[[0.015686275], [0.0], [0.0], [0.0], [0.0], [...</td>\n",
              "    </tr>\n",
              "  </tbody>\n",
              "</table>\n",
              "</div><br><label><b>dtype:</b> object</label>"
            ]
          },
          "metadata": {},
          "execution_count": 30
        }
      ]
    },
    {
      "cell_type": "code",
      "source": [
        "train_df['pixels'][0].dtype"
      ],
      "metadata": {
        "colab": {
          "base_uri": "https://localhost:8080/"
        },
        "id": "QjZkPbk4ZOFk",
        "outputId": "944bb996-c055-4aac-a2d2-051409826004"
      },
      "execution_count": 31,
      "outputs": [
        {
          "output_type": "execute_result",
          "data": {
            "text/plain": [
              "dtype('float32')"
            ]
          },
          "metadata": {},
          "execution_count": 31
        }
      ]
    },
    {
      "cell_type": "code",
      "source": [
        "X_train = np.stack(train_df['pixels'].values)\n",
        "y_train = train_df['emotion'].values\n",
        "\n",
        "X_val = np.stack(val_df['pixels'].values)\n",
        "y_val = val_df['emotion'].values\n",
        "\n",
        "X_test = np.stack(test_df['pixels'].values)\n",
        "y_test = test_df['emotion'].values"
      ],
      "metadata": {
        "id": "rZkCjLquZqiV"
      },
      "execution_count": 32,
      "outputs": []
    },
    {
      "cell_type": "code",
      "source": [
        "X_train.shape, y_train.shape"
      ],
      "metadata": {
        "colab": {
          "base_uri": "https://localhost:8080/"
        },
        "id": "d9Tw6-3IOICU",
        "outputId": "77fab16c-e199-4464-e407-2b3346a175f1"
      },
      "execution_count": 33,
      "outputs": [
        {
          "output_type": "execute_result",
          "data": {
            "text/plain": [
              "((28709, 48, 48, 1), (28709,))"
            ]
          },
          "metadata": {},
          "execution_count": 33
        }
      ]
    },
    {
      "cell_type": "code",
      "source": [
        "X_val.shape, y_val.shape"
      ],
      "metadata": {
        "colab": {
          "base_uri": "https://localhost:8080/"
        },
        "id": "EcmfJcz8WDJA",
        "outputId": "4743068d-797c-42b2-fbdf-7d2459b1be5f"
      },
      "execution_count": 34,
      "outputs": [
        {
          "output_type": "execute_result",
          "data": {
            "text/plain": [
              "((3589, 48, 48, 1), (3589,))"
            ]
          },
          "metadata": {},
          "execution_count": 34
        }
      ]
    },
    {
      "cell_type": "code",
      "source": [
        "X_test.shape, y_test.shape"
      ],
      "metadata": {
        "colab": {
          "base_uri": "https://localhost:8080/"
        },
        "id": "qblDvBQVWIIE",
        "outputId": "4b3a2447-6399-4361-e5a3-9d7dc9085d44"
      },
      "execution_count": 34,
      "outputs": [
        {
          "output_type": "execute_result",
          "data": {
            "text/plain": [
              "((3589, 48, 48, 1), (3589,))"
            ]
          },
          "metadata": {},
          "execution_count": 34
        }
      ]
    },
    {
      "cell_type": "markdown",
      "source": [
        "# First CNN architecture:"
      ],
      "metadata": {
        "id": "LgMvbICNS0I2"
      }
    },
    {
      "cell_type": "code",
      "source": [
        "import torch\n",
        "import torch.nn as nn\n",
        "import torch.nn.functional as F\n",
        "\n",
        "class SimpleCNN(nn.Module):\n",
        "    def __init__(self, num_classes=7):\n",
        "        super(SimpleCNN, self).__init__()\n",
        "        self.conv1 = nn.Conv2d(1, 16, kernel_size=3, padding=1)\n",
        "        self.pool = nn.MaxPool2d(2, 2)\n",
        "        self.conv2 = nn.Conv2d(16, 32, kernel_size=3, padding=1)\n",
        "        self.fc1 = nn.Linear(32 * 12 * 12, 128)\n",
        "        self.fc2 = nn.Linear(128, num_classes)\n",
        "\n",
        "    def forward(self, x):\n",
        "        x = self.pool(F.relu(self.conv1(x)))   # (48x48) → (24x24)\n",
        "        x = self.pool(F.relu(self.conv2(x)))   # (24x24) → (12x12)\n",
        "        x = x.reshape(-1, 32 * 12 * 12)\n",
        "        x = F.relu(self.fc1(x))\n",
        "        x = self.fc2(x)\n",
        "        return x\n"
      ],
      "metadata": {
        "id": "3_T_isdYS4zn"
      },
      "execution_count": null,
      "outputs": []
    },
    {
      "cell_type": "markdown",
      "source": [
        "შევამოწმოთ პატარა დატაზე, overfit-ში უნდა გადიოდეს."
      ],
      "metadata": {
        "id": "yBaPr752as6D"
      }
    },
    {
      "cell_type": "code",
      "source": [
        "import torch.optim as optim\n",
        "\n",
        "\n",
        "X_small = np.stack(X_train[:10])  # shape (10, 48, 48, 1)\n",
        "y_small = np.array(y_train[:10])  # shape (10,)\n",
        "\n",
        "device = torch.device(\"cuda\" if torch.cuda.is_available() else \"cpu\")\n",
        "\n",
        "X_small = torch.tensor(X_small).float().permute(0, 3, 1, 2).to(device)  # (10, 1, 48, 48)\n",
        "y_small = torch.tensor(y_small).long().to(device)                       # (10,)\n",
        "\n",
        "\n",
        "model = SimpleCNN().to(device)\n",
        "optimizer = optim.Adam(model.parameters(), lr=0.01)\n",
        "criterion = nn.CrossEntropyLoss()\n",
        "\n",
        "\n",
        "for epoch in range(50):\n",
        "    model.train()\n",
        "    optimizer.zero_grad()\n",
        "    outputs = model(X_small)\n",
        "    loss = criterion(outputs, y_small)\n",
        "    loss.backward()\n",
        "    optimizer.step()\n",
        "\n",
        "    _, preds = torch.max(outputs, 1)\n",
        "    acc = (preds == y_small).float().mean()\n",
        "\n",
        "    print(f\"Epoch {epoch+1}, Loss: {loss.item():.4f}, Accuracy: {acc.item()*100:.2f}%\")\n",
        "\n",
        "    if acc.item() == 1.0:\n",
        "        print(\"Model overfit successfully!\")\n",
        "        break\n"
      ],
      "metadata": {
        "colab": {
          "base_uri": "https://localhost:8080/"
        },
        "id": "F4T2k6ypaAgk",
        "outputId": "e486ce70-7a59-4376-9aeb-6208780c6e9c"
      },
      "execution_count": null,
      "outputs": [
        {
          "output_type": "stream",
          "name": "stdout",
          "text": [
            "Epoch 1, Loss: 1.9286, Accuracy: 20.00%\n",
            "Epoch 2, Loss: 2.0263, Accuracy: 30.00%\n",
            "Epoch 3, Loss: 3.4189, Accuracy: 20.00%\n",
            "Epoch 4, Loss: 1.7911, Accuracy: 20.00%\n",
            "Epoch 5, Loss: 1.8376, Accuracy: 40.00%\n",
            "Epoch 6, Loss: 1.7599, Accuracy: 40.00%\n",
            "Epoch 7, Loss: 1.6397, Accuracy: 20.00%\n",
            "Epoch 8, Loss: 1.4825, Accuracy: 50.00%\n",
            "Epoch 9, Loss: 1.4320, Accuracy: 30.00%\n",
            "Epoch 10, Loss: 1.2453, Accuracy: 70.00%\n",
            "Epoch 11, Loss: 1.1167, Accuracy: 70.00%\n",
            "Epoch 12, Loss: 0.8100, Accuracy: 100.00%\n",
            "Model overfit successfully!\n"
          ]
        }
      ]
    },
    {
      "cell_type": "code",
      "source": [
        "from torch.utils.data import DataLoader, TensorDataset\n",
        "\n",
        "\n",
        "wandb.init(project=\"emotion-recognition\", name=\"simple_cnn\")\n",
        "\n",
        "X_train_tensor = torch.tensor(X_train, dtype=torch.float32).permute(0, 3, 1, 2)\n",
        "y_train_tensor = torch.tensor(y_train, dtype=torch.long)\n",
        "X_val_tensor = torch.tensor(X_val, dtype=torch.float32).permute(0, 3, 1, 2)\n",
        "y_val_tensor = torch.tensor(y_val, dtype=torch.long)\n",
        "\n",
        "train_loader = DataLoader(TensorDataset(X_train_tensor, y_train_tensor), batch_size=64, shuffle=True)\n",
        "val_loader = DataLoader(TensorDataset(X_val_tensor, y_val_tensor), batch_size=64)\n",
        "\n",
        "device = torch.device(\"cuda\" if torch.cuda.is_available() else \"cpu\")\n",
        "\n",
        "model = SimpleCNN().to(device)\n",
        "criterion = nn.CrossEntropyLoss()\n",
        "optimizer = optim.Adam(model.parameters(), lr=0.001)\n",
        "\n",
        "\n",
        "for epoch in range(10):\n",
        "    model.train()\n",
        "    running_loss, correct = 0.0, 0\n",
        "    for inputs, labels in train_loader:\n",
        "        inputs, labels = inputs.to(device), labels.to(device)\n",
        "        optimizer.zero_grad()\n",
        "        outputs = model(inputs)\n",
        "        loss = criterion(outputs, labels)\n",
        "        loss.backward()\n",
        "        optimizer.step()\n",
        "        running_loss += loss.item()\n",
        "        correct += (outputs.argmax(1) == labels).sum().item()\n",
        "\n",
        "    train_acc = correct / len(train_loader.dataset)\n",
        "\n",
        "    # Validation\n",
        "    model.eval()\n",
        "    val_correct = 0\n",
        "    with torch.no_grad():\n",
        "        for inputs, labels in val_loader:\n",
        "            inputs, labels = inputs.to(device), labels.to(device)\n",
        "            outputs = model(inputs)\n",
        "            val_correct += (outputs.argmax(1) == labels).sum().item()\n",
        "\n",
        "    val_acc = val_correct / len(val_loader.dataset)\n",
        "\n",
        "    # Log to wandb\n",
        "    wandb.log({\n",
        "        \"epoch\": epoch + 1,\n",
        "        \"loss\": running_loss / len(train_loader),\n",
        "        \"train_acc\": train_acc,\n",
        "        \"val_acc\": val_acc\n",
        "    })\n",
        "\n",
        "    print(f\"Epoch {epoch+1}: Train Acc = {train_acc:.4f}, Val Acc = {val_acc:.4f}\")\n"
      ],
      "metadata": {
        "colab": {
          "base_uri": "https://localhost:8080/",
          "height": 277
        },
        "id": "z4e5IJEQZ_Of",
        "outputId": "e6473300-180d-4b93-98b7-42f57d983a6d"
      },
      "execution_count": null,
      "outputs": [
        {
          "output_type": "display_data",
          "data": {
            "text/plain": [
              "<IPython.core.display.HTML object>"
            ],
            "text/html": [
              "Tracking run with wandb version 0.19.11"
            ]
          },
          "metadata": {}
        },
        {
          "output_type": "display_data",
          "data": {
            "text/plain": [
              "<IPython.core.display.HTML object>"
            ],
            "text/html": [
              "Run data is saved locally in <code>/content/Emotion_Recognition/wandb/run-20250528_163918-de79mgxc</code>"
            ]
          },
          "metadata": {}
        },
        {
          "output_type": "display_data",
          "data": {
            "text/plain": [
              "<IPython.core.display.HTML object>"
            ],
            "text/html": [
              "Syncing run <strong><a href='https://wandb.ai/mrekh21-free-university-of-tbilisi-/emotion-recognition/runs/de79mgxc' target=\"_blank\">simple_cnn</a></strong> to <a href='https://wandb.ai/mrekh21-free-university-of-tbilisi-/emotion-recognition' target=\"_blank\">Weights & Biases</a> (<a href='https://wandb.me/developer-guide' target=\"_blank\">docs</a>)<br>"
            ]
          },
          "metadata": {}
        },
        {
          "output_type": "display_data",
          "data": {
            "text/plain": [
              "<IPython.core.display.HTML object>"
            ],
            "text/html": [
              " View project at <a href='https://wandb.ai/mrekh21-free-university-of-tbilisi-/emotion-recognition' target=\"_blank\">https://wandb.ai/mrekh21-free-university-of-tbilisi-/emotion-recognition</a>"
            ]
          },
          "metadata": {}
        },
        {
          "output_type": "display_data",
          "data": {
            "text/plain": [
              "<IPython.core.display.HTML object>"
            ],
            "text/html": [
              " View run at <a href='https://wandb.ai/mrekh21-free-university-of-tbilisi-/emotion-recognition/runs/de79mgxc' target=\"_blank\">https://wandb.ai/mrekh21-free-university-of-tbilisi-/emotion-recognition/runs/de79mgxc</a>"
            ]
          },
          "metadata": {}
        },
        {
          "output_type": "stream",
          "name": "stdout",
          "text": [
            "Epoch 1: Train Acc = 0.3338, Val Acc = 0.4018\n",
            "Epoch 2: Train Acc = 0.4216, Val Acc = 0.4408\n",
            "Epoch 3: Train Acc = 0.4635, Val Acc = 0.4648\n",
            "Epoch 4: Train Acc = 0.4971, Val Acc = 0.4806\n",
            "Epoch 5: Train Acc = 0.5285, Val Acc = 0.4987\n",
            "Epoch 6: Train Acc = 0.5582, Val Acc = 0.4890\n",
            "Epoch 7: Train Acc = 0.5871, Val Acc = 0.5160\n",
            "Epoch 8: Train Acc = 0.6168, Val Acc = 0.5157\n",
            "Epoch 9: Train Acc = 0.6479, Val Acc = 0.5255\n",
            "Epoch 10: Train Acc = 0.6748, Val Acc = 0.5219\n"
          ]
        }
      ]
    },
    {
      "cell_type": "code",
      "source": [
        "model.eval()\n",
        "correct, total = 0, 0\n",
        "\n",
        "with torch.no_grad():\n",
        "    for images, labels in val_loader:\n",
        "        images, labels = images.to(device), labels.to(device)\n",
        "        outputs = model(images)\n",
        "        _, predicted = torch.max(outputs.data, 1)\n",
        "        total += labels.size(0)\n",
        "        correct += (predicted == labels).sum().item()\n",
        "\n",
        "print(f\"Validation Accuracy: {100 * correct / total:.2f}%\")"
      ],
      "metadata": {
        "colab": {
          "base_uri": "https://localhost:8080/"
        },
        "id": "H3zrbRPPTvm1",
        "outputId": "94e3ef17-3edb-442a-d338-b1e7f808a20c"
      },
      "execution_count": null,
      "outputs": [
        {
          "output_type": "stream",
          "name": "stdout",
          "text": [
            "Validation Accuracy: 52.19%\n"
          ]
        }
      ]
    },
    {
      "cell_type": "markdown",
      "source": [
        "# More general class of CNN:"
      ],
      "metadata": {
        "id": "4KzWWWD2om1Y"
      }
    },
    {
      "cell_type": "code",
      "source": [
        "import torch\n",
        "import torch.nn as nn\n",
        "import torch.nn.functional as F\n",
        "\n",
        "class GeneralCNN(nn.Module):\n",
        "    def __init__(\n",
        "        self,\n",
        "        input_channels=1,\n",
        "        num_classes=7,\n",
        "        conv_layers_config=[(32, 3), (64, 3), (128, 3)],  # (out_channels, kernel_size)\n",
        "        dropout_conv=0.25,\n",
        "        dropout_fc=0.5,\n",
        "        norm_type='batch',  # 'batch', 'layer', 'none'\n",
        "        pool_type='max',    # 'max', 'avg', 'none'\n",
        "        image_size=48       # square images like 48x48\n",
        "    ):\n",
        "        super(GeneralCNN, self).__init__()\n",
        "\n",
        "        self.convs = nn.ModuleList()\n",
        "        self.norms = nn.ModuleList()\n",
        "        self.pools = nn.ModuleList()\n",
        "        self.dropouts = nn.ModuleList()\n",
        "\n",
        "        in_channels = input_channels\n",
        "        curr_size = image_size\n",
        "\n",
        "        for out_channels, kernel_size in conv_layers_config:\n",
        "            padding = kernel_size // 2\n",
        "            self.convs.append(nn.Conv2d(in_channels, out_channels, kernel_size, padding=padding))\n",
        "\n",
        "            if norm_type == 'batch':\n",
        "                self.norms.append(nn.BatchNorm2d(out_channels))\n",
        "            elif norm_type == 'layer':\n",
        "                self.norms.append(nn.GroupNorm(1, out_channels))\n",
        "            else:\n",
        "                self.norms.append(nn.Identity())\n",
        "\n",
        "            if pool_type == 'max':\n",
        "                self.pools.append(nn.MaxPool2d(2))\n",
        "                curr_size //= 2\n",
        "            elif pool_type == 'avg':\n",
        "                self.pools.append(nn.AvgPool2d(2))\n",
        "                curr_size //= 2\n",
        "            else:\n",
        "                self.pools.append(nn.Identity())\n",
        "\n",
        "            self.dropouts.append(nn.Dropout(dropout_conv))\n",
        "            in_channels = out_channels\n",
        "\n",
        "        self.flattened_size = in_channels * curr_size * curr_size\n",
        "        self.fc1 = nn.Linear(self.flattened_size, 128)\n",
        "        self.dropout_fc = nn.Dropout(dropout_fc)\n",
        "        self.fc2 = nn.Linear(128, num_classes)\n",
        "\n",
        "    def forward(self, x):\n",
        "        for conv, norm, pool, drop in zip(self.convs, self.norms, self.pools, self.dropouts):\n",
        "            x = conv(x)\n",
        "            x = norm(x)\n",
        "            x = F.relu(x)\n",
        "            x = pool(x)\n",
        "            x = drop(x)\n",
        "\n",
        "        x = x.reshape(x.size(0), -1)\n",
        "        x = F.relu(self.fc1(x))\n",
        "        x = self.dropout_fc(x)\n",
        "        x = self.fc2(x)\n",
        "        return x\n"
      ],
      "metadata": {
        "id": "JODrGfbCX2yP"
      },
      "execution_count": 61,
      "outputs": []
    },
    {
      "cell_type": "markdown",
      "source": [
        "შევამოწმოთ პატარა დატაზე"
      ],
      "metadata": {
        "id": "oFjYFgOq0OIb"
      }
    },
    {
      "cell_type": "code",
      "source": [
        "import torch.optim as optim\n",
        "\n",
        "\n",
        "X_small = np.stack(X_train[:10])  # shape (10, 48, 48, 1)\n",
        "y_small = np.array(y_train[:10])  # shape (10,)\n",
        "\n",
        "device = torch.device(\"cuda\" if torch.cuda.is_available() else \"cpu\")\n",
        "\n",
        "X_small = torch.tensor(X_small).float().permute(0, 3, 1, 2).to(device)  # (10, 1, 48, 48)\n",
        "y_small = torch.tensor(y_small).long().to(device)                       # (10,)\n",
        "\n",
        "\n",
        "model = GeneralCNN().to(device)\n",
        "optimizer = optim.Adam(model.parameters(), lr=0.01)\n",
        "criterion = nn.CrossEntropyLoss()\n",
        "\n",
        "\n",
        "for epoch in range(50):\n",
        "    model.train()\n",
        "    optimizer.zero_grad()\n",
        "    outputs = model(X_small)\n",
        "    loss = criterion(outputs, y_small)\n",
        "    loss.backward()\n",
        "    optimizer.step()\n",
        "\n",
        "    _, preds = torch.max(outputs, 1)\n",
        "    acc = (preds == y_small).float().mean()\n",
        "\n",
        "    print(f\"Epoch {epoch+1}, Loss: {loss.item():.4f}, Accuracy: {acc.item()*100:.2f}%\")\n",
        "\n",
        "    if acc.item() == 1.0:\n",
        "        print(\"Model overfit successfully!\")\n",
        "        break\n"
      ],
      "metadata": {
        "colab": {
          "base_uri": "https://localhost:8080/"
        },
        "id": "Rgb9wq1Tz1ev",
        "outputId": "848dfdb9-13d1-4ff4-c0bd-dce09b61d6fd"
      },
      "execution_count": null,
      "outputs": [
        {
          "output_type": "stream",
          "name": "stdout",
          "text": [
            "Epoch 1, Loss: 1.9740, Accuracy: 10.00%\n",
            "Epoch 2, Loss: 11.9810, Accuracy: 40.00%\n",
            "Epoch 3, Loss: 22.2459, Accuracy: 40.00%\n",
            "Epoch 4, Loss: 23.2100, Accuracy: 40.00%\n",
            "Epoch 5, Loss: 11.2765, Accuracy: 60.00%\n",
            "Epoch 6, Loss: 15.4214, Accuracy: 20.00%\n",
            "Epoch 7, Loss: 4.9106, Accuracy: 70.00%\n",
            "Epoch 8, Loss: 9.0277, Accuracy: 40.00%\n",
            "Epoch 9, Loss: 5.0615, Accuracy: 60.00%\n",
            "Epoch 10, Loss: 1.5036, Accuracy: 70.00%\n",
            "Epoch 11, Loss: 3.1671, Accuracy: 60.00%\n",
            "Epoch 12, Loss: 3.0787, Accuracy: 60.00%\n",
            "Epoch 13, Loss: 2.3260, Accuracy: 70.00%\n",
            "Epoch 14, Loss: 1.5665, Accuracy: 90.00%\n",
            "Epoch 15, Loss: 2.0860, Accuracy: 70.00%\n",
            "Epoch 16, Loss: 0.2288, Accuracy: 80.00%\n",
            "Epoch 17, Loss: 2.6278, Accuracy: 80.00%\n",
            "Epoch 18, Loss: 1.3697, Accuracy: 80.00%\n",
            "Epoch 19, Loss: 1.0606, Accuracy: 80.00%\n",
            "Epoch 20, Loss: 1.4243, Accuracy: 80.00%\n",
            "Epoch 21, Loss: 0.0684, Accuracy: 100.00%\n",
            "Model overfit successfully!\n"
          ]
        }
      ]
    },
    {
      "cell_type": "markdown",
      "source": [
        "# Hyperparameter Tuning for CNN:"
      ],
      "metadata": {
        "id": "jUofy2s81yCf"
      }
    },
    {
      "cell_type": "code",
      "source": [
        "from torch.utils.data import DataLoader, TensorDataset\n",
        "\n",
        "device = torch.device(\"cuda\" if torch.cuda.is_available() else \"cpu\")\n",
        "\n",
        "# Convert to tensors\n",
        "X_train_tensor = torch.tensor(X_train).float().permute(0, 3, 1, 2)  # (N, 1, 48, 48)\n",
        "y_train_tensor = torch.tensor(y_train).long()\n",
        "\n",
        "X_val_tensor = torch.tensor(X_val).float().permute(0, 3, 1, 2)\n",
        "y_val_tensor = torch.tensor(y_val).long()\n",
        "\n",
        "# Datasets\n",
        "train_dataset = TensorDataset(X_train_tensor, y_train_tensor)\n",
        "val_dataset = TensorDataset(X_val_tensor, y_val_tensor)"
      ],
      "metadata": {
        "id": "JGsnHNnV12bl"
      },
      "execution_count": 66,
      "outputs": []
    },
    {
      "cell_type": "code",
      "source": [
        "def train_one_epoch(model, loader, criterion, optimizer):\n",
        "    model.train()\n",
        "    total_loss, correct = 0.0, 0\n",
        "\n",
        "    for X_batch, y_batch in loader:\n",
        "        X_batch, y_batch = X_batch.to(device), y_batch.to(device)\n",
        "        optimizer.zero_grad()\n",
        "        out = model(X_batch)\n",
        "        loss = criterion(out, y_batch)\n",
        "        loss.backward()\n",
        "        optimizer.step()\n",
        "\n",
        "        total_loss += loss.item() * X_batch.size(0)\n",
        "        preds = torch.argmax(out, dim=1)\n",
        "        correct += (preds == y_batch).sum().item()\n",
        "\n",
        "    avg_loss = total_loss / len(loader.dataset)\n",
        "    acc = correct / len(loader.dataset)\n",
        "    return avg_loss, acc\n",
        "\n",
        "\n",
        "def evaluate(model, loader, criterion):\n",
        "    model.eval()\n",
        "    total_loss, correct = 0.0, 0\n",
        "\n",
        "    with torch.no_grad():\n",
        "        for X_batch, y_batch in loader:\n",
        "            X_batch, y_batch = X_batch.to(device), y_batch.to(device)\n",
        "            out = model(X_batch)\n",
        "            loss = criterion(out, y_batch)\n",
        "            total_loss += loss.item() * X_batch.size(0)\n",
        "            preds = torch.argmax(out, dim=1)\n",
        "            correct += (preds == y_batch).sum().item()\n",
        "\n",
        "    avg_loss = total_loss / len(loader.dataset)\n",
        "    acc = correct / len(loader.dataset)\n",
        "    return avg_loss, acc\n"
      ],
      "metadata": {
        "id": "6ujsolnD18h2"
      },
      "execution_count": 64,
      "outputs": []
    },
    {
      "cell_type": "code",
      "source": [
        "from tqdm import tqdm\n",
        "from sklearn.utils.class_weight import compute_class_weight\n",
        "\n",
        "best_val_acc = 0.0\n",
        "best_model_state = None\n",
        "best_config = None\n",
        "\n",
        "all_possible_classes = np.arange(7)\n",
        "\n",
        "# Get class weights\n",
        "labels = [label.item() for _, label in train_dataset]\n",
        "class_weights = compute_class_weight('balanced', classes=all_possible_classes, y=labels)\n",
        "class_weights = torch.tensor(class_weights, dtype=torch.float).to(device)\n",
        "\n",
        "\n",
        "def train_with_config(config, run_name):\n",
        "    wandb.init(project=\"emotion-recognition\", name=run_name, config=config)\n",
        "\n",
        "    model = GeneralCNN(\n",
        "        input_channels=1,\n",
        "        num_classes=7,\n",
        "        conv_layers_config=config[\"conv_layers_config\"],\n",
        "        dropout_conv=config[\"dropout_conv\"],\n",
        "        dropout_fc=config[\"dropout_fc\"],\n",
        "        norm_type=config[\"norm_type\"],\n",
        "        pool_type=config[\"pool_type\"],\n",
        "        image_size=48\n",
        "    ).to(device)\n",
        "\n",
        "    optimizer = torch.optim.Adam(model.parameters(), lr=config[\"lr\"])\n",
        "    #criterion = torch.nn.CrossEntropyLoss()\n",
        "    criterion = nn.CrossEntropyLoss(weight=class_weights)\n",
        "\n",
        "    train_loader = DataLoader(train_dataset, batch_size=config[\"batch_size\"], shuffle=True)\n",
        "    val_loader = DataLoader(val_dataset, batch_size=config[\"batch_size\"], shuffle=False)\n",
        "\n",
        "    best_acc = 0\n",
        "    patience = 5\n",
        "    patience_counter = 0\n",
        "    best_model = None\n",
        "\n",
        "    for epoch in range(config[\"epochs\"]):\n",
        "        train_loss, train_acc = train_one_epoch(model, train_loader, criterion, optimizer)\n",
        "        val_loss, val_acc = evaluate(model, val_loader, criterion)\n",
        "\n",
        "        wandb.log({\n",
        "            \"epoch\": epoch + 1,\n",
        "            \"train_loss\": train_loss,\n",
        "            \"train_acc\": train_acc,\n",
        "            \"val_loss\": val_loss,\n",
        "            \"val_acc\": val_acc\n",
        "        })\n",
        "\n",
        "        if val_acc > best_acc:\n",
        "            best_acc = val_acc\n",
        "            best_model = model.state_dict()\n",
        "            patience_counter = 0\n",
        "        else:\n",
        "            patience_counter += 1\n",
        "            if patience_counter >= patience:\n",
        "                break\n",
        "\n",
        "    wandb.finish()\n",
        "    return best_acc, best_model\n"
      ],
      "metadata": {
        "id": "nVuzVglJ1-8F"
      },
      "execution_count": 68,
      "outputs": []
    },
    {
      "cell_type": "code",
      "source": [
        "conv_options = [[(16, 3), (32, 3), (64, 3)], [(32, 3), (64, 3), (128, 3)]]\n",
        "dropout_conv_options = [0.1, 0.2, 0.3]\n",
        "dropout_fc_options = [0.2, 0.3, 0.4]\n",
        "norm_options = [\"batch\", \"layer\", \"none\"]\n",
        "pool_options = [\"max\", \"avg\", \"none\"]\n",
        "lr_options = [0.001, 0.01, 0.05]\n",
        "batch_sizes = [64, 128]\n",
        "epochs = 20\n",
        "\n",
        "num_trials = 30"
      ],
      "metadata": {
        "id": "gnW8GlE_0a-Y"
      },
      "execution_count": 69,
      "outputs": []
    },
    {
      "cell_type": "markdown",
      "source": [
        "Random Search"
      ],
      "metadata": {
        "id": "iQsPUEPdLksj"
      }
    },
    {
      "cell_type": "code",
      "source": [
        "import itertools\n",
        "import random\n",
        "\n",
        "all_combinations = list(itertools.product(\n",
        "    conv_options,\n",
        "    dropout_conv_options,\n",
        "    dropout_fc_options,\n",
        "    norm_options,\n",
        "    pool_options,\n",
        "    lr_options,\n",
        "    batch_sizes\n",
        "))\n",
        "\n",
        "sampled_combinations = random.sample(all_combinations, num_trials)"
      ],
      "metadata": {
        "id": "vhgSnltwGCp6"
      },
      "execution_count": 70,
      "outputs": []
    },
    {
      "cell_type": "code",
      "source": [
        "for i, combo in enumerate(tqdm(sampled_combinations, desc=\"Hyperparameter Trials\")):\n",
        "    config = {\n",
        "        \"conv_layers_config\": combo[0],\n",
        "        \"dropout_conv\": combo[1],\n",
        "        \"dropout_fc\": combo[2],\n",
        "        \"norm_type\": combo[3],\n",
        "        \"pool_type\": combo[4],\n",
        "        \"lr\": combo[5],\n",
        "        \"batch_size\": combo[6],\n",
        "        \"epochs\": epochs\n",
        "    }\n",
        "\n",
        "    run_name = f\"weighted_CNN_hparam_tuning_{i+1}\"\n",
        "    print(f\"\\n Running config {i+1}/{num_trials}: {config}\")\n",
        "\n",
        "    val_acc, model_state = train_with_config(config, run_name)\n",
        "\n",
        "    if val_acc > best_val_acc:\n",
        "        best_val_acc = val_acc\n",
        "        best_model_state = model_state\n",
        "        best_config = config\n",
        "\n",
        "\n",
        "print(\"\\n Best validation accuracy:\", best_val_acc)\n",
        "print(\"Best hyperparameters:\", best_config)"
      ],
      "metadata": {
        "colab": {
          "base_uri": "https://localhost:8080/",
          "height": 1000
        },
        "id": "1YFZ8jju2YtK",
        "outputId": "e88f874d-f7c6-4f04-f667-615ec05f8f82"
      },
      "execution_count": 71,
      "outputs": [
        {
          "output_type": "stream",
          "name": "stderr",
          "text": [
            "\rHyperparameter Trials:   0%|          | 0/30 [00:00<?, ?it/s]"
          ]
        },
        {
          "output_type": "stream",
          "name": "stdout",
          "text": [
            "\n",
            " Running config 1/30: {'conv_layers_config': [(32, 3), (64, 3), (128, 3)], 'dropout_conv': 0.3, 'dropout_fc': 0.3, 'norm_type': 'layer', 'pool_type': 'max', 'lr': 0.01, 'batch_size': 128, 'epochs': 20}\n"
          ]
        },
        {
          "output_type": "display_data",
          "data": {
            "text/plain": [
              "<IPython.core.display.HTML object>"
            ],
            "text/html": [
              "Tracking run with wandb version 0.19.11"
            ]
          },
          "metadata": {}
        },
        {
          "output_type": "display_data",
          "data": {
            "text/plain": [
              "<IPython.core.display.HTML object>"
            ],
            "text/html": [
              "Run data is saved locally in <code>/content/Emotion_Recognition/wandb/run-20250602_124437-t168wuwa</code>"
            ]
          },
          "metadata": {}
        },
        {
          "output_type": "display_data",
          "data": {
            "text/plain": [
              "<IPython.core.display.HTML object>"
            ],
            "text/html": [
              "Syncing run <strong><a href='https://wandb.ai/mrekh21-free-university-of-tbilisi-/emotion-recognition/runs/t168wuwa' target=\"_blank\">weighted_CNN_hparam_tuning_1</a></strong> to <a href='https://wandb.ai/mrekh21-free-university-of-tbilisi-/emotion-recognition' target=\"_blank\">Weights & Biases</a> (<a href='https://wandb.me/developer-guide' target=\"_blank\">docs</a>)<br>"
            ]
          },
          "metadata": {}
        },
        {
          "output_type": "display_data",
          "data": {
            "text/plain": [
              "<IPython.core.display.HTML object>"
            ],
            "text/html": [
              " View project at <a href='https://wandb.ai/mrekh21-free-university-of-tbilisi-/emotion-recognition' target=\"_blank\">https://wandb.ai/mrekh21-free-university-of-tbilisi-/emotion-recognition</a>"
            ]
          },
          "metadata": {}
        },
        {
          "output_type": "display_data",
          "data": {
            "text/plain": [
              "<IPython.core.display.HTML object>"
            ],
            "text/html": [
              " View run at <a href='https://wandb.ai/mrekh21-free-university-of-tbilisi-/emotion-recognition/runs/t168wuwa' target=\"_blank\">https://wandb.ai/mrekh21-free-university-of-tbilisi-/emotion-recognition/runs/t168wuwa</a>"
            ]
          },
          "metadata": {}
        },
        {
          "output_type": "display_data",
          "data": {
            "text/plain": [
              "<IPython.core.display.HTML object>"
            ],
            "text/html": []
          },
          "metadata": {}
        },
        {
          "output_type": "display_data",
          "data": {
            "text/plain": [
              "<IPython.core.display.HTML object>"
            ],
            "text/html": [
              "<br>    <style><br>        .wandb-row {<br>            display: flex;<br>            flex-direction: row;<br>            flex-wrap: wrap;<br>            justify-content: flex-start;<br>            width: 100%;<br>        }<br>        .wandb-col {<br>            display: flex;<br>            flex-direction: column;<br>            flex-basis: 100%;<br>            flex: 1;<br>            padding: 10px;<br>        }<br>    </style><br><div class=\"wandb-row\"><div class=\"wandb-col\"><h3>Run history:</h3><br/><table class=\"wandb\"><tr><td>epoch</td><td>▁▂▃▅▆▇█</td></tr><tr><td>train_acc</td><td>▅▁█▁▂▃▂</td></tr><tr><td>train_loss</td><td>█▁▁▁▁▁▁</td></tr><tr><td>val_acc</td><td>▂█▄▁▄▄▄</td></tr><tr><td>val_loss</td><td>▆▅▅▁█▄▂</td></tr></table><br/></div><div class=\"wandb-col\"><h3>Run summary:</h3><br/><table class=\"wandb\"><tr><td>epoch</td><td>7</td></tr><tr><td>train_acc</td><td>0.1589</td></tr><tr><td>train_loss</td><td>1.94657</td></tr><tr><td>val_acc</td><td>0.18194</td></tr><tr><td>val_loss</td><td>1.94574</td></tr></table><br/></div></div>"
            ]
          },
          "metadata": {}
        },
        {
          "output_type": "display_data",
          "data": {
            "text/plain": [
              "<IPython.core.display.HTML object>"
            ],
            "text/html": [
              " View run <strong style=\"color:#cdcd00\">weighted_CNN_hparam_tuning_1</strong> at: <a href='https://wandb.ai/mrekh21-free-university-of-tbilisi-/emotion-recognition/runs/t168wuwa' target=\"_blank\">https://wandb.ai/mrekh21-free-university-of-tbilisi-/emotion-recognition/runs/t168wuwa</a><br> View project at: <a href='https://wandb.ai/mrekh21-free-university-of-tbilisi-/emotion-recognition' target=\"_blank\">https://wandb.ai/mrekh21-free-university-of-tbilisi-/emotion-recognition</a><br>Synced 5 W&B file(s), 0 media file(s), 0 artifact file(s) and 0 other file(s)"
            ]
          },
          "metadata": {}
        },
        {
          "output_type": "display_data",
          "data": {
            "text/plain": [
              "<IPython.core.display.HTML object>"
            ],
            "text/html": [
              "Find logs at: <code>./wandb/run-20250602_124437-t168wuwa/logs</code>"
            ]
          },
          "metadata": {}
        },
        {
          "output_type": "stream",
          "name": "stderr",
          "text": [
            "\rHyperparameter Trials:   3%|▎         | 1/30 [00:25<12:26, 25.74s/it]"
          ]
        },
        {
          "output_type": "stream",
          "name": "stdout",
          "text": [
            "\n",
            " Running config 2/30: {'conv_layers_config': [(16, 3), (32, 3), (64, 3)], 'dropout_conv': 0.2, 'dropout_fc': 0.2, 'norm_type': 'batch', 'pool_type': 'none', 'lr': 0.01, 'batch_size': 64, 'epochs': 20}\n"
          ]
        },
        {
          "output_type": "display_data",
          "data": {
            "text/plain": [
              "<IPython.core.display.HTML object>"
            ],
            "text/html": [
              "Tracking run with wandb version 0.19.11"
            ]
          },
          "metadata": {}
        },
        {
          "output_type": "display_data",
          "data": {
            "text/plain": [
              "<IPython.core.display.HTML object>"
            ],
            "text/html": [
              "Run data is saved locally in <code>/content/Emotion_Recognition/wandb/run-20250602_124503-aiq4r2b1</code>"
            ]
          },
          "metadata": {}
        },
        {
          "output_type": "display_data",
          "data": {
            "text/plain": [
              "<IPython.core.display.HTML object>"
            ],
            "text/html": [
              "Syncing run <strong><a href='https://wandb.ai/mrekh21-free-university-of-tbilisi-/emotion-recognition/runs/aiq4r2b1' target=\"_blank\">weighted_CNN_hparam_tuning_2</a></strong> to <a href='https://wandb.ai/mrekh21-free-university-of-tbilisi-/emotion-recognition' target=\"_blank\">Weights & Biases</a> (<a href='https://wandb.me/developer-guide' target=\"_blank\">docs</a>)<br>"
            ]
          },
          "metadata": {}
        },
        {
          "output_type": "display_data",
          "data": {
            "text/plain": [
              "<IPython.core.display.HTML object>"
            ],
            "text/html": [
              " View project at <a href='https://wandb.ai/mrekh21-free-university-of-tbilisi-/emotion-recognition' target=\"_blank\">https://wandb.ai/mrekh21-free-university-of-tbilisi-/emotion-recognition</a>"
            ]
          },
          "metadata": {}
        },
        {
          "output_type": "display_data",
          "data": {
            "text/plain": [
              "<IPython.core.display.HTML object>"
            ],
            "text/html": [
              " View run at <a href='https://wandb.ai/mrekh21-free-university-of-tbilisi-/emotion-recognition/runs/aiq4r2b1' target=\"_blank\">https://wandb.ai/mrekh21-free-university-of-tbilisi-/emotion-recognition/runs/aiq4r2b1</a>"
            ]
          },
          "metadata": {}
        },
        {
          "output_type": "display_data",
          "data": {
            "text/plain": [
              "<IPython.core.display.HTML object>"
            ],
            "text/html": []
          },
          "metadata": {}
        },
        {
          "output_type": "display_data",
          "data": {
            "text/plain": [
              "<IPython.core.display.HTML object>"
            ],
            "text/html": [
              "<br>    <style><br>        .wandb-row {<br>            display: flex;<br>            flex-direction: row;<br>            flex-wrap: wrap;<br>            justify-content: flex-start;<br>            width: 100%;<br>        }<br>        .wandb-col {<br>            display: flex;<br>            flex-direction: column;<br>            flex-basis: 100%;<br>            flex: 1;<br>            padding: 10px;<br>        }<br>    </style><br><div class=\"wandb-row\"><div class=\"wandb-col\"><h3>Run history:</h3><br/><table class=\"wandb\"><tr><td>epoch</td><td>▁▂▄▅▇█</td></tr><tr><td>train_acc</td><td>█▁▄██▅</td></tr><tr><td>train_loss</td><td>█▁▁▁▁▁</td></tr><tr><td>val_acc</td><td>█▇▁▃▇▃</td></tr><tr><td>val_loss</td><td>▂▁▂█▃█</td></tr></table><br/></div><div class=\"wandb-col\"><h3>Run summary:</h3><br/><table class=\"wandb\"><tr><td>epoch</td><td>6</td></tr><tr><td>train_acc</td><td>0.16371</td></tr><tr><td>train_loss</td><td>1.94584</td></tr><tr><td>val_acc</td><td>0.1382</td></tr><tr><td>val_loss</td><td>1.94766</td></tr></table><br/></div></div>"
            ]
          },
          "metadata": {}
        },
        {
          "output_type": "display_data",
          "data": {
            "text/plain": [
              "<IPython.core.display.HTML object>"
            ],
            "text/html": [
              " View run <strong style=\"color:#cdcd00\">weighted_CNN_hparam_tuning_2</strong> at: <a href='https://wandb.ai/mrekh21-free-university-of-tbilisi-/emotion-recognition/runs/aiq4r2b1' target=\"_blank\">https://wandb.ai/mrekh21-free-university-of-tbilisi-/emotion-recognition/runs/aiq4r2b1</a><br> View project at: <a href='https://wandb.ai/mrekh21-free-university-of-tbilisi-/emotion-recognition' target=\"_blank\">https://wandb.ai/mrekh21-free-university-of-tbilisi-/emotion-recognition</a><br>Synced 5 W&B file(s), 0 media file(s), 0 artifact file(s) and 0 other file(s)"
            ]
          },
          "metadata": {}
        },
        {
          "output_type": "display_data",
          "data": {
            "text/plain": [
              "<IPython.core.display.HTML object>"
            ],
            "text/html": [
              "Find logs at: <code>./wandb/run-20250602_124503-aiq4r2b1/logs</code>"
            ]
          },
          "metadata": {}
        },
        {
          "output_type": "stream",
          "name": "stderr",
          "text": [
            "\rHyperparameter Trials:   7%|▋         | 2/30 [01:29<22:32, 48.30s/it]"
          ]
        },
        {
          "output_type": "stream",
          "name": "stdout",
          "text": [
            "\n",
            " Running config 3/30: {'conv_layers_config': [(16, 3), (32, 3), (64, 3)], 'dropout_conv': 0.3, 'dropout_fc': 0.2, 'norm_type': 'layer', 'pool_type': 'none', 'lr': 0.05, 'batch_size': 64, 'epochs': 20}\n"
          ]
        },
        {
          "output_type": "display_data",
          "data": {
            "text/plain": [
              "<IPython.core.display.HTML object>"
            ],
            "text/html": [
              "Tracking run with wandb version 0.19.11"
            ]
          },
          "metadata": {}
        },
        {
          "output_type": "display_data",
          "data": {
            "text/plain": [
              "<IPython.core.display.HTML object>"
            ],
            "text/html": [
              "Run data is saved locally in <code>/content/Emotion_Recognition/wandb/run-20250602_124607-tgnsqr8g</code>"
            ]
          },
          "metadata": {}
        },
        {
          "output_type": "display_data",
          "data": {
            "text/plain": [
              "<IPython.core.display.HTML object>"
            ],
            "text/html": [
              "Syncing run <strong><a href='https://wandb.ai/mrekh21-free-university-of-tbilisi-/emotion-recognition/runs/tgnsqr8g' target=\"_blank\">weighted_CNN_hparam_tuning_3</a></strong> to <a href='https://wandb.ai/mrekh21-free-university-of-tbilisi-/emotion-recognition' target=\"_blank\">Weights & Biases</a> (<a href='https://wandb.me/developer-guide' target=\"_blank\">docs</a>)<br>"
            ]
          },
          "metadata": {}
        },
        {
          "output_type": "display_data",
          "data": {
            "text/plain": [
              "<IPython.core.display.HTML object>"
            ],
            "text/html": [
              " View project at <a href='https://wandb.ai/mrekh21-free-university-of-tbilisi-/emotion-recognition' target=\"_blank\">https://wandb.ai/mrekh21-free-university-of-tbilisi-/emotion-recognition</a>"
            ]
          },
          "metadata": {}
        },
        {
          "output_type": "display_data",
          "data": {
            "text/plain": [
              "<IPython.core.display.HTML object>"
            ],
            "text/html": [
              " View run at <a href='https://wandb.ai/mrekh21-free-university-of-tbilisi-/emotion-recognition/runs/tgnsqr8g' target=\"_blank\">https://wandb.ai/mrekh21-free-university-of-tbilisi-/emotion-recognition/runs/tgnsqr8g</a>"
            ]
          },
          "metadata": {}
        },
        {
          "output_type": "display_data",
          "data": {
            "text/plain": [
              "<IPython.core.display.HTML object>"
            ],
            "text/html": []
          },
          "metadata": {}
        },
        {
          "output_type": "display_data",
          "data": {
            "text/plain": [
              "<IPython.core.display.HTML object>"
            ],
            "text/html": [
              "<br>    <style><br>        .wandb-row {<br>            display: flex;<br>            flex-direction: row;<br>            flex-wrap: wrap;<br>            justify-content: flex-start;<br>            width: 100%;<br>        }<br>        .wandb-col {<br>            display: flex;<br>            flex-direction: column;<br>            flex-basis: 100%;<br>            flex: 1;<br>            padding: 10px;<br>        }<br>    </style><br><div class=\"wandb-row\"><div class=\"wandb-col\"><h3>Run history:</h3><br/><table class=\"wandb\"><tr><td>epoch</td><td>▁▂▂▃▃▄▄▅▅▆▆▇▇█</td></tr><tr><td>train_acc</td><td>▃▁▆▄█▇▃▄▆▆▄▅█▅</td></tr><tr><td>train_loss</td><td>█▁▁▁▁▁▁▁▁▁▁▁▁▁</td></tr><tr><td>val_acc</td><td>▁▄▁▅▄▁▄▄█▆▄▆▄▅</td></tr><tr><td>val_loss</td><td>▄▅▂▆▄▅█▄▂▁▄█▃▇</td></tr></table><br/></div><div class=\"wandb-col\"><h3>Run summary:</h3><br/><table class=\"wandb\"><tr><td>epoch</td><td>14</td></tr><tr><td>train_acc</td><td>0.14483</td></tr><tr><td>train_loss</td><td>1.94993</td></tr><tr><td>val_acc</td><td>0.1382</td></tr><tr><td>val_loss</td><td>1.95313</td></tr></table><br/></div></div>"
            ]
          },
          "metadata": {}
        },
        {
          "output_type": "display_data",
          "data": {
            "text/plain": [
              "<IPython.core.display.HTML object>"
            ],
            "text/html": [
              " View run <strong style=\"color:#cdcd00\">weighted_CNN_hparam_tuning_3</strong> at: <a href='https://wandb.ai/mrekh21-free-university-of-tbilisi-/emotion-recognition/runs/tgnsqr8g' target=\"_blank\">https://wandb.ai/mrekh21-free-university-of-tbilisi-/emotion-recognition/runs/tgnsqr8g</a><br> View project at: <a href='https://wandb.ai/mrekh21-free-university-of-tbilisi-/emotion-recognition' target=\"_blank\">https://wandb.ai/mrekh21-free-university-of-tbilisi-/emotion-recognition</a><br>Synced 5 W&B file(s), 0 media file(s), 0 artifact file(s) and 0 other file(s)"
            ]
          },
          "metadata": {}
        },
        {
          "output_type": "display_data",
          "data": {
            "text/plain": [
              "<IPython.core.display.HTML object>"
            ],
            "text/html": [
              "Find logs at: <code>./wandb/run-20250602_124607-tgnsqr8g/logs</code>"
            ]
          },
          "metadata": {}
        },
        {
          "output_type": "stream",
          "name": "stderr",
          "text": [
            "\rHyperparameter Trials:  10%|█         | 3/30 [03:52<41:07, 91.38s/it]"
          ]
        },
        {
          "output_type": "stream",
          "name": "stdout",
          "text": [
            "\n",
            " Running config 4/30: {'conv_layers_config': [(16, 3), (32, 3), (64, 3)], 'dropout_conv': 0.2, 'dropout_fc': 0.3, 'norm_type': 'layer', 'pool_type': 'max', 'lr': 0.05, 'batch_size': 128, 'epochs': 20}\n"
          ]
        },
        {
          "output_type": "display_data",
          "data": {
            "text/plain": [
              "<IPython.core.display.HTML object>"
            ],
            "text/html": [
              "Tracking run with wandb version 0.19.11"
            ]
          },
          "metadata": {}
        },
        {
          "output_type": "display_data",
          "data": {
            "text/plain": [
              "<IPython.core.display.HTML object>"
            ],
            "text/html": [
              "Run data is saved locally in <code>/content/Emotion_Recognition/wandb/run-20250602_124829-wa5gqdgm</code>"
            ]
          },
          "metadata": {}
        },
        {
          "output_type": "display_data",
          "data": {
            "text/plain": [
              "<IPython.core.display.HTML object>"
            ],
            "text/html": [
              "Syncing run <strong><a href='https://wandb.ai/mrekh21-free-university-of-tbilisi-/emotion-recognition/runs/wa5gqdgm' target=\"_blank\">weighted_CNN_hparam_tuning_4</a></strong> to <a href='https://wandb.ai/mrekh21-free-university-of-tbilisi-/emotion-recognition' target=\"_blank\">Weights & Biases</a> (<a href='https://wandb.me/developer-guide' target=\"_blank\">docs</a>)<br>"
            ]
          },
          "metadata": {}
        },
        {
          "output_type": "display_data",
          "data": {
            "text/plain": [
              "<IPython.core.display.HTML object>"
            ],
            "text/html": [
              " View project at <a href='https://wandb.ai/mrekh21-free-university-of-tbilisi-/emotion-recognition' target=\"_blank\">https://wandb.ai/mrekh21-free-university-of-tbilisi-/emotion-recognition</a>"
            ]
          },
          "metadata": {}
        },
        {
          "output_type": "display_data",
          "data": {
            "text/plain": [
              "<IPython.core.display.HTML object>"
            ],
            "text/html": [
              " View run at <a href='https://wandb.ai/mrekh21-free-university-of-tbilisi-/emotion-recognition/runs/wa5gqdgm' target=\"_blank\">https://wandb.ai/mrekh21-free-university-of-tbilisi-/emotion-recognition/runs/wa5gqdgm</a>"
            ]
          },
          "metadata": {}
        },
        {
          "output_type": "display_data",
          "data": {
            "text/plain": [
              "<IPython.core.display.HTML object>"
            ],
            "text/html": []
          },
          "metadata": {}
        },
        {
          "output_type": "display_data",
          "data": {
            "text/plain": [
              "<IPython.core.display.HTML object>"
            ],
            "text/html": [
              "<br>    <style><br>        .wandb-row {<br>            display: flex;<br>            flex-direction: row;<br>            flex-wrap: wrap;<br>            justify-content: flex-start;<br>            width: 100%;<br>        }<br>        .wandb-col {<br>            display: flex;<br>            flex-direction: column;<br>            flex-basis: 100%;<br>            flex: 1;<br>            padding: 10px;<br>        }<br>    </style><br><div class=\"wandb-row\"><div class=\"wandb-col\"><h3>Run history:</h3><br/><table class=\"wandb\"><tr><td>epoch</td><td>▁▂▃▄▅▅▆▇█</td></tr><tr><td>train_acc</td><td>▁▅▇▅▆▅▃█▆</td></tr><tr><td>train_loss</td><td>█▁▁▁▁▁▁▁▁</td></tr><tr><td>val_acc</td><td>▁▆▁█▁▇▇▆█</td></tr><tr><td>val_loss</td><td>▂▁█▁█▂▅▁▂</td></tr></table><br/></div><div class=\"wandb-col\"><h3>Run summary:</h3><br/><table class=\"wandb\"><tr><td>epoch</td><td>9</td></tr><tr><td>train_acc</td><td>0.13863</td></tr><tr><td>train_loss</td><td>1.94919</td></tr><tr><td>val_acc</td><td>0.16913</td></tr><tr><td>val_loss</td><td>1.94753</td></tr></table><br/></div></div>"
            ]
          },
          "metadata": {}
        },
        {
          "output_type": "display_data",
          "data": {
            "text/plain": [
              "<IPython.core.display.HTML object>"
            ],
            "text/html": [
              " View run <strong style=\"color:#cdcd00\">weighted_CNN_hparam_tuning_4</strong> at: <a href='https://wandb.ai/mrekh21-free-university-of-tbilisi-/emotion-recognition/runs/wa5gqdgm' target=\"_blank\">https://wandb.ai/mrekh21-free-university-of-tbilisi-/emotion-recognition/runs/wa5gqdgm</a><br> View project at: <a href='https://wandb.ai/mrekh21-free-university-of-tbilisi-/emotion-recognition' target=\"_blank\">https://wandb.ai/mrekh21-free-university-of-tbilisi-/emotion-recognition</a><br>Synced 5 W&B file(s), 0 media file(s), 0 artifact file(s) and 0 other file(s)"
            ]
          },
          "metadata": {}
        },
        {
          "output_type": "display_data",
          "data": {
            "text/plain": [
              "<IPython.core.display.HTML object>"
            ],
            "text/html": [
              "Find logs at: <code>./wandb/run-20250602_124829-wa5gqdgm/logs</code>"
            ]
          },
          "metadata": {}
        },
        {
          "output_type": "stream",
          "name": "stderr",
          "text": [
            "\rHyperparameter Trials:  13%|█▎        | 4/30 [04:12<27:24, 63.26s/it]"
          ]
        },
        {
          "output_type": "stream",
          "name": "stdout",
          "text": [
            "\n",
            " Running config 5/30: {'conv_layers_config': [(16, 3), (32, 3), (64, 3)], 'dropout_conv': 0.3, 'dropout_fc': 0.2, 'norm_type': 'none', 'pool_type': 'none', 'lr': 0.05, 'batch_size': 128, 'epochs': 20}\n"
          ]
        },
        {
          "output_type": "display_data",
          "data": {
            "text/plain": [
              "<IPython.core.display.HTML object>"
            ],
            "text/html": [
              "Tracking run with wandb version 0.19.11"
            ]
          },
          "metadata": {}
        },
        {
          "output_type": "display_data",
          "data": {
            "text/plain": [
              "<IPython.core.display.HTML object>"
            ],
            "text/html": [
              "Run data is saved locally in <code>/content/Emotion_Recognition/wandb/run-20250602_124849-cekv346h</code>"
            ]
          },
          "metadata": {}
        },
        {
          "output_type": "display_data",
          "data": {
            "text/plain": [
              "<IPython.core.display.HTML object>"
            ],
            "text/html": [
              "Syncing run <strong><a href='https://wandb.ai/mrekh21-free-university-of-tbilisi-/emotion-recognition/runs/cekv346h' target=\"_blank\">weighted_CNN_hparam_tuning_5</a></strong> to <a href='https://wandb.ai/mrekh21-free-university-of-tbilisi-/emotion-recognition' target=\"_blank\">Weights & Biases</a> (<a href='https://wandb.me/developer-guide' target=\"_blank\">docs</a>)<br>"
            ]
          },
          "metadata": {}
        },
        {
          "output_type": "display_data",
          "data": {
            "text/plain": [
              "<IPython.core.display.HTML object>"
            ],
            "text/html": [
              " View project at <a href='https://wandb.ai/mrekh21-free-university-of-tbilisi-/emotion-recognition' target=\"_blank\">https://wandb.ai/mrekh21-free-university-of-tbilisi-/emotion-recognition</a>"
            ]
          },
          "metadata": {}
        },
        {
          "output_type": "display_data",
          "data": {
            "text/plain": [
              "<IPython.core.display.HTML object>"
            ],
            "text/html": [
              " View run at <a href='https://wandb.ai/mrekh21-free-university-of-tbilisi-/emotion-recognition/runs/cekv346h' target=\"_blank\">https://wandb.ai/mrekh21-free-university-of-tbilisi-/emotion-recognition/runs/cekv346h</a>"
            ]
          },
          "metadata": {}
        },
        {
          "output_type": "display_data",
          "data": {
            "text/plain": [
              "<IPython.core.display.HTML object>"
            ],
            "text/html": []
          },
          "metadata": {}
        },
        {
          "output_type": "display_data",
          "data": {
            "text/plain": [
              "<IPython.core.display.HTML object>"
            ],
            "text/html": [
              "<br>    <style><br>        .wandb-row {<br>            display: flex;<br>            flex-direction: row;<br>            flex-wrap: wrap;<br>            justify-content: flex-start;<br>            width: 100%;<br>        }<br>        .wandb-col {<br>            display: flex;<br>            flex-direction: column;<br>            flex-basis: 100%;<br>            flex: 1;<br>            padding: 10px;<br>        }<br>    </style><br><div class=\"wandb-row\"><div class=\"wandb-col\"><h3>Run history:</h3><br/><table class=\"wandb\"><tr><td>epoch</td><td>▁▂▃▄▅▅▆▇█</td></tr><tr><td>train_acc</td><td>█▁▇█▇▅███</td></tr><tr><td>train_loss</td><td>█▁▁▁▁▁▁▁▁</td></tr><tr><td>val_acc</td><td>▆▁▆█▄▆▄▆▄</td></tr><tr><td>val_loss</td><td>▃▆▁█▂▆▁▄▃</td></tr></table><br/></div><div class=\"wandb-col\"><h3>Run summary:</h3><br/><table class=\"wandb\"><tr><td>epoch</td><td>9</td></tr><tr><td>train_acc</td><td>0.14257</td></tr><tr><td>train_loss</td><td>1.94985</td></tr><tr><td>val_acc</td><td>0.11563</td></tr><tr><td>val_loss</td><td>1.94712</td></tr></table><br/></div></div>"
            ]
          },
          "metadata": {}
        },
        {
          "output_type": "display_data",
          "data": {
            "text/plain": [
              "<IPython.core.display.HTML object>"
            ],
            "text/html": [
              " View run <strong style=\"color:#cdcd00\">weighted_CNN_hparam_tuning_5</strong> at: <a href='https://wandb.ai/mrekh21-free-university-of-tbilisi-/emotion-recognition/runs/cekv346h' target=\"_blank\">https://wandb.ai/mrekh21-free-university-of-tbilisi-/emotion-recognition/runs/cekv346h</a><br> View project at: <a href='https://wandb.ai/mrekh21-free-university-of-tbilisi-/emotion-recognition' target=\"_blank\">https://wandb.ai/mrekh21-free-university-of-tbilisi-/emotion-recognition</a><br>Synced 5 W&B file(s), 0 media file(s), 0 artifact file(s) and 0 other file(s)"
            ]
          },
          "metadata": {}
        },
        {
          "output_type": "display_data",
          "data": {
            "text/plain": [
              "<IPython.core.display.HTML object>"
            ],
            "text/html": [
              "Find logs at: <code>./wandb/run-20250602_124849-cekv346h/logs</code>"
            ]
          },
          "metadata": {}
        },
        {
          "output_type": "stream",
          "name": "stderr",
          "text": [
            "\rHyperparameter Trials:  17%|█▋        | 5/30 [05:22<27:19, 65.59s/it]"
          ]
        },
        {
          "output_type": "stream",
          "name": "stdout",
          "text": [
            "\n",
            " Running config 6/30: {'conv_layers_config': [(32, 3), (64, 3), (128, 3)], 'dropout_conv': 0.2, 'dropout_fc': 0.3, 'norm_type': 'layer', 'pool_type': 'max', 'lr': 0.001, 'batch_size': 128, 'epochs': 20}\n"
          ]
        },
        {
          "output_type": "display_data",
          "data": {
            "text/plain": [
              "<IPython.core.display.HTML object>"
            ],
            "text/html": [
              "Tracking run with wandb version 0.19.11"
            ]
          },
          "metadata": {}
        },
        {
          "output_type": "display_data",
          "data": {
            "text/plain": [
              "<IPython.core.display.HTML object>"
            ],
            "text/html": [
              "Run data is saved locally in <code>/content/Emotion_Recognition/wandb/run-20250602_124959-9h7zyx1k</code>"
            ]
          },
          "metadata": {}
        },
        {
          "output_type": "display_data",
          "data": {
            "text/plain": [
              "<IPython.core.display.HTML object>"
            ],
            "text/html": [
              "Syncing run <strong><a href='https://wandb.ai/mrekh21-free-university-of-tbilisi-/emotion-recognition/runs/9h7zyx1k' target=\"_blank\">weighted_CNN_hparam_tuning_6</a></strong> to <a href='https://wandb.ai/mrekh21-free-university-of-tbilisi-/emotion-recognition' target=\"_blank\">Weights & Biases</a> (<a href='https://wandb.me/developer-guide' target=\"_blank\">docs</a>)<br>"
            ]
          },
          "metadata": {}
        },
        {
          "output_type": "display_data",
          "data": {
            "text/plain": [
              "<IPython.core.display.HTML object>"
            ],
            "text/html": [
              " View project at <a href='https://wandb.ai/mrekh21-free-university-of-tbilisi-/emotion-recognition' target=\"_blank\">https://wandb.ai/mrekh21-free-university-of-tbilisi-/emotion-recognition</a>"
            ]
          },
          "metadata": {}
        },
        {
          "output_type": "display_data",
          "data": {
            "text/plain": [
              "<IPython.core.display.HTML object>"
            ],
            "text/html": [
              " View run at <a href='https://wandb.ai/mrekh21-free-university-of-tbilisi-/emotion-recognition/runs/9h7zyx1k' target=\"_blank\">https://wandb.ai/mrekh21-free-university-of-tbilisi-/emotion-recognition/runs/9h7zyx1k</a>"
            ]
          },
          "metadata": {}
        },
        {
          "output_type": "display_data",
          "data": {
            "text/plain": [
              "<IPython.core.display.HTML object>"
            ],
            "text/html": []
          },
          "metadata": {}
        },
        {
          "output_type": "display_data",
          "data": {
            "text/plain": [
              "<IPython.core.display.HTML object>"
            ],
            "text/html": [
              "<br>    <style><br>        .wandb-row {<br>            display: flex;<br>            flex-direction: row;<br>            flex-wrap: wrap;<br>            justify-content: flex-start;<br>            width: 100%;<br>        }<br>        .wandb-col {<br>            display: flex;<br>            flex-direction: column;<br>            flex-basis: 100%;<br>            flex: 1;<br>            padding: 10px;<br>        }<br>    </style><br><div class=\"wandb-row\"><div class=\"wandb-col\"><h3>Run history:</h3><br/><table class=\"wandb\"><tr><td>epoch</td><td>▁▂▃▃▄▅▆▆▇█</td></tr><tr><td>train_acc</td><td>▁▁▅▇▇█▆▇█▆</td></tr><tr><td>train_loss</td><td>█▁▁▁▁▁▁▁▁▁</td></tr><tr><td>val_acc</td><td>▁▆▆▆██▆▆▆▅</td></tr><tr><td>val_loss</td><td>▇▁▃▄▇▅▅▆▆█</td></tr></table><br/></div><div class=\"wandb-col\"><h3>Run summary:</h3><br/><table class=\"wandb\"><tr><td>epoch</td><td>10</td></tr><tr><td>train_acc</td><td>0.16308</td></tr><tr><td>train_loss</td><td>1.94586</td></tr><tr><td>val_acc</td><td>0.1382</td></tr><tr><td>val_loss</td><td>1.94597</td></tr></table><br/></div></div>"
            ]
          },
          "metadata": {}
        },
        {
          "output_type": "display_data",
          "data": {
            "text/plain": [
              "<IPython.core.display.HTML object>"
            ],
            "text/html": [
              " View run <strong style=\"color:#cdcd00\">weighted_CNN_hparam_tuning_6</strong> at: <a href='https://wandb.ai/mrekh21-free-university-of-tbilisi-/emotion-recognition/runs/9h7zyx1k' target=\"_blank\">https://wandb.ai/mrekh21-free-university-of-tbilisi-/emotion-recognition/runs/9h7zyx1k</a><br> View project at: <a href='https://wandb.ai/mrekh21-free-university-of-tbilisi-/emotion-recognition' target=\"_blank\">https://wandb.ai/mrekh21-free-university-of-tbilisi-/emotion-recognition</a><br>Synced 5 W&B file(s), 0 media file(s), 0 artifact file(s) and 0 other file(s)"
            ]
          },
          "metadata": {}
        },
        {
          "output_type": "display_data",
          "data": {
            "text/plain": [
              "<IPython.core.display.HTML object>"
            ],
            "text/html": [
              "Find logs at: <code>./wandb/run-20250602_124959-9h7zyx1k/logs</code>"
            ]
          },
          "metadata": {}
        },
        {
          "output_type": "stream",
          "name": "stderr",
          "text": [
            "\rHyperparameter Trials:  20%|██        | 6/30 [05:58<22:12, 55.50s/it]"
          ]
        },
        {
          "output_type": "stream",
          "name": "stdout",
          "text": [
            "\n",
            " Running config 7/30: {'conv_layers_config': [(16, 3), (32, 3), (64, 3)], 'dropout_conv': 0.1, 'dropout_fc': 0.2, 'norm_type': 'batch', 'pool_type': 'max', 'lr': 0.001, 'batch_size': 64, 'epochs': 20}\n"
          ]
        },
        {
          "output_type": "display_data",
          "data": {
            "text/plain": [
              "<IPython.core.display.HTML object>"
            ],
            "text/html": [
              "Tracking run with wandb version 0.19.11"
            ]
          },
          "metadata": {}
        },
        {
          "output_type": "display_data",
          "data": {
            "text/plain": [
              "<IPython.core.display.HTML object>"
            ],
            "text/html": [
              "Run data is saved locally in <code>/content/Emotion_Recognition/wandb/run-20250602_125035-bam2wzf5</code>"
            ]
          },
          "metadata": {}
        },
        {
          "output_type": "display_data",
          "data": {
            "text/plain": [
              "<IPython.core.display.HTML object>"
            ],
            "text/html": [
              "Syncing run <strong><a href='https://wandb.ai/mrekh21-free-university-of-tbilisi-/emotion-recognition/runs/bam2wzf5' target=\"_blank\">weighted_CNN_hparam_tuning_7</a></strong> to <a href='https://wandb.ai/mrekh21-free-university-of-tbilisi-/emotion-recognition' target=\"_blank\">Weights & Biases</a> (<a href='https://wandb.me/developer-guide' target=\"_blank\">docs</a>)<br>"
            ]
          },
          "metadata": {}
        },
        {
          "output_type": "display_data",
          "data": {
            "text/plain": [
              "<IPython.core.display.HTML object>"
            ],
            "text/html": [
              " View project at <a href='https://wandb.ai/mrekh21-free-university-of-tbilisi-/emotion-recognition' target=\"_blank\">https://wandb.ai/mrekh21-free-university-of-tbilisi-/emotion-recognition</a>"
            ]
          },
          "metadata": {}
        },
        {
          "output_type": "display_data",
          "data": {
            "text/plain": [
              "<IPython.core.display.HTML object>"
            ],
            "text/html": [
              " View run at <a href='https://wandb.ai/mrekh21-free-university-of-tbilisi-/emotion-recognition/runs/bam2wzf5' target=\"_blank\">https://wandb.ai/mrekh21-free-university-of-tbilisi-/emotion-recognition/runs/bam2wzf5</a>"
            ]
          },
          "metadata": {}
        },
        {
          "output_type": "display_data",
          "data": {
            "text/plain": [
              "<IPython.core.display.HTML object>"
            ],
            "text/html": []
          },
          "metadata": {}
        },
        {
          "output_type": "display_data",
          "data": {
            "text/plain": [
              "<IPython.core.display.HTML object>"
            ],
            "text/html": [
              "<br>    <style><br>        .wandb-row {<br>            display: flex;<br>            flex-direction: row;<br>            flex-wrap: wrap;<br>            justify-content: flex-start;<br>            width: 100%;<br>        }<br>        .wandb-col {<br>            display: flex;<br>            flex-direction: column;<br>            flex-basis: 100%;<br>            flex: 1;<br>            padding: 10px;<br>        }<br>    </style><br><div class=\"wandb-row\"><div class=\"wandb-col\"><h3>Run history:</h3><br/><table class=\"wandb\"><tr><td>epoch</td><td>▁▁▂▂▂▃▃▄▄▄▅▅▅▆▆▇▇▇██</td></tr><tr><td>train_acc</td><td>▁▄▅▅▆▆▆▆▇▇▇▇▇▇▇▇████</td></tr><tr><td>train_loss</td><td>█▆▅▅▄▄▄▃▃▃▂▂▂▂▂▂▁▁▁▁</td></tr><tr><td>val_acc</td><td>▁▁▃▃▅▃▅▆▅▆▆▇▆▇▇█▆███</td></tr><tr><td>val_loss</td><td>█▆▅▄▄▄▃▂▃▂▁▂▂▂▁▁▁▂▁▂</td></tr></table><br/></div><div class=\"wandb-col\"><h3>Run summary:</h3><br/><table class=\"wandb\"><tr><td>epoch</td><td>20</td></tr><tr><td>train_acc</td><td>0.49417</td></tr><tr><td>train_loss</td><td>1.21806</td></tr><tr><td>val_acc</td><td>0.51797</td></tr><tr><td>val_loss</td><td>1.34912</td></tr></table><br/></div></div>"
            ]
          },
          "metadata": {}
        },
        {
          "output_type": "display_data",
          "data": {
            "text/plain": [
              "<IPython.core.display.HTML object>"
            ],
            "text/html": [
              " View run <strong style=\"color:#cdcd00\">weighted_CNN_hparam_tuning_7</strong> at: <a href='https://wandb.ai/mrekh21-free-university-of-tbilisi-/emotion-recognition/runs/bam2wzf5' target=\"_blank\">https://wandb.ai/mrekh21-free-university-of-tbilisi-/emotion-recognition/runs/bam2wzf5</a><br> View project at: <a href='https://wandb.ai/mrekh21-free-university-of-tbilisi-/emotion-recognition' target=\"_blank\">https://wandb.ai/mrekh21-free-university-of-tbilisi-/emotion-recognition</a><br>Synced 5 W&B file(s), 0 media file(s), 0 artifact file(s) and 0 other file(s)"
            ]
          },
          "metadata": {}
        },
        {
          "output_type": "display_data",
          "data": {
            "text/plain": [
              "<IPython.core.display.HTML object>"
            ],
            "text/html": [
              "Find logs at: <code>./wandb/run-20250602_125035-bam2wzf5/logs</code>"
            ]
          },
          "metadata": {}
        },
        {
          "output_type": "stream",
          "name": "stderr",
          "text": [
            "\rHyperparameter Trials:  23%|██▎       | 7/30 [06:49<20:45, 54.15s/it]"
          ]
        },
        {
          "output_type": "stream",
          "name": "stdout",
          "text": [
            "\n",
            " Running config 8/30: {'conv_layers_config': [(32, 3), (64, 3), (128, 3)], 'dropout_conv': 0.3, 'dropout_fc': 0.2, 'norm_type': 'layer', 'pool_type': 'max', 'lr': 0.001, 'batch_size': 128, 'epochs': 20}\n"
          ]
        },
        {
          "output_type": "display_data",
          "data": {
            "text/plain": [
              "<IPython.core.display.HTML object>"
            ],
            "text/html": [
              "Tracking run with wandb version 0.19.11"
            ]
          },
          "metadata": {}
        },
        {
          "output_type": "display_data",
          "data": {
            "text/plain": [
              "<IPython.core.display.HTML object>"
            ],
            "text/html": [
              "Run data is saved locally in <code>/content/Emotion_Recognition/wandb/run-20250602_125126-v5oepoqc</code>"
            ]
          },
          "metadata": {}
        },
        {
          "output_type": "display_data",
          "data": {
            "text/plain": [
              "<IPython.core.display.HTML object>"
            ],
            "text/html": [
              "Syncing run <strong><a href='https://wandb.ai/mrekh21-free-university-of-tbilisi-/emotion-recognition/runs/v5oepoqc' target=\"_blank\">weighted_CNN_hparam_tuning_8</a></strong> to <a href='https://wandb.ai/mrekh21-free-university-of-tbilisi-/emotion-recognition' target=\"_blank\">Weights & Biases</a> (<a href='https://wandb.me/developer-guide' target=\"_blank\">docs</a>)<br>"
            ]
          },
          "metadata": {}
        },
        {
          "output_type": "display_data",
          "data": {
            "text/plain": [
              "<IPython.core.display.HTML object>"
            ],
            "text/html": [
              " View project at <a href='https://wandb.ai/mrekh21-free-university-of-tbilisi-/emotion-recognition' target=\"_blank\">https://wandb.ai/mrekh21-free-university-of-tbilisi-/emotion-recognition</a>"
            ]
          },
          "metadata": {}
        },
        {
          "output_type": "display_data",
          "data": {
            "text/plain": [
              "<IPython.core.display.HTML object>"
            ],
            "text/html": [
              " View run at <a href='https://wandb.ai/mrekh21-free-university-of-tbilisi-/emotion-recognition/runs/v5oepoqc' target=\"_blank\">https://wandb.ai/mrekh21-free-university-of-tbilisi-/emotion-recognition/runs/v5oepoqc</a>"
            ]
          },
          "metadata": {}
        },
        {
          "output_type": "display_data",
          "data": {
            "text/plain": [
              "<IPython.core.display.HTML object>"
            ],
            "text/html": []
          },
          "metadata": {}
        },
        {
          "output_type": "display_data",
          "data": {
            "text/plain": [
              "<IPython.core.display.HTML object>"
            ],
            "text/html": [
              "<br>    <style><br>        .wandb-row {<br>            display: flex;<br>            flex-direction: row;<br>            flex-wrap: wrap;<br>            justify-content: flex-start;<br>            width: 100%;<br>        }<br>        .wandb-col {<br>            display: flex;<br>            flex-direction: column;<br>            flex-basis: 100%;<br>            flex: 1;<br>            padding: 10px;<br>        }<br>    </style><br><div class=\"wandb-row\"><div class=\"wandb-col\"><h3>Run history:</h3><br/><table class=\"wandb\"><tr><td>epoch</td><td>▁▂▃▃▄▅▆▆▇█</td></tr><tr><td>train_acc</td><td>▁▂▂▄▆█▃█▅▅</td></tr><tr><td>train_loss</td><td>█▁▁▁▁▁▁▁▁▁</td></tr><tr><td>val_acc</td><td>▁▁▁▁█▄▃█▁█</td></tr><tr><td>val_loss</td><td>█▄▂▂▁▁▂▂▁▂</td></tr></table><br/></div><div class=\"wandb-col\"><h3>Run summary:</h3><br/><table class=\"wandb\"><tr><td>epoch</td><td>10</td></tr><tr><td>train_acc</td><td>0.17322</td></tr><tr><td>train_loss</td><td>1.94581</td></tr><tr><td>val_acc</td><td>0.24937</td></tr><tr><td>val_loss</td><td>1.94597</td></tr></table><br/></div></div>"
            ]
          },
          "metadata": {}
        },
        {
          "output_type": "display_data",
          "data": {
            "text/plain": [
              "<IPython.core.display.HTML object>"
            ],
            "text/html": [
              " View run <strong style=\"color:#cdcd00\">weighted_CNN_hparam_tuning_8</strong> at: <a href='https://wandb.ai/mrekh21-free-university-of-tbilisi-/emotion-recognition/runs/v5oepoqc' target=\"_blank\">https://wandb.ai/mrekh21-free-university-of-tbilisi-/emotion-recognition/runs/v5oepoqc</a><br> View project at: <a href='https://wandb.ai/mrekh21-free-university-of-tbilisi-/emotion-recognition' target=\"_blank\">https://wandb.ai/mrekh21-free-university-of-tbilisi-/emotion-recognition</a><br>Synced 5 W&B file(s), 0 media file(s), 0 artifact file(s) and 0 other file(s)"
            ]
          },
          "metadata": {}
        },
        {
          "output_type": "display_data",
          "data": {
            "text/plain": [
              "<IPython.core.display.HTML object>"
            ],
            "text/html": [
              "Find logs at: <code>./wandb/run-20250602_125126-v5oepoqc/logs</code>"
            ]
          },
          "metadata": {}
        },
        {
          "output_type": "stream",
          "name": "stderr",
          "text": [
            "\rHyperparameter Trials:  27%|██▋       | 8/30 [07:25<17:40, 48.23s/it]"
          ]
        },
        {
          "output_type": "stream",
          "name": "stdout",
          "text": [
            "\n",
            " Running config 9/30: {'conv_layers_config': [(32, 3), (64, 3), (128, 3)], 'dropout_conv': 0.3, 'dropout_fc': 0.2, 'norm_type': 'layer', 'pool_type': 'avg', 'lr': 0.001, 'batch_size': 128, 'epochs': 20}\n"
          ]
        },
        {
          "output_type": "display_data",
          "data": {
            "text/plain": [
              "<IPython.core.display.HTML object>"
            ],
            "text/html": [
              "Tracking run with wandb version 0.19.11"
            ]
          },
          "metadata": {}
        },
        {
          "output_type": "display_data",
          "data": {
            "text/plain": [
              "<IPython.core.display.HTML object>"
            ],
            "text/html": [
              "Run data is saved locally in <code>/content/Emotion_Recognition/wandb/run-20250602_125202-jj89n6sy</code>"
            ]
          },
          "metadata": {}
        },
        {
          "output_type": "display_data",
          "data": {
            "text/plain": [
              "<IPython.core.display.HTML object>"
            ],
            "text/html": [
              "Syncing run <strong><a href='https://wandb.ai/mrekh21-free-university-of-tbilisi-/emotion-recognition/runs/jj89n6sy' target=\"_blank\">weighted_CNN_hparam_tuning_9</a></strong> to <a href='https://wandb.ai/mrekh21-free-university-of-tbilisi-/emotion-recognition' target=\"_blank\">Weights & Biases</a> (<a href='https://wandb.me/developer-guide' target=\"_blank\">docs</a>)<br>"
            ]
          },
          "metadata": {}
        },
        {
          "output_type": "display_data",
          "data": {
            "text/plain": [
              "<IPython.core.display.HTML object>"
            ],
            "text/html": [
              " View project at <a href='https://wandb.ai/mrekh21-free-university-of-tbilisi-/emotion-recognition' target=\"_blank\">https://wandb.ai/mrekh21-free-university-of-tbilisi-/emotion-recognition</a>"
            ]
          },
          "metadata": {}
        },
        {
          "output_type": "display_data",
          "data": {
            "text/plain": [
              "<IPython.core.display.HTML object>"
            ],
            "text/html": [
              " View run at <a href='https://wandb.ai/mrekh21-free-university-of-tbilisi-/emotion-recognition/runs/jj89n6sy' target=\"_blank\">https://wandb.ai/mrekh21-free-university-of-tbilisi-/emotion-recognition/runs/jj89n6sy</a>"
            ]
          },
          "metadata": {}
        },
        {
          "output_type": "display_data",
          "data": {
            "text/plain": [
              "<IPython.core.display.HTML object>"
            ],
            "text/html": []
          },
          "metadata": {}
        },
        {
          "output_type": "display_data",
          "data": {
            "text/plain": [
              "<IPython.core.display.HTML object>"
            ],
            "text/html": [
              "<br>    <style><br>        .wandb-row {<br>            display: flex;<br>            flex-direction: row;<br>            flex-wrap: wrap;<br>            justify-content: flex-start;<br>            width: 100%;<br>        }<br>        .wandb-col {<br>            display: flex;<br>            flex-direction: column;<br>            flex-basis: 100%;<br>            flex: 1;<br>            padding: 10px;<br>        }<br>    </style><br><div class=\"wandb-row\"><div class=\"wandb-col\"><h3>Run history:</h3><br/><table class=\"wandb\"><tr><td>epoch</td><td>▁▁▂▂▂▃▃▄▄▄▅▅▅▆▆▇▇▇██</td></tr><tr><td>train_acc</td><td>▁▄▅▄▅▅▅▆▆▆▇▇▇▇▇▇████</td></tr><tr><td>train_loss</td><td>█▇▆▆▅▅▅▄▄▄▃▃▃▂▂▂▂▂▁▁</td></tr><tr><td>val_acc</td><td>▁▂▃▃▃▂▄▅▄▅▅▆▅▆▆▇▆▇▇█</td></tr><tr><td>val_loss</td><td>█▇▆▆▅▅▄▅▄▄▃▂▃▂▂▁▁▁▁▁</td></tr></table><br/></div><div class=\"wandb-col\"><h3>Run summary:</h3><br/><table class=\"wandb\"><tr><td>epoch</td><td>20</td></tr><tr><td>train_acc</td><td>0.38643</td></tr><tr><td>train_loss</td><td>1.49955</td></tr><tr><td>val_acc</td><td>0.46447</td></tr><tr><td>val_loss</td><td>1.43441</td></tr></table><br/></div></div>"
            ]
          },
          "metadata": {}
        },
        {
          "output_type": "display_data",
          "data": {
            "text/plain": [
              "<IPython.core.display.HTML object>"
            ],
            "text/html": [
              " View run <strong style=\"color:#cdcd00\">weighted_CNN_hparam_tuning_9</strong> at: <a href='https://wandb.ai/mrekh21-free-university-of-tbilisi-/emotion-recognition/runs/jj89n6sy' target=\"_blank\">https://wandb.ai/mrekh21-free-university-of-tbilisi-/emotion-recognition/runs/jj89n6sy</a><br> View project at: <a href='https://wandb.ai/mrekh21-free-university-of-tbilisi-/emotion-recognition' target=\"_blank\">https://wandb.ai/mrekh21-free-university-of-tbilisi-/emotion-recognition</a><br>Synced 5 W&B file(s), 0 media file(s), 0 artifact file(s) and 0 other file(s)"
            ]
          },
          "metadata": {}
        },
        {
          "output_type": "display_data",
          "data": {
            "text/plain": [
              "<IPython.core.display.HTML object>"
            ],
            "text/html": [
              "Find logs at: <code>./wandb/run-20250602_125202-jj89n6sy/logs</code>"
            ]
          },
          "metadata": {}
        },
        {
          "output_type": "stream",
          "name": "stderr",
          "text": [
            "\rHyperparameter Trials:  30%|███       | 9/30 [08:32<19:01, 54.34s/it]"
          ]
        },
        {
          "output_type": "stream",
          "name": "stdout",
          "text": [
            "\n",
            " Running config 10/30: {'conv_layers_config': [(16, 3), (32, 3), (64, 3)], 'dropout_conv': 0.1, 'dropout_fc': 0.4, 'norm_type': 'none', 'pool_type': 'avg', 'lr': 0.01, 'batch_size': 128, 'epochs': 20}\n"
          ]
        },
        {
          "output_type": "display_data",
          "data": {
            "text/plain": [
              "<IPython.core.display.HTML object>"
            ],
            "text/html": [
              "Tracking run with wandb version 0.19.11"
            ]
          },
          "metadata": {}
        },
        {
          "output_type": "display_data",
          "data": {
            "text/plain": [
              "<IPython.core.display.HTML object>"
            ],
            "text/html": [
              "Run data is saved locally in <code>/content/Emotion_Recognition/wandb/run-20250602_125310-1q7itb9o</code>"
            ]
          },
          "metadata": {}
        },
        {
          "output_type": "display_data",
          "data": {
            "text/plain": [
              "<IPython.core.display.HTML object>"
            ],
            "text/html": [
              "Syncing run <strong><a href='https://wandb.ai/mrekh21-free-university-of-tbilisi-/emotion-recognition/runs/1q7itb9o' target=\"_blank\">weighted_CNN_hparam_tuning_10</a></strong> to <a href='https://wandb.ai/mrekh21-free-university-of-tbilisi-/emotion-recognition' target=\"_blank\">Weights & Biases</a> (<a href='https://wandb.me/developer-guide' target=\"_blank\">docs</a>)<br>"
            ]
          },
          "metadata": {}
        },
        {
          "output_type": "display_data",
          "data": {
            "text/plain": [
              "<IPython.core.display.HTML object>"
            ],
            "text/html": [
              " View project at <a href='https://wandb.ai/mrekh21-free-university-of-tbilisi-/emotion-recognition' target=\"_blank\">https://wandb.ai/mrekh21-free-university-of-tbilisi-/emotion-recognition</a>"
            ]
          },
          "metadata": {}
        },
        {
          "output_type": "display_data",
          "data": {
            "text/plain": [
              "<IPython.core.display.HTML object>"
            ],
            "text/html": [
              " View run at <a href='https://wandb.ai/mrekh21-free-university-of-tbilisi-/emotion-recognition/runs/1q7itb9o' target=\"_blank\">https://wandb.ai/mrekh21-free-university-of-tbilisi-/emotion-recognition/runs/1q7itb9o</a>"
            ]
          },
          "metadata": {}
        },
        {
          "output_type": "display_data",
          "data": {
            "text/plain": [
              "<IPython.core.display.HTML object>"
            ],
            "text/html": []
          },
          "metadata": {}
        },
        {
          "output_type": "display_data",
          "data": {
            "text/plain": [
              "<IPython.core.display.HTML object>"
            ],
            "text/html": [
              "<br>    <style><br>        .wandb-row {<br>            display: flex;<br>            flex-direction: row;<br>            flex-wrap: wrap;<br>            justify-content: flex-start;<br>            width: 100%;<br>        }<br>        .wandb-col {<br>            display: flex;<br>            flex-direction: column;<br>            flex-basis: 100%;<br>            flex: 1;<br>            padding: 10px;<br>        }<br>    </style><br><div class=\"wandb-row\"><div class=\"wandb-col\"><h3>Run history:</h3><br/><table class=\"wandb\"><tr><td>epoch</td><td>▁▂▃▃▄▅▆▆▇█</td></tr><tr><td>train_acc</td><td>▃▅▄▁▇▄▆██▄</td></tr><tr><td>train_loss</td><td>█▁▂▁▁▁▁▁▁▁</td></tr><tr><td>val_acc</td><td>▄▁▂▄█▂▄▄▄▂</td></tr><tr><td>val_loss</td><td>▃▁▃▄▄▇▅▂▁█</td></tr></table><br/></div><div class=\"wandb-col\"><h3>Run summary:</h3><br/><table class=\"wandb\"><tr><td>epoch</td><td>10</td></tr><tr><td>train_acc</td><td>0.14647</td></tr><tr><td>train_loss</td><td>1.94631</td></tr><tr><td>val_acc</td><td>0.13012</td></tr><tr><td>val_loss</td><td>1.9474</td></tr></table><br/></div></div>"
            ]
          },
          "metadata": {}
        },
        {
          "output_type": "display_data",
          "data": {
            "text/plain": [
              "<IPython.core.display.HTML object>"
            ],
            "text/html": [
              " View run <strong style=\"color:#cdcd00\">weighted_CNN_hparam_tuning_10</strong> at: <a href='https://wandb.ai/mrekh21-free-university-of-tbilisi-/emotion-recognition/runs/1q7itb9o' target=\"_blank\">https://wandb.ai/mrekh21-free-university-of-tbilisi-/emotion-recognition/runs/1q7itb9o</a><br> View project at: <a href='https://wandb.ai/mrekh21-free-university-of-tbilisi-/emotion-recognition' target=\"_blank\">https://wandb.ai/mrekh21-free-university-of-tbilisi-/emotion-recognition</a><br>Synced 5 W&B file(s), 0 media file(s), 0 artifact file(s) and 0 other file(s)"
            ]
          },
          "metadata": {}
        },
        {
          "output_type": "display_data",
          "data": {
            "text/plain": [
              "<IPython.core.display.HTML object>"
            ],
            "text/html": [
              "Find logs at: <code>./wandb/run-20250602_125310-1q7itb9o/logs</code>"
            ]
          },
          "metadata": {}
        },
        {
          "output_type": "stream",
          "name": "stderr",
          "text": [
            "\rHyperparameter Trials:  33%|███▎      | 10/30 [08:51<14:26, 43.32s/it]"
          ]
        },
        {
          "output_type": "stream",
          "name": "stdout",
          "text": [
            "\n",
            " Running config 11/30: {'conv_layers_config': [(16, 3), (32, 3), (64, 3)], 'dropout_conv': 0.3, 'dropout_fc': 0.3, 'norm_type': 'layer', 'pool_type': 'avg', 'lr': 0.05, 'batch_size': 64, 'epochs': 20}\n"
          ]
        },
        {
          "output_type": "display_data",
          "data": {
            "text/plain": [
              "<IPython.core.display.HTML object>"
            ],
            "text/html": [
              "Tracking run with wandb version 0.19.11"
            ]
          },
          "metadata": {}
        },
        {
          "output_type": "display_data",
          "data": {
            "text/plain": [
              "<IPython.core.display.HTML object>"
            ],
            "text/html": [
              "Run data is saved locally in <code>/content/Emotion_Recognition/wandb/run-20250602_125328-ziz3pfat</code>"
            ]
          },
          "metadata": {}
        },
        {
          "output_type": "display_data",
          "data": {
            "text/plain": [
              "<IPython.core.display.HTML object>"
            ],
            "text/html": [
              "Syncing run <strong><a href='https://wandb.ai/mrekh21-free-university-of-tbilisi-/emotion-recognition/runs/ziz3pfat' target=\"_blank\">weighted_CNN_hparam_tuning_11</a></strong> to <a href='https://wandb.ai/mrekh21-free-university-of-tbilisi-/emotion-recognition' target=\"_blank\">Weights & Biases</a> (<a href='https://wandb.me/developer-guide' target=\"_blank\">docs</a>)<br>"
            ]
          },
          "metadata": {}
        },
        {
          "output_type": "display_data",
          "data": {
            "text/plain": [
              "<IPython.core.display.HTML object>"
            ],
            "text/html": [
              " View project at <a href='https://wandb.ai/mrekh21-free-university-of-tbilisi-/emotion-recognition' target=\"_blank\">https://wandb.ai/mrekh21-free-university-of-tbilisi-/emotion-recognition</a>"
            ]
          },
          "metadata": {}
        },
        {
          "output_type": "display_data",
          "data": {
            "text/plain": [
              "<IPython.core.display.HTML object>"
            ],
            "text/html": [
              " View run at <a href='https://wandb.ai/mrekh21-free-university-of-tbilisi-/emotion-recognition/runs/ziz3pfat' target=\"_blank\">https://wandb.ai/mrekh21-free-university-of-tbilisi-/emotion-recognition/runs/ziz3pfat</a>"
            ]
          },
          "metadata": {}
        },
        {
          "output_type": "display_data",
          "data": {
            "text/plain": [
              "<IPython.core.display.HTML object>"
            ],
            "text/html": []
          },
          "metadata": {}
        },
        {
          "output_type": "display_data",
          "data": {
            "text/plain": [
              "<IPython.core.display.HTML object>"
            ],
            "text/html": [
              "<br>    <style><br>        .wandb-row {<br>            display: flex;<br>            flex-direction: row;<br>            flex-wrap: wrap;<br>            justify-content: flex-start;<br>            width: 100%;<br>        }<br>        .wandb-col {<br>            display: flex;<br>            flex-direction: column;<br>            flex-basis: 100%;<br>            flex: 1;<br>            padding: 10px;<br>        }<br>    </style><br><div class=\"wandb-row\"><div class=\"wandb-col\"><h3>Run history:</h3><br/><table class=\"wandb\"><tr><td>epoch</td><td>▁▂▂▃▄▄▅▅▆▇▇█</td></tr><tr><td>train_acc</td><td>▃▅▆▆█▆▄▅▁▄▃▄</td></tr><tr><td>train_loss</td><td>█▁▁▁▁▁▁▁▁▁▁▁</td></tr><tr><td>val_acc</td><td>▄▄▂▂▂▄█▄▂▁▁▄</td></tr><tr><td>val_loss</td><td>▅▁█▆▃▆▂▂▅▁▂▃</td></tr></table><br/></div><div class=\"wandb-col\"><h3>Run summary:</h3><br/><table class=\"wandb\"><tr><td>epoch</td><td>12</td></tr><tr><td>train_acc</td><td>0.14584</td></tr><tr><td>train_loss</td><td>1.94959</td></tr><tr><td>val_acc</td><td>0.18194</td></tr><tr><td>val_loss</td><td>1.94746</td></tr></table><br/></div></div>"
            ]
          },
          "metadata": {}
        },
        {
          "output_type": "display_data",
          "data": {
            "text/plain": [
              "<IPython.core.display.HTML object>"
            ],
            "text/html": [
              " View run <strong style=\"color:#cdcd00\">weighted_CNN_hparam_tuning_11</strong> at: <a href='https://wandb.ai/mrekh21-free-university-of-tbilisi-/emotion-recognition/runs/ziz3pfat' target=\"_blank\">https://wandb.ai/mrekh21-free-university-of-tbilisi-/emotion-recognition/runs/ziz3pfat</a><br> View project at: <a href='https://wandb.ai/mrekh21-free-university-of-tbilisi-/emotion-recognition' target=\"_blank\">https://wandb.ai/mrekh21-free-university-of-tbilisi-/emotion-recognition</a><br>Synced 5 W&B file(s), 0 media file(s), 0 artifact file(s) and 0 other file(s)"
            ]
          },
          "metadata": {}
        },
        {
          "output_type": "display_data",
          "data": {
            "text/plain": [
              "<IPython.core.display.HTML object>"
            ],
            "text/html": [
              "Find logs at: <code>./wandb/run-20250602_125328-ziz3pfat/logs</code>"
            ]
          },
          "metadata": {}
        },
        {
          "output_type": "stream",
          "name": "stderr",
          "text": [
            "\rHyperparameter Trials:  37%|███▋      | 11/30 [09:22<12:33, 39.63s/it]"
          ]
        },
        {
          "output_type": "stream",
          "name": "stdout",
          "text": [
            "\n",
            " Running config 12/30: {'conv_layers_config': [(16, 3), (32, 3), (64, 3)], 'dropout_conv': 0.1, 'dropout_fc': 0.3, 'norm_type': 'none', 'pool_type': 'none', 'lr': 0.05, 'batch_size': 64, 'epochs': 20}\n"
          ]
        },
        {
          "output_type": "display_data",
          "data": {
            "text/plain": [
              "<IPython.core.display.HTML object>"
            ],
            "text/html": [
              "Tracking run with wandb version 0.19.11"
            ]
          },
          "metadata": {}
        },
        {
          "output_type": "display_data",
          "data": {
            "text/plain": [
              "<IPython.core.display.HTML object>"
            ],
            "text/html": [
              "Run data is saved locally in <code>/content/Emotion_Recognition/wandb/run-20250602_125400-vswu251g</code>"
            ]
          },
          "metadata": {}
        },
        {
          "output_type": "display_data",
          "data": {
            "text/plain": [
              "<IPython.core.display.HTML object>"
            ],
            "text/html": [
              "Syncing run <strong><a href='https://wandb.ai/mrekh21-free-university-of-tbilisi-/emotion-recognition/runs/vswu251g' target=\"_blank\">weighted_CNN_hparam_tuning_12</a></strong> to <a href='https://wandb.ai/mrekh21-free-university-of-tbilisi-/emotion-recognition' target=\"_blank\">Weights & Biases</a> (<a href='https://wandb.me/developer-guide' target=\"_blank\">docs</a>)<br>"
            ]
          },
          "metadata": {}
        },
        {
          "output_type": "display_data",
          "data": {
            "text/plain": [
              "<IPython.core.display.HTML object>"
            ],
            "text/html": [
              " View project at <a href='https://wandb.ai/mrekh21-free-university-of-tbilisi-/emotion-recognition' target=\"_blank\">https://wandb.ai/mrekh21-free-university-of-tbilisi-/emotion-recognition</a>"
            ]
          },
          "metadata": {}
        },
        {
          "output_type": "display_data",
          "data": {
            "text/plain": [
              "<IPython.core.display.HTML object>"
            ],
            "text/html": [
              " View run at <a href='https://wandb.ai/mrekh21-free-university-of-tbilisi-/emotion-recognition/runs/vswu251g' target=\"_blank\">https://wandb.ai/mrekh21-free-university-of-tbilisi-/emotion-recognition/runs/vswu251g</a>"
            ]
          },
          "metadata": {}
        },
        {
          "output_type": "display_data",
          "data": {
            "text/plain": [
              "<IPython.core.display.HTML object>"
            ],
            "text/html": []
          },
          "metadata": {}
        },
        {
          "output_type": "display_data",
          "data": {
            "text/plain": [
              "<IPython.core.display.HTML object>"
            ],
            "text/html": [
              "<br>    <style><br>        .wandb-row {<br>            display: flex;<br>            flex-direction: row;<br>            flex-wrap: wrap;<br>            justify-content: flex-start;<br>            width: 100%;<br>        }<br>        .wandb-col {<br>            display: flex;<br>            flex-direction: column;<br>            flex-basis: 100%;<br>            flex: 1;<br>            padding: 10px;<br>        }<br>    </style><br><div class=\"wandb-row\"><div class=\"wandb-col\"><h3>Run history:</h3><br/><table class=\"wandb\"><tr><td>epoch</td><td>▁▂▃▅▆▇█</td></tr><tr><td>train_acc</td><td>▅▇▆█▅▁▃</td></tr><tr><td>train_loss</td><td>█▁▁▁▁▁▁</td></tr><tr><td>val_acc</td><td>▁█▁▆▂▁▂</td></tr><tr><td>val_loss</td><td>▃▇█▂▁▅▄</td></tr></table><br/></div><div class=\"wandb-col\"><h3>Run summary:</h3><br/><table class=\"wandb\"><tr><td>epoch</td><td>7</td></tr><tr><td>train_acc</td><td>0.14361</td></tr><tr><td>train_loss</td><td>1.95018</td></tr><tr><td>val_acc</td><td>0.1382</td></tr><tr><td>val_loss</td><td>1.94973</td></tr></table><br/></div></div>"
            ]
          },
          "metadata": {}
        },
        {
          "output_type": "display_data",
          "data": {
            "text/plain": [
              "<IPython.core.display.HTML object>"
            ],
            "text/html": [
              " View run <strong style=\"color:#cdcd00\">weighted_CNN_hparam_tuning_12</strong> at: <a href='https://wandb.ai/mrekh21-free-university-of-tbilisi-/emotion-recognition/runs/vswu251g' target=\"_blank\">https://wandb.ai/mrekh21-free-university-of-tbilisi-/emotion-recognition/runs/vswu251g</a><br> View project at: <a href='https://wandb.ai/mrekh21-free-university-of-tbilisi-/emotion-recognition' target=\"_blank\">https://wandb.ai/mrekh21-free-university-of-tbilisi-/emotion-recognition</a><br>Synced 5 W&B file(s), 0 media file(s), 0 artifact file(s) and 0 other file(s)"
            ]
          },
          "metadata": {}
        },
        {
          "output_type": "display_data",
          "data": {
            "text/plain": [
              "<IPython.core.display.HTML object>"
            ],
            "text/html": [
              "Find logs at: <code>./wandb/run-20250602_125400-vswu251g/logs</code>"
            ]
          },
          "metadata": {}
        },
        {
          "output_type": "stream",
          "name": "stderr",
          "text": [
            "\rHyperparameter Trials:  40%|████      | 12/30 [10:27<14:12, 47.38s/it]"
          ]
        },
        {
          "output_type": "stream",
          "name": "stdout",
          "text": [
            "\n",
            " Running config 13/30: {'conv_layers_config': [(32, 3), (64, 3), (128, 3)], 'dropout_conv': 0.3, 'dropout_fc': 0.3, 'norm_type': 'batch', 'pool_type': 'none', 'lr': 0.01, 'batch_size': 128, 'epochs': 20}\n"
          ]
        },
        {
          "output_type": "display_data",
          "data": {
            "text/plain": [
              "<IPython.core.display.HTML object>"
            ],
            "text/html": [
              "Tracking run with wandb version 0.19.11"
            ]
          },
          "metadata": {}
        },
        {
          "output_type": "display_data",
          "data": {
            "text/plain": [
              "<IPython.core.display.HTML object>"
            ],
            "text/html": [
              "Run data is saved locally in <code>/content/Emotion_Recognition/wandb/run-20250602_125505-51j9fuo3</code>"
            ]
          },
          "metadata": {}
        },
        {
          "output_type": "display_data",
          "data": {
            "text/plain": [
              "<IPython.core.display.HTML object>"
            ],
            "text/html": [
              "Syncing run <strong><a href='https://wandb.ai/mrekh21-free-university-of-tbilisi-/emotion-recognition/runs/51j9fuo3' target=\"_blank\">weighted_CNN_hparam_tuning_13</a></strong> to <a href='https://wandb.ai/mrekh21-free-university-of-tbilisi-/emotion-recognition' target=\"_blank\">Weights & Biases</a> (<a href='https://wandb.me/developer-guide' target=\"_blank\">docs</a>)<br>"
            ]
          },
          "metadata": {}
        },
        {
          "output_type": "display_data",
          "data": {
            "text/plain": [
              "<IPython.core.display.HTML object>"
            ],
            "text/html": [
              " View project at <a href='https://wandb.ai/mrekh21-free-university-of-tbilisi-/emotion-recognition' target=\"_blank\">https://wandb.ai/mrekh21-free-university-of-tbilisi-/emotion-recognition</a>"
            ]
          },
          "metadata": {}
        },
        {
          "output_type": "display_data",
          "data": {
            "text/plain": [
              "<IPython.core.display.HTML object>"
            ],
            "text/html": [
              " View run at <a href='https://wandb.ai/mrekh21-free-university-of-tbilisi-/emotion-recognition/runs/51j9fuo3' target=\"_blank\">https://wandb.ai/mrekh21-free-university-of-tbilisi-/emotion-recognition/runs/51j9fuo3</a>"
            ]
          },
          "metadata": {}
        },
        {
          "output_type": "display_data",
          "data": {
            "text/plain": [
              "<IPython.core.display.HTML object>"
            ],
            "text/html": []
          },
          "metadata": {}
        },
        {
          "output_type": "display_data",
          "data": {
            "text/plain": [
              "<IPython.core.display.HTML object>"
            ],
            "text/html": [
              "<br>    <style><br>        .wandb-row {<br>            display: flex;<br>            flex-direction: row;<br>            flex-wrap: wrap;<br>            justify-content: flex-start;<br>            width: 100%;<br>        }<br>        .wandb-col {<br>            display: flex;<br>            flex-direction: column;<br>            flex-basis: 100%;<br>            flex: 1;<br>            padding: 10px;<br>        }<br>    </style><br><div class=\"wandb-row\"><div class=\"wandb-col\"><h3>Run history:</h3><br/><table class=\"wandb\"><tr><td>epoch</td><td>▁▂▄▅▇█</td></tr><tr><td>train_acc</td><td>▃▁█▄▆▃</td></tr><tr><td>train_loss</td><td>█▁▁▁▁▁</td></tr><tr><td>val_acc</td><td>█▄▁▄▄▂</td></tr><tr><td>val_loss</td><td>▃▃▃▁▆█</td></tr></table><br/></div><div class=\"wandb-col\"><h3>Run summary:</h3><br/><table class=\"wandb\"><tr><td>epoch</td><td>6</td></tr><tr><td>train_acc</td><td>0.14044</td></tr><tr><td>train_loss</td><td>1.94664</td></tr><tr><td>val_acc</td><td>0.1382</td></tr><tr><td>val_loss</td><td>1.94703</td></tr></table><br/></div></div>"
            ]
          },
          "metadata": {}
        },
        {
          "output_type": "display_data",
          "data": {
            "text/plain": [
              "<IPython.core.display.HTML object>"
            ],
            "text/html": [
              " View run <strong style=\"color:#cdcd00\">weighted_CNN_hparam_tuning_13</strong> at: <a href='https://wandb.ai/mrekh21-free-university-of-tbilisi-/emotion-recognition/runs/51j9fuo3' target=\"_blank\">https://wandb.ai/mrekh21-free-university-of-tbilisi-/emotion-recognition/runs/51j9fuo3</a><br> View project at: <a href='https://wandb.ai/mrekh21-free-university-of-tbilisi-/emotion-recognition' target=\"_blank\">https://wandb.ai/mrekh21-free-university-of-tbilisi-/emotion-recognition</a><br>Synced 5 W&B file(s), 0 media file(s), 0 artifact file(s) and 0 other file(s)"
            ]
          },
          "metadata": {}
        },
        {
          "output_type": "display_data",
          "data": {
            "text/plain": [
              "<IPython.core.display.HTML object>"
            ],
            "text/html": [
              "Find logs at: <code>./wandb/run-20250602_125505-51j9fuo3/logs</code>"
            ]
          },
          "metadata": {}
        },
        {
          "output_type": "stream",
          "name": "stderr",
          "text": [
            "\rHyperparameter Trials:  43%|████▎     | 13/30 [12:15<18:37, 65.72s/it]"
          ]
        },
        {
          "output_type": "stream",
          "name": "stdout",
          "text": [
            "\n",
            " Running config 14/30: {'conv_layers_config': [(32, 3), (64, 3), (128, 3)], 'dropout_conv': 0.3, 'dropout_fc': 0.3, 'norm_type': 'batch', 'pool_type': 'max', 'lr': 0.01, 'batch_size': 128, 'epochs': 20}\n"
          ]
        },
        {
          "output_type": "display_data",
          "data": {
            "text/plain": [
              "<IPython.core.display.HTML object>"
            ],
            "text/html": [
              "Tracking run with wandb version 0.19.11"
            ]
          },
          "metadata": {}
        },
        {
          "output_type": "display_data",
          "data": {
            "text/plain": [
              "<IPython.core.display.HTML object>"
            ],
            "text/html": [
              "Run data is saved locally in <code>/content/Emotion_Recognition/wandb/run-20250602_125653-e0t53j6k</code>"
            ]
          },
          "metadata": {}
        },
        {
          "output_type": "display_data",
          "data": {
            "text/plain": [
              "<IPython.core.display.HTML object>"
            ],
            "text/html": [
              "Syncing run <strong><a href='https://wandb.ai/mrekh21-free-university-of-tbilisi-/emotion-recognition/runs/e0t53j6k' target=\"_blank\">weighted_CNN_hparam_tuning_14</a></strong> to <a href='https://wandb.ai/mrekh21-free-university-of-tbilisi-/emotion-recognition' target=\"_blank\">Weights & Biases</a> (<a href='https://wandb.me/developer-guide' target=\"_blank\">docs</a>)<br>"
            ]
          },
          "metadata": {}
        },
        {
          "output_type": "display_data",
          "data": {
            "text/plain": [
              "<IPython.core.display.HTML object>"
            ],
            "text/html": [
              " View project at <a href='https://wandb.ai/mrekh21-free-university-of-tbilisi-/emotion-recognition' target=\"_blank\">https://wandb.ai/mrekh21-free-university-of-tbilisi-/emotion-recognition</a>"
            ]
          },
          "metadata": {}
        },
        {
          "output_type": "display_data",
          "data": {
            "text/plain": [
              "<IPython.core.display.HTML object>"
            ],
            "text/html": [
              " View run at <a href='https://wandb.ai/mrekh21-free-university-of-tbilisi-/emotion-recognition/runs/e0t53j6k' target=\"_blank\">https://wandb.ai/mrekh21-free-university-of-tbilisi-/emotion-recognition/runs/e0t53j6k</a>"
            ]
          },
          "metadata": {}
        },
        {
          "output_type": "display_data",
          "data": {
            "text/plain": [
              "<IPython.core.display.HTML object>"
            ],
            "text/html": []
          },
          "metadata": {}
        },
        {
          "output_type": "display_data",
          "data": {
            "text/plain": [
              "<IPython.core.display.HTML object>"
            ],
            "text/html": [
              "<br>    <style><br>        .wandb-row {<br>            display: flex;<br>            flex-direction: row;<br>            flex-wrap: wrap;<br>            justify-content: flex-start;<br>            width: 100%;<br>        }<br>        .wandb-col {<br>            display: flex;<br>            flex-direction: column;<br>            flex-basis: 100%;<br>            flex: 1;<br>            padding: 10px;<br>        }<br>    </style><br><div class=\"wandb-row\"><div class=\"wandb-col\"><h3>Run history:</h3><br/><table class=\"wandb\"><tr><td>epoch</td><td>▁▁▂▂▃▃▄▄▅▅▅▆▆▇▇██</td></tr><tr><td>train_acc</td><td>▃▅▅▅▆▆▄█▅▄▃▄▂▂▁▃▃</td></tr><tr><td>train_loss</td><td>█▃▃▃▂▂▂▂▁▁▁▁▁▁▁▁▁</td></tr><tr><td>val_acc</td><td>▅▄▅▂▆▆▇▇▃▆▁█▄▃▄▂▃</td></tr><tr><td>val_loss</td><td>█▆▇▄▅▃▂▄▂▂▆▂▁▂▁▂▂</td></tr></table><br/></div><div class=\"wandb-col\"><h3>Run summary:</h3><br/><table class=\"wandb\"><tr><td>epoch</td><td>17</td></tr><tr><td>train_acc</td><td>0.17517</td></tr><tr><td>train_loss</td><td>1.77661</td></tr><tr><td>val_acc</td><td>0.14071</td></tr><tr><td>val_loss</td><td>1.74824</td></tr></table><br/></div></div>"
            ]
          },
          "metadata": {}
        },
        {
          "output_type": "display_data",
          "data": {
            "text/plain": [
              "<IPython.core.display.HTML object>"
            ],
            "text/html": [
              " View run <strong style=\"color:#cdcd00\">weighted_CNN_hparam_tuning_14</strong> at: <a href='https://wandb.ai/mrekh21-free-university-of-tbilisi-/emotion-recognition/runs/e0t53j6k' target=\"_blank\">https://wandb.ai/mrekh21-free-university-of-tbilisi-/emotion-recognition/runs/e0t53j6k</a><br> View project at: <a href='https://wandb.ai/mrekh21-free-university-of-tbilisi-/emotion-recognition' target=\"_blank\">https://wandb.ai/mrekh21-free-university-of-tbilisi-/emotion-recognition</a><br>Synced 5 W&B file(s), 0 media file(s), 0 artifact file(s) and 0 other file(s)"
            ]
          },
          "metadata": {}
        },
        {
          "output_type": "display_data",
          "data": {
            "text/plain": [
              "<IPython.core.display.HTML object>"
            ],
            "text/html": [
              "Find logs at: <code>./wandb/run-20250602_125653-e0t53j6k/logs</code>"
            ]
          },
          "metadata": {}
        },
        {
          "output_type": "stream",
          "name": "stderr",
          "text": [
            "\rHyperparameter Trials:  47%|████▋     | 14/30 [13:13<16:54, 63.39s/it]"
          ]
        },
        {
          "output_type": "stream",
          "name": "stdout",
          "text": [
            "\n",
            " Running config 15/30: {'conv_layers_config': [(32, 3), (64, 3), (128, 3)], 'dropout_conv': 0.3, 'dropout_fc': 0.4, 'norm_type': 'batch', 'pool_type': 'none', 'lr': 0.01, 'batch_size': 64, 'epochs': 20}\n"
          ]
        },
        {
          "output_type": "display_data",
          "data": {
            "text/plain": [
              "<IPython.core.display.HTML object>"
            ],
            "text/html": [
              "Tracking run with wandb version 0.19.11"
            ]
          },
          "metadata": {}
        },
        {
          "output_type": "display_data",
          "data": {
            "text/plain": [
              "<IPython.core.display.HTML object>"
            ],
            "text/html": [
              "Run data is saved locally in <code>/content/Emotion_Recognition/wandb/run-20250602_125751-z3qr9daz</code>"
            ]
          },
          "metadata": {}
        },
        {
          "output_type": "display_data",
          "data": {
            "text/plain": [
              "<IPython.core.display.HTML object>"
            ],
            "text/html": [
              "Syncing run <strong><a href='https://wandb.ai/mrekh21-free-university-of-tbilisi-/emotion-recognition/runs/z3qr9daz' target=\"_blank\">weighted_CNN_hparam_tuning_15</a></strong> to <a href='https://wandb.ai/mrekh21-free-university-of-tbilisi-/emotion-recognition' target=\"_blank\">Weights & Biases</a> (<a href='https://wandb.me/developer-guide' target=\"_blank\">docs</a>)<br>"
            ]
          },
          "metadata": {}
        },
        {
          "output_type": "display_data",
          "data": {
            "text/plain": [
              "<IPython.core.display.HTML object>"
            ],
            "text/html": [
              " View project at <a href='https://wandb.ai/mrekh21-free-university-of-tbilisi-/emotion-recognition' target=\"_blank\">https://wandb.ai/mrekh21-free-university-of-tbilisi-/emotion-recognition</a>"
            ]
          },
          "metadata": {}
        },
        {
          "output_type": "display_data",
          "data": {
            "text/plain": [
              "<IPython.core.display.HTML object>"
            ],
            "text/html": [
              " View run at <a href='https://wandb.ai/mrekh21-free-university-of-tbilisi-/emotion-recognition/runs/z3qr9daz' target=\"_blank\">https://wandb.ai/mrekh21-free-university-of-tbilisi-/emotion-recognition/runs/z3qr9daz</a>"
            ]
          },
          "metadata": {}
        },
        {
          "output_type": "display_data",
          "data": {
            "text/plain": [
              "<IPython.core.display.HTML object>"
            ],
            "text/html": []
          },
          "metadata": {}
        },
        {
          "output_type": "display_data",
          "data": {
            "text/plain": [
              "<IPython.core.display.HTML object>"
            ],
            "text/html": [
              "<br>    <style><br>        .wandb-row {<br>            display: flex;<br>            flex-direction: row;<br>            flex-wrap: wrap;<br>            justify-content: flex-start;<br>            width: 100%;<br>        }<br>        .wandb-col {<br>            display: flex;<br>            flex-direction: column;<br>            flex-basis: 100%;<br>            flex: 1;<br>            padding: 10px;<br>        }<br>    </style><br><div class=\"wandb-row\"><div class=\"wandb-col\"><h3>Run history:</h3><br/><table class=\"wandb\"><tr><td>epoch</td><td>▁▂▂▃▄▅▅▆▇▇█</td></tr><tr><td>train_acc</td><td>▆▂▃█▄█▆▁▂▆▄</td></tr><tr><td>train_loss</td><td>█▁▁▁▁▁▁▁▁▁▁</td></tr><tr><td>val_acc</td><td>▁▄▁▂▂█▁▂▄▄▂</td></tr><tr><td>val_loss</td><td>█▆▁▇▄▂▂▁▄▁█</td></tr></table><br/></div><div class=\"wandb-col\"><h3>Run summary:</h3><br/><table class=\"wandb\"><tr><td>epoch</td><td>11</td></tr><tr><td>train_acc</td><td>0.16225</td></tr><tr><td>train_loss</td><td>1.94593</td></tr><tr><td>val_acc</td><td>0.13012</td></tr><tr><td>val_loss</td><td>1.94769</td></tr></table><br/></div></div>"
            ]
          },
          "metadata": {}
        },
        {
          "output_type": "display_data",
          "data": {
            "text/plain": [
              "<IPython.core.display.HTML object>"
            ],
            "text/html": [
              " View run <strong style=\"color:#cdcd00\">weighted_CNN_hparam_tuning_15</strong> at: <a href='https://wandb.ai/mrekh21-free-university-of-tbilisi-/emotion-recognition/runs/z3qr9daz' target=\"_blank\">https://wandb.ai/mrekh21-free-university-of-tbilisi-/emotion-recognition/runs/z3qr9daz</a><br> View project at: <a href='https://wandb.ai/mrekh21-free-university-of-tbilisi-/emotion-recognition' target=\"_blank\">https://wandb.ai/mrekh21-free-university-of-tbilisi-/emotion-recognition</a><br>Synced 5 W&B file(s), 0 media file(s), 0 artifact file(s) and 0 other file(s)"
            ]
          },
          "metadata": {}
        },
        {
          "output_type": "display_data",
          "data": {
            "text/plain": [
              "<IPython.core.display.HTML object>"
            ],
            "text/html": [
              "Find logs at: <code>./wandb/run-20250602_125751-z3qr9daz/logs</code>"
            ]
          },
          "metadata": {}
        },
        {
          "output_type": "stream",
          "name": "stderr",
          "text": [
            "\rHyperparameter Trials:  50%|█████     | 15/30 [16:59<28:04, 112.28s/it]"
          ]
        },
        {
          "output_type": "stream",
          "name": "stdout",
          "text": [
            "\n",
            " Running config 16/30: {'conv_layers_config': [(32, 3), (64, 3), (128, 3)], 'dropout_conv': 0.1, 'dropout_fc': 0.3, 'norm_type': 'none', 'pool_type': 'max', 'lr': 0.05, 'batch_size': 128, 'epochs': 20}\n"
          ]
        },
        {
          "output_type": "display_data",
          "data": {
            "text/plain": [
              "<IPython.core.display.HTML object>"
            ],
            "text/html": [
              "Tracking run with wandb version 0.19.11"
            ]
          },
          "metadata": {}
        },
        {
          "output_type": "display_data",
          "data": {
            "text/plain": [
              "<IPython.core.display.HTML object>"
            ],
            "text/html": [
              "Run data is saved locally in <code>/content/Emotion_Recognition/wandb/run-20250602_130136-3wuaxiia</code>"
            ]
          },
          "metadata": {}
        },
        {
          "output_type": "display_data",
          "data": {
            "text/plain": [
              "<IPython.core.display.HTML object>"
            ],
            "text/html": [
              "Syncing run <strong><a href='https://wandb.ai/mrekh21-free-university-of-tbilisi-/emotion-recognition/runs/3wuaxiia' target=\"_blank\">weighted_CNN_hparam_tuning_16</a></strong> to <a href='https://wandb.ai/mrekh21-free-university-of-tbilisi-/emotion-recognition' target=\"_blank\">Weights & Biases</a> (<a href='https://wandb.me/developer-guide' target=\"_blank\">docs</a>)<br>"
            ]
          },
          "metadata": {}
        },
        {
          "output_type": "display_data",
          "data": {
            "text/plain": [
              "<IPython.core.display.HTML object>"
            ],
            "text/html": [
              " View project at <a href='https://wandb.ai/mrekh21-free-university-of-tbilisi-/emotion-recognition' target=\"_blank\">https://wandb.ai/mrekh21-free-university-of-tbilisi-/emotion-recognition</a>"
            ]
          },
          "metadata": {}
        },
        {
          "output_type": "display_data",
          "data": {
            "text/plain": [
              "<IPython.core.display.HTML object>"
            ],
            "text/html": [
              " View run at <a href='https://wandb.ai/mrekh21-free-university-of-tbilisi-/emotion-recognition/runs/3wuaxiia' target=\"_blank\">https://wandb.ai/mrekh21-free-university-of-tbilisi-/emotion-recognition/runs/3wuaxiia</a>"
            ]
          },
          "metadata": {}
        },
        {
          "output_type": "display_data",
          "data": {
            "text/plain": [
              "<IPython.core.display.HTML object>"
            ],
            "text/html": []
          },
          "metadata": {}
        },
        {
          "output_type": "display_data",
          "data": {
            "text/plain": [
              "<IPython.core.display.HTML object>"
            ],
            "text/html": [
              "<br>    <style><br>        .wandb-row {<br>            display: flex;<br>            flex-direction: row;<br>            flex-wrap: wrap;<br>            justify-content: flex-start;<br>            width: 100%;<br>        }<br>        .wandb-col {<br>            display: flex;<br>            flex-direction: column;<br>            flex-basis: 100%;<br>            flex: 1;<br>            padding: 10px;<br>        }<br>    </style><br><div class=\"wandb-row\"><div class=\"wandb-col\"><h3>Run history:</h3><br/><table class=\"wandb\"><tr><td>epoch</td><td>▁▂▂▃▄▅▅▆▇▇█</td></tr><tr><td>train_acc</td><td>█▅▅▇▄▄█▁▆▆▇</td></tr><tr><td>train_loss</td><td>█▁▁▁▁▁▁▁▁▁▁</td></tr><tr><td>val_acc</td><td>▁▆▇▇▆█▁▅▆▇▆</td></tr><tr><td>val_loss</td><td>▃▃▂▂▂▁▆▅█▁▂</td></tr></table><br/></div><div class=\"wandb-col\"><h3>Run summary:</h3><br/><table class=\"wandb\"><tr><td>epoch</td><td>11</td></tr><tr><td>train_acc</td><td>0.15068</td></tr><tr><td>train_loss</td><td>1.94852</td></tr><tr><td>val_acc</td><td>0.1382</td></tr><tr><td>val_loss</td><td>1.94825</td></tr></table><br/></div></div>"
            ]
          },
          "metadata": {}
        },
        {
          "output_type": "display_data",
          "data": {
            "text/plain": [
              "<IPython.core.display.HTML object>"
            ],
            "text/html": [
              " View run <strong style=\"color:#cdcd00\">weighted_CNN_hparam_tuning_16</strong> at: <a href='https://wandb.ai/mrekh21-free-university-of-tbilisi-/emotion-recognition/runs/3wuaxiia' target=\"_blank\">https://wandb.ai/mrekh21-free-university-of-tbilisi-/emotion-recognition/runs/3wuaxiia</a><br> View project at: <a href='https://wandb.ai/mrekh21-free-university-of-tbilisi-/emotion-recognition' target=\"_blank\">https://wandb.ai/mrekh21-free-university-of-tbilisi-/emotion-recognition</a><br>Synced 5 W&B file(s), 0 media file(s), 0 artifact file(s) and 0 other file(s)"
            ]
          },
          "metadata": {}
        },
        {
          "output_type": "display_data",
          "data": {
            "text/plain": [
              "<IPython.core.display.HTML object>"
            ],
            "text/html": [
              "Find logs at: <code>./wandb/run-20250602_130136-3wuaxiia/logs</code>"
            ]
          },
          "metadata": {}
        },
        {
          "output_type": "stream",
          "name": "stderr",
          "text": [
            "\rHyperparameter Trials:  53%|█████▎    | 16/30 [17:31<20:33, 88.14s/it] "
          ]
        },
        {
          "output_type": "stream",
          "name": "stdout",
          "text": [
            "\n",
            " Running config 17/30: {'conv_layers_config': [(32, 3), (64, 3), (128, 3)], 'dropout_conv': 0.3, 'dropout_fc': 0.4, 'norm_type': 'layer', 'pool_type': 'none', 'lr': 0.05, 'batch_size': 128, 'epochs': 20}\n"
          ]
        },
        {
          "output_type": "display_data",
          "data": {
            "text/plain": [
              "<IPython.core.display.HTML object>"
            ],
            "text/html": [
              "Tracking run with wandb version 0.19.11"
            ]
          },
          "metadata": {}
        },
        {
          "output_type": "display_data",
          "data": {
            "text/plain": [
              "<IPython.core.display.HTML object>"
            ],
            "text/html": [
              "Run data is saved locally in <code>/content/Emotion_Recognition/wandb/run-20250602_130208-ziv94na0</code>"
            ]
          },
          "metadata": {}
        },
        {
          "output_type": "display_data",
          "data": {
            "text/plain": [
              "<IPython.core.display.HTML object>"
            ],
            "text/html": [
              "Syncing run <strong><a href='https://wandb.ai/mrekh21-free-university-of-tbilisi-/emotion-recognition/runs/ziv94na0' target=\"_blank\">weighted_CNN_hparam_tuning_17</a></strong> to <a href='https://wandb.ai/mrekh21-free-university-of-tbilisi-/emotion-recognition' target=\"_blank\">Weights & Biases</a> (<a href='https://wandb.me/developer-guide' target=\"_blank\">docs</a>)<br>"
            ]
          },
          "metadata": {}
        },
        {
          "output_type": "display_data",
          "data": {
            "text/plain": [
              "<IPython.core.display.HTML object>"
            ],
            "text/html": [
              " View project at <a href='https://wandb.ai/mrekh21-free-university-of-tbilisi-/emotion-recognition' target=\"_blank\">https://wandb.ai/mrekh21-free-university-of-tbilisi-/emotion-recognition</a>"
            ]
          },
          "metadata": {}
        },
        {
          "output_type": "display_data",
          "data": {
            "text/plain": [
              "<IPython.core.display.HTML object>"
            ],
            "text/html": [
              " View run at <a href='https://wandb.ai/mrekh21-free-university-of-tbilisi-/emotion-recognition/runs/ziv94na0' target=\"_blank\">https://wandb.ai/mrekh21-free-university-of-tbilisi-/emotion-recognition/runs/ziv94na0</a>"
            ]
          },
          "metadata": {}
        },
        {
          "output_type": "display_data",
          "data": {
            "text/plain": [
              "<IPython.core.display.HTML object>"
            ],
            "text/html": []
          },
          "metadata": {}
        },
        {
          "output_type": "display_data",
          "data": {
            "text/plain": [
              "<IPython.core.display.HTML object>"
            ],
            "text/html": [
              "<br>    <style><br>        .wandb-row {<br>            display: flex;<br>            flex-direction: row;<br>            flex-wrap: wrap;<br>            justify-content: flex-start;<br>            width: 100%;<br>        }<br>        .wandb-col {<br>            display: flex;<br>            flex-direction: column;<br>            flex-basis: 100%;<br>            flex: 1;<br>            padding: 10px;<br>        }<br>    </style><br><div class=\"wandb-row\"><div class=\"wandb-col\"><h3>Run history:</h3><br/><table class=\"wandb\"><tr><td>epoch</td><td>▁▂▃▅▆▇█</td></tr><tr><td>train_acc</td><td>▆▁█▇▇▄▆</td></tr><tr><td>train_loss</td><td>█▁▁▁▁▁▁</td></tr><tr><td>val_acc</td><td>▁██▁▁▄▁</td></tr><tr><td>val_loss</td><td>▁▂▅█▃▃▃</td></tr></table><br/></div><div class=\"wandb-col\"><h3>Run summary:</h3><br/><table class=\"wandb\"><tr><td>epoch</td><td>7</td></tr><tr><td>train_acc</td><td>0.13853</td></tr><tr><td>train_loss</td><td>1.94896</td></tr><tr><td>val_acc</td><td>0.1382</td></tr><tr><td>val_loss</td><td>1.9489</td></tr></table><br/></div></div>"
            ]
          },
          "metadata": {}
        },
        {
          "output_type": "display_data",
          "data": {
            "text/plain": [
              "<IPython.core.display.HTML object>"
            ],
            "text/html": [
              " View run <strong style=\"color:#cdcd00\">weighted_CNN_hparam_tuning_17</strong> at: <a href='https://wandb.ai/mrekh21-free-university-of-tbilisi-/emotion-recognition/runs/ziv94na0' target=\"_blank\">https://wandb.ai/mrekh21-free-university-of-tbilisi-/emotion-recognition/runs/ziv94na0</a><br> View project at: <a href='https://wandb.ai/mrekh21-free-university-of-tbilisi-/emotion-recognition' target=\"_blank\">https://wandb.ai/mrekh21-free-university-of-tbilisi-/emotion-recognition</a><br>Synced 5 W&B file(s), 0 media file(s), 0 artifact file(s) and 0 other file(s)"
            ]
          },
          "metadata": {}
        },
        {
          "output_type": "display_data",
          "data": {
            "text/plain": [
              "<IPython.core.display.HTML object>"
            ],
            "text/html": [
              "Find logs at: <code>./wandb/run-20250602_130208-ziv94na0/logs</code>"
            ]
          },
          "metadata": {}
        },
        {
          "output_type": "stream",
          "name": "stderr",
          "text": [
            "\rHyperparameter Trials:  57%|█████▋    | 17/30 [19:34<21:23, 98.74s/it]"
          ]
        },
        {
          "output_type": "stream",
          "name": "stdout",
          "text": [
            "\n",
            " Running config 18/30: {'conv_layers_config': [(16, 3), (32, 3), (64, 3)], 'dropout_conv': 0.1, 'dropout_fc': 0.4, 'norm_type': 'batch', 'pool_type': 'none', 'lr': 0.05, 'batch_size': 128, 'epochs': 20}\n"
          ]
        },
        {
          "output_type": "display_data",
          "data": {
            "text/plain": [
              "<IPython.core.display.HTML object>"
            ],
            "text/html": [
              "Tracking run with wandb version 0.19.11"
            ]
          },
          "metadata": {}
        },
        {
          "output_type": "display_data",
          "data": {
            "text/plain": [
              "<IPython.core.display.HTML object>"
            ],
            "text/html": [
              "Run data is saved locally in <code>/content/Emotion_Recognition/wandb/run-20250602_130412-9eqpyoog</code>"
            ]
          },
          "metadata": {}
        },
        {
          "output_type": "display_data",
          "data": {
            "text/plain": [
              "<IPython.core.display.HTML object>"
            ],
            "text/html": [
              "Syncing run <strong><a href='https://wandb.ai/mrekh21-free-university-of-tbilisi-/emotion-recognition/runs/9eqpyoog' target=\"_blank\">weighted_CNN_hparam_tuning_18</a></strong> to <a href='https://wandb.ai/mrekh21-free-university-of-tbilisi-/emotion-recognition' target=\"_blank\">Weights & Biases</a> (<a href='https://wandb.me/developer-guide' target=\"_blank\">docs</a>)<br>"
            ]
          },
          "metadata": {}
        },
        {
          "output_type": "display_data",
          "data": {
            "text/plain": [
              "<IPython.core.display.HTML object>"
            ],
            "text/html": [
              " View project at <a href='https://wandb.ai/mrekh21-free-university-of-tbilisi-/emotion-recognition' target=\"_blank\">https://wandb.ai/mrekh21-free-university-of-tbilisi-/emotion-recognition</a>"
            ]
          },
          "metadata": {}
        },
        {
          "output_type": "display_data",
          "data": {
            "text/plain": [
              "<IPython.core.display.HTML object>"
            ],
            "text/html": [
              " View run at <a href='https://wandb.ai/mrekh21-free-university-of-tbilisi-/emotion-recognition/runs/9eqpyoog' target=\"_blank\">https://wandb.ai/mrekh21-free-university-of-tbilisi-/emotion-recognition/runs/9eqpyoog</a>"
            ]
          },
          "metadata": {}
        },
        {
          "output_type": "display_data",
          "data": {
            "text/plain": [
              "<IPython.core.display.HTML object>"
            ],
            "text/html": []
          },
          "metadata": {}
        },
        {
          "output_type": "display_data",
          "data": {
            "text/plain": [
              "<IPython.core.display.HTML object>"
            ],
            "text/html": [
              "<br>    <style><br>        .wandb-row {<br>            display: flex;<br>            flex-direction: row;<br>            flex-wrap: wrap;<br>            justify-content: flex-start;<br>            width: 100%;<br>        }<br>        .wandb-col {<br>            display: flex;<br>            flex-direction: column;<br>            flex-basis: 100%;<br>            flex: 1;<br>            padding: 10px;<br>        }<br>    </style><br><div class=\"wandb-row\"><div class=\"wandb-col\"><h3>Run history:</h3><br/><table class=\"wandb\"><tr><td>epoch</td><td>▁▂▃▄▅▆▇█</td></tr><tr><td>train_acc</td><td>▅▁▇▁▄▅█▄</td></tr><tr><td>train_loss</td><td>█▁▁▁▁▁▁▁</td></tr><tr><td>val_acc</td><td>▂▂█▁▄▁▄▂</td></tr><tr><td>val_loss</td><td>▁█▁▁▁▁▁▁</td></tr></table><br/></div><div class=\"wandb-col\"><h3>Run summary:</h3><br/><table class=\"wandb\"><tr><td>epoch</td><td>8</td></tr><tr><td>train_acc</td><td>0.14497</td></tr><tr><td>train_loss</td><td>1.94913</td></tr><tr><td>val_acc</td><td>0.13012</td></tr><tr><td>val_loss</td><td>1.95921</td></tr></table><br/></div></div>"
            ]
          },
          "metadata": {}
        },
        {
          "output_type": "display_data",
          "data": {
            "text/plain": [
              "<IPython.core.display.HTML object>"
            ],
            "text/html": [
              " View run <strong style=\"color:#cdcd00\">weighted_CNN_hparam_tuning_18</strong> at: <a href='https://wandb.ai/mrekh21-free-university-of-tbilisi-/emotion-recognition/runs/9eqpyoog' target=\"_blank\">https://wandb.ai/mrekh21-free-university-of-tbilisi-/emotion-recognition/runs/9eqpyoog</a><br> View project at: <a href='https://wandb.ai/mrekh21-free-university-of-tbilisi-/emotion-recognition' target=\"_blank\">https://wandb.ai/mrekh21-free-university-of-tbilisi-/emotion-recognition</a><br>Synced 5 W&B file(s), 0 media file(s), 0 artifact file(s) and 0 other file(s)"
            ]
          },
          "metadata": {}
        },
        {
          "output_type": "display_data",
          "data": {
            "text/plain": [
              "<IPython.core.display.HTML object>"
            ],
            "text/html": [
              "Find logs at: <code>./wandb/run-20250602_130412-9eqpyoog/logs</code>"
            ]
          },
          "metadata": {}
        },
        {
          "output_type": "stream",
          "name": "stderr",
          "text": [
            "\rHyperparameter Trials:  60%|██████    | 18/30 [20:46<18:08, 90.68s/it]"
          ]
        },
        {
          "output_type": "stream",
          "name": "stdout",
          "text": [
            "\n",
            " Running config 19/30: {'conv_layers_config': [(16, 3), (32, 3), (64, 3)], 'dropout_conv': 0.3, 'dropout_fc': 0.2, 'norm_type': 'layer', 'pool_type': 'none', 'lr': 0.001, 'batch_size': 64, 'epochs': 20}\n"
          ]
        },
        {
          "output_type": "display_data",
          "data": {
            "text/plain": [
              "<IPython.core.display.HTML object>"
            ],
            "text/html": [
              "Tracking run with wandb version 0.19.11"
            ]
          },
          "metadata": {}
        },
        {
          "output_type": "display_data",
          "data": {
            "text/plain": [
              "<IPython.core.display.HTML object>"
            ],
            "text/html": [
              "Run data is saved locally in <code>/content/Emotion_Recognition/wandb/run-20250602_130524-n8veo3ml</code>"
            ]
          },
          "metadata": {}
        },
        {
          "output_type": "display_data",
          "data": {
            "text/plain": [
              "<IPython.core.display.HTML object>"
            ],
            "text/html": [
              "Syncing run <strong><a href='https://wandb.ai/mrekh21-free-university-of-tbilisi-/emotion-recognition/runs/n8veo3ml' target=\"_blank\">weighted_CNN_hparam_tuning_19</a></strong> to <a href='https://wandb.ai/mrekh21-free-university-of-tbilisi-/emotion-recognition' target=\"_blank\">Weights & Biases</a> (<a href='https://wandb.me/developer-guide' target=\"_blank\">docs</a>)<br>"
            ]
          },
          "metadata": {}
        },
        {
          "output_type": "display_data",
          "data": {
            "text/plain": [
              "<IPython.core.display.HTML object>"
            ],
            "text/html": [
              " View project at <a href='https://wandb.ai/mrekh21-free-university-of-tbilisi-/emotion-recognition' target=\"_blank\">https://wandb.ai/mrekh21-free-university-of-tbilisi-/emotion-recognition</a>"
            ]
          },
          "metadata": {}
        },
        {
          "output_type": "display_data",
          "data": {
            "text/plain": [
              "<IPython.core.display.HTML object>"
            ],
            "text/html": [
              " View run at <a href='https://wandb.ai/mrekh21-free-university-of-tbilisi-/emotion-recognition/runs/n8veo3ml' target=\"_blank\">https://wandb.ai/mrekh21-free-university-of-tbilisi-/emotion-recognition/runs/n8veo3ml</a>"
            ]
          },
          "metadata": {}
        },
        {
          "output_type": "display_data",
          "data": {
            "text/plain": [
              "<IPython.core.display.HTML object>"
            ],
            "text/html": []
          },
          "metadata": {}
        },
        {
          "output_type": "display_data",
          "data": {
            "text/plain": [
              "<IPython.core.display.HTML object>"
            ],
            "text/html": [
              "<br>    <style><br>        .wandb-row {<br>            display: flex;<br>            flex-direction: row;<br>            flex-wrap: wrap;<br>            justify-content: flex-start;<br>            width: 100%;<br>        }<br>        .wandb-col {<br>            display: flex;<br>            flex-direction: column;<br>            flex-basis: 100%;<br>            flex: 1;<br>            padding: 10px;<br>        }<br>    </style><br><div class=\"wandb-row\"><div class=\"wandb-col\"><h3>Run history:</h3><br/><table class=\"wandb\"><tr><td>epoch</td><td>▁▂▃▄▅▆▇█</td></tr><tr><td>train_acc</td><td>▁▅▅▆▇▇▆█</td></tr><tr><td>train_loss</td><td>█▁▁▁▁▁▁▁</td></tr><tr><td>val_acc</td><td>▁▄███▃██</td></tr><tr><td>val_loss</td><td>█▁▄▄▅▆▆▆</td></tr></table><br/></div><div class=\"wandb-col\"><h3>Run summary:</h3><br/><table class=\"wandb\"><tr><td>epoch</td><td>8</td></tr><tr><td>train_acc</td><td>0.23317</td></tr><tr><td>train_loss</td><td>1.94503</td></tr><tr><td>val_acc</td><td>0.24937</td></tr><tr><td>val_loss</td><td>1.94602</td></tr></table><br/></div></div>"
            ]
          },
          "metadata": {}
        },
        {
          "output_type": "display_data",
          "data": {
            "text/plain": [
              "<IPython.core.display.HTML object>"
            ],
            "text/html": [
              " View run <strong style=\"color:#cdcd00\">weighted_CNN_hparam_tuning_19</strong> at: <a href='https://wandb.ai/mrekh21-free-university-of-tbilisi-/emotion-recognition/runs/n8veo3ml' target=\"_blank\">https://wandb.ai/mrekh21-free-university-of-tbilisi-/emotion-recognition/runs/n8veo3ml</a><br> View project at: <a href='https://wandb.ai/mrekh21-free-university-of-tbilisi-/emotion-recognition' target=\"_blank\">https://wandb.ai/mrekh21-free-university-of-tbilisi-/emotion-recognition</a><br>Synced 5 W&B file(s), 0 media file(s), 0 artifact file(s) and 0 other file(s)"
            ]
          },
          "metadata": {}
        },
        {
          "output_type": "display_data",
          "data": {
            "text/plain": [
              "<IPython.core.display.HTML object>"
            ],
            "text/html": [
              "Find logs at: <code>./wandb/run-20250602_130524-n8veo3ml/logs</code>"
            ]
          },
          "metadata": {}
        },
        {
          "output_type": "stream",
          "name": "stderr",
          "text": [
            "\rHyperparameter Trials:  63%|██████▎   | 19/30 [22:10<16:13, 88.48s/it]"
          ]
        },
        {
          "output_type": "stream",
          "name": "stdout",
          "text": [
            "\n",
            " Running config 20/30: {'conv_layers_config': [(16, 3), (32, 3), (64, 3)], 'dropout_conv': 0.2, 'dropout_fc': 0.3, 'norm_type': 'batch', 'pool_type': 'none', 'lr': 0.05, 'batch_size': 64, 'epochs': 20}\n"
          ]
        },
        {
          "output_type": "display_data",
          "data": {
            "text/plain": [
              "<IPython.core.display.HTML object>"
            ],
            "text/html": [
              "Tracking run with wandb version 0.19.11"
            ]
          },
          "metadata": {}
        },
        {
          "output_type": "display_data",
          "data": {
            "text/plain": [
              "<IPython.core.display.HTML object>"
            ],
            "text/html": [
              "Run data is saved locally in <code>/content/Emotion_Recognition/wandb/run-20250602_130647-3oru7lg1</code>"
            ]
          },
          "metadata": {}
        },
        {
          "output_type": "display_data",
          "data": {
            "text/plain": [
              "<IPython.core.display.HTML object>"
            ],
            "text/html": [
              "Syncing run <strong><a href='https://wandb.ai/mrekh21-free-university-of-tbilisi-/emotion-recognition/runs/3oru7lg1' target=\"_blank\">weighted_CNN_hparam_tuning_20</a></strong> to <a href='https://wandb.ai/mrekh21-free-university-of-tbilisi-/emotion-recognition' target=\"_blank\">Weights & Biases</a> (<a href='https://wandb.me/developer-guide' target=\"_blank\">docs</a>)<br>"
            ]
          },
          "metadata": {}
        },
        {
          "output_type": "display_data",
          "data": {
            "text/plain": [
              "<IPython.core.display.HTML object>"
            ],
            "text/html": [
              " View project at <a href='https://wandb.ai/mrekh21-free-university-of-tbilisi-/emotion-recognition' target=\"_blank\">https://wandb.ai/mrekh21-free-university-of-tbilisi-/emotion-recognition</a>"
            ]
          },
          "metadata": {}
        },
        {
          "output_type": "display_data",
          "data": {
            "text/plain": [
              "<IPython.core.display.HTML object>"
            ],
            "text/html": [
              " View run at <a href='https://wandb.ai/mrekh21-free-university-of-tbilisi-/emotion-recognition/runs/3oru7lg1' target=\"_blank\">https://wandb.ai/mrekh21-free-university-of-tbilisi-/emotion-recognition/runs/3oru7lg1</a>"
            ]
          },
          "metadata": {}
        },
        {
          "output_type": "display_data",
          "data": {
            "text/plain": [
              "<IPython.core.display.HTML object>"
            ],
            "text/html": []
          },
          "metadata": {}
        },
        {
          "output_type": "display_data",
          "data": {
            "text/plain": [
              "<IPython.core.display.HTML object>"
            ],
            "text/html": [
              "<br>    <style><br>        .wandb-row {<br>            display: flex;<br>            flex-direction: row;<br>            flex-wrap: wrap;<br>            justify-content: flex-start;<br>            width: 100%;<br>        }<br>        .wandb-col {<br>            display: flex;<br>            flex-direction: column;<br>            flex-basis: 100%;<br>            flex: 1;<br>            padding: 10px;<br>        }<br>    </style><br><div class=\"wandb-row\"><div class=\"wandb-col\"><h3>Run history:</h3><br/><table class=\"wandb\"><tr><td>epoch</td><td>▁▂▂▃▄▅▅▆▇▇█</td></tr><tr><td>train_acc</td><td>▂█▃▆▆▁▇▆▇▃▆</td></tr><tr><td>train_loss</td><td>█▁▁▁▁▁▁▁▁▁▁</td></tr><tr><td>val_acc</td><td>▄▄▁▆▆█▄▄▁▄█</td></tr><tr><td>val_loss</td><td>▃█▂▁▂▂▂▂▂▁▂</td></tr></table><br/></div><div class=\"wandb-col\"><h3>Run summary:</h3><br/><table class=\"wandb\"><tr><td>epoch</td><td>11</td></tr><tr><td>train_acc</td><td>0.15365</td></tr><tr><td>train_loss</td><td>1.95017</td></tr><tr><td>val_acc</td><td>0.24937</td></tr><tr><td>val_loss</td><td>1.94969</td></tr></table><br/></div></div>"
            ]
          },
          "metadata": {}
        },
        {
          "output_type": "display_data",
          "data": {
            "text/plain": [
              "<IPython.core.display.HTML object>"
            ],
            "text/html": [
              " View run <strong style=\"color:#cdcd00\">weighted_CNN_hparam_tuning_20</strong> at: <a href='https://wandb.ai/mrekh21-free-university-of-tbilisi-/emotion-recognition/runs/3oru7lg1' target=\"_blank\">https://wandb.ai/mrekh21-free-university-of-tbilisi-/emotion-recognition/runs/3oru7lg1</a><br> View project at: <a href='https://wandb.ai/mrekh21-free-university-of-tbilisi-/emotion-recognition' target=\"_blank\">https://wandb.ai/mrekh21-free-university-of-tbilisi-/emotion-recognition</a><br>Synced 5 W&B file(s), 0 media file(s), 0 artifact file(s) and 0 other file(s)"
            ]
          },
          "metadata": {}
        },
        {
          "output_type": "display_data",
          "data": {
            "text/plain": [
              "<IPython.core.display.HTML object>"
            ],
            "text/html": [
              "Find logs at: <code>./wandb/run-20250602_130647-3oru7lg1/logs</code>"
            ]
          },
          "metadata": {}
        },
        {
          "output_type": "stream",
          "name": "stderr",
          "text": [
            "\rHyperparameter Trials:  67%|██████▋   | 20/30 [24:03<15:58, 95.88s/it]"
          ]
        },
        {
          "output_type": "stream",
          "name": "stdout",
          "text": [
            "\n",
            " Running config 21/30: {'conv_layers_config': [(32, 3), (64, 3), (128, 3)], 'dropout_conv': 0.2, 'dropout_fc': 0.3, 'norm_type': 'none', 'pool_type': 'none', 'lr': 0.01, 'batch_size': 128, 'epochs': 20}\n"
          ]
        },
        {
          "output_type": "display_data",
          "data": {
            "text/plain": [
              "<IPython.core.display.HTML object>"
            ],
            "text/html": [
              "Tracking run with wandb version 0.19.11"
            ]
          },
          "metadata": {}
        },
        {
          "output_type": "display_data",
          "data": {
            "text/plain": [
              "<IPython.core.display.HTML object>"
            ],
            "text/html": [
              "Run data is saved locally in <code>/content/Emotion_Recognition/wandb/run-20250602_130840-a5nefuj0</code>"
            ]
          },
          "metadata": {}
        },
        {
          "output_type": "display_data",
          "data": {
            "text/plain": [
              "<IPython.core.display.HTML object>"
            ],
            "text/html": [
              "Syncing run <strong><a href='https://wandb.ai/mrekh21-free-university-of-tbilisi-/emotion-recognition/runs/a5nefuj0' target=\"_blank\">weighted_CNN_hparam_tuning_21</a></strong> to <a href='https://wandb.ai/mrekh21-free-university-of-tbilisi-/emotion-recognition' target=\"_blank\">Weights & Biases</a> (<a href='https://wandb.me/developer-guide' target=\"_blank\">docs</a>)<br>"
            ]
          },
          "metadata": {}
        },
        {
          "output_type": "display_data",
          "data": {
            "text/plain": [
              "<IPython.core.display.HTML object>"
            ],
            "text/html": [
              " View project at <a href='https://wandb.ai/mrekh21-free-university-of-tbilisi-/emotion-recognition' target=\"_blank\">https://wandb.ai/mrekh21-free-university-of-tbilisi-/emotion-recognition</a>"
            ]
          },
          "metadata": {}
        },
        {
          "output_type": "display_data",
          "data": {
            "text/plain": [
              "<IPython.core.display.HTML object>"
            ],
            "text/html": [
              " View run at <a href='https://wandb.ai/mrekh21-free-university-of-tbilisi-/emotion-recognition/runs/a5nefuj0' target=\"_blank\">https://wandb.ai/mrekh21-free-university-of-tbilisi-/emotion-recognition/runs/a5nefuj0</a>"
            ]
          },
          "metadata": {}
        },
        {
          "output_type": "display_data",
          "data": {
            "text/plain": [
              "<IPython.core.display.HTML object>"
            ],
            "text/html": []
          },
          "metadata": {}
        },
        {
          "output_type": "display_data",
          "data": {
            "text/plain": [
              "<IPython.core.display.HTML object>"
            ],
            "text/html": [
              "<br>    <style><br>        .wandb-row {<br>            display: flex;<br>            flex-direction: row;<br>            flex-wrap: wrap;<br>            justify-content: flex-start;<br>            width: 100%;<br>        }<br>        .wandb-col {<br>            display: flex;<br>            flex-direction: column;<br>            flex-basis: 100%;<br>            flex: 1;<br>            padding: 10px;<br>        }<br>    </style><br><div class=\"wandb-row\"><div class=\"wandb-col\"><h3>Run history:</h3><br/><table class=\"wandb\"><tr><td>epoch</td><td>▁▂▄▅▇█</td></tr><tr><td>train_acc</td><td>▅█▄▄▅▁</td></tr><tr><td>train_loss</td><td>█▁▁▁▁▁</td></tr><tr><td>val_acc</td><td>█▃▁█▁▇</td></tr><tr><td>val_loss</td><td>▄▄▄▃▁█</td></tr></table><br/></div><div class=\"wandb-col\"><h3>Run summary:</h3><br/><table class=\"wandb\"><tr><td>epoch</td><td>6</td></tr><tr><td>train_acc</td><td>0.13801</td></tr><tr><td>train_loss</td><td>1.94635</td></tr><tr><td>val_acc</td><td>0.16913</td></tr><tr><td>val_loss</td><td>1.94676</td></tr></table><br/></div></div>"
            ]
          },
          "metadata": {}
        },
        {
          "output_type": "display_data",
          "data": {
            "text/plain": [
              "<IPython.core.display.HTML object>"
            ],
            "text/html": [
              " View run <strong style=\"color:#cdcd00\">weighted_CNN_hparam_tuning_21</strong> at: <a href='https://wandb.ai/mrekh21-free-university-of-tbilisi-/emotion-recognition/runs/a5nefuj0' target=\"_blank\">https://wandb.ai/mrekh21-free-university-of-tbilisi-/emotion-recognition/runs/a5nefuj0</a><br> View project at: <a href='https://wandb.ai/mrekh21-free-university-of-tbilisi-/emotion-recognition' target=\"_blank\">https://wandb.ai/mrekh21-free-university-of-tbilisi-/emotion-recognition</a><br>Synced 5 W&B file(s), 0 media file(s), 0 artifact file(s) and 0 other file(s)"
            ]
          },
          "metadata": {}
        },
        {
          "output_type": "display_data",
          "data": {
            "text/plain": [
              "<IPython.core.display.HTML object>"
            ],
            "text/html": [
              "Find logs at: <code>./wandb/run-20250602_130840-a5nefuj0/logs</code>"
            ]
          },
          "metadata": {}
        },
        {
          "output_type": "stream",
          "name": "stderr",
          "text": [
            "\rHyperparameter Trials:  70%|███████   | 21/30 [25:37<14:18, 95.34s/it]"
          ]
        },
        {
          "output_type": "stream",
          "name": "stdout",
          "text": [
            "\n",
            " Running config 22/30: {'conv_layers_config': [(32, 3), (64, 3), (128, 3)], 'dropout_conv': 0.3, 'dropout_fc': 0.3, 'norm_type': 'layer', 'pool_type': 'max', 'lr': 0.001, 'batch_size': 64, 'epochs': 20}\n"
          ]
        },
        {
          "output_type": "display_data",
          "data": {
            "text/plain": [
              "<IPython.core.display.HTML object>"
            ],
            "text/html": [
              "Tracking run with wandb version 0.19.11"
            ]
          },
          "metadata": {}
        },
        {
          "output_type": "display_data",
          "data": {
            "text/plain": [
              "<IPython.core.display.HTML object>"
            ],
            "text/html": [
              "Run data is saved locally in <code>/content/Emotion_Recognition/wandb/run-20250602_131014-wpru1xez</code>"
            ]
          },
          "metadata": {}
        },
        {
          "output_type": "display_data",
          "data": {
            "text/plain": [
              "<IPython.core.display.HTML object>"
            ],
            "text/html": [
              "Syncing run <strong><a href='https://wandb.ai/mrekh21-free-university-of-tbilisi-/emotion-recognition/runs/wpru1xez' target=\"_blank\">weighted_CNN_hparam_tuning_22</a></strong> to <a href='https://wandb.ai/mrekh21-free-university-of-tbilisi-/emotion-recognition' target=\"_blank\">Weights & Biases</a> (<a href='https://wandb.me/developer-guide' target=\"_blank\">docs</a>)<br>"
            ]
          },
          "metadata": {}
        },
        {
          "output_type": "display_data",
          "data": {
            "text/plain": [
              "<IPython.core.display.HTML object>"
            ],
            "text/html": [
              " View project at <a href='https://wandb.ai/mrekh21-free-university-of-tbilisi-/emotion-recognition' target=\"_blank\">https://wandb.ai/mrekh21-free-university-of-tbilisi-/emotion-recognition</a>"
            ]
          },
          "metadata": {}
        },
        {
          "output_type": "display_data",
          "data": {
            "text/plain": [
              "<IPython.core.display.HTML object>"
            ],
            "text/html": [
              " View run at <a href='https://wandb.ai/mrekh21-free-university-of-tbilisi-/emotion-recognition/runs/wpru1xez' target=\"_blank\">https://wandb.ai/mrekh21-free-university-of-tbilisi-/emotion-recognition/runs/wpru1xez</a>"
            ]
          },
          "metadata": {}
        },
        {
          "output_type": "display_data",
          "data": {
            "text/plain": [
              "<IPython.core.display.HTML object>"
            ],
            "text/html": []
          },
          "metadata": {}
        },
        {
          "output_type": "display_data",
          "data": {
            "text/plain": [
              "<IPython.core.display.HTML object>"
            ],
            "text/html": [
              "<br>    <style><br>        .wandb-row {<br>            display: flex;<br>            flex-direction: row;<br>            flex-wrap: wrap;<br>            justify-content: flex-start;<br>            width: 100%;<br>        }<br>        .wandb-col {<br>            display: flex;<br>            flex-direction: column;<br>            flex-basis: 100%;<br>            flex: 1;<br>            padding: 10px;<br>        }<br>    </style><br><div class=\"wandb-row\"><div class=\"wandb-col\"><h3>Run history:</h3><br/><table class=\"wandb\"><tr><td>epoch</td><td>▁▂▃▅▆▇█</td></tr><tr><td>train_acc</td><td>▁▁▆▆▅█▇</td></tr><tr><td>train_loss</td><td>█▁▁▁▁▁▁</td></tr><tr><td>val_acc</td><td>▂█████▁</td></tr><tr><td>val_loss</td><td>▄▁▃▅█▆▂</td></tr></table><br/></div><div class=\"wandb-col\"><h3>Run summary:</h3><br/><table class=\"wandb\"><tr><td>epoch</td><td>7</td></tr><tr><td>train_acc</td><td>0.20628</td></tr><tr><td>train_loss</td><td>1.94519</td></tr><tr><td>val_acc</td><td>0.11563</td></tr><tr><td>val_loss</td><td>1.94579</td></tr></table><br/></div></div>"
            ]
          },
          "metadata": {}
        },
        {
          "output_type": "display_data",
          "data": {
            "text/plain": [
              "<IPython.core.display.HTML object>"
            ],
            "text/html": [
              " View run <strong style=\"color:#cdcd00\">weighted_CNN_hparam_tuning_22</strong> at: <a href='https://wandb.ai/mrekh21-free-university-of-tbilisi-/emotion-recognition/runs/wpru1xez' target=\"_blank\">https://wandb.ai/mrekh21-free-university-of-tbilisi-/emotion-recognition/runs/wpru1xez</a><br> View project at: <a href='https://wandb.ai/mrekh21-free-university-of-tbilisi-/emotion-recognition' target=\"_blank\">https://wandb.ai/mrekh21-free-university-of-tbilisi-/emotion-recognition</a><br>Synced 5 W&B file(s), 0 media file(s), 0 artifact file(s) and 0 other file(s)"
            ]
          },
          "metadata": {}
        },
        {
          "output_type": "display_data",
          "data": {
            "text/plain": [
              "<IPython.core.display.HTML object>"
            ],
            "text/html": [
              "Find logs at: <code>./wandb/run-20250602_131014-wpru1xez/logs</code>"
            ]
          },
          "metadata": {}
        },
        {
          "output_type": "stream",
          "name": "stderr",
          "text": [
            "\rHyperparameter Trials:  73%|███████▎  | 22/30 [26:05<10:00, 75.10s/it]"
          ]
        },
        {
          "output_type": "stream",
          "name": "stdout",
          "text": [
            "\n",
            " Running config 23/30: {'conv_layers_config': [(16, 3), (32, 3), (64, 3)], 'dropout_conv': 0.3, 'dropout_fc': 0.2, 'norm_type': 'batch', 'pool_type': 'avg', 'lr': 0.05, 'batch_size': 128, 'epochs': 20}\n"
          ]
        },
        {
          "output_type": "display_data",
          "data": {
            "text/plain": [
              "<IPython.core.display.HTML object>"
            ],
            "text/html": [
              "Tracking run with wandb version 0.19.11"
            ]
          },
          "metadata": {}
        },
        {
          "output_type": "display_data",
          "data": {
            "text/plain": [
              "<IPython.core.display.HTML object>"
            ],
            "text/html": [
              "Run data is saved locally in <code>/content/Emotion_Recognition/wandb/run-20250602_131042-26gs4y80</code>"
            ]
          },
          "metadata": {}
        },
        {
          "output_type": "display_data",
          "data": {
            "text/plain": [
              "<IPython.core.display.HTML object>"
            ],
            "text/html": [
              "Syncing run <strong><a href='https://wandb.ai/mrekh21-free-university-of-tbilisi-/emotion-recognition/runs/26gs4y80' target=\"_blank\">weighted_CNN_hparam_tuning_23</a></strong> to <a href='https://wandb.ai/mrekh21-free-university-of-tbilisi-/emotion-recognition' target=\"_blank\">Weights & Biases</a> (<a href='https://wandb.me/developer-guide' target=\"_blank\">docs</a>)<br>"
            ]
          },
          "metadata": {}
        },
        {
          "output_type": "display_data",
          "data": {
            "text/plain": [
              "<IPython.core.display.HTML object>"
            ],
            "text/html": [
              " View project at <a href='https://wandb.ai/mrekh21-free-university-of-tbilisi-/emotion-recognition' target=\"_blank\">https://wandb.ai/mrekh21-free-university-of-tbilisi-/emotion-recognition</a>"
            ]
          },
          "metadata": {}
        },
        {
          "output_type": "display_data",
          "data": {
            "text/plain": [
              "<IPython.core.display.HTML object>"
            ],
            "text/html": [
              " View run at <a href='https://wandb.ai/mrekh21-free-university-of-tbilisi-/emotion-recognition/runs/26gs4y80' target=\"_blank\">https://wandb.ai/mrekh21-free-university-of-tbilisi-/emotion-recognition/runs/26gs4y80</a>"
            ]
          },
          "metadata": {}
        },
        {
          "output_type": "display_data",
          "data": {
            "text/plain": [
              "<IPython.core.display.HTML object>"
            ],
            "text/html": []
          },
          "metadata": {}
        },
        {
          "output_type": "display_data",
          "data": {
            "text/plain": [
              "<IPython.core.display.HTML object>"
            ],
            "text/html": [
              "<br>    <style><br>        .wandb-row {<br>            display: flex;<br>            flex-direction: row;<br>            flex-wrap: wrap;<br>            justify-content: flex-start;<br>            width: 100%;<br>        }<br>        .wandb-col {<br>            display: flex;<br>            flex-direction: column;<br>            flex-basis: 100%;<br>            flex: 1;<br>            padding: 10px;<br>        }<br>    </style><br><div class=\"wandb-row\"><div class=\"wandb-col\"><h3>Run history:</h3><br/><table class=\"wandb\"><tr><td>epoch</td><td>▁▁▂▂▃▃▃▄▄▅▅▅▆▆▆▇▇██</td></tr><tr><td>train_acc</td><td>▁▁▃▅▆▆▆▇▆█▇▇█▇▇▇▆▆▇</td></tr><tr><td>train_loss</td><td>█▂▁▁▁▁▁▁▁▁▁▁▁▁▁▁▁▁▁</td></tr><tr><td>val_acc</td><td>▁▃▅▅▅▅▅▆▇▆▆▆▅█▆▆▇▅▂</td></tr><tr><td>val_loss</td><td>█▅▄▄▄▃▃▃▃▃▂▃▂▁▂▃▁▃▃</td></tr></table><br/></div><div class=\"wandb-col\"><h3>Run summary:</h3><br/><table class=\"wandb\"><tr><td>epoch</td><td>19</td></tr><tr><td>train_acc</td><td>0.20307</td></tr><tr><td>train_loss</td><td>1.90465</td></tr><tr><td>val_acc</td><td>0.10644</td></tr><tr><td>val_loss</td><td>1.86688</td></tr></table><br/></div></div>"
            ]
          },
          "metadata": {}
        },
        {
          "output_type": "display_data",
          "data": {
            "text/plain": [
              "<IPython.core.display.HTML object>"
            ],
            "text/html": [
              " View run <strong style=\"color:#cdcd00\">weighted_CNN_hparam_tuning_23</strong> at: <a href='https://wandb.ai/mrekh21-free-university-of-tbilisi-/emotion-recognition/runs/26gs4y80' target=\"_blank\">https://wandb.ai/mrekh21-free-university-of-tbilisi-/emotion-recognition/runs/26gs4y80</a><br> View project at: <a href='https://wandb.ai/mrekh21-free-university-of-tbilisi-/emotion-recognition' target=\"_blank\">https://wandb.ai/mrekh21-free-university-of-tbilisi-/emotion-recognition</a><br>Synced 5 W&B file(s), 0 media file(s), 0 artifact file(s) and 0 other file(s)"
            ]
          },
          "metadata": {}
        },
        {
          "output_type": "display_data",
          "data": {
            "text/plain": [
              "<IPython.core.display.HTML object>"
            ],
            "text/html": [
              "Find logs at: <code>./wandb/run-20250602_131042-26gs4y80/logs</code>"
            ]
          },
          "metadata": {}
        },
        {
          "output_type": "stream",
          "name": "stderr",
          "text": [
            "\rHyperparameter Trials:  77%|███████▋  | 23/30 [26:44<07:29, 64.19s/it]"
          ]
        },
        {
          "output_type": "stream",
          "name": "stdout",
          "text": [
            "\n",
            " Running config 24/30: {'conv_layers_config': [(16, 3), (32, 3), (64, 3)], 'dropout_conv': 0.3, 'dropout_fc': 0.4, 'norm_type': 'layer', 'pool_type': 'max', 'lr': 0.05, 'batch_size': 128, 'epochs': 20}\n"
          ]
        },
        {
          "output_type": "display_data",
          "data": {
            "text/plain": [
              "<IPython.core.display.HTML object>"
            ],
            "text/html": [
              "Tracking run with wandb version 0.19.11"
            ]
          },
          "metadata": {}
        },
        {
          "output_type": "display_data",
          "data": {
            "text/plain": [
              "<IPython.core.display.HTML object>"
            ],
            "text/html": [
              "Run data is saved locally in <code>/content/Emotion_Recognition/wandb/run-20250602_131121-wnenuubc</code>"
            ]
          },
          "metadata": {}
        },
        {
          "output_type": "display_data",
          "data": {
            "text/plain": [
              "<IPython.core.display.HTML object>"
            ],
            "text/html": [
              "Syncing run <strong><a href='https://wandb.ai/mrekh21-free-university-of-tbilisi-/emotion-recognition/runs/wnenuubc' target=\"_blank\">weighted_CNN_hparam_tuning_24</a></strong> to <a href='https://wandb.ai/mrekh21-free-university-of-tbilisi-/emotion-recognition' target=\"_blank\">Weights & Biases</a> (<a href='https://wandb.me/developer-guide' target=\"_blank\">docs</a>)<br>"
            ]
          },
          "metadata": {}
        },
        {
          "output_type": "display_data",
          "data": {
            "text/plain": [
              "<IPython.core.display.HTML object>"
            ],
            "text/html": [
              " View project at <a href='https://wandb.ai/mrekh21-free-university-of-tbilisi-/emotion-recognition' target=\"_blank\">https://wandb.ai/mrekh21-free-university-of-tbilisi-/emotion-recognition</a>"
            ]
          },
          "metadata": {}
        },
        {
          "output_type": "display_data",
          "data": {
            "text/plain": [
              "<IPython.core.display.HTML object>"
            ],
            "text/html": [
              " View run at <a href='https://wandb.ai/mrekh21-free-university-of-tbilisi-/emotion-recognition/runs/wnenuubc' target=\"_blank\">https://wandb.ai/mrekh21-free-university-of-tbilisi-/emotion-recognition/runs/wnenuubc</a>"
            ]
          },
          "metadata": {}
        },
        {
          "output_type": "display_data",
          "data": {
            "text/plain": [
              "<IPython.core.display.HTML object>"
            ],
            "text/html": []
          },
          "metadata": {}
        },
        {
          "output_type": "display_data",
          "data": {
            "text/plain": [
              "<IPython.core.display.HTML object>"
            ],
            "text/html": [
              "<br>    <style><br>        .wandb-row {<br>            display: flex;<br>            flex-direction: row;<br>            flex-wrap: wrap;<br>            justify-content: flex-start;<br>            width: 100%;<br>        }<br>        .wandb-col {<br>            display: flex;<br>            flex-direction: column;<br>            flex-basis: 100%;<br>            flex: 1;<br>            padding: 10px;<br>        }<br>    </style><br><div class=\"wandb-row\"><div class=\"wandb-col\"><h3>Run history:</h3><br/><table class=\"wandb\"><tr><td>epoch</td><td>▁▂▄▅▇█</td></tr><tr><td>train_acc</td><td>▇▆█▃▁▇</td></tr><tr><td>train_loss</td><td>█▁▁▁▁▁</td></tr><tr><td>val_acc</td><td>█▁▃█▃▁</td></tr><tr><td>val_loss</td><td>▄▁▄▇█▇</td></tr></table><br/></div><div class=\"wandb-col\"><h3>Run summary:</h3><br/><table class=\"wandb\"><tr><td>epoch</td><td>6</td></tr><tr><td>train_acc</td><td>0.15284</td></tr><tr><td>train_loss</td><td>1.94859</td></tr><tr><td>val_acc</td><td>0.13012</td></tr><tr><td>val_loss</td><td>1.94945</td></tr></table><br/></div></div>"
            ]
          },
          "metadata": {}
        },
        {
          "output_type": "display_data",
          "data": {
            "text/plain": [
              "<IPython.core.display.HTML object>"
            ],
            "text/html": [
              " View run <strong style=\"color:#cdcd00\">weighted_CNN_hparam_tuning_24</strong> at: <a href='https://wandb.ai/mrekh21-free-university-of-tbilisi-/emotion-recognition/runs/wnenuubc' target=\"_blank\">https://wandb.ai/mrekh21-free-university-of-tbilisi-/emotion-recognition/runs/wnenuubc</a><br> View project at: <a href='https://wandb.ai/mrekh21-free-university-of-tbilisi-/emotion-recognition' target=\"_blank\">https://wandb.ai/mrekh21-free-university-of-tbilisi-/emotion-recognition</a><br>Synced 5 W&B file(s), 0 media file(s), 0 artifact file(s) and 0 other file(s)"
            ]
          },
          "metadata": {}
        },
        {
          "output_type": "display_data",
          "data": {
            "text/plain": [
              "<IPython.core.display.HTML object>"
            ],
            "text/html": [
              "Find logs at: <code>./wandb/run-20250602_131121-wnenuubc/logs</code>"
            ]
          },
          "metadata": {}
        },
        {
          "output_type": "stream",
          "name": "stderr",
          "text": [
            "\rHyperparameter Trials:  80%|████████  | 24/30 [26:58<04:55, 49.29s/it]"
          ]
        },
        {
          "output_type": "stream",
          "name": "stdout",
          "text": [
            "\n",
            " Running config 25/30: {'conv_layers_config': [(16, 3), (32, 3), (64, 3)], 'dropout_conv': 0.2, 'dropout_fc': 0.2, 'norm_type': 'layer', 'pool_type': 'max', 'lr': 0.01, 'batch_size': 128, 'epochs': 20}\n"
          ]
        },
        {
          "output_type": "display_data",
          "data": {
            "text/plain": [
              "<IPython.core.display.HTML object>"
            ],
            "text/html": [
              "Tracking run with wandb version 0.19.11"
            ]
          },
          "metadata": {}
        },
        {
          "output_type": "display_data",
          "data": {
            "text/plain": [
              "<IPython.core.display.HTML object>"
            ],
            "text/html": [
              "Run data is saved locally in <code>/content/Emotion_Recognition/wandb/run-20250602_131135-iys88v8q</code>"
            ]
          },
          "metadata": {}
        },
        {
          "output_type": "display_data",
          "data": {
            "text/plain": [
              "<IPython.core.display.HTML object>"
            ],
            "text/html": [
              "Syncing run <strong><a href='https://wandb.ai/mrekh21-free-university-of-tbilisi-/emotion-recognition/runs/iys88v8q' target=\"_blank\">weighted_CNN_hparam_tuning_25</a></strong> to <a href='https://wandb.ai/mrekh21-free-university-of-tbilisi-/emotion-recognition' target=\"_blank\">Weights & Biases</a> (<a href='https://wandb.me/developer-guide' target=\"_blank\">docs</a>)<br>"
            ]
          },
          "metadata": {}
        },
        {
          "output_type": "display_data",
          "data": {
            "text/plain": [
              "<IPython.core.display.HTML object>"
            ],
            "text/html": [
              " View project at <a href='https://wandb.ai/mrekh21-free-university-of-tbilisi-/emotion-recognition' target=\"_blank\">https://wandb.ai/mrekh21-free-university-of-tbilisi-/emotion-recognition</a>"
            ]
          },
          "metadata": {}
        },
        {
          "output_type": "display_data",
          "data": {
            "text/plain": [
              "<IPython.core.display.HTML object>"
            ],
            "text/html": [
              " View run at <a href='https://wandb.ai/mrekh21-free-university-of-tbilisi-/emotion-recognition/runs/iys88v8q' target=\"_blank\">https://wandb.ai/mrekh21-free-university-of-tbilisi-/emotion-recognition/runs/iys88v8q</a>"
            ]
          },
          "metadata": {}
        },
        {
          "output_type": "display_data",
          "data": {
            "text/plain": [
              "<IPython.core.display.HTML object>"
            ],
            "text/html": []
          },
          "metadata": {}
        },
        {
          "output_type": "display_data",
          "data": {
            "text/plain": [
              "<IPython.core.display.HTML object>"
            ],
            "text/html": [
              "<br>    <style><br>        .wandb-row {<br>            display: flex;<br>            flex-direction: row;<br>            flex-wrap: wrap;<br>            justify-content: flex-start;<br>            width: 100%;<br>        }<br>        .wandb-col {<br>            display: flex;<br>            flex-direction: column;<br>            flex-basis: 100%;<br>            flex: 1;<br>            padding: 10px;<br>        }<br>    </style><br><div class=\"wandb-row\"><div class=\"wandb-col\"><h3>Run history:</h3><br/><table class=\"wandb\"><tr><td>epoch</td><td>▁▂▃▄▅▆▇█</td></tr><tr><td>train_acc</td><td>▁▇▂█▆▆▅▆</td></tr><tr><td>train_loss</td><td>█▁▁▁▁▁▁▁</td></tr><tr><td>val_acc</td><td>▃▃█▃▇▁▃▇</td></tr><tr><td>val_loss</td><td>▄▆▁▇▆██▆</td></tr></table><br/></div><div class=\"wandb-col\"><h3>Run summary:</h3><br/><table class=\"wandb\"><tr><td>epoch</td><td>8</td></tr><tr><td>train_acc</td><td>0.15598</td></tr><tr><td>train_loss</td><td>1.94635</td></tr><tr><td>val_acc</td><td>0.16913</td></tr><tr><td>val_loss</td><td>1.94649</td></tr></table><br/></div></div>"
            ]
          },
          "metadata": {}
        },
        {
          "output_type": "display_data",
          "data": {
            "text/plain": [
              "<IPython.core.display.HTML object>"
            ],
            "text/html": [
              " View run <strong style=\"color:#cdcd00\">weighted_CNN_hparam_tuning_25</strong> at: <a href='https://wandb.ai/mrekh21-free-university-of-tbilisi-/emotion-recognition/runs/iys88v8q' target=\"_blank\">https://wandb.ai/mrekh21-free-university-of-tbilisi-/emotion-recognition/runs/iys88v8q</a><br> View project at: <a href='https://wandb.ai/mrekh21-free-university-of-tbilisi-/emotion-recognition' target=\"_blank\">https://wandb.ai/mrekh21-free-university-of-tbilisi-/emotion-recognition</a><br>Synced 5 W&B file(s), 0 media file(s), 0 artifact file(s) and 0 other file(s)"
            ]
          },
          "metadata": {}
        },
        {
          "output_type": "display_data",
          "data": {
            "text/plain": [
              "<IPython.core.display.HTML object>"
            ],
            "text/html": [
              "Find logs at: <code>./wandb/run-20250602_131135-iys88v8q/logs</code>"
            ]
          },
          "metadata": {}
        },
        {
          "output_type": "stream",
          "name": "stderr",
          "text": [
            "\rHyperparameter Trials:  83%|████████▎ | 25/30 [27:16<03:19, 39.91s/it]"
          ]
        },
        {
          "output_type": "stream",
          "name": "stdout",
          "text": [
            "\n",
            " Running config 26/30: {'conv_layers_config': [(32, 3), (64, 3), (128, 3)], 'dropout_conv': 0.1, 'dropout_fc': 0.3, 'norm_type': 'batch', 'pool_type': 'max', 'lr': 0.001, 'batch_size': 128, 'epochs': 20}\n"
          ]
        },
        {
          "output_type": "display_data",
          "data": {
            "text/plain": [
              "<IPython.core.display.HTML object>"
            ],
            "text/html": [
              "Tracking run with wandb version 0.19.11"
            ]
          },
          "metadata": {}
        },
        {
          "output_type": "display_data",
          "data": {
            "text/plain": [
              "<IPython.core.display.HTML object>"
            ],
            "text/html": [
              "Run data is saved locally in <code>/content/Emotion_Recognition/wandb/run-20250602_131153-uszx3hxr</code>"
            ]
          },
          "metadata": {}
        },
        {
          "output_type": "display_data",
          "data": {
            "text/plain": [
              "<IPython.core.display.HTML object>"
            ],
            "text/html": [
              "Syncing run <strong><a href='https://wandb.ai/mrekh21-free-university-of-tbilisi-/emotion-recognition/runs/uszx3hxr' target=\"_blank\">weighted_CNN_hparam_tuning_26</a></strong> to <a href='https://wandb.ai/mrekh21-free-university-of-tbilisi-/emotion-recognition' target=\"_blank\">Weights & Biases</a> (<a href='https://wandb.me/developer-guide' target=\"_blank\">docs</a>)<br>"
            ]
          },
          "metadata": {}
        },
        {
          "output_type": "display_data",
          "data": {
            "text/plain": [
              "<IPython.core.display.HTML object>"
            ],
            "text/html": [
              " View project at <a href='https://wandb.ai/mrekh21-free-university-of-tbilisi-/emotion-recognition' target=\"_blank\">https://wandb.ai/mrekh21-free-university-of-tbilisi-/emotion-recognition</a>"
            ]
          },
          "metadata": {}
        },
        {
          "output_type": "display_data",
          "data": {
            "text/plain": [
              "<IPython.core.display.HTML object>"
            ],
            "text/html": [
              " View run at <a href='https://wandb.ai/mrekh21-free-university-of-tbilisi-/emotion-recognition/runs/uszx3hxr' target=\"_blank\">https://wandb.ai/mrekh21-free-university-of-tbilisi-/emotion-recognition/runs/uszx3hxr</a>"
            ]
          },
          "metadata": {}
        },
        {
          "output_type": "display_data",
          "data": {
            "text/plain": [
              "<IPython.core.display.HTML object>"
            ],
            "text/html": []
          },
          "metadata": {}
        },
        {
          "output_type": "display_data",
          "data": {
            "text/plain": [
              "<IPython.core.display.HTML object>"
            ],
            "text/html": [
              "<br>    <style><br>        .wandb-row {<br>            display: flex;<br>            flex-direction: row;<br>            flex-wrap: wrap;<br>            justify-content: flex-start;<br>            width: 100%;<br>        }<br>        .wandb-col {<br>            display: flex;<br>            flex-direction: column;<br>            flex-basis: 100%;<br>            flex: 1;<br>            padding: 10px;<br>        }<br>    </style><br><div class=\"wandb-row\"><div class=\"wandb-col\"><h3>Run history:</h3><br/><table class=\"wandb\"><tr><td>epoch</td><td>▁▁▂▂▂▃▃▄▄▄▅▅▅▆▆▇▇▇██</td></tr><tr><td>train_acc</td><td>▁▄▄▅▅▆▆▆▇▇▇▇▇▇██████</td></tr><tr><td>train_loss</td><td>█▆▆▅▄▄▄▃▃▃▂▂▂▂▂▂▂▁▁▁</td></tr><tr><td>val_acc</td><td>▂▁▃▃▃▃▆▅▆▇▆▆▇▇▆▇▇█▇█</td></tr><tr><td>val_loss</td><td>▇█▆▅▅▅▃▃▃▂▂▂▂▁▁▁▁▂▃▁</td></tr></table><br/></div><div class=\"wandb-col\"><h3>Run summary:</h3><br/><table class=\"wandb\"><tr><td>epoch</td><td>20</td></tr><tr><td>train_acc</td><td>0.37605</td></tr><tr><td>train_loss</td><td>1.46054</td></tr><tr><td>val_acc</td><td>0.48621</td></tr><tr><td>val_loss</td><td>1.44762</td></tr></table><br/></div></div>"
            ]
          },
          "metadata": {}
        },
        {
          "output_type": "display_data",
          "data": {
            "text/plain": [
              "<IPython.core.display.HTML object>"
            ],
            "text/html": [
              " View run <strong style=\"color:#cdcd00\">weighted_CNN_hparam_tuning_26</strong> at: <a href='https://wandb.ai/mrekh21-free-university-of-tbilisi-/emotion-recognition/runs/uszx3hxr' target=\"_blank\">https://wandb.ai/mrekh21-free-university-of-tbilisi-/emotion-recognition/runs/uszx3hxr</a><br> View project at: <a href='https://wandb.ai/mrekh21-free-university-of-tbilisi-/emotion-recognition' target=\"_blank\">https://wandb.ai/mrekh21-free-university-of-tbilisi-/emotion-recognition</a><br>Synced 5 W&B file(s), 0 media file(s), 0 artifact file(s) and 0 other file(s)"
            ]
          },
          "metadata": {}
        },
        {
          "output_type": "display_data",
          "data": {
            "text/plain": [
              "<IPython.core.display.HTML object>"
            ],
            "text/html": [
              "Find logs at: <code>./wandb/run-20250602_131153-uszx3hxr/logs</code>"
            ]
          },
          "metadata": {}
        },
        {
          "output_type": "stream",
          "name": "stderr",
          "text": [
            "\rHyperparameter Trials:  87%|████████▋ | 26/30 [28:24<03:13, 48.33s/it]"
          ]
        },
        {
          "output_type": "stream",
          "name": "stdout",
          "text": [
            "\n",
            " Running config 27/30: {'conv_layers_config': [(16, 3), (32, 3), (64, 3)], 'dropout_conv': 0.1, 'dropout_fc': 0.4, 'norm_type': 'none', 'pool_type': 'none', 'lr': 0.001, 'batch_size': 128, 'epochs': 20}\n"
          ]
        },
        {
          "output_type": "display_data",
          "data": {
            "text/plain": [
              "<IPython.core.display.HTML object>"
            ],
            "text/html": [
              "Tracking run with wandb version 0.19.11"
            ]
          },
          "metadata": {}
        },
        {
          "output_type": "display_data",
          "data": {
            "text/plain": [
              "<IPython.core.display.HTML object>"
            ],
            "text/html": [
              "Run data is saved locally in <code>/content/Emotion_Recognition/wandb/run-20250602_131301-6l8zyzxm</code>"
            ]
          },
          "metadata": {}
        },
        {
          "output_type": "display_data",
          "data": {
            "text/plain": [
              "<IPython.core.display.HTML object>"
            ],
            "text/html": [
              "Syncing run <strong><a href='https://wandb.ai/mrekh21-free-university-of-tbilisi-/emotion-recognition/runs/6l8zyzxm' target=\"_blank\">weighted_CNN_hparam_tuning_27</a></strong> to <a href='https://wandb.ai/mrekh21-free-university-of-tbilisi-/emotion-recognition' target=\"_blank\">Weights & Biases</a> (<a href='https://wandb.me/developer-guide' target=\"_blank\">docs</a>)<br>"
            ]
          },
          "metadata": {}
        },
        {
          "output_type": "display_data",
          "data": {
            "text/plain": [
              "<IPython.core.display.HTML object>"
            ],
            "text/html": [
              " View project at <a href='https://wandb.ai/mrekh21-free-university-of-tbilisi-/emotion-recognition' target=\"_blank\">https://wandb.ai/mrekh21-free-university-of-tbilisi-/emotion-recognition</a>"
            ]
          },
          "metadata": {}
        },
        {
          "output_type": "display_data",
          "data": {
            "text/plain": [
              "<IPython.core.display.HTML object>"
            ],
            "text/html": [
              " View run at <a href='https://wandb.ai/mrekh21-free-university-of-tbilisi-/emotion-recognition/runs/6l8zyzxm' target=\"_blank\">https://wandb.ai/mrekh21-free-university-of-tbilisi-/emotion-recognition/runs/6l8zyzxm</a>"
            ]
          },
          "metadata": {}
        },
        {
          "output_type": "display_data",
          "data": {
            "text/plain": [
              "<IPython.core.display.HTML object>"
            ],
            "text/html": []
          },
          "metadata": {}
        },
        {
          "output_type": "display_data",
          "data": {
            "text/plain": [
              "<IPython.core.display.HTML object>"
            ],
            "text/html": [
              "<br>    <style><br>        .wandb-row {<br>            display: flex;<br>            flex-direction: row;<br>            flex-wrap: wrap;<br>            justify-content: flex-start;<br>            width: 100%;<br>        }<br>        .wandb-col {<br>            display: flex;<br>            flex-direction: column;<br>            flex-basis: 100%;<br>            flex: 1;<br>            padding: 10px;<br>        }<br>    </style><br><div class=\"wandb-row\"><div class=\"wandb-col\"><h3>Run history:</h3><br/><table class=\"wandb\"><tr><td>epoch</td><td>▁▁▂▂▃▃▄▄▅▅▅▆▆▇▇██</td></tr><tr><td>train_acc</td><td>▁▂▃▃▄▄▄▅▅▆▆▆▇▇▇██</td></tr><tr><td>train_loss</td><td>█▇▆▆▅▅▄▄▄▃▃▃▂▂▂▁▁</td></tr><tr><td>val_acc</td><td>▁▁▆▇▆▆▇▆▇████████</td></tr><tr><td>val_loss</td><td>▄▃▂▂▁▁▁▁▁▃▃▄▃▆▆▅█</td></tr></table><br/></div><div class=\"wandb-col\"><h3>Run summary:</h3><br/><table class=\"wandb\"><tr><td>epoch</td><td>17</td></tr><tr><td>train_acc</td><td>0.70939</td></tr><tr><td>train_loss</td><td>0.63759</td></tr><tr><td>val_acc</td><td>0.4681</td></tr><tr><td>val_loss</td><td>2.26657</td></tr></table><br/></div></div>"
            ]
          },
          "metadata": {}
        },
        {
          "output_type": "display_data",
          "data": {
            "text/plain": [
              "<IPython.core.display.HTML object>"
            ],
            "text/html": [
              " View run <strong style=\"color:#cdcd00\">weighted_CNN_hparam_tuning_27</strong> at: <a href='https://wandb.ai/mrekh21-free-university-of-tbilisi-/emotion-recognition/runs/6l8zyzxm' target=\"_blank\">https://wandb.ai/mrekh21-free-university-of-tbilisi-/emotion-recognition/runs/6l8zyzxm</a><br> View project at: <a href='https://wandb.ai/mrekh21-free-university-of-tbilisi-/emotion-recognition' target=\"_blank\">https://wandb.ai/mrekh21-free-university-of-tbilisi-/emotion-recognition</a><br>Synced 5 W&B file(s), 0 media file(s), 0 artifact file(s) and 0 other file(s)"
            ]
          },
          "metadata": {}
        },
        {
          "output_type": "display_data",
          "data": {
            "text/plain": [
              "<IPython.core.display.HTML object>"
            ],
            "text/html": [
              "Find logs at: <code>./wandb/run-20250602_131301-6l8zyzxm/logs</code>"
            ]
          },
          "metadata": {}
        },
        {
          "output_type": "stream",
          "name": "stderr",
          "text": [
            "\rHyperparameter Trials:  90%|█████████ | 27/30 [30:35<03:39, 73.09s/it]"
          ]
        },
        {
          "output_type": "stream",
          "name": "stdout",
          "text": [
            "\n",
            " Running config 28/30: {'conv_layers_config': [(16, 3), (32, 3), (64, 3)], 'dropout_conv': 0.1, 'dropout_fc': 0.3, 'norm_type': 'batch', 'pool_type': 'avg', 'lr': 0.05, 'batch_size': 128, 'epochs': 20}\n"
          ]
        },
        {
          "output_type": "display_data",
          "data": {
            "text/plain": [
              "<IPython.core.display.HTML object>"
            ],
            "text/html": [
              "Tracking run with wandb version 0.19.11"
            ]
          },
          "metadata": {}
        },
        {
          "output_type": "display_data",
          "data": {
            "text/plain": [
              "<IPython.core.display.HTML object>"
            ],
            "text/html": [
              "Run data is saved locally in <code>/content/Emotion_Recognition/wandb/run-20250602_131512-s7hm0ham</code>"
            ]
          },
          "metadata": {}
        },
        {
          "output_type": "display_data",
          "data": {
            "text/plain": [
              "<IPython.core.display.HTML object>"
            ],
            "text/html": [
              "Syncing run <strong><a href='https://wandb.ai/mrekh21-free-university-of-tbilisi-/emotion-recognition/runs/s7hm0ham' target=\"_blank\">weighted_CNN_hparam_tuning_28</a></strong> to <a href='https://wandb.ai/mrekh21-free-university-of-tbilisi-/emotion-recognition' target=\"_blank\">Weights & Biases</a> (<a href='https://wandb.me/developer-guide' target=\"_blank\">docs</a>)<br>"
            ]
          },
          "metadata": {}
        },
        {
          "output_type": "display_data",
          "data": {
            "text/plain": [
              "<IPython.core.display.HTML object>"
            ],
            "text/html": [
              " View project at <a href='https://wandb.ai/mrekh21-free-university-of-tbilisi-/emotion-recognition' target=\"_blank\">https://wandb.ai/mrekh21-free-university-of-tbilisi-/emotion-recognition</a>"
            ]
          },
          "metadata": {}
        },
        {
          "output_type": "display_data",
          "data": {
            "text/plain": [
              "<IPython.core.display.HTML object>"
            ],
            "text/html": [
              " View run at <a href='https://wandb.ai/mrekh21-free-university-of-tbilisi-/emotion-recognition/runs/s7hm0ham' target=\"_blank\">https://wandb.ai/mrekh21-free-university-of-tbilisi-/emotion-recognition/runs/s7hm0ham</a>"
            ]
          },
          "metadata": {}
        },
        {
          "output_type": "display_data",
          "data": {
            "text/plain": [
              "<IPython.core.display.HTML object>"
            ],
            "text/html": []
          },
          "metadata": {}
        },
        {
          "output_type": "display_data",
          "data": {
            "text/plain": [
              "<IPython.core.display.HTML object>"
            ],
            "text/html": [
              "<br>    <style><br>        .wandb-row {<br>            display: flex;<br>            flex-direction: row;<br>            flex-wrap: wrap;<br>            justify-content: flex-start;<br>            width: 100%;<br>        }<br>        .wandb-col {<br>            display: flex;<br>            flex-direction: column;<br>            flex-basis: 100%;<br>            flex: 1;<br>            padding: 10px;<br>        }<br>    </style><br><div class=\"wandb-row\"><div class=\"wandb-col\"><h3>Run history:</h3><br/><table class=\"wandb\"><tr><td>epoch</td><td>▁▂▂▃▃▄▅▅▆▆▇▇█</td></tr><tr><td>train_acc</td><td>▃▆▃▄▃▃▁▄▅▂█▆▃</td></tr><tr><td>train_loss</td><td>█▁▁▁▁▁▁▁▁▁▁▁▁</td></tr><tr><td>val_acc</td><td>▂▃▄█▃▁▄█▂▁▄██</td></tr><tr><td>val_loss</td><td>▂▅▁▆█▅▄▂▄▄▁▂▃</td></tr></table><br/></div><div class=\"wandb-col\"><h3>Run summary:</h3><br/><table class=\"wandb\"><tr><td>epoch</td><td>13</td></tr><tr><td>train_acc</td><td>0.13647</td></tr><tr><td>train_loss</td><td>1.94999</td></tr><tr><td>val_acc</td><td>0.24937</td></tr><tr><td>val_loss</td><td>1.94923</td></tr></table><br/></div></div>"
            ]
          },
          "metadata": {}
        },
        {
          "output_type": "display_data",
          "data": {
            "text/plain": [
              "<IPython.core.display.HTML object>"
            ],
            "text/html": [
              " View run <strong style=\"color:#cdcd00\">weighted_CNN_hparam_tuning_28</strong> at: <a href='https://wandb.ai/mrekh21-free-university-of-tbilisi-/emotion-recognition/runs/s7hm0ham' target=\"_blank\">https://wandb.ai/mrekh21-free-university-of-tbilisi-/emotion-recognition/runs/s7hm0ham</a><br> View project at: <a href='https://wandb.ai/mrekh21-free-university-of-tbilisi-/emotion-recognition' target=\"_blank\">https://wandb.ai/mrekh21-free-university-of-tbilisi-/emotion-recognition</a><br>Synced 5 W&B file(s), 0 media file(s), 0 artifact file(s) and 0 other file(s)"
            ]
          },
          "metadata": {}
        },
        {
          "output_type": "display_data",
          "data": {
            "text/plain": [
              "<IPython.core.display.HTML object>"
            ],
            "text/html": [
              "Find logs at: <code>./wandb/run-20250602_131512-s7hm0ham/logs</code>"
            ]
          },
          "metadata": {}
        },
        {
          "output_type": "stream",
          "name": "stderr",
          "text": [
            "\rHyperparameter Trials:  93%|█████████▎| 28/30 [31:03<01:59, 59.52s/it]"
          ]
        },
        {
          "output_type": "stream",
          "name": "stdout",
          "text": [
            "\n",
            " Running config 29/30: {'conv_layers_config': [(16, 3), (32, 3), (64, 3)], 'dropout_conv': 0.2, 'dropout_fc': 0.4, 'norm_type': 'none', 'pool_type': 'avg', 'lr': 0.05, 'batch_size': 128, 'epochs': 20}\n"
          ]
        },
        {
          "output_type": "display_data",
          "data": {
            "text/plain": [
              "<IPython.core.display.HTML object>"
            ],
            "text/html": [
              "Tracking run with wandb version 0.19.11"
            ]
          },
          "metadata": {}
        },
        {
          "output_type": "display_data",
          "data": {
            "text/plain": [
              "<IPython.core.display.HTML object>"
            ],
            "text/html": [
              "Run data is saved locally in <code>/content/Emotion_Recognition/wandb/run-20250602_131540-jjalzg7i</code>"
            ]
          },
          "metadata": {}
        },
        {
          "output_type": "display_data",
          "data": {
            "text/plain": [
              "<IPython.core.display.HTML object>"
            ],
            "text/html": [
              "Syncing run <strong><a href='https://wandb.ai/mrekh21-free-university-of-tbilisi-/emotion-recognition/runs/jjalzg7i' target=\"_blank\">weighted_CNN_hparam_tuning_29</a></strong> to <a href='https://wandb.ai/mrekh21-free-university-of-tbilisi-/emotion-recognition' target=\"_blank\">Weights & Biases</a> (<a href='https://wandb.me/developer-guide' target=\"_blank\">docs</a>)<br>"
            ]
          },
          "metadata": {}
        },
        {
          "output_type": "display_data",
          "data": {
            "text/plain": [
              "<IPython.core.display.HTML object>"
            ],
            "text/html": [
              " View project at <a href='https://wandb.ai/mrekh21-free-university-of-tbilisi-/emotion-recognition' target=\"_blank\">https://wandb.ai/mrekh21-free-university-of-tbilisi-/emotion-recognition</a>"
            ]
          },
          "metadata": {}
        },
        {
          "output_type": "display_data",
          "data": {
            "text/plain": [
              "<IPython.core.display.HTML object>"
            ],
            "text/html": [
              " View run at <a href='https://wandb.ai/mrekh21-free-university-of-tbilisi-/emotion-recognition/runs/jjalzg7i' target=\"_blank\">https://wandb.ai/mrekh21-free-university-of-tbilisi-/emotion-recognition/runs/jjalzg7i</a>"
            ]
          },
          "metadata": {}
        },
        {
          "output_type": "display_data",
          "data": {
            "text/plain": [
              "<IPython.core.display.HTML object>"
            ],
            "text/html": []
          },
          "metadata": {}
        },
        {
          "output_type": "display_data",
          "data": {
            "text/plain": [
              "<IPython.core.display.HTML object>"
            ],
            "text/html": [
              "<br>    <style><br>        .wandb-row {<br>            display: flex;<br>            flex-direction: row;<br>            flex-wrap: wrap;<br>            justify-content: flex-start;<br>            width: 100%;<br>        }<br>        .wandb-col {<br>            display: flex;<br>            flex-direction: column;<br>            flex-basis: 100%;<br>            flex: 1;<br>            padding: 10px;<br>        }<br>    </style><br><div class=\"wandb-row\"><div class=\"wandb-col\"><h3>Run history:</h3><br/><table class=\"wandb\"><tr><td>epoch</td><td>▁▂▃▅▆▇█</td></tr><tr><td>train_acc</td><td>▆▁▂█▇▆▅</td></tr><tr><td>train_loss</td><td>█▁▁▁▁▁▁</td></tr><tr><td>val_acc</td><td>▁█▅▄▁▆▄</td></tr><tr><td>val_loss</td><td>█▂▁▄▃▂▄</td></tr></table><br/></div><div class=\"wandb-col\"><h3>Run summary:</h3><br/><table class=\"wandb\"><tr><td>epoch</td><td>7</td></tr><tr><td>train_acc</td><td>0.13417</td></tr><tr><td>train_loss</td><td>1.94863</td></tr><tr><td>val_acc</td><td>0.13012</td></tr><tr><td>val_loss</td><td>1.95042</td></tr></table><br/></div></div>"
            ]
          },
          "metadata": {}
        },
        {
          "output_type": "display_data",
          "data": {
            "text/plain": [
              "<IPython.core.display.HTML object>"
            ],
            "text/html": [
              " View run <strong style=\"color:#cdcd00\">weighted_CNN_hparam_tuning_29</strong> at: <a href='https://wandb.ai/mrekh21-free-university-of-tbilisi-/emotion-recognition/runs/jjalzg7i' target=\"_blank\">https://wandb.ai/mrekh21-free-university-of-tbilisi-/emotion-recognition/runs/jjalzg7i</a><br> View project at: <a href='https://wandb.ai/mrekh21-free-university-of-tbilisi-/emotion-recognition' target=\"_blank\">https://wandb.ai/mrekh21-free-university-of-tbilisi-/emotion-recognition</a><br>Synced 5 W&B file(s), 0 media file(s), 0 artifact file(s) and 0 other file(s)"
            ]
          },
          "metadata": {}
        },
        {
          "output_type": "display_data",
          "data": {
            "text/plain": [
              "<IPython.core.display.HTML object>"
            ],
            "text/html": [
              "Find logs at: <code>./wandb/run-20250602_131540-jjalzg7i/logs</code>"
            ]
          },
          "metadata": {}
        },
        {
          "output_type": "stream",
          "name": "stderr",
          "text": [
            "\rHyperparameter Trials:  97%|█████████▋| 29/30 [31:18<00:46, 46.20s/it]"
          ]
        },
        {
          "output_type": "stream",
          "name": "stdout",
          "text": [
            "\n",
            " Running config 30/30: {'conv_layers_config': [(32, 3), (64, 3), (128, 3)], 'dropout_conv': 0.3, 'dropout_fc': 0.2, 'norm_type': 'layer', 'pool_type': 'avg', 'lr': 0.05, 'batch_size': 64, 'epochs': 20}\n"
          ]
        },
        {
          "output_type": "display_data",
          "data": {
            "text/plain": [
              "<IPython.core.display.HTML object>"
            ],
            "text/html": [
              "Tracking run with wandb version 0.19.11"
            ]
          },
          "metadata": {}
        },
        {
          "output_type": "display_data",
          "data": {
            "text/plain": [
              "<IPython.core.display.HTML object>"
            ],
            "text/html": [
              "Run data is saved locally in <code>/content/Emotion_Recognition/wandb/run-20250602_131555-mz4ziq24</code>"
            ]
          },
          "metadata": {}
        },
        {
          "output_type": "display_data",
          "data": {
            "text/plain": [
              "<IPython.core.display.HTML object>"
            ],
            "text/html": [
              "Syncing run <strong><a href='https://wandb.ai/mrekh21-free-university-of-tbilisi-/emotion-recognition/runs/mz4ziq24' target=\"_blank\">weighted_CNN_hparam_tuning_30</a></strong> to <a href='https://wandb.ai/mrekh21-free-university-of-tbilisi-/emotion-recognition' target=\"_blank\">Weights & Biases</a> (<a href='https://wandb.me/developer-guide' target=\"_blank\">docs</a>)<br>"
            ]
          },
          "metadata": {}
        },
        {
          "output_type": "display_data",
          "data": {
            "text/plain": [
              "<IPython.core.display.HTML object>"
            ],
            "text/html": [
              " View project at <a href='https://wandb.ai/mrekh21-free-university-of-tbilisi-/emotion-recognition' target=\"_blank\">https://wandb.ai/mrekh21-free-university-of-tbilisi-/emotion-recognition</a>"
            ]
          },
          "metadata": {}
        },
        {
          "output_type": "display_data",
          "data": {
            "text/plain": [
              "<IPython.core.display.HTML object>"
            ],
            "text/html": [
              " View run at <a href='https://wandb.ai/mrekh21-free-university-of-tbilisi-/emotion-recognition/runs/mz4ziq24' target=\"_blank\">https://wandb.ai/mrekh21-free-university-of-tbilisi-/emotion-recognition/runs/mz4ziq24</a>"
            ]
          },
          "metadata": {}
        },
        {
          "output_type": "display_data",
          "data": {
            "text/plain": [
              "<IPython.core.display.HTML object>"
            ],
            "text/html": []
          },
          "metadata": {}
        },
        {
          "output_type": "display_data",
          "data": {
            "text/plain": [
              "<IPython.core.display.HTML object>"
            ],
            "text/html": [
              "<br>    <style><br>        .wandb-row {<br>            display: flex;<br>            flex-direction: row;<br>            flex-wrap: wrap;<br>            justify-content: flex-start;<br>            width: 100%;<br>        }<br>        .wandb-col {<br>            display: flex;<br>            flex-direction: column;<br>            flex-basis: 100%;<br>            flex: 1;<br>            padding: 10px;<br>        }<br>    </style><br><div class=\"wandb-row\"><div class=\"wandb-col\"><h3>Run history:</h3><br/><table class=\"wandb\"><tr><td>epoch</td><td>▁▂▃▅▆▇█</td></tr><tr><td>train_acc</td><td>▁▆█▇▅▆▄</td></tr><tr><td>train_loss</td><td>█▁▁▁▁▁▁</td></tr><tr><td>val_acc</td><td>▁█▄▄▄▅▆</td></tr><tr><td>val_loss</td><td>▇▂█▅▁█▄</td></tr></table><br/></div><div class=\"wandb-col\"><h3>Run summary:</h3><br/><table class=\"wandb\"><tr><td>epoch</td><td>7</td></tr><tr><td>train_acc</td><td>0.14546</td></tr><tr><td>train_loss</td><td>1.94897</td></tr><tr><td>val_acc</td><td>0.18194</td></tr><tr><td>val_loss</td><td>1.94831</td></tr></table><br/></div></div>"
            ]
          },
          "metadata": {}
        },
        {
          "output_type": "display_data",
          "data": {
            "text/plain": [
              "<IPython.core.display.HTML object>"
            ],
            "text/html": [
              " View run <strong style=\"color:#cdcd00\">weighted_CNN_hparam_tuning_30</strong> at: <a href='https://wandb.ai/mrekh21-free-university-of-tbilisi-/emotion-recognition/runs/mz4ziq24' target=\"_blank\">https://wandb.ai/mrekh21-free-university-of-tbilisi-/emotion-recognition/runs/mz4ziq24</a><br> View project at: <a href='https://wandb.ai/mrekh21-free-university-of-tbilisi-/emotion-recognition' target=\"_blank\">https://wandb.ai/mrekh21-free-university-of-tbilisi-/emotion-recognition</a><br>Synced 5 W&B file(s), 0 media file(s), 0 artifact file(s) and 0 other file(s)"
            ]
          },
          "metadata": {}
        },
        {
          "output_type": "display_data",
          "data": {
            "text/plain": [
              "<IPython.core.display.HTML object>"
            ],
            "text/html": [
              "Find logs at: <code>./wandb/run-20250602_131555-mz4ziq24/logs</code>"
            ]
          },
          "metadata": {}
        },
        {
          "output_type": "stream",
          "name": "stderr",
          "text": [
            "Hyperparameter Trials: 100%|██████████| 30/30 [31:46<00:00, 63.57s/it]"
          ]
        },
        {
          "output_type": "stream",
          "name": "stdout",
          "text": [
            "\n",
            " Best validation accuracy: 0.51797157982725\n",
            "Best hyperparameters: {'conv_layers_config': [(16, 3), (32, 3), (64, 3)], 'dropout_conv': 0.1, 'dropout_fc': 0.2, 'norm_type': 'batch', 'pool_type': 'max', 'lr': 0.001, 'batch_size': 64, 'epochs': 20}\n"
          ]
        },
        {
          "output_type": "stream",
          "name": "stderr",
          "text": [
            "\n"
          ]
        }
      ]
    },
    {
      "cell_type": "code",
      "source": [
        "# best_config = {\n",
        "#     'conv_layers_config': [(32, 3), (64, 3), (128, 3)],\n",
        "#     'dropout_conv': 0.1,\n",
        "#     'dropout_fc': 0.2,\n",
        "#     'norm_type': 'layer',\n",
        "#     'pool_type': 'avg',\n",
        "#     'lr': 0.001,\n",
        "#     'batch_size': 128,\n",
        "#     'epochs': 50\n",
        "# }\n",
        "\n",
        "best_config = {\n",
        "    'conv_layers_config': [(16, 3), (32, 3), (64, 3)],\n",
        "    'dropout_conv': 0.1,\n",
        "    'dropout_fc': 0.2,\n",
        "    'norm_type': 'batch',\n",
        "    'pool_type': 'max',\n",
        "    'lr': 0.001,\n",
        "    'batch_size': 64,\n",
        "    'epochs': 50\n",
        "}\n"
      ],
      "metadata": {
        "id": "Quxk1Ptd4nnQ"
      },
      "execution_count": 72,
      "outputs": []
    },
    {
      "cell_type": "code",
      "source": [
        "from tqdm import tqdm\n",
        "\n",
        "\n",
        "device = torch.device(\"cuda\" if torch.cuda.is_available() else \"cpu\")\n",
        "\n",
        "\n",
        "def train_final_model(config, run_name=\"weighted_CNN_best_model\"):\n",
        "    wandb.init(project=\"emotion-recognition\", name=run_name, config=config)\n",
        "\n",
        "    model = GeneralCNN(\n",
        "        input_channels=1,\n",
        "        num_classes=7,\n",
        "        conv_layers_config=config[\"conv_layers_config\"],\n",
        "        dropout_conv=config[\"dropout_conv\"],\n",
        "        dropout_fc=config[\"dropout_fc\"],\n",
        "        norm_type=config[\"norm_type\"],\n",
        "        pool_type=config[\"pool_type\"],\n",
        "        image_size=48\n",
        "    ).to(device)\n",
        "\n",
        "    optimizer = torch.optim.Adam(model.parameters(), lr=config[\"lr\"])\n",
        "    #criterion = nn.CrossEntropyLoss()\n",
        "    criterion = nn.CrossEntropyLoss(weight=class_weights)\n",
        "\n",
        "    train_loader = DataLoader(train_dataset, batch_size=config[\"batch_size\"], shuffle=True)\n",
        "    val_loader = DataLoader(val_dataset, batch_size=config[\"batch_size\"], shuffle=False)\n",
        "\n",
        "    best_val_loss = float('inf')\n",
        "    patience = 5\n",
        "    counter = 0\n",
        "\n",
        "    for epoch in range(config[\"epochs\"]):\n",
        "        model.train()\n",
        "        train_loss, train_acc = train_one_epoch(model, train_loader, criterion, optimizer)\n",
        "\n",
        "        model.eval()\n",
        "        val_loss, val_acc = evaluate(model, val_loader, criterion)\n",
        "\n",
        "        wandb.log({\n",
        "            \"epoch\": epoch + 1,\n",
        "            \"train_loss\": train_loss,\n",
        "            \"train_acc\": train_acc,\n",
        "            \"val_loss\": val_loss,\n",
        "            \"val_acc\": val_acc\n",
        "        })\n",
        "\n",
        "        print(f\"Epoch {epoch+1}: Train Acc={train_acc:.4f}, Val Acc={val_acc:.4f}, Val Loss={val_loss:.4f}, Train Loss={train_loss:.4f}\")\n",
        "\n",
        "        if val_loss < best_val_loss:\n",
        "            best_val_loss = val_loss\n",
        "            counter = 0\n",
        "        else:\n",
        "            counter += 1\n",
        "            if counter >= patience:\n",
        "                print(f\"Early stopping triggered at epoch {epoch+1}\")\n",
        "                break\n",
        "\n",
        "    wandb.finish()\n",
        "    print(f\"\\nBest Validation Loss: {best_val_loss:.4f}\")\n",
        "\n",
        "\n",
        "\n",
        "\n",
        "train_final_model(best_config)"
      ],
      "metadata": {
        "colab": {
          "base_uri": "https://localhost:8080/",
          "height": 1000
        },
        "id": "9C6vJyyqOxpw",
        "outputId": "295a6526-ee51-40aa-88e6-0ab5ea85ade4"
      },
      "execution_count": 73,
      "outputs": [
        {
          "output_type": "display_data",
          "data": {
            "text/plain": [
              "<IPython.core.display.HTML object>"
            ],
            "text/html": [
              "Tracking run with wandb version 0.19.11"
            ]
          },
          "metadata": {}
        },
        {
          "output_type": "display_data",
          "data": {
            "text/plain": [
              "<IPython.core.display.HTML object>"
            ],
            "text/html": [
              "Run data is saved locally in <code>/content/Emotion_Recognition/wandb/run-20250602_132057-xowfi9x6</code>"
            ]
          },
          "metadata": {}
        },
        {
          "output_type": "display_data",
          "data": {
            "text/plain": [
              "<IPython.core.display.HTML object>"
            ],
            "text/html": [
              "Syncing run <strong><a href='https://wandb.ai/mrekh21-free-university-of-tbilisi-/emotion-recognition/runs/xowfi9x6' target=\"_blank\">weighted_CNN_best_model</a></strong> to <a href='https://wandb.ai/mrekh21-free-university-of-tbilisi-/emotion-recognition' target=\"_blank\">Weights & Biases</a> (<a href='https://wandb.me/developer-guide' target=\"_blank\">docs</a>)<br>"
            ]
          },
          "metadata": {}
        },
        {
          "output_type": "display_data",
          "data": {
            "text/plain": [
              "<IPython.core.display.HTML object>"
            ],
            "text/html": [
              " View project at <a href='https://wandb.ai/mrekh21-free-university-of-tbilisi-/emotion-recognition' target=\"_blank\">https://wandb.ai/mrekh21-free-university-of-tbilisi-/emotion-recognition</a>"
            ]
          },
          "metadata": {}
        },
        {
          "output_type": "display_data",
          "data": {
            "text/plain": [
              "<IPython.core.display.HTML object>"
            ],
            "text/html": [
              " View run at <a href='https://wandb.ai/mrekh21-free-university-of-tbilisi-/emotion-recognition/runs/xowfi9x6' target=\"_blank\">https://wandb.ai/mrekh21-free-university-of-tbilisi-/emotion-recognition/runs/xowfi9x6</a>"
            ]
          },
          "metadata": {}
        },
        {
          "output_type": "stream",
          "name": "stdout",
          "text": [
            "Epoch 1: Train Acc=0.2510, Val Acc=0.2912, Val Loss=1.7709, Train Loss=1.8473\n",
            "Epoch 2: Train Acc=0.3322, Val Acc=0.3636, Val Loss=1.5676, Train Loss=1.7026\n",
            "Epoch 3: Train Acc=0.3556, Val Acc=0.4101, Val Loss=1.5047, Train Loss=1.6193\n",
            "Epoch 4: Train Acc=0.3756, Val Acc=0.4196, Val Loss=1.4907, Train Loss=1.5697\n",
            "Epoch 5: Train Acc=0.3928, Val Acc=0.4575, Val Loss=1.4202, Train Loss=1.5260\n",
            "Epoch 6: Train Acc=0.4059, Val Acc=0.3990, Val Loss=1.4561, Train Loss=1.4921\n",
            "Epoch 7: Train Acc=0.4106, Val Acc=0.4413, Val Loss=1.3995, Train Loss=1.4667\n",
            "Epoch 8: Train Acc=0.4180, Val Acc=0.4436, Val Loss=1.4013, Train Loss=1.4477\n",
            "Epoch 9: Train Acc=0.4251, Val Acc=0.4478, Val Loss=1.4224, Train Loss=1.4189\n",
            "Epoch 10: Train Acc=0.4300, Val Acc=0.4837, Val Loss=1.3966, Train Loss=1.4032\n",
            "Epoch 11: Train Acc=0.4363, Val Acc=0.4450, Val Loss=1.3734, Train Loss=1.3763\n",
            "Epoch 12: Train Acc=0.4397, Val Acc=0.4882, Val Loss=1.3554, Train Loss=1.3650\n",
            "Epoch 13: Train Acc=0.4436, Val Acc=0.4770, Val Loss=1.3471, Train Loss=1.3535\n",
            "Epoch 14: Train Acc=0.4509, Val Acc=0.4778, Val Loss=1.3561, Train Loss=1.3254\n",
            "Epoch 15: Train Acc=0.4552, Val Acc=0.4923, Val Loss=1.3391, Train Loss=1.3363\n",
            "Epoch 16: Train Acc=0.4577, Val Acc=0.4815, Val Loss=1.3169, Train Loss=1.3171\n",
            "Epoch 17: Train Acc=0.4611, Val Acc=0.5068, Val Loss=1.3356, Train Loss=1.3059\n",
            "Epoch 18: Train Acc=0.4623, Val Acc=0.4879, Val Loss=1.2976, Train Loss=1.2993\n",
            "Epoch 19: Train Acc=0.4654, Val Acc=0.4935, Val Loss=1.3238, Train Loss=1.2892\n",
            "Epoch 20: Train Acc=0.4674, Val Acc=0.5077, Val Loss=1.3102, Train Loss=1.2794\n",
            "Epoch 21: Train Acc=0.4614, Val Acc=0.5071, Val Loss=1.3305, Train Loss=1.2781\n",
            "Epoch 22: Train Acc=0.4681, Val Acc=0.5079, Val Loss=1.3690, Train Loss=1.2550\n",
            "Epoch 23: Train Acc=0.4720, Val Acc=0.5077, Val Loss=1.3352, Train Loss=1.2521\n",
            "Early stopping triggered at epoch 23\n"
          ]
        },
        {
          "output_type": "display_data",
          "data": {
            "text/plain": [
              "<IPython.core.display.HTML object>"
            ],
            "text/html": []
          },
          "metadata": {}
        },
        {
          "output_type": "display_data",
          "data": {
            "text/plain": [
              "<IPython.core.display.HTML object>"
            ],
            "text/html": [
              "<br>    <style><br>        .wandb-row {<br>            display: flex;<br>            flex-direction: row;<br>            flex-wrap: wrap;<br>            justify-content: flex-start;<br>            width: 100%;<br>        }<br>        .wandb-col {<br>            display: flex;<br>            flex-direction: column;<br>            flex-basis: 100%;<br>            flex: 1;<br>            padding: 10px;<br>        }<br>    </style><br><div class=\"wandb-row\"><div class=\"wandb-col\"><h3>Run history:</h3><br/><table class=\"wandb\"><tr><td>epoch</td><td>▁▁▂▂▂▃▃▃▄▄▄▅▅▅▅▆▆▆▇▇▇██</td></tr><tr><td>train_acc</td><td>▁▄▄▅▅▆▆▆▇▇▇▇▇▇▇████████</td></tr><tr><td>train_loss</td><td>█▆▅▅▄▄▄▃▃▃▂▂▂▂▂▂▂▂▁▁▁▁▁</td></tr><tr><td>val_acc</td><td>▁▃▅▅▆▄▆▆▆▇▆▇▇▇▇▇█▇█████</td></tr><tr><td>val_loss</td><td>█▅▄▄▃▃▃▃▃▂▂▂▂▂▂▁▂▁▁▁▁▂▂</td></tr></table><br/></div><div class=\"wandb-col\"><h3>Run summary:</h3><br/><table class=\"wandb\"><tr><td>epoch</td><td>23</td></tr><tr><td>train_acc</td><td>0.47198</td></tr><tr><td>train_loss</td><td>1.25214</td></tr><tr><td>val_acc</td><td>0.50766</td></tr><tr><td>val_loss</td><td>1.33522</td></tr></table><br/></div></div>"
            ]
          },
          "metadata": {}
        },
        {
          "output_type": "display_data",
          "data": {
            "text/plain": [
              "<IPython.core.display.HTML object>"
            ],
            "text/html": [
              " View run <strong style=\"color:#cdcd00\">weighted_CNN_best_model</strong> at: <a href='https://wandb.ai/mrekh21-free-university-of-tbilisi-/emotion-recognition/runs/xowfi9x6' target=\"_blank\">https://wandb.ai/mrekh21-free-university-of-tbilisi-/emotion-recognition/runs/xowfi9x6</a><br> View project at: <a href='https://wandb.ai/mrekh21-free-university-of-tbilisi-/emotion-recognition' target=\"_blank\">https://wandb.ai/mrekh21-free-university-of-tbilisi-/emotion-recognition</a><br>Synced 5 W&B file(s), 0 media file(s), 0 artifact file(s) and 0 other file(s)"
            ]
          },
          "metadata": {}
        },
        {
          "output_type": "display_data",
          "data": {
            "text/plain": [
              "<IPython.core.display.HTML object>"
            ],
            "text/html": [
              "Find logs at: <code>./wandb/run-20250602_132057-xowfi9x6/logs</code>"
            ]
          },
          "metadata": {}
        },
        {
          "output_type": "stream",
          "name": "stdout",
          "text": [
            "\n",
            "Best Validation Loss: 1.2976\n"
          ]
        }
      ]
    },
    {
      "cell_type": "markdown",
      "source": [
        "# General Class with Residuals:\n"
      ],
      "metadata": {
        "id": "LFoLzq0OY9aN"
      }
    },
    {
      "cell_type": "code",
      "source": [
        "import torch\n",
        "import torch.nn as nn\n",
        "import torch.nn.functional as F\n",
        "\n",
        "class ResidualBlock(nn.Module):\n",
        "    def __init__(self, in_channels, out_channels, kernel_size, norm_type=\"batch\", pool_type=\"none\", dropout=0.0):\n",
        "        super(ResidualBlock, self).__init__()\n",
        "\n",
        "        padding = kernel_size // 2\n",
        "        self.use_skip = in_channels == out_channels\n",
        "\n",
        "        self.conv1 = nn.Conv2d(in_channels, out_channels, kernel_size, padding=padding)\n",
        "        self.conv2 = nn.Conv2d(out_channels, out_channels, kernel_size, padding=padding)\n",
        "\n",
        "        self.norm1 = self._get_norm(norm_type, out_channels)\n",
        "        self.norm2 = self._get_norm(norm_type, out_channels)\n",
        "\n",
        "        self.pool = self._get_pool(pool_type)\n",
        "        self.dropout = nn.Dropout(dropout)\n",
        "\n",
        "        if not self.use_skip:\n",
        "            self.skip = nn.Conv2d(in_channels, out_channels, kernel_size=1)\n",
        "        else:\n",
        "            self.skip = nn.Identity()\n",
        "\n",
        "    def _get_norm(self, norm_type, channels):\n",
        "        if norm_type == 'batch':\n",
        "            return nn.BatchNorm2d(channels)\n",
        "        elif norm_type == 'layer':\n",
        "            return nn.GroupNorm(1, channels)\n",
        "        else:\n",
        "            return nn.Identity()\n",
        "\n",
        "    def _get_pool(self, pool_type):\n",
        "        if pool_type == 'max':\n",
        "            return nn.MaxPool2d(2)\n",
        "        elif pool_type == 'avg':\n",
        "            return nn.AvgPool2d(2)\n",
        "        else:\n",
        "            return nn.Identity()\n",
        "\n",
        "    def forward(self, x):\n",
        "        identity = self.skip(x)\n",
        "\n",
        "        out = F.relu(self.norm1(self.conv1(x)))\n",
        "        out = self.norm2(self.conv2(out))\n",
        "        out += identity\n",
        "        out = F.relu(out)\n",
        "        out = self.pool(out)\n",
        "        out = self.dropout(out)\n",
        "\n",
        "        return out\n",
        "\n",
        "\n",
        "class GeneralResNetCNN(nn.Module):\n",
        "    def __init__(\n",
        "        self,\n",
        "        input_channels=1,\n",
        "        num_classes=7,\n",
        "        conv_layers_config=[(32, 3), (64, 3), (128, 3)],  # (out_channels, kernel_size)\n",
        "        dropout_conv=0.25,\n",
        "        dropout_fc=0.5,\n",
        "        norm_type='batch',  # 'batch', 'layer', 'none'\n",
        "        pool_type='max',    # 'max', 'avg', 'none'\n",
        "        image_size=48\n",
        "    ):\n",
        "        super(GeneralResNetCNN, self).__init__()\n",
        "\n",
        "        self.res_blocks = nn.ModuleList()\n",
        "        in_channels = input_channels\n",
        "        curr_size = image_size\n",
        "\n",
        "        for out_channels, kernel_size in conv_layers_config:\n",
        "            block = ResidualBlock(\n",
        "                in_channels=in_channels,\n",
        "                out_channels=out_channels,\n",
        "                kernel_size=kernel_size,\n",
        "                norm_type=norm_type,\n",
        "                pool_type=pool_type,\n",
        "                dropout=dropout_conv\n",
        "            )\n",
        "            self.res_blocks.append(block)\n",
        "\n",
        "            if pool_type in ['max', 'avg']:\n",
        "                curr_size //= 2\n",
        "            in_channels = out_channels\n",
        "\n",
        "        self.flattened_size = in_channels * curr_size * curr_size\n",
        "        self.fc1 = nn.Linear(self.flattened_size, 128)\n",
        "        self.dropout_fc = nn.Dropout(dropout_fc)\n",
        "        self.fc2 = nn.Linear(128, num_classes)\n",
        "\n",
        "    def forward(self, x):\n",
        "        for block in self.res_blocks:\n",
        "            x = block(x)\n",
        "\n",
        "        x = x.reshape(x.size(0), -1)\n",
        "        x = F.relu(self.fc1(x))\n",
        "        x = self.dropout_fc(x)\n",
        "        x = self.fc2(x)\n",
        "        return x\n"
      ],
      "metadata": {
        "id": "cU8kxXKCY8vB"
      },
      "execution_count": 74,
      "outputs": []
    },
    {
      "cell_type": "markdown",
      "source": [
        "შევამოწმოთ პატარა დატაზე"
      ],
      "metadata": {
        "id": "YuPIMrC0ZLKe"
      }
    },
    {
      "cell_type": "code",
      "source": [
        "import torch.optim as optim\n",
        "\n",
        "\n",
        "X_small = np.stack(X_train[:10])  # shape (10, 48, 48, 1)\n",
        "y_small = np.array(y_train[:10])  # shape (10,)\n",
        "\n",
        "device = torch.device(\"cuda\" if torch.cuda.is_available() else \"cpu\")\n",
        "\n",
        "X_small = torch.tensor(X_small).float().permute(0, 3, 1, 2).to(device)  # (10, 1, 48, 48)\n",
        "y_small = torch.tensor(y_small).long().to(device)                       # (10,)\n",
        "\n",
        "\n",
        "model = GeneralResNetCNN().to(device)\n",
        "optimizer = optim.Adam(model.parameters(), lr=0.01)\n",
        "criterion = nn.CrossEntropyLoss()\n",
        "\n",
        "\n",
        "for epoch in range(50):\n",
        "    model.train()\n",
        "    optimizer.zero_grad()\n",
        "    outputs = model(X_small)\n",
        "    loss = criterion(outputs, y_small)\n",
        "    loss.backward()\n",
        "    optimizer.step()\n",
        "\n",
        "    _, preds = torch.max(outputs, 1)\n",
        "    acc = (preds == y_small).float().mean()\n",
        "\n",
        "    print(f\"Epoch {epoch+1}, Loss: {loss.item():.4f}, Accuracy: {acc.item()*100:.2f}%\")\n",
        "\n",
        "    if acc.item() == 1.0:\n",
        "        print(\"Model overfit successfully!\")\n",
        "        break\n"
      ],
      "metadata": {
        "colab": {
          "base_uri": "https://localhost:8080/"
        },
        "id": "3v4H1j2M4naY",
        "outputId": "980e2b34-81c4-4350-b9c6-6e595ce9f34f"
      },
      "execution_count": null,
      "outputs": [
        {
          "output_type": "stream",
          "name": "stdout",
          "text": [
            "Epoch 1, Loss: 2.0206, Accuracy: 10.00%\n",
            "Epoch 2, Loss: 21.1711, Accuracy: 20.00%\n",
            "Epoch 3, Loss: 14.6253, Accuracy: 30.00%\n",
            "Epoch 4, Loss: 6.6969, Accuracy: 30.00%\n",
            "Epoch 5, Loss: 1.6713, Accuracy: 40.00%\n",
            "Epoch 6, Loss: 2.5741, Accuracy: 30.00%\n",
            "Epoch 7, Loss: 1.3406, Accuracy: 40.00%\n",
            "Epoch 8, Loss: 1.5900, Accuracy: 50.00%\n",
            "Epoch 9, Loss: 1.3297, Accuracy: 40.00%\n",
            "Epoch 10, Loss: 1.2355, Accuracy: 40.00%\n",
            "Epoch 11, Loss: 1.3254, Accuracy: 60.00%\n",
            "Epoch 12, Loss: 1.3354, Accuracy: 50.00%\n",
            "Epoch 13, Loss: 1.1599, Accuracy: 60.00%\n",
            "Epoch 14, Loss: 1.0757, Accuracy: 70.00%\n",
            "Epoch 15, Loss: 0.9942, Accuracy: 70.00%\n",
            "Epoch 16, Loss: 0.9416, Accuracy: 60.00%\n",
            "Epoch 17, Loss: 0.8864, Accuracy: 60.00%\n",
            "Epoch 18, Loss: 0.8918, Accuracy: 60.00%\n",
            "Epoch 19, Loss: 0.7962, Accuracy: 60.00%\n",
            "Epoch 20, Loss: 1.0026, Accuracy: 60.00%\n",
            "Epoch 21, Loss: 0.8072, Accuracy: 70.00%\n",
            "Epoch 22, Loss: 1.0534, Accuracy: 60.00%\n",
            "Epoch 23, Loss: 0.8522, Accuracy: 70.00%\n",
            "Epoch 24, Loss: 0.5178, Accuracy: 90.00%\n",
            "Epoch 25, Loss: 0.6499, Accuracy: 70.00%\n",
            "Epoch 26, Loss: 0.4524, Accuracy: 70.00%\n",
            "Epoch 27, Loss: 0.6270, Accuracy: 50.00%\n",
            "Epoch 28, Loss: 0.3425, Accuracy: 90.00%\n",
            "Epoch 29, Loss: 0.4859, Accuracy: 70.00%\n",
            "Epoch 30, Loss: 0.4122, Accuracy: 80.00%\n",
            "Epoch 31, Loss: 0.1946, Accuracy: 100.00%\n",
            "Model overfit successfully!\n"
          ]
        }
      ]
    },
    {
      "cell_type": "code",
      "source": [
        "model = GeneralResNetCNN(\n",
        "    input_channels=1,\n",
        "    num_classes=7,\n",
        "    conv_layers_config=[(32, 3), (64, 3), (128, 3)],\n",
        "    dropout_conv=0.1,\n",
        "    dropout_fc=0.2,\n",
        "    norm_type='layer',\n",
        "    pool_type='avg'\n",
        ").to(device)\n"
      ],
      "metadata": {
        "id": "lQqvLUJM4nM8"
      },
      "execution_count": null,
      "outputs": []
    },
    {
      "cell_type": "code",
      "source": [
        "device = torch.device('cuda' if torch.cuda.is_available() else 'cpu')\n",
        "\n",
        "model = GeneralResNetCNN(\n",
        "    input_channels=1,\n",
        "    num_classes=7,\n",
        "    conv_layers_config=[(32, 3), (64, 3), (128, 3)],\n",
        "    dropout_conv=0.1,\n",
        "    dropout_fc=0.2,\n",
        "    norm_type='layer',\n",
        "    pool_type='avg',\n",
        "    image_size=48\n",
        ").to(device)\n",
        "\n",
        "criterion = nn.CrossEntropyLoss()\n",
        "optimizer = optim.Adam(model.parameters(), lr=0.001)\n",
        "\n",
        "patience = 3\n",
        "best_val_loss = float('inf')\n",
        "counter = 0\n",
        "best_model_state = None\n",
        "\n",
        "\n",
        "train_loader = DataLoader(train_dataset, batch_size=128, shuffle=True)\n",
        "val_loader = DataLoader(val_dataset, batch_size=128)\n",
        "\n",
        "epochs = 20\n",
        "\n",
        "for epoch in range(epochs):\n",
        "    model.train()\n",
        "    train_loss, correct, total = 0.0, 0, 0\n",
        "\n",
        "    for images, labels in tqdm(train_loader, desc=f\"Epoch {epoch+1}/{epochs}\"):\n",
        "        images, labels = images.to(device), labels.to(device)\n",
        "\n",
        "        optimizer.zero_grad()\n",
        "        outputs = model(images)\n",
        "        loss = criterion(outputs, labels)\n",
        "        loss.backward()\n",
        "        optimizer.step()\n",
        "\n",
        "        train_loss += loss.item() * images.size(0)\n",
        "        _, predicted = outputs.max(1)\n",
        "        total += labels.size(0)\n",
        "        correct += predicted.eq(labels).sum().item()\n",
        "\n",
        "    train_acc = correct / total\n",
        "    train_loss /= total\n",
        "\n",
        "    # Validation\n",
        "    model.eval()\n",
        "    val_loss, val_correct, val_total = 0.0, 0, 0\n",
        "    with torch.no_grad():\n",
        "        for images, labels in val_loader:\n",
        "            images, labels = images.to(device), labels.to(device)\n",
        "            outputs = model(images)\n",
        "            loss = criterion(outputs, labels)\n",
        "\n",
        "            val_loss += loss.item() * images.size(0)\n",
        "            _, predicted = outputs.max(1)\n",
        "            val_total += labels.size(0)\n",
        "            val_correct += predicted.eq(labels).sum().item()\n",
        "\n",
        "    val_acc = val_correct / val_total\n",
        "    val_loss /= val_total\n",
        "\n",
        "    print(f\"\\nEpoch {epoch+1}\")\n",
        "    print(f\"Train loss: {train_loss:.5f}, Train acc: {train_acc:.5f}\")\n",
        "    print(f\"Val loss:   {val_loss:.5f}, Val acc:   {val_acc:.5f}\")\n",
        "\n",
        "    # Early stopping\n",
        "    if val_loss < best_val_loss:\n",
        "        best_val_loss = val_loss\n",
        "        counter = 0\n",
        "        best_model_state = model.state_dict()\n",
        "    else:\n",
        "        counter += 1\n",
        "        if counter >= patience:\n",
        "            print(f\"Early stopping triggered at epoch {epoch+1}\")\n",
        "            break"
      ],
      "metadata": {
        "colab": {
          "base_uri": "https://localhost:8080/"
        },
        "id": "nuBgIX2SbEVr",
        "outputId": "6c920d2b-061e-470d-81d4-46fae896c46a"
      },
      "execution_count": null,
      "outputs": [
        {
          "output_type": "stream",
          "name": "stderr",
          "text": [
            "Epoch 1/20: 100%|██████████| 225/225 [00:07<00:00, 29.49it/s]\n"
          ]
        },
        {
          "output_type": "stream",
          "name": "stdout",
          "text": [
            "\n",
            "Epoch 1\n",
            "Train loss: 1.72781, Train acc: 0.30308\n",
            "Val loss:   1.58520, Val acc:   0.38757\n"
          ]
        },
        {
          "output_type": "stream",
          "name": "stderr",
          "text": [
            "Epoch 2/20: 100%|██████████| 225/225 [00:07<00:00, 30.88it/s]\n"
          ]
        },
        {
          "output_type": "stream",
          "name": "stdout",
          "text": [
            "\n",
            "Epoch 2\n",
            "Train loss: 1.56624, Train acc: 0.38873\n",
            "Val loss:   1.50501, Val acc:   0.41850\n"
          ]
        },
        {
          "output_type": "stream",
          "name": "stderr",
          "text": [
            "Epoch 3/20: 100%|██████████| 225/225 [00:07<00:00, 30.24it/s]\n"
          ]
        },
        {
          "output_type": "stream",
          "name": "stdout",
          "text": [
            "\n",
            "Epoch 3\n",
            "Train loss: 1.48746, Train acc: 0.42394\n",
            "Val loss:   1.41302, Val acc:   0.44831\n"
          ]
        },
        {
          "output_type": "stream",
          "name": "stderr",
          "text": [
            "Epoch 4/20: 100%|██████████| 225/225 [00:07<00:00, 30.68it/s]\n"
          ]
        },
        {
          "output_type": "stream",
          "name": "stdout",
          "text": [
            "\n",
            "Epoch 4\n",
            "Train loss: 1.38981, Train acc: 0.46337\n",
            "Val loss:   1.33126, Val acc:   0.48259\n"
          ]
        },
        {
          "output_type": "stream",
          "name": "stderr",
          "text": [
            "Epoch 5/20: 100%|██████████| 225/225 [00:07<00:00, 30.49it/s]\n"
          ]
        },
        {
          "output_type": "stream",
          "name": "stdout",
          "text": [
            "\n",
            "Epoch 5\n",
            "Train loss: 1.30944, Train acc: 0.49559\n",
            "Val loss:   1.28527, Val acc:   0.49958\n"
          ]
        },
        {
          "output_type": "stream",
          "name": "stderr",
          "text": [
            "Epoch 6/20: 100%|██████████| 225/225 [00:07<00:00, 30.71it/s]\n"
          ]
        },
        {
          "output_type": "stream",
          "name": "stdout",
          "text": [
            "\n",
            "Epoch 6\n",
            "Train loss: 1.24220, Train acc: 0.52478\n",
            "Val loss:   1.21142, Val acc:   0.53887\n"
          ]
        },
        {
          "output_type": "stream",
          "name": "stderr",
          "text": [
            "Epoch 7/20: 100%|██████████| 225/225 [00:07<00:00, 30.95it/s]\n"
          ]
        },
        {
          "output_type": "stream",
          "name": "stdout",
          "text": [
            "\n",
            "Epoch 7\n",
            "Train loss: 1.18436, Train acc: 0.54627\n",
            "Val loss:   1.17051, Val acc:   0.55391\n"
          ]
        },
        {
          "output_type": "stream",
          "name": "stderr",
          "text": [
            "Epoch 8/20: 100%|██████████| 225/225 [00:07<00:00, 30.76it/s]\n"
          ]
        },
        {
          "output_type": "stream",
          "name": "stdout",
          "text": [
            "\n",
            "Epoch 8\n",
            "Train loss: 1.13443, Train acc: 0.56951\n",
            "Val loss:   1.14481, Val acc:   0.56395\n"
          ]
        },
        {
          "output_type": "stream",
          "name": "stderr",
          "text": [
            "Epoch 9/20: 100%|██████████| 225/225 [00:07<00:00, 31.14it/s]\n"
          ]
        },
        {
          "output_type": "stream",
          "name": "stdout",
          "text": [
            "\n",
            "Epoch 9\n",
            "Train loss: 1.08648, Train acc: 0.58877\n",
            "Val loss:   1.14650, Val acc:   0.56590\n"
          ]
        },
        {
          "output_type": "stream",
          "name": "stderr",
          "text": [
            "Epoch 10/20: 100%|██████████| 225/225 [00:07<00:00, 30.84it/s]\n"
          ]
        },
        {
          "output_type": "stream",
          "name": "stdout",
          "text": [
            "\n",
            "Epoch 10\n",
            "Train loss: 1.04501, Train acc: 0.60277\n",
            "Val loss:   1.12121, Val acc:   0.56896\n"
          ]
        },
        {
          "output_type": "stream",
          "name": "stderr",
          "text": [
            "Epoch 11/20: 100%|██████████| 225/225 [00:07<00:00, 31.02it/s]\n"
          ]
        },
        {
          "output_type": "stream",
          "name": "stdout",
          "text": [
            "\n",
            "Epoch 11\n",
            "Train loss: 1.00699, Train acc: 0.61660\n",
            "Val loss:   1.09441, Val acc:   0.58791\n"
          ]
        },
        {
          "output_type": "stream",
          "name": "stderr",
          "text": [
            "Epoch 12/20: 100%|██████████| 225/225 [00:07<00:00, 30.92it/s]\n"
          ]
        },
        {
          "output_type": "stream",
          "name": "stdout",
          "text": [
            "\n",
            "Epoch 12\n",
            "Train loss: 0.97678, Train acc: 0.62904\n",
            "Val loss:   1.09512, Val acc:   0.59042\n"
          ]
        },
        {
          "output_type": "stream",
          "name": "stderr",
          "text": [
            "Epoch 13/20: 100%|██████████| 225/225 [00:07<00:00, 30.84it/s]\n"
          ]
        },
        {
          "output_type": "stream",
          "name": "stdout",
          "text": [
            "\n",
            "Epoch 13\n",
            "Train loss: 0.93820, Train acc: 0.64269\n",
            "Val loss:   1.07878, Val acc:   0.60128\n"
          ]
        },
        {
          "output_type": "stream",
          "name": "stderr",
          "text": [
            "Epoch 14/20: 100%|██████████| 225/225 [00:07<00:00, 31.01it/s]\n"
          ]
        },
        {
          "output_type": "stream",
          "name": "stdout",
          "text": [
            "\n",
            "Epoch 14\n",
            "Train loss: 0.90043, Train acc: 0.65993\n",
            "Val loss:   1.08262, Val acc:   0.59989\n"
          ]
        },
        {
          "output_type": "stream",
          "name": "stderr",
          "text": [
            "Epoch 15/20: 100%|██████████| 225/225 [00:07<00:00, 30.18it/s]\n"
          ]
        },
        {
          "output_type": "stream",
          "name": "stdout",
          "text": [
            "\n",
            "Epoch 15\n",
            "Train loss: 0.86164, Train acc: 0.67380\n",
            "Val loss:   1.08387, Val acc:   0.60658\n"
          ]
        },
        {
          "output_type": "stream",
          "name": "stderr",
          "text": [
            "Epoch 16/20: 100%|██████████| 225/225 [00:07<00:00, 30.78it/s]\n"
          ]
        },
        {
          "output_type": "stream",
          "name": "stdout",
          "text": [
            "\n",
            "Epoch 16\n",
            "Train loss: 0.82462, Train acc: 0.68606\n",
            "Val loss:   1.10251, Val acc:   0.60490\n",
            "Early stopping triggered at epoch 16\n"
          ]
        }
      ]
    },
    {
      "cell_type": "code",
      "source": [
        "wandb.init(project=\"emotion-recognition\", name=\"CNN_with_residuals\", config=config)\n",
        "\n",
        "model = GeneralResNetCNN(\n",
        "    input_channels=1,\n",
        "    num_classes=7,\n",
        "    conv_layers_config=[(32, 3), (64, 3), (128, 3)],\n",
        "    dropout_conv=0.1,\n",
        "    dropout_fc=0.2,\n",
        "    norm_type='layer',\n",
        "    pool_type='avg',\n",
        "    image_size=48\n",
        ").to(device)\n",
        "\n",
        "optimizer = torch.optim.Adam(model.parameters(), lr=0.001)\n",
        "criterion = nn.CrossEntropyLoss()\n",
        "\n",
        "train_loader = DataLoader(train_dataset, batch_size=128, shuffle=True)\n",
        "val_loader = DataLoader(val_dataset, batch_size=128, shuffle=False)\n",
        "\n",
        "best_val_loss = float('inf')\n",
        "patience = 5\n",
        "counter = 0\n",
        "\n",
        "for epoch in range(50):\n",
        "    model.train()\n",
        "    train_loss, train_acc = train_one_epoch(model, train_loader, criterion, optimizer)\n",
        "\n",
        "    model.eval()\n",
        "    val_loss, val_acc = evaluate(model, val_loader, criterion)\n",
        "\n",
        "    wandb.log({\n",
        "        \"epoch\": epoch + 1,\n",
        "        \"train_loss\": train_loss,\n",
        "        \"train_acc\": train_acc,\n",
        "        \"val_loss\": val_loss,\n",
        "        \"val_acc\": val_acc\n",
        "    })\n",
        "\n",
        "    print(f\"Epoch {epoch+1}: Train Acc={train_acc:.4f}, Val Acc={val_acc:.4f}, Val Loss={val_loss:.4f}, Train Loss={train_loss:.4f}\")\n",
        "\n",
        "    if val_loss < best_val_loss:\n",
        "        best_val_loss = val_loss\n",
        "        counter = 0\n",
        "    else:\n",
        "        counter += 1\n",
        "        if counter >= patience:\n",
        "            print(f\"Early stopping triggered at epoch {epoch+1}\")\n",
        "            break\n",
        "\n",
        "wandb.finish()\n",
        "print(f\"\\nBest Validation Loss: {best_val_loss:.4f}\")\n",
        "\n",
        "\n",
        "\n"
      ],
      "metadata": {
        "colab": {
          "base_uri": "https://localhost:8080/",
          "height": 919
        },
        "id": "plXr70NfZew9",
        "outputId": "de46049e-605a-415a-c5ea-bc55444e7dc0"
      },
      "execution_count": null,
      "outputs": [
        {
          "output_type": "display_data",
          "data": {
            "text/plain": [
              "<IPython.core.display.HTML object>"
            ],
            "text/html": [
              "Tracking run with wandb version 0.19.11"
            ]
          },
          "metadata": {}
        },
        {
          "output_type": "display_data",
          "data": {
            "text/plain": [
              "<IPython.core.display.HTML object>"
            ],
            "text/html": [
              "Run data is saved locally in <code>/content/Emotion_Recognition/wandb/run-20250528_201436-z9xspf3d</code>"
            ]
          },
          "metadata": {}
        },
        {
          "output_type": "display_data",
          "data": {
            "text/plain": [
              "<IPython.core.display.HTML object>"
            ],
            "text/html": [
              "Syncing run <strong><a href='https://wandb.ai/mrekh21-free-university-of-tbilisi-/emotion-recognition/runs/z9xspf3d' target=\"_blank\">CNN_with_residuals</a></strong> to <a href='https://wandb.ai/mrekh21-free-university-of-tbilisi-/emotion-recognition' target=\"_blank\">Weights & Biases</a> (<a href='https://wandb.me/developer-guide' target=\"_blank\">docs</a>)<br>"
            ]
          },
          "metadata": {}
        },
        {
          "output_type": "display_data",
          "data": {
            "text/plain": [
              "<IPython.core.display.HTML object>"
            ],
            "text/html": [
              " View project at <a href='https://wandb.ai/mrekh21-free-university-of-tbilisi-/emotion-recognition' target=\"_blank\">https://wandb.ai/mrekh21-free-university-of-tbilisi-/emotion-recognition</a>"
            ]
          },
          "metadata": {}
        },
        {
          "output_type": "display_data",
          "data": {
            "text/plain": [
              "<IPython.core.display.HTML object>"
            ],
            "text/html": [
              " View run at <a href='https://wandb.ai/mrekh21-free-university-of-tbilisi-/emotion-recognition/runs/z9xspf3d' target=\"_blank\">https://wandb.ai/mrekh21-free-university-of-tbilisi-/emotion-recognition/runs/z9xspf3d</a>"
            ]
          },
          "metadata": {}
        },
        {
          "output_type": "stream",
          "name": "stdout",
          "text": [
            "Epoch 1: Train Acc=0.2857, Val Acc=0.3700, Val Loss=1.6308, Train Loss=1.7604\n",
            "Epoch 2: Train Acc=0.3755, Val Acc=0.4065, Val Loss=1.5151, Train Loss=1.5942\n",
            "Epoch 3: Train Acc=0.4202, Val Acc=0.4508, Val Loss=1.4169, Train Loss=1.4983\n",
            "Epoch 4: Train Acc=0.4602, Val Acc=0.4873, Val Loss=1.3463, Train Loss=1.4034\n",
            "Epoch 5: Train Acc=0.4897, Val Acc=0.5155, Val Loss=1.2736, Train Loss=1.3206\n",
            "Epoch 6: Train Acc=0.5245, Val Acc=0.5333, Val Loss=1.2173, Train Loss=1.2442\n",
            "Epoch 7: Train Acc=0.5466, Val Acc=0.5458, Val Loss=1.1899, Train Loss=1.1908\n",
            "Epoch 8: Train Acc=0.5667, Val Acc=0.5550, Val Loss=1.1775, Train Loss=1.1354\n",
            "Epoch 9: Train Acc=0.5867, Val Acc=0.5553, Val Loss=1.1646, Train Loss=1.0917\n",
            "Epoch 10: Train Acc=0.6053, Val Acc=0.5737, Val Loss=1.1187, Train Loss=1.0496\n",
            "Epoch 11: Train Acc=0.6215, Val Acc=0.5876, Val Loss=1.1219, Train Loss=1.0067\n",
            "Epoch 12: Train Acc=0.6326, Val Acc=0.5910, Val Loss=1.0987, Train Loss=0.9691\n",
            "Epoch 13: Train Acc=0.6517, Val Acc=0.5957, Val Loss=1.1044, Train Loss=0.9280\n",
            "Epoch 14: Train Acc=0.6665, Val Acc=0.5935, Val Loss=1.1081, Train Loss=0.8905\n",
            "Epoch 15: Train Acc=0.6798, Val Acc=0.5946, Val Loss=1.1301, Train Loss=0.8525\n",
            "Epoch 16: Train Acc=0.6955, Val Acc=0.5985, Val Loss=1.1389, Train Loss=0.8095\n",
            "Epoch 17: Train Acc=0.7057, Val Acc=0.5960, Val Loss=1.1334, Train Loss=0.7774\n",
            "Early stopping triggered at epoch 17\n"
          ]
        },
        {
          "output_type": "display_data",
          "data": {
            "text/plain": [
              "<IPython.core.display.HTML object>"
            ],
            "text/html": []
          },
          "metadata": {}
        },
        {
          "output_type": "display_data",
          "data": {
            "text/plain": [
              "<IPython.core.display.HTML object>"
            ],
            "text/html": [
              "<br>    <style><br>        .wandb-row {<br>            display: flex;<br>            flex-direction: row;<br>            flex-wrap: wrap;<br>            justify-content: flex-start;<br>            width: 100%;<br>        }<br>        .wandb-col {<br>            display: flex;<br>            flex-direction: column;<br>            flex-basis: 100%;<br>            flex: 1;<br>            padding: 10px;<br>        }<br>    </style><br><div class=\"wandb-row\"><div class=\"wandb-col\"><h3>Run history:</h3><br/><table class=\"wandb\"><tr><td>epoch</td><td>▁▁▂▂▃▃▄▄▅▅▅▆▆▇▇██</td></tr><tr><td>train_acc</td><td>▁▂▃▄▄▅▅▆▆▆▇▇▇▇███</td></tr><tr><td>train_loss</td><td>█▇▆▅▅▄▄▄▃▃▃▂▂▂▂▁▁</td></tr><tr><td>val_acc</td><td>▁▂▃▅▅▆▆▇▇▇███████</td></tr><tr><td>val_loss</td><td>█▆▅▄▃▃▂▂▂▁▁▁▁▁▁▂▁</td></tr></table><br/></div><div class=\"wandb-col\"><h3>Run summary:</h3><br/><table class=\"wandb\"><tr><td>epoch</td><td>17</td></tr><tr><td>train_acc</td><td>0.70574</td></tr><tr><td>train_loss</td><td>0.77736</td></tr><tr><td>val_acc</td><td>0.59599</td></tr><tr><td>val_loss</td><td>1.13342</td></tr></table><br/></div></div>"
            ]
          },
          "metadata": {}
        },
        {
          "output_type": "display_data",
          "data": {
            "text/plain": [
              "<IPython.core.display.HTML object>"
            ],
            "text/html": [
              " View run <strong style=\"color:#cdcd00\">CNN_with_residuals</strong> at: <a href='https://wandb.ai/mrekh21-free-university-of-tbilisi-/emotion-recognition/runs/z9xspf3d' target=\"_blank\">https://wandb.ai/mrekh21-free-university-of-tbilisi-/emotion-recognition/runs/z9xspf3d</a><br> View project at: <a href='https://wandb.ai/mrekh21-free-university-of-tbilisi-/emotion-recognition' target=\"_blank\">https://wandb.ai/mrekh21-free-university-of-tbilisi-/emotion-recognition</a><br>Synced 5 W&B file(s), 0 media file(s), 0 artifact file(s) and 0 other file(s)"
            ]
          },
          "metadata": {}
        },
        {
          "output_type": "display_data",
          "data": {
            "text/plain": [
              "<IPython.core.display.HTML object>"
            ],
            "text/html": [
              "Find logs at: <code>./wandb/run-20250528_201436-z9xspf3d/logs</code>"
            ]
          },
          "metadata": {}
        },
        {
          "output_type": "stream",
          "name": "stdout",
          "text": [
            "\n",
            "Best Validation Loss: 1.0987\n"
          ]
        }
      ]
    },
    {
      "cell_type": "markdown",
      "source": [
        "Hyperparameter Tuning:"
      ],
      "metadata": {
        "id": "fcyiVkzTjAAy"
      }
    },
    {
      "cell_type": "code",
      "source": [
        "import torch\n",
        "from torch.utils.data import DataLoader, TensorDataset\n",
        "\n",
        "device = torch.device(\"cuda\" if torch.cuda.is_available() else \"cpu\")\n",
        "\n",
        "# Convert to tensors\n",
        "X_train_tensor = torch.tensor(X_train).float().permute(0, 3, 1, 2)  # (N, 1, 48, 48)\n",
        "y_train_tensor = torch.tensor(y_train).long()\n",
        "\n",
        "X_val_tensor = torch.tensor(X_val).float().permute(0, 3, 1, 2)\n",
        "y_val_tensor = torch.tensor(y_val).long()\n",
        "\n",
        "# Datasets\n",
        "train_dataset = TensorDataset(X_train_tensor, y_train_tensor)\n",
        "val_dataset = TensorDataset(X_val_tensor, y_val_tensor)"
      ],
      "metadata": {
        "id": "ZG5RWWUtZfA9"
      },
      "execution_count": 48,
      "outputs": []
    },
    {
      "cell_type": "code",
      "source": [
        "def train_one_epoch(model, loader, criterion, optimizer):\n",
        "    model.train()\n",
        "    total_loss, correct = 0.0, 0\n",
        "\n",
        "    for X_batch, y_batch in loader:\n",
        "        X_batch, y_batch = X_batch.to(device), y_batch.to(device)\n",
        "        optimizer.zero_grad()\n",
        "        out = model(X_batch)\n",
        "        loss = criterion(out, y_batch)\n",
        "        loss.backward()\n",
        "        optimizer.step()\n",
        "\n",
        "        total_loss += loss.item() * X_batch.size(0)\n",
        "        preds = torch.argmax(out, dim=1)\n",
        "        correct += (preds == y_batch).sum().item()\n",
        "\n",
        "    avg_loss = total_loss / len(loader.dataset)\n",
        "    acc = correct / len(loader.dataset)\n",
        "    return avg_loss, acc\n",
        "\n",
        "\n",
        "def evaluate(model, loader, criterion):\n",
        "    model.eval()\n",
        "    total_loss, correct = 0.0, 0\n",
        "\n",
        "    with torch.no_grad():\n",
        "        for X_batch, y_batch in loader:\n",
        "            X_batch, y_batch = X_batch.to(device), y_batch.to(device)\n",
        "            out = model(X_batch)\n",
        "            loss = criterion(out, y_batch)\n",
        "            total_loss += loss.item() * X_batch.size(0)\n",
        "            preds = torch.argmax(out, dim=1)\n",
        "            correct += (preds == y_batch).sum().item()\n",
        "\n",
        "    avg_loss = total_loss / len(loader.dataset)\n",
        "    acc = correct / len(loader.dataset)\n",
        "    return avg_loss, acc\n",
        "\n"
      ],
      "metadata": {
        "id": "zuvmcmmsi99X"
      },
      "execution_count": 75,
      "outputs": []
    },
    {
      "cell_type": "code",
      "source": [
        "from tqdm import tqdm\n",
        "\n",
        "best_val_acc = 0.0\n",
        "best_model_state = None\n",
        "best_config = None\n",
        "\n",
        "\n",
        "def train_with_config(config, run_name):\n",
        "    wandb.init(project=\"emotion-recognition\", name=run_name, config=config)\n",
        "\n",
        "    model = GeneralResNetCNN(\n",
        "        input_channels=1,\n",
        "        num_classes=7,\n",
        "        conv_layers_config=config[\"conv_layers_config\"],\n",
        "        dropout_conv=config[\"dropout_conv\"],\n",
        "        dropout_fc=config[\"dropout_fc\"],\n",
        "        norm_type=config[\"norm_type\"],\n",
        "        pool_type=config[\"pool_type\"],\n",
        "        image_size=48\n",
        "    ).to(device)\n",
        "\n",
        "    optimizer = torch.optim.Adam(model.parameters(), lr=config[\"lr\"])\n",
        "    #criterion = torch.nn.CrossEntropyLoss()\n",
        "    criterion = nn.CrossEntropyLoss(weight=class_weights)\n",
        "\n",
        "    train_loader = DataLoader(train_dataset, batch_size=config[\"batch_size\"], shuffle=True)\n",
        "    val_loader = DataLoader(val_dataset, batch_size=config[\"batch_size\"], shuffle=False)\n",
        "\n",
        "    best_acc = 0\n",
        "    patience = 5\n",
        "    patience_counter = 0\n",
        "    best_model = None\n",
        "\n",
        "    for epoch in range(config[\"epochs\"]):\n",
        "        train_loss, train_acc = train_one_epoch(model, train_loader, criterion, optimizer)\n",
        "        val_loss, val_acc = evaluate(model, val_loader, criterion)\n",
        "\n",
        "        wandb.log({\n",
        "            \"epoch\": epoch + 1,\n",
        "            \"train_loss\": train_loss,\n",
        "            \"train_acc\": train_acc,\n",
        "            \"val_loss\": val_loss,\n",
        "            \"val_acc\": val_acc\n",
        "        })\n",
        "\n",
        "        if val_acc > best_acc:\n",
        "            best_acc = val_acc\n",
        "            best_model = model.state_dict()\n",
        "            patience_counter = 0\n",
        "        else:\n",
        "            patience_counter += 1\n",
        "            if patience_counter >= patience:\n",
        "                break\n",
        "\n",
        "    wandb.finish()\n",
        "    return best_acc, best_model\n"
      ],
      "metadata": {
        "id": "RbkJzyfkjZ3_"
      },
      "execution_count": 76,
      "outputs": []
    },
    {
      "cell_type": "code",
      "source": [
        "conv_options = [[(16, 3), (32, 3), (64, 3)], [(32, 3), (64, 3), (128, 3)]]\n",
        "dropout_conv_options = [0.1, 0.2, 0.3]\n",
        "dropout_fc_options = [0.2, 0.3, 0.4]\n",
        "norm_options = [\"batch\", \"layer\", \"none\"]\n",
        "pool_options = [\"max\", \"avg\", \"none\"]\n",
        "lr_options = [0.001, 0.01, 0.05]\n",
        "batch_sizes = [64, 128]\n",
        "epochs = 20"
      ],
      "metadata": {
        "id": "UjsxRn-KjaAQ"
      },
      "execution_count": 77,
      "outputs": []
    },
    {
      "cell_type": "code",
      "source": [
        "import itertools\n",
        "import random\n",
        "\n",
        "\n",
        "num_trials = 20\n",
        "\n",
        "\n",
        "all_combinations = list(itertools.product(\n",
        "    conv_options,\n",
        "    dropout_conv_options,\n",
        "    dropout_fc_options,\n",
        "    norm_options,\n",
        "    pool_options,\n",
        "    lr_options,\n",
        "    batch_sizes\n",
        "))\n",
        "\n",
        "sampled_combinations = random.sample(all_combinations, num_trials)\n",
        "\n"
      ],
      "metadata": {
        "id": "zg8jaw8NjaED"
      },
      "execution_count": 78,
      "outputs": []
    },
    {
      "cell_type": "code",
      "source": [
        "for i, combo in enumerate(tqdm(sampled_combinations, desc=\"Hyperparameter Trials\")):\n",
        "    config = {\n",
        "        \"conv_layers_config\": combo[0],\n",
        "        \"dropout_conv\": combo[1],\n",
        "        \"dropout_fc\": combo[2],\n",
        "        \"norm_type\": combo[3],\n",
        "        \"pool_type\": combo[4],\n",
        "        \"lr\": combo[5],\n",
        "        \"batch_size\": combo[6],\n",
        "        \"epochs\": epochs\n",
        "    }\n",
        "\n",
        "    run_name = f\"weighted_CNN_with_residuals_hparam_tuning_{i+1}\"\n",
        "    print(f\"\\n Running config {i+1}/{num_trials}: {config}\")\n",
        "\n",
        "    val_acc, model_state = train_with_config(config, run_name)\n",
        "\n",
        "    if val_acc > best_val_acc:\n",
        "        best_val_acc = val_acc\n",
        "        best_model_state = model_state\n",
        "        best_config = config\n",
        "\n",
        "\n",
        "print(\"\\n Best validation accuracy:\", best_val_acc)\n",
        "print(\"Best hyperparameters:\", best_config)"
      ],
      "metadata": {
        "colab": {
          "base_uri": "https://localhost:8080/",
          "height": 1000
        },
        "id": "5H5GDIkDjaHj",
        "outputId": "96c6f76c-9acb-422c-d2bd-cab373189557"
      },
      "execution_count": 79,
      "outputs": [
        {
          "output_type": "stream",
          "name": "stderr",
          "text": [
            "\rHyperparameter Trials:   0%|          | 0/20 [00:00<?, ?it/s]"
          ]
        },
        {
          "output_type": "stream",
          "name": "stdout",
          "text": [
            "\n",
            " Running config 1/20: {'conv_layers_config': [(16, 3), (32, 3), (64, 3)], 'dropout_conv': 0.3, 'dropout_fc': 0.3, 'norm_type': 'layer', 'pool_type': 'max', 'lr': 0.001, 'batch_size': 128, 'epochs': 20}\n"
          ]
        },
        {
          "output_type": "display_data",
          "data": {
            "text/plain": [
              "<IPython.core.display.HTML object>"
            ],
            "text/html": [
              "Tracking run with wandb version 0.19.11"
            ]
          },
          "metadata": {}
        },
        {
          "output_type": "display_data",
          "data": {
            "text/plain": [
              "<IPython.core.display.HTML object>"
            ],
            "text/html": [
              "Run data is saved locally in <code>/content/Emotion_Recognition/wandb/run-20250602_132430-q5b8ql30</code>"
            ]
          },
          "metadata": {}
        },
        {
          "output_type": "display_data",
          "data": {
            "text/plain": [
              "<IPython.core.display.HTML object>"
            ],
            "text/html": [
              "Syncing run <strong><a href='https://wandb.ai/mrekh21-free-university-of-tbilisi-/emotion-recognition/runs/q5b8ql30' target=\"_blank\">weighted_CNN_with_residuals_hparam_tuning_1</a></strong> to <a href='https://wandb.ai/mrekh21-free-university-of-tbilisi-/emotion-recognition' target=\"_blank\">Weights & Biases</a> (<a href='https://wandb.me/developer-guide' target=\"_blank\">docs</a>)<br>"
            ]
          },
          "metadata": {}
        },
        {
          "output_type": "display_data",
          "data": {
            "text/plain": [
              "<IPython.core.display.HTML object>"
            ],
            "text/html": [
              " View project at <a href='https://wandb.ai/mrekh21-free-university-of-tbilisi-/emotion-recognition' target=\"_blank\">https://wandb.ai/mrekh21-free-university-of-tbilisi-/emotion-recognition</a>"
            ]
          },
          "metadata": {}
        },
        {
          "output_type": "display_data",
          "data": {
            "text/plain": [
              "<IPython.core.display.HTML object>"
            ],
            "text/html": [
              " View run at <a href='https://wandb.ai/mrekh21-free-university-of-tbilisi-/emotion-recognition/runs/q5b8ql30' target=\"_blank\">https://wandb.ai/mrekh21-free-university-of-tbilisi-/emotion-recognition/runs/q5b8ql30</a>"
            ]
          },
          "metadata": {}
        },
        {
          "output_type": "display_data",
          "data": {
            "text/plain": [
              "<IPython.core.display.HTML object>"
            ],
            "text/html": []
          },
          "metadata": {}
        },
        {
          "output_type": "display_data",
          "data": {
            "text/plain": [
              "<IPython.core.display.HTML object>"
            ],
            "text/html": [
              "<br>    <style><br>        .wandb-row {<br>            display: flex;<br>            flex-direction: row;<br>            flex-wrap: wrap;<br>            justify-content: flex-start;<br>            width: 100%;<br>        }<br>        .wandb-col {<br>            display: flex;<br>            flex-direction: column;<br>            flex-basis: 100%;<br>            flex: 1;<br>            padding: 10px;<br>        }<br>    </style><br><div class=\"wandb-row\"><div class=\"wandb-col\"><h3>Run history:</h3><br/><table class=\"wandb\"><tr><td>epoch</td><td>▁▁▂▂▂▃▃▄▄▄▅▅▅▆▆▇▇▇██</td></tr><tr><td>train_acc</td><td>▁▂▂▃▃▄▄▅▆▆▆▇▇▇▇▇▇███</td></tr><tr><td>train_loss</td><td>███▇▆▆▅▅▄▄▃▃▃▃▂▂▂▁▁▁</td></tr><tr><td>val_acc</td><td>▁▁▃▄▅▅▅▆▅▇▆▇▇▇███▇██</td></tr><tr><td>val_loss</td><td>██▇▆▆▅▅▄▄▃▃▂▂▂▂▁▁▁▁▁</td></tr></table><br/></div><div class=\"wandb-col\"><h3>Run summary:</h3><br/><table class=\"wandb\"><tr><td>epoch</td><td>20</td></tr><tr><td>train_acc</td><td>0.42865</td></tr><tr><td>train_loss</td><td>1.4267</td></tr><tr><td>val_acc</td><td>0.48008</td></tr><tr><td>val_loss</td><td>1.3563</td></tr></table><br/></div></div>"
            ]
          },
          "metadata": {}
        },
        {
          "output_type": "display_data",
          "data": {
            "text/plain": [
              "<IPython.core.display.HTML object>"
            ],
            "text/html": [
              " View run <strong style=\"color:#cdcd00\">weighted_CNN_with_residuals_hparam_tuning_1</strong> at: <a href='https://wandb.ai/mrekh21-free-university-of-tbilisi-/emotion-recognition/runs/q5b8ql30' target=\"_blank\">https://wandb.ai/mrekh21-free-university-of-tbilisi-/emotion-recognition/runs/q5b8ql30</a><br> View project at: <a href='https://wandb.ai/mrekh21-free-university-of-tbilisi-/emotion-recognition' target=\"_blank\">https://wandb.ai/mrekh21-free-university-of-tbilisi-/emotion-recognition</a><br>Synced 5 W&B file(s), 0 media file(s), 0 artifact file(s) and 0 other file(s)"
            ]
          },
          "metadata": {}
        },
        {
          "output_type": "display_data",
          "data": {
            "text/plain": [
              "<IPython.core.display.HTML object>"
            ],
            "text/html": [
              "Find logs at: <code>./wandb/run-20250602_132430-q5b8ql30/logs</code>"
            ]
          },
          "metadata": {}
        },
        {
          "output_type": "stream",
          "name": "stderr",
          "text": [
            "\rHyperparameter Trials:   5%|▌         | 1/20 [01:27<27:34, 87.06s/it]"
          ]
        },
        {
          "output_type": "stream",
          "name": "stdout",
          "text": [
            "\n",
            " Running config 2/20: {'conv_layers_config': [(32, 3), (64, 3), (128, 3)], 'dropout_conv': 0.1, 'dropout_fc': 0.4, 'norm_type': 'layer', 'pool_type': 'max', 'lr': 0.01, 'batch_size': 128, 'epochs': 20}\n"
          ]
        },
        {
          "output_type": "display_data",
          "data": {
            "text/plain": [
              "<IPython.core.display.HTML object>"
            ],
            "text/html": [
              "Tracking run with wandb version 0.19.11"
            ]
          },
          "metadata": {}
        },
        {
          "output_type": "display_data",
          "data": {
            "text/plain": [
              "<IPython.core.display.HTML object>"
            ],
            "text/html": [
              "Run data is saved locally in <code>/content/Emotion_Recognition/wandb/run-20250602_132557-2wlt8aih</code>"
            ]
          },
          "metadata": {}
        },
        {
          "output_type": "display_data",
          "data": {
            "text/plain": [
              "<IPython.core.display.HTML object>"
            ],
            "text/html": [
              "Syncing run <strong><a href='https://wandb.ai/mrekh21-free-university-of-tbilisi-/emotion-recognition/runs/2wlt8aih' target=\"_blank\">weighted_CNN_with_residuals_hparam_tuning_2</a></strong> to <a href='https://wandb.ai/mrekh21-free-university-of-tbilisi-/emotion-recognition' target=\"_blank\">Weights & Biases</a> (<a href='https://wandb.me/developer-guide' target=\"_blank\">docs</a>)<br>"
            ]
          },
          "metadata": {}
        },
        {
          "output_type": "display_data",
          "data": {
            "text/plain": [
              "<IPython.core.display.HTML object>"
            ],
            "text/html": [
              " View project at <a href='https://wandb.ai/mrekh21-free-university-of-tbilisi-/emotion-recognition' target=\"_blank\">https://wandb.ai/mrekh21-free-university-of-tbilisi-/emotion-recognition</a>"
            ]
          },
          "metadata": {}
        },
        {
          "output_type": "display_data",
          "data": {
            "text/plain": [
              "<IPython.core.display.HTML object>"
            ],
            "text/html": [
              " View run at <a href='https://wandb.ai/mrekh21-free-university-of-tbilisi-/emotion-recognition/runs/2wlt8aih' target=\"_blank\">https://wandb.ai/mrekh21-free-university-of-tbilisi-/emotion-recognition/runs/2wlt8aih</a>"
            ]
          },
          "metadata": {}
        },
        {
          "output_type": "display_data",
          "data": {
            "text/plain": [
              "<IPython.core.display.HTML object>"
            ],
            "text/html": []
          },
          "metadata": {}
        },
        {
          "output_type": "display_data",
          "data": {
            "text/plain": [
              "<IPython.core.display.HTML object>"
            ],
            "text/html": [
              "<br>    <style><br>        .wandb-row {<br>            display: flex;<br>            flex-direction: row;<br>            flex-wrap: wrap;<br>            justify-content: flex-start;<br>            width: 100%;<br>        }<br>        .wandb-col {<br>            display: flex;<br>            flex-direction: column;<br>            flex-basis: 100%;<br>            flex: 1;<br>            padding: 10px;<br>        }<br>    </style><br><div class=\"wandb-row\"><div class=\"wandb-col\"><h3>Run history:</h3><br/><table class=\"wandb\"><tr><td>epoch</td><td>▁▂▄▅▇█</td></tr><tr><td>train_acc</td><td>▅█▁▁▆▆</td></tr><tr><td>train_loss</td><td>█▁▁▁▁▁</td></tr><tr><td>val_acc</td><td>██▂▁▂█</td></tr><tr><td>val_loss</td><td>█▂▁▇▂█</td></tr></table><br/></div><div class=\"wandb-col\"><h3>Run summary:</h3><br/><table class=\"wandb\"><tr><td>epoch</td><td>6</td></tr><tr><td>train_acc</td><td>0.17144</td></tr><tr><td>train_loss</td><td>1.94693</td></tr><tr><td>val_acc</td><td>0.24937</td></tr><tr><td>val_loss</td><td>1.9463</td></tr></table><br/></div></div>"
            ]
          },
          "metadata": {}
        },
        {
          "output_type": "display_data",
          "data": {
            "text/plain": [
              "<IPython.core.display.HTML object>"
            ],
            "text/html": [
              " View run <strong style=\"color:#cdcd00\">weighted_CNN_with_residuals_hparam_tuning_2</strong> at: <a href='https://wandb.ai/mrekh21-free-university-of-tbilisi-/emotion-recognition/runs/2wlt8aih' target=\"_blank\">https://wandb.ai/mrekh21-free-university-of-tbilisi-/emotion-recognition/runs/2wlt8aih</a><br> View project at: <a href='https://wandb.ai/mrekh21-free-university-of-tbilisi-/emotion-recognition' target=\"_blank\">https://wandb.ai/mrekh21-free-university-of-tbilisi-/emotion-recognition</a><br>Synced 5 W&B file(s), 0 media file(s), 0 artifact file(s) and 0 other file(s)"
            ]
          },
          "metadata": {}
        },
        {
          "output_type": "display_data",
          "data": {
            "text/plain": [
              "<IPython.core.display.HTML object>"
            ],
            "text/html": [
              "Find logs at: <code>./wandb/run-20250602_132557-2wlt8aih/logs</code>"
            ]
          },
          "metadata": {}
        },
        {
          "output_type": "stream",
          "name": "stderr",
          "text": [
            "\rHyperparameter Trials:  10%|█         | 2/20 [02:15<19:18, 64.35s/it]"
          ]
        },
        {
          "output_type": "stream",
          "name": "stdout",
          "text": [
            "\n",
            " Running config 3/20: {'conv_layers_config': [(32, 3), (64, 3), (128, 3)], 'dropout_conv': 0.1, 'dropout_fc': 0.2, 'norm_type': 'none', 'pool_type': 'none', 'lr': 0.01, 'batch_size': 64, 'epochs': 20}\n"
          ]
        },
        {
          "output_type": "display_data",
          "data": {
            "text/plain": [
              "<IPython.core.display.HTML object>"
            ],
            "text/html": [
              "Tracking run with wandb version 0.19.11"
            ]
          },
          "metadata": {}
        },
        {
          "output_type": "display_data",
          "data": {
            "text/plain": [
              "<IPython.core.display.HTML object>"
            ],
            "text/html": [
              "Run data is saved locally in <code>/content/Emotion_Recognition/wandb/run-20250602_132645-lg6532c4</code>"
            ]
          },
          "metadata": {}
        },
        {
          "output_type": "display_data",
          "data": {
            "text/plain": [
              "<IPython.core.display.HTML object>"
            ],
            "text/html": [
              "Syncing run <strong><a href='https://wandb.ai/mrekh21-free-university-of-tbilisi-/emotion-recognition/runs/lg6532c4' target=\"_blank\">weighted_CNN_with_residuals_hparam_tuning_3</a></strong> to <a href='https://wandb.ai/mrekh21-free-university-of-tbilisi-/emotion-recognition' target=\"_blank\">Weights & Biases</a> (<a href='https://wandb.me/developer-guide' target=\"_blank\">docs</a>)<br>"
            ]
          },
          "metadata": {}
        },
        {
          "output_type": "display_data",
          "data": {
            "text/plain": [
              "<IPython.core.display.HTML object>"
            ],
            "text/html": [
              " View project at <a href='https://wandb.ai/mrekh21-free-university-of-tbilisi-/emotion-recognition' target=\"_blank\">https://wandb.ai/mrekh21-free-university-of-tbilisi-/emotion-recognition</a>"
            ]
          },
          "metadata": {}
        },
        {
          "output_type": "display_data",
          "data": {
            "text/plain": [
              "<IPython.core.display.HTML object>"
            ],
            "text/html": [
              " View run at <a href='https://wandb.ai/mrekh21-free-university-of-tbilisi-/emotion-recognition/runs/lg6532c4' target=\"_blank\">https://wandb.ai/mrekh21-free-university-of-tbilisi-/emotion-recognition/runs/lg6532c4</a>"
            ]
          },
          "metadata": {}
        },
        {
          "output_type": "display_data",
          "data": {
            "text/plain": [
              "<IPython.core.display.HTML object>"
            ],
            "text/html": []
          },
          "metadata": {}
        },
        {
          "output_type": "display_data",
          "data": {
            "text/plain": [
              "<IPython.core.display.HTML object>"
            ],
            "text/html": [
              "<br>    <style><br>        .wandb-row {<br>            display: flex;<br>            flex-direction: row;<br>            flex-wrap: wrap;<br>            justify-content: flex-start;<br>            width: 100%;<br>        }<br>        .wandb-col {<br>            display: flex;<br>            flex-direction: column;<br>            flex-basis: 100%;<br>            flex: 1;<br>            padding: 10px;<br>        }<br>    </style><br><div class=\"wandb-row\"><div class=\"wandb-col\"><h3>Run history:</h3><br/><table class=\"wandb\"><tr><td>epoch</td><td>▁▂▃▅▆▇█</td></tr><tr><td>train_acc</td><td>▃▁█▂▂▅▂</td></tr><tr><td>train_loss</td><td>█▁▁▁▁▁▁</td></tr><tr><td>val_acc</td><td>▂█▁█▄▄▂</td></tr><tr><td>val_loss</td><td>▄▁▂▅▂█▆</td></tr></table><br/></div><div class=\"wandb-col\"><h3>Run summary:</h3><br/><table class=\"wandb\"><tr><td>epoch</td><td>7</td></tr><tr><td>train_acc</td><td>0.15661</td></tr><tr><td>train_loss</td><td>1.9463</td></tr><tr><td>val_acc</td><td>0.1382</td></tr><tr><td>val_loss</td><td>1.94683</td></tr></table><br/></div></div>"
            ]
          },
          "metadata": {}
        },
        {
          "output_type": "display_data",
          "data": {
            "text/plain": [
              "<IPython.core.display.HTML object>"
            ],
            "text/html": [
              " View run <strong style=\"color:#cdcd00\">weighted_CNN_with_residuals_hparam_tuning_3</strong> at: <a href='https://wandb.ai/mrekh21-free-university-of-tbilisi-/emotion-recognition/runs/lg6532c4' target=\"_blank\">https://wandb.ai/mrekh21-free-university-of-tbilisi-/emotion-recognition/runs/lg6532c4</a><br> View project at: <a href='https://wandb.ai/mrekh21-free-university-of-tbilisi-/emotion-recognition' target=\"_blank\">https://wandb.ai/mrekh21-free-university-of-tbilisi-/emotion-recognition</a><br>Synced 5 W&B file(s), 0 media file(s), 0 artifact file(s) and 0 other file(s)"
            ]
          },
          "metadata": {}
        },
        {
          "output_type": "display_data",
          "data": {
            "text/plain": [
              "<IPython.core.display.HTML object>"
            ],
            "text/html": [
              "Find logs at: <code>./wandb/run-20250602_132645-lg6532c4/logs</code>"
            ]
          },
          "metadata": {}
        },
        {
          "output_type": "stream",
          "name": "stderr",
          "text": [
            "\rHyperparameter Trials:  15%|█▌        | 3/20 [06:20<41:33, 146.65s/it]"
          ]
        },
        {
          "output_type": "stream",
          "name": "stdout",
          "text": [
            "\n",
            " Running config 4/20: {'conv_layers_config': [(16, 3), (32, 3), (64, 3)], 'dropout_conv': 0.2, 'dropout_fc': 0.3, 'norm_type': 'none', 'pool_type': 'max', 'lr': 0.05, 'batch_size': 64, 'epochs': 20}\n"
          ]
        },
        {
          "output_type": "display_data",
          "data": {
            "text/plain": [
              "<IPython.core.display.HTML object>"
            ],
            "text/html": [
              "Tracking run with wandb version 0.19.11"
            ]
          },
          "metadata": {}
        },
        {
          "output_type": "display_data",
          "data": {
            "text/plain": [
              "<IPython.core.display.HTML object>"
            ],
            "text/html": [
              "Run data is saved locally in <code>/content/Emotion_Recognition/wandb/run-20250602_133050-ut939ers</code>"
            ]
          },
          "metadata": {}
        },
        {
          "output_type": "display_data",
          "data": {
            "text/plain": [
              "<IPython.core.display.HTML object>"
            ],
            "text/html": [
              "Syncing run <strong><a href='https://wandb.ai/mrekh21-free-university-of-tbilisi-/emotion-recognition/runs/ut939ers' target=\"_blank\">weighted_CNN_with_residuals_hparam_tuning_4</a></strong> to <a href='https://wandb.ai/mrekh21-free-university-of-tbilisi-/emotion-recognition' target=\"_blank\">Weights & Biases</a> (<a href='https://wandb.me/developer-guide' target=\"_blank\">docs</a>)<br>"
            ]
          },
          "metadata": {}
        },
        {
          "output_type": "display_data",
          "data": {
            "text/plain": [
              "<IPython.core.display.HTML object>"
            ],
            "text/html": [
              " View project at <a href='https://wandb.ai/mrekh21-free-university-of-tbilisi-/emotion-recognition' target=\"_blank\">https://wandb.ai/mrekh21-free-university-of-tbilisi-/emotion-recognition</a>"
            ]
          },
          "metadata": {}
        },
        {
          "output_type": "display_data",
          "data": {
            "text/plain": [
              "<IPython.core.display.HTML object>"
            ],
            "text/html": [
              " View run at <a href='https://wandb.ai/mrekh21-free-university-of-tbilisi-/emotion-recognition/runs/ut939ers' target=\"_blank\">https://wandb.ai/mrekh21-free-university-of-tbilisi-/emotion-recognition/runs/ut939ers</a>"
            ]
          },
          "metadata": {}
        },
        {
          "output_type": "display_data",
          "data": {
            "text/plain": [
              "<IPython.core.display.HTML object>"
            ],
            "text/html": []
          },
          "metadata": {}
        },
        {
          "output_type": "display_data",
          "data": {
            "text/plain": [
              "<IPython.core.display.HTML object>"
            ],
            "text/html": [
              "<br>    <style><br>        .wandb-row {<br>            display: flex;<br>            flex-direction: row;<br>            flex-wrap: wrap;<br>            justify-content: flex-start;<br>            width: 100%;<br>        }<br>        .wandb-col {<br>            display: flex;<br>            flex-direction: column;<br>            flex-basis: 100%;<br>            flex: 1;<br>            padding: 10px;<br>        }<br>    </style><br><div class=\"wandb-row\"><div class=\"wandb-col\"><h3>Run history:</h3><br/><table class=\"wandb\"><tr><td>epoch</td><td>▁▂▂▃▃▄▄▅▅▆▆▇▇█</td></tr><tr><td>train_acc</td><td>▆▂▄▅▁▄▄▃█▆▄▇▄▂</td></tr><tr><td>train_loss</td><td>█▁▁▁▁▁▁▁▁▁▁▁▁▁</td></tr><tr><td>val_acc</td><td>▄▁▄▄▄▆▁▆█▁▆▁▅█</td></tr><tr><td>val_loss</td><td>▁▇▂▂█▂▄▇▃▇▄▂▅▃</td></tr></table><br/></div><div class=\"wandb-col\"><h3>Run summary:</h3><br/><table class=\"wandb\"><tr><td>epoch</td><td>14</td></tr><tr><td>train_acc</td><td>0.14208</td></tr><tr><td>train_loss</td><td>1.94996</td></tr><tr><td>val_acc</td><td>0.24937</td></tr><tr><td>val_loss</td><td>1.94966</td></tr></table><br/></div></div>"
            ]
          },
          "metadata": {}
        },
        {
          "output_type": "display_data",
          "data": {
            "text/plain": [
              "<IPython.core.display.HTML object>"
            ],
            "text/html": [
              " View run <strong style=\"color:#cdcd00\">weighted_CNN_with_residuals_hparam_tuning_4</strong> at: <a href='https://wandb.ai/mrekh21-free-university-of-tbilisi-/emotion-recognition/runs/ut939ers' target=\"_blank\">https://wandb.ai/mrekh21-free-university-of-tbilisi-/emotion-recognition/runs/ut939ers</a><br> View project at: <a href='https://wandb.ai/mrekh21-free-university-of-tbilisi-/emotion-recognition' target=\"_blank\">https://wandb.ai/mrekh21-free-university-of-tbilisi-/emotion-recognition</a><br>Synced 5 W&B file(s), 0 media file(s), 0 artifact file(s) and 0 other file(s)"
            ]
          },
          "metadata": {}
        },
        {
          "output_type": "display_data",
          "data": {
            "text/plain": [
              "<IPython.core.display.HTML object>"
            ],
            "text/html": [
              "Find logs at: <code>./wandb/run-20250602_133050-ut939ers/logs</code>"
            ]
          },
          "metadata": {}
        },
        {
          "output_type": "stream",
          "name": "stderr",
          "text": [
            "\rHyperparameter Trials:  20%|██        | 4/20 [07:15<29:28, 110.55s/it]"
          ]
        },
        {
          "output_type": "stream",
          "name": "stdout",
          "text": [
            "\n",
            " Running config 5/20: {'conv_layers_config': [(16, 3), (32, 3), (64, 3)], 'dropout_conv': 0.3, 'dropout_fc': 0.2, 'norm_type': 'batch', 'pool_type': 'max', 'lr': 0.05, 'batch_size': 128, 'epochs': 20}\n"
          ]
        },
        {
          "output_type": "display_data",
          "data": {
            "text/plain": [
              "<IPython.core.display.HTML object>"
            ],
            "text/html": [
              "Tracking run with wandb version 0.19.11"
            ]
          },
          "metadata": {}
        },
        {
          "output_type": "display_data",
          "data": {
            "text/plain": [
              "<IPython.core.display.HTML object>"
            ],
            "text/html": [
              "Run data is saved locally in <code>/content/Emotion_Recognition/wandb/run-20250602_133145-m3gmv6hi</code>"
            ]
          },
          "metadata": {}
        },
        {
          "output_type": "display_data",
          "data": {
            "text/plain": [
              "<IPython.core.display.HTML object>"
            ],
            "text/html": [
              "Syncing run <strong><a href='https://wandb.ai/mrekh21-free-university-of-tbilisi-/emotion-recognition/runs/m3gmv6hi' target=\"_blank\">weighted_CNN_with_residuals_hparam_tuning_5</a></strong> to <a href='https://wandb.ai/mrekh21-free-university-of-tbilisi-/emotion-recognition' target=\"_blank\">Weights & Biases</a> (<a href='https://wandb.me/developer-guide' target=\"_blank\">docs</a>)<br>"
            ]
          },
          "metadata": {}
        },
        {
          "output_type": "display_data",
          "data": {
            "text/plain": [
              "<IPython.core.display.HTML object>"
            ],
            "text/html": [
              " View project at <a href='https://wandb.ai/mrekh21-free-university-of-tbilisi-/emotion-recognition' target=\"_blank\">https://wandb.ai/mrekh21-free-university-of-tbilisi-/emotion-recognition</a>"
            ]
          },
          "metadata": {}
        },
        {
          "output_type": "display_data",
          "data": {
            "text/plain": [
              "<IPython.core.display.HTML object>"
            ],
            "text/html": [
              " View run at <a href='https://wandb.ai/mrekh21-free-university-of-tbilisi-/emotion-recognition/runs/m3gmv6hi' target=\"_blank\">https://wandb.ai/mrekh21-free-university-of-tbilisi-/emotion-recognition/runs/m3gmv6hi</a>"
            ]
          },
          "metadata": {}
        },
        {
          "output_type": "display_data",
          "data": {
            "text/plain": [
              "<IPython.core.display.HTML object>"
            ],
            "text/html": []
          },
          "metadata": {}
        },
        {
          "output_type": "display_data",
          "data": {
            "text/plain": [
              "<IPython.core.display.HTML object>"
            ],
            "text/html": [
              "<br>    <style><br>        .wandb-row {<br>            display: flex;<br>            flex-direction: row;<br>            flex-wrap: wrap;<br>            justify-content: flex-start;<br>            width: 100%;<br>        }<br>        .wandb-col {<br>            display: flex;<br>            flex-direction: column;<br>            flex-basis: 100%;<br>            flex: 1;<br>            padding: 10px;<br>        }<br>    </style><br><div class=\"wandb-row\"><div class=\"wandb-col\"><h3>Run history:</h3><br/><table class=\"wandb\"><tr><td>epoch</td><td>▁▂▃▄▅▅▆▇█</td></tr><tr><td>train_acc</td><td>▁▂▂▅▆▄▄▅█</td></tr><tr><td>train_loss</td><td>█▁▁▁▁▁▁▁▁</td></tr><tr><td>val_acc</td><td>▃▃▁█▁▃▃▁▃</td></tr><tr><td>val_loss</td><td>▂▅▄▁▆█▆▇▅</td></tr></table><br/></div><div class=\"wandb-col\"><h3>Run summary:</h3><br/><table class=\"wandb\"><tr><td>epoch</td><td>9</td></tr><tr><td>train_acc</td><td>0.15995</td></tr><tr><td>train_loss</td><td>1.94953</td></tr><tr><td>val_acc</td><td>0.1382</td></tr><tr><td>val_loss</td><td>1.94859</td></tr></table><br/></div></div>"
            ]
          },
          "metadata": {}
        },
        {
          "output_type": "display_data",
          "data": {
            "text/plain": [
              "<IPython.core.display.HTML object>"
            ],
            "text/html": [
              " View run <strong style=\"color:#cdcd00\">weighted_CNN_with_residuals_hparam_tuning_5</strong> at: <a href='https://wandb.ai/mrekh21-free-university-of-tbilisi-/emotion-recognition/runs/m3gmv6hi' target=\"_blank\">https://wandb.ai/mrekh21-free-university-of-tbilisi-/emotion-recognition/runs/m3gmv6hi</a><br> View project at: <a href='https://wandb.ai/mrekh21-free-university-of-tbilisi-/emotion-recognition' target=\"_blank\">https://wandb.ai/mrekh21-free-university-of-tbilisi-/emotion-recognition</a><br>Synced 5 W&B file(s), 0 media file(s), 0 artifact file(s) and 0 other file(s)"
            ]
          },
          "metadata": {}
        },
        {
          "output_type": "display_data",
          "data": {
            "text/plain": [
              "<IPython.core.display.HTML object>"
            ],
            "text/html": [
              "Find logs at: <code>./wandb/run-20250602_133145-m3gmv6hi/logs</code>"
            ]
          },
          "metadata": {}
        },
        {
          "output_type": "stream",
          "name": "stderr",
          "text": [
            "\rHyperparameter Trials:  25%|██▌       | 5/20 [07:55<21:15, 85.05s/it] "
          ]
        },
        {
          "output_type": "stream",
          "name": "stdout",
          "text": [
            "\n",
            " Running config 6/20: {'conv_layers_config': [(32, 3), (64, 3), (128, 3)], 'dropout_conv': 0.1, 'dropout_fc': 0.3, 'norm_type': 'batch', 'pool_type': 'avg', 'lr': 0.01, 'batch_size': 128, 'epochs': 20}\n"
          ]
        },
        {
          "output_type": "display_data",
          "data": {
            "text/plain": [
              "<IPython.core.display.HTML object>"
            ],
            "text/html": [
              "Tracking run with wandb version 0.19.11"
            ]
          },
          "metadata": {}
        },
        {
          "output_type": "display_data",
          "data": {
            "text/plain": [
              "<IPython.core.display.HTML object>"
            ],
            "text/html": [
              "Run data is saved locally in <code>/content/Emotion_Recognition/wandb/run-20250602_133225-zxe2hzuy</code>"
            ]
          },
          "metadata": {}
        },
        {
          "output_type": "display_data",
          "data": {
            "text/plain": [
              "<IPython.core.display.HTML object>"
            ],
            "text/html": [
              "Syncing run <strong><a href='https://wandb.ai/mrekh21-free-university-of-tbilisi-/emotion-recognition/runs/zxe2hzuy' target=\"_blank\">weighted_CNN_with_residuals_hparam_tuning_6</a></strong> to <a href='https://wandb.ai/mrekh21-free-university-of-tbilisi-/emotion-recognition' target=\"_blank\">Weights & Biases</a> (<a href='https://wandb.me/developer-guide' target=\"_blank\">docs</a>)<br>"
            ]
          },
          "metadata": {}
        },
        {
          "output_type": "display_data",
          "data": {
            "text/plain": [
              "<IPython.core.display.HTML object>"
            ],
            "text/html": [
              " View project at <a href='https://wandb.ai/mrekh21-free-university-of-tbilisi-/emotion-recognition' target=\"_blank\">https://wandb.ai/mrekh21-free-university-of-tbilisi-/emotion-recognition</a>"
            ]
          },
          "metadata": {}
        },
        {
          "output_type": "display_data",
          "data": {
            "text/plain": [
              "<IPython.core.display.HTML object>"
            ],
            "text/html": [
              " View run at <a href='https://wandb.ai/mrekh21-free-university-of-tbilisi-/emotion-recognition/runs/zxe2hzuy' target=\"_blank\">https://wandb.ai/mrekh21-free-university-of-tbilisi-/emotion-recognition/runs/zxe2hzuy</a>"
            ]
          },
          "metadata": {}
        },
        {
          "output_type": "display_data",
          "data": {
            "text/plain": [
              "<IPython.core.display.HTML object>"
            ],
            "text/html": []
          },
          "metadata": {}
        },
        {
          "output_type": "display_data",
          "data": {
            "text/plain": [
              "<IPython.core.display.HTML object>"
            ],
            "text/html": [
              "<br>    <style><br>        .wandb-row {<br>            display: flex;<br>            flex-direction: row;<br>            flex-wrap: wrap;<br>            justify-content: flex-start;<br>            width: 100%;<br>        }<br>        .wandb-col {<br>            display: flex;<br>            flex-direction: column;<br>            flex-basis: 100%;<br>            flex: 1;<br>            padding: 10px;<br>        }<br>    </style><br><div class=\"wandb-row\"><div class=\"wandb-col\"><h3>Run history:</h3><br/><table class=\"wandb\"><tr><td>epoch</td><td>▁▂▂▃▄▄▅▅▆▇▇█</td></tr><tr><td>train_acc</td><td>▇▅▅▃█▁▆▄█▃▄▆</td></tr><tr><td>train_loss</td><td>█▁▁▁▁▁▁▁▁▁▁▁</td></tr><tr><td>val_acc</td><td>▅▆▅▆▄▆█▄▁▆▆▄</td></tr><tr><td>val_loss</td><td>█▅▅▆▅▇▆▁▆▅▅▆</td></tr></table><br/></div><div class=\"wandb-col\"><h3>Run summary:</h3><br/><table class=\"wandb\"><tr><td>epoch</td><td>12</td></tr><tr><td>train_acc</td><td>0.15783</td></tr><tr><td>train_loss</td><td>1.94617</td></tr><tr><td>val_acc</td><td>0.11563</td></tr><tr><td>val_loss</td><td>1.94618</td></tr></table><br/></div></div>"
            ]
          },
          "metadata": {}
        },
        {
          "output_type": "display_data",
          "data": {
            "text/plain": [
              "<IPython.core.display.HTML object>"
            ],
            "text/html": [
              " View run <strong style=\"color:#cdcd00\">weighted_CNN_with_residuals_hparam_tuning_6</strong> at: <a href='https://wandb.ai/mrekh21-free-university-of-tbilisi-/emotion-recognition/runs/zxe2hzuy' target=\"_blank\">https://wandb.ai/mrekh21-free-university-of-tbilisi-/emotion-recognition/runs/zxe2hzuy</a><br> View project at: <a href='https://wandb.ai/mrekh21-free-university-of-tbilisi-/emotion-recognition' target=\"_blank\">https://wandb.ai/mrekh21-free-university-of-tbilisi-/emotion-recognition</a><br>Synced 5 W&B file(s), 0 media file(s), 0 artifact file(s) and 0 other file(s)"
            ]
          },
          "metadata": {}
        },
        {
          "output_type": "display_data",
          "data": {
            "text/plain": [
              "<IPython.core.display.HTML object>"
            ],
            "text/html": [
              "Find logs at: <code>./wandb/run-20250602_133225-zxe2hzuy/logs</code>"
            ]
          },
          "metadata": {}
        },
        {
          "output_type": "stream",
          "name": "stderr",
          "text": [
            "\rHyperparameter Trials:  30%|███       | 6/20 [09:29<20:33, 88.09s/it]"
          ]
        },
        {
          "output_type": "stream",
          "name": "stdout",
          "text": [
            "\n",
            " Running config 7/20: {'conv_layers_config': [(32, 3), (64, 3), (128, 3)], 'dropout_conv': 0.2, 'dropout_fc': 0.2, 'norm_type': 'layer', 'pool_type': 'none', 'lr': 0.05, 'batch_size': 64, 'epochs': 20}\n"
          ]
        },
        {
          "output_type": "display_data",
          "data": {
            "text/plain": [
              "<IPython.core.display.HTML object>"
            ],
            "text/html": [
              "Tracking run with wandb version 0.19.11"
            ]
          },
          "metadata": {}
        },
        {
          "output_type": "display_data",
          "data": {
            "text/plain": [
              "<IPython.core.display.HTML object>"
            ],
            "text/html": [
              "Run data is saved locally in <code>/content/Emotion_Recognition/wandb/run-20250602_133359-h48jyd9t</code>"
            ]
          },
          "metadata": {}
        },
        {
          "output_type": "display_data",
          "data": {
            "text/plain": [
              "<IPython.core.display.HTML object>"
            ],
            "text/html": [
              "Syncing run <strong><a href='https://wandb.ai/mrekh21-free-university-of-tbilisi-/emotion-recognition/runs/h48jyd9t' target=\"_blank\">weighted_CNN_with_residuals_hparam_tuning_7</a></strong> to <a href='https://wandb.ai/mrekh21-free-university-of-tbilisi-/emotion-recognition' target=\"_blank\">Weights & Biases</a> (<a href='https://wandb.me/developer-guide' target=\"_blank\">docs</a>)<br>"
            ]
          },
          "metadata": {}
        },
        {
          "output_type": "display_data",
          "data": {
            "text/plain": [
              "<IPython.core.display.HTML object>"
            ],
            "text/html": [
              " View project at <a href='https://wandb.ai/mrekh21-free-university-of-tbilisi-/emotion-recognition' target=\"_blank\">https://wandb.ai/mrekh21-free-university-of-tbilisi-/emotion-recognition</a>"
            ]
          },
          "metadata": {}
        },
        {
          "output_type": "display_data",
          "data": {
            "text/plain": [
              "<IPython.core.display.HTML object>"
            ],
            "text/html": [
              " View run at <a href='https://wandb.ai/mrekh21-free-university-of-tbilisi-/emotion-recognition/runs/h48jyd9t' target=\"_blank\">https://wandb.ai/mrekh21-free-university-of-tbilisi-/emotion-recognition/runs/h48jyd9t</a>"
            ]
          },
          "metadata": {}
        },
        {
          "output_type": "display_data",
          "data": {
            "text/plain": [
              "<IPython.core.display.HTML object>"
            ],
            "text/html": []
          },
          "metadata": {}
        },
        {
          "output_type": "display_data",
          "data": {
            "text/plain": [
              "<IPython.core.display.HTML object>"
            ],
            "text/html": [
              "<br>    <style><br>        .wandb-row {<br>            display: flex;<br>            flex-direction: row;<br>            flex-wrap: wrap;<br>            justify-content: flex-start;<br>            width: 100%;<br>        }<br>        .wandb-col {<br>            display: flex;<br>            flex-direction: column;<br>            flex-basis: 100%;<br>            flex: 1;<br>            padding: 10px;<br>        }<br>    </style><br><div class=\"wandb-row\"><div class=\"wandb-col\"><h3>Run history:</h3><br/><table class=\"wandb\"><tr><td>epoch</td><td>▁▂▃▄▅▅▆▇█</td></tr><tr><td>train_acc</td><td>▁▅▇▄▂▅▅▅█</td></tr><tr><td>train_loss</td><td>█▁▁▁▁▁▁▁▁</td></tr><tr><td>val_acc</td><td>▅▁▆█▁▆▅▆▅</td></tr><tr><td>val_loss</td><td>▁▅█▁▆▆▄▄▂</td></tr></table><br/></div><div class=\"wandb-col\"><h3>Run summary:</h3><br/><table class=\"wandb\"><tr><td>epoch</td><td>9</td></tr><tr><td>train_acc</td><td>0.15957</td></tr><tr><td>train_loss</td><td>1.94985</td></tr><tr><td>val_acc</td><td>0.11563</td></tr><tr><td>val_loss</td><td>1.94665</td></tr></table><br/></div></div>"
            ]
          },
          "metadata": {}
        },
        {
          "output_type": "display_data",
          "data": {
            "text/plain": [
              "<IPython.core.display.HTML object>"
            ],
            "text/html": [
              " View run <strong style=\"color:#cdcd00\">weighted_CNN_with_residuals_hparam_tuning_7</strong> at: <a href='https://wandb.ai/mrekh21-free-university-of-tbilisi-/emotion-recognition/runs/h48jyd9t' target=\"_blank\">https://wandb.ai/mrekh21-free-university-of-tbilisi-/emotion-recognition/runs/h48jyd9t</a><br> View project at: <a href='https://wandb.ai/mrekh21-free-university-of-tbilisi-/emotion-recognition' target=\"_blank\">https://wandb.ai/mrekh21-free-university-of-tbilisi-/emotion-recognition</a><br>Synced 5 W&B file(s), 0 media file(s), 0 artifact file(s) and 0 other file(s)"
            ]
          },
          "metadata": {}
        },
        {
          "output_type": "display_data",
          "data": {
            "text/plain": [
              "<IPython.core.display.HTML object>"
            ],
            "text/html": [
              "Find logs at: <code>./wandb/run-20250602_133359-h48jyd9t/logs</code>"
            ]
          },
          "metadata": {}
        },
        {
          "output_type": "stream",
          "name": "stderr",
          "text": [
            "\rHyperparameter Trials:  35%|███▌      | 7/20 [15:22<37:53, 174.91s/it]"
          ]
        },
        {
          "output_type": "stream",
          "name": "stdout",
          "text": [
            "\n",
            " Running config 8/20: {'conv_layers_config': [(16, 3), (32, 3), (64, 3)], 'dropout_conv': 0.1, 'dropout_fc': 0.3, 'norm_type': 'batch', 'pool_type': 'none', 'lr': 0.05, 'batch_size': 128, 'epochs': 20}\n"
          ]
        },
        {
          "output_type": "display_data",
          "data": {
            "text/plain": [
              "<IPython.core.display.HTML object>"
            ],
            "text/html": [
              "Tracking run with wandb version 0.19.11"
            ]
          },
          "metadata": {}
        },
        {
          "output_type": "display_data",
          "data": {
            "text/plain": [
              "<IPython.core.display.HTML object>"
            ],
            "text/html": [
              "Run data is saved locally in <code>/content/Emotion_Recognition/wandb/run-20250602_133953-pdestkx9</code>"
            ]
          },
          "metadata": {}
        },
        {
          "output_type": "display_data",
          "data": {
            "text/plain": [
              "<IPython.core.display.HTML object>"
            ],
            "text/html": [
              "Syncing run <strong><a href='https://wandb.ai/mrekh21-free-university-of-tbilisi-/emotion-recognition/runs/pdestkx9' target=\"_blank\">weighted_CNN_with_residuals_hparam_tuning_8</a></strong> to <a href='https://wandb.ai/mrekh21-free-university-of-tbilisi-/emotion-recognition' target=\"_blank\">Weights & Biases</a> (<a href='https://wandb.me/developer-guide' target=\"_blank\">docs</a>)<br>"
            ]
          },
          "metadata": {}
        },
        {
          "output_type": "display_data",
          "data": {
            "text/plain": [
              "<IPython.core.display.HTML object>"
            ],
            "text/html": [
              " View project at <a href='https://wandb.ai/mrekh21-free-university-of-tbilisi-/emotion-recognition' target=\"_blank\">https://wandb.ai/mrekh21-free-university-of-tbilisi-/emotion-recognition</a>"
            ]
          },
          "metadata": {}
        },
        {
          "output_type": "display_data",
          "data": {
            "text/plain": [
              "<IPython.core.display.HTML object>"
            ],
            "text/html": [
              " View run at <a href='https://wandb.ai/mrekh21-free-university-of-tbilisi-/emotion-recognition/runs/pdestkx9' target=\"_blank\">https://wandb.ai/mrekh21-free-university-of-tbilisi-/emotion-recognition/runs/pdestkx9</a>"
            ]
          },
          "metadata": {}
        },
        {
          "output_type": "display_data",
          "data": {
            "text/plain": [
              "<IPython.core.display.HTML object>"
            ],
            "text/html": []
          },
          "metadata": {}
        },
        {
          "output_type": "display_data",
          "data": {
            "text/plain": [
              "<IPython.core.display.HTML object>"
            ],
            "text/html": [
              "<br>    <style><br>        .wandb-row {<br>            display: flex;<br>            flex-direction: row;<br>            flex-wrap: wrap;<br>            justify-content: flex-start;<br>            width: 100%;<br>        }<br>        .wandb-col {<br>            display: flex;<br>            flex-direction: column;<br>            flex-basis: 100%;<br>            flex: 1;<br>            padding: 10px;<br>        }<br>    </style><br><div class=\"wandb-row\"><div class=\"wandb-col\"><h3>Run history:</h3><br/><table class=\"wandb\"><tr><td>epoch</td><td>▁▂▂▃▄▄▅▅▆▇▇█</td></tr><tr><td>train_acc</td><td>▇▄▅█▁▃█▄▅▂▇▅</td></tr><tr><td>train_loss</td><td>█▁▁▁▁▁▁▁▁▁▁▁</td></tr><tr><td>val_acc</td><td>▅▄▆▁▁▄█▁▁▅▁▆</td></tr><tr><td>val_loss</td><td>▂▃▃▁▂▂▂▆▄▃█▁</td></tr></table><br/></div><div class=\"wandb-col\"><h3>Run summary:</h3><br/><table class=\"wandb\"><tr><td>epoch</td><td>12</td></tr><tr><td>train_acc</td><td>0.13557</td></tr><tr><td>train_loss</td><td>1.9503</td></tr><tr><td>val_acc</td><td>0.18194</td></tr><tr><td>val_loss</td><td>1.94609</td></tr></table><br/></div></div>"
            ]
          },
          "metadata": {}
        },
        {
          "output_type": "display_data",
          "data": {
            "text/plain": [
              "<IPython.core.display.HTML object>"
            ],
            "text/html": [
              " View run <strong style=\"color:#cdcd00\">weighted_CNN_with_residuals_hparam_tuning_8</strong> at: <a href='https://wandb.ai/mrekh21-free-university-of-tbilisi-/emotion-recognition/runs/pdestkx9' target=\"_blank\">https://wandb.ai/mrekh21-free-university-of-tbilisi-/emotion-recognition/runs/pdestkx9</a><br> View project at: <a href='https://wandb.ai/mrekh21-free-university-of-tbilisi-/emotion-recognition' target=\"_blank\">https://wandb.ai/mrekh21-free-university-of-tbilisi-/emotion-recognition</a><br>Synced 5 W&B file(s), 0 media file(s), 0 artifact file(s) and 0 other file(s)"
            ]
          },
          "metadata": {}
        },
        {
          "output_type": "display_data",
          "data": {
            "text/plain": [
              "<IPython.core.display.HTML object>"
            ],
            "text/html": [
              "Find logs at: <code>./wandb/run-20250602_133953-pdestkx9/logs</code>"
            ]
          },
          "metadata": {}
        },
        {
          "output_type": "stream",
          "name": "stderr",
          "text": [
            "\rHyperparameter Trials:  40%|████      | 8/20 [18:54<37:19, 186.63s/it]"
          ]
        },
        {
          "output_type": "stream",
          "name": "stdout",
          "text": [
            "\n",
            " Running config 9/20: {'conv_layers_config': [(32, 3), (64, 3), (128, 3)], 'dropout_conv': 0.2, 'dropout_fc': 0.3, 'norm_type': 'batch', 'pool_type': 'none', 'lr': 0.001, 'batch_size': 64, 'epochs': 20}\n"
          ]
        },
        {
          "output_type": "display_data",
          "data": {
            "text/plain": [
              "<IPython.core.display.HTML object>"
            ],
            "text/html": [
              "Tracking run with wandb version 0.19.11"
            ]
          },
          "metadata": {}
        },
        {
          "output_type": "display_data",
          "data": {
            "text/plain": [
              "<IPython.core.display.HTML object>"
            ],
            "text/html": [
              "Run data is saved locally in <code>/content/Emotion_Recognition/wandb/run-20250602_134324-mtxza68h</code>"
            ]
          },
          "metadata": {}
        },
        {
          "output_type": "display_data",
          "data": {
            "text/plain": [
              "<IPython.core.display.HTML object>"
            ],
            "text/html": [
              "Syncing run <strong><a href='https://wandb.ai/mrekh21-free-university-of-tbilisi-/emotion-recognition/runs/mtxza68h' target=\"_blank\">weighted_CNN_with_residuals_hparam_tuning_9</a></strong> to <a href='https://wandb.ai/mrekh21-free-university-of-tbilisi-/emotion-recognition' target=\"_blank\">Weights & Biases</a> (<a href='https://wandb.me/developer-guide' target=\"_blank\">docs</a>)<br>"
            ]
          },
          "metadata": {}
        },
        {
          "output_type": "display_data",
          "data": {
            "text/plain": [
              "<IPython.core.display.HTML object>"
            ],
            "text/html": [
              " View project at <a href='https://wandb.ai/mrekh21-free-university-of-tbilisi-/emotion-recognition' target=\"_blank\">https://wandb.ai/mrekh21-free-university-of-tbilisi-/emotion-recognition</a>"
            ]
          },
          "metadata": {}
        },
        {
          "output_type": "display_data",
          "data": {
            "text/plain": [
              "<IPython.core.display.HTML object>"
            ],
            "text/html": [
              " View run at <a href='https://wandb.ai/mrekh21-free-university-of-tbilisi-/emotion-recognition/runs/mtxza68h' target=\"_blank\">https://wandb.ai/mrekh21-free-university-of-tbilisi-/emotion-recognition/runs/mtxza68h</a>"
            ]
          },
          "metadata": {}
        },
        {
          "output_type": "display_data",
          "data": {
            "text/plain": [
              "<IPython.core.display.HTML object>"
            ],
            "text/html": []
          },
          "metadata": {}
        },
        {
          "output_type": "display_data",
          "data": {
            "text/plain": [
              "<IPython.core.display.HTML object>"
            ],
            "text/html": [
              "<br>    <style><br>        .wandb-row {<br>            display: flex;<br>            flex-direction: row;<br>            flex-wrap: wrap;<br>            justify-content: flex-start;<br>            width: 100%;<br>        }<br>        .wandb-col {<br>            display: flex;<br>            flex-direction: column;<br>            flex-basis: 100%;<br>            flex: 1;<br>            padding: 10px;<br>        }<br>    </style><br><div class=\"wandb-row\"><div class=\"wandb-col\"><h3>Run history:</h3><br/><table class=\"wandb\"><tr><td>epoch</td><td>▁▂▃▃▄▅▆▆▇█</td></tr><tr><td>train_acc</td><td>▁▁▃▆▅▄█▄█▆</td></tr><tr><td>train_loss</td><td>█▁▁▁▁▁▁▁▁▁</td></tr><tr><td>val_acc</td><td>▁▁▁▄██▁███</td></tr><tr><td>val_loss</td><td>█▁▁▂▂▄▄▃▁▃</td></tr></table><br/></div><div class=\"wandb-col\"><h3>Run summary:</h3><br/><table class=\"wandb\"><tr><td>epoch</td><td>10</td></tr><tr><td>train_acc</td><td>0.19778</td></tr><tr><td>train_loss</td><td>1.94489</td></tr><tr><td>val_acc</td><td>0.24937</td></tr><tr><td>val_loss</td><td>1.94582</td></tr></table><br/></div></div>"
            ]
          },
          "metadata": {}
        },
        {
          "output_type": "display_data",
          "data": {
            "text/plain": [
              "<IPython.core.display.HTML object>"
            ],
            "text/html": [
              " View run <strong style=\"color:#cdcd00\">weighted_CNN_with_residuals_hparam_tuning_9</strong> at: <a href='https://wandb.ai/mrekh21-free-university-of-tbilisi-/emotion-recognition/runs/mtxza68h' target=\"_blank\">https://wandb.ai/mrekh21-free-university-of-tbilisi-/emotion-recognition/runs/mtxza68h</a><br> View project at: <a href='https://wandb.ai/mrekh21-free-university-of-tbilisi-/emotion-recognition' target=\"_blank\">https://wandb.ai/mrekh21-free-university-of-tbilisi-/emotion-recognition</a><br>Synced 5 W&B file(s), 0 media file(s), 0 artifact file(s) and 0 other file(s)"
            ]
          },
          "metadata": {}
        },
        {
          "output_type": "display_data",
          "data": {
            "text/plain": [
              "<IPython.core.display.HTML object>"
            ],
            "text/html": [
              "Find logs at: <code>./wandb/run-20250602_134324-mtxza68h/logs</code>"
            ]
          },
          "metadata": {}
        },
        {
          "output_type": "stream",
          "name": "stderr",
          "text": [
            "\rHyperparameter Trials:  45%|████▌     | 9/20 [25:28<46:07, 251.55s/it]"
          ]
        },
        {
          "output_type": "stream",
          "name": "stdout",
          "text": [
            "\n",
            " Running config 10/20: {'conv_layers_config': [(16, 3), (32, 3), (64, 3)], 'dropout_conv': 0.1, 'dropout_fc': 0.2, 'norm_type': 'layer', 'pool_type': 'max', 'lr': 0.05, 'batch_size': 64, 'epochs': 20}\n"
          ]
        },
        {
          "output_type": "display_data",
          "data": {
            "text/plain": [
              "<IPython.core.display.HTML object>"
            ],
            "text/html": [
              "Tracking run with wandb version 0.19.11"
            ]
          },
          "metadata": {}
        },
        {
          "output_type": "display_data",
          "data": {
            "text/plain": [
              "<IPython.core.display.HTML object>"
            ],
            "text/html": [
              "Run data is saved locally in <code>/content/Emotion_Recognition/wandb/run-20250602_134959-ckjg0kur</code>"
            ]
          },
          "metadata": {}
        },
        {
          "output_type": "display_data",
          "data": {
            "text/plain": [
              "<IPython.core.display.HTML object>"
            ],
            "text/html": [
              "Syncing run <strong><a href='https://wandb.ai/mrekh21-free-university-of-tbilisi-/emotion-recognition/runs/ckjg0kur' target=\"_blank\">weighted_CNN_with_residuals_hparam_tuning_10</a></strong> to <a href='https://wandb.ai/mrekh21-free-university-of-tbilisi-/emotion-recognition' target=\"_blank\">Weights & Biases</a> (<a href='https://wandb.me/developer-guide' target=\"_blank\">docs</a>)<br>"
            ]
          },
          "metadata": {}
        },
        {
          "output_type": "display_data",
          "data": {
            "text/plain": [
              "<IPython.core.display.HTML object>"
            ],
            "text/html": [
              " View project at <a href='https://wandb.ai/mrekh21-free-university-of-tbilisi-/emotion-recognition' target=\"_blank\">https://wandb.ai/mrekh21-free-university-of-tbilisi-/emotion-recognition</a>"
            ]
          },
          "metadata": {}
        },
        {
          "output_type": "display_data",
          "data": {
            "text/plain": [
              "<IPython.core.display.HTML object>"
            ],
            "text/html": [
              " View run at <a href='https://wandb.ai/mrekh21-free-university-of-tbilisi-/emotion-recognition/runs/ckjg0kur' target=\"_blank\">https://wandb.ai/mrekh21-free-university-of-tbilisi-/emotion-recognition/runs/ckjg0kur</a>"
            ]
          },
          "metadata": {}
        },
        {
          "output_type": "display_data",
          "data": {
            "text/plain": [
              "<IPython.core.display.HTML object>"
            ],
            "text/html": []
          },
          "metadata": {}
        },
        {
          "output_type": "display_data",
          "data": {
            "text/plain": [
              "<IPython.core.display.HTML object>"
            ],
            "text/html": [
              "<br>    <style><br>        .wandb-row {<br>            display: flex;<br>            flex-direction: row;<br>            flex-wrap: wrap;<br>            justify-content: flex-start;<br>            width: 100%;<br>        }<br>        .wandb-col {<br>            display: flex;<br>            flex-direction: column;<br>            flex-basis: 100%;<br>            flex: 1;<br>            padding: 10px;<br>        }<br>    </style><br><div class=\"wandb-row\"><div class=\"wandb-col\"><h3>Run history:</h3><br/><table class=\"wandb\"><tr><td>epoch</td><td>▁▂▄▅▇█</td></tr><tr><td>train_acc</td><td>▄█▁▅▄▇</td></tr><tr><td>train_loss</td><td>█▁▁▁▁▁</td></tr><tr><td>val_acc</td><td>██▇▆▅▁</td></tr><tr><td>val_loss</td><td>▂▃▂▁█▅</td></tr></table><br/></div><div class=\"wandb-col\"><h3>Run summary:</h3><br/><table class=\"wandb\"><tr><td>epoch</td><td>6</td></tr><tr><td>train_acc</td><td>0.15121</td></tr><tr><td>train_loss</td><td>1.95054</td></tr><tr><td>val_acc</td><td>0.0156</td></tr><tr><td>val_loss</td><td>1.9517</td></tr></table><br/></div></div>"
            ]
          },
          "metadata": {}
        },
        {
          "output_type": "display_data",
          "data": {
            "text/plain": [
              "<IPython.core.display.HTML object>"
            ],
            "text/html": [
              " View run <strong style=\"color:#cdcd00\">weighted_CNN_with_residuals_hparam_tuning_10</strong> at: <a href='https://wandb.ai/mrekh21-free-university-of-tbilisi-/emotion-recognition/runs/ckjg0kur' target=\"_blank\">https://wandb.ai/mrekh21-free-university-of-tbilisi-/emotion-recognition/runs/ckjg0kur</a><br> View project at: <a href='https://wandb.ai/mrekh21-free-university-of-tbilisi-/emotion-recognition' target=\"_blank\">https://wandb.ai/mrekh21-free-university-of-tbilisi-/emotion-recognition</a><br>Synced 5 W&B file(s), 0 media file(s), 0 artifact file(s) and 0 other file(s)"
            ]
          },
          "metadata": {}
        },
        {
          "output_type": "display_data",
          "data": {
            "text/plain": [
              "<IPython.core.display.HTML object>"
            ],
            "text/html": [
              "Find logs at: <code>./wandb/run-20250602_134959-ckjg0kur/logs</code>"
            ]
          },
          "metadata": {}
        },
        {
          "output_type": "stream",
          "name": "stderr",
          "text": [
            "\rHyperparameter Trials:  50%|█████     | 10/20 [25:58<30:30, 183.02s/it]"
          ]
        },
        {
          "output_type": "stream",
          "name": "stdout",
          "text": [
            "\n",
            " Running config 11/20: {'conv_layers_config': [(16, 3), (32, 3), (64, 3)], 'dropout_conv': 0.2, 'dropout_fc': 0.4, 'norm_type': 'layer', 'pool_type': 'none', 'lr': 0.05, 'batch_size': 128, 'epochs': 20}\n"
          ]
        },
        {
          "output_type": "display_data",
          "data": {
            "text/plain": [
              "<IPython.core.display.HTML object>"
            ],
            "text/html": [
              "Tracking run with wandb version 0.19.11"
            ]
          },
          "metadata": {}
        },
        {
          "output_type": "display_data",
          "data": {
            "text/plain": [
              "<IPython.core.display.HTML object>"
            ],
            "text/html": [
              "Run data is saved locally in <code>/content/Emotion_Recognition/wandb/run-20250602_135028-l7vqnuib</code>"
            ]
          },
          "metadata": {}
        },
        {
          "output_type": "display_data",
          "data": {
            "text/plain": [
              "<IPython.core.display.HTML object>"
            ],
            "text/html": [
              "Syncing run <strong><a href='https://wandb.ai/mrekh21-free-university-of-tbilisi-/emotion-recognition/runs/l7vqnuib' target=\"_blank\">weighted_CNN_with_residuals_hparam_tuning_11</a></strong> to <a href='https://wandb.ai/mrekh21-free-university-of-tbilisi-/emotion-recognition' target=\"_blank\">Weights & Biases</a> (<a href='https://wandb.me/developer-guide' target=\"_blank\">docs</a>)<br>"
            ]
          },
          "metadata": {}
        },
        {
          "output_type": "display_data",
          "data": {
            "text/plain": [
              "<IPython.core.display.HTML object>"
            ],
            "text/html": [
              " View project at <a href='https://wandb.ai/mrekh21-free-university-of-tbilisi-/emotion-recognition' target=\"_blank\">https://wandb.ai/mrekh21-free-university-of-tbilisi-/emotion-recognition</a>"
            ]
          },
          "metadata": {}
        },
        {
          "output_type": "display_data",
          "data": {
            "text/plain": [
              "<IPython.core.display.HTML object>"
            ],
            "text/html": [
              " View run at <a href='https://wandb.ai/mrekh21-free-university-of-tbilisi-/emotion-recognition/runs/l7vqnuib' target=\"_blank\">https://wandb.ai/mrekh21-free-university-of-tbilisi-/emotion-recognition/runs/l7vqnuib</a>"
            ]
          },
          "metadata": {}
        },
        {
          "output_type": "display_data",
          "data": {
            "text/plain": [
              "<IPython.core.display.HTML object>"
            ],
            "text/html": []
          },
          "metadata": {}
        },
        {
          "output_type": "display_data",
          "data": {
            "text/plain": [
              "<IPython.core.display.HTML object>"
            ],
            "text/html": [
              "<br>    <style><br>        .wandb-row {<br>            display: flex;<br>            flex-direction: row;<br>            flex-wrap: wrap;<br>            justify-content: flex-start;<br>            width: 100%;<br>        }<br>        .wandb-col {<br>            display: flex;<br>            flex-direction: column;<br>            flex-basis: 100%;<br>            flex: 1;<br>            padding: 10px;<br>        }<br>    </style><br><div class=\"wandb-row\"><div class=\"wandb-col\"><h3>Run history:</h3><br/><table class=\"wandb\"><tr><td>epoch</td><td>▁▂▄▅▇█</td></tr><tr><td>train_acc</td><td>▁▄▇▆█▃</td></tr><tr><td>train_loss</td><td>█▁▁▁▁▁</td></tr><tr><td>val_acc</td><td>█▂█▄▄▁</td></tr><tr><td>val_loss</td><td>▂█▇▂▅▁</td></tr></table><br/></div><div class=\"wandb-col\"><h3>Run summary:</h3><br/><table class=\"wandb\"><tr><td>epoch</td><td>6</td></tr><tr><td>train_acc</td><td>0.12334</td></tr><tr><td>train_loss</td><td>1.94959</td></tr><tr><td>val_acc</td><td>0.11563</td></tr><tr><td>val_loss</td><td>1.9459</td></tr></table><br/></div></div>"
            ]
          },
          "metadata": {}
        },
        {
          "output_type": "display_data",
          "data": {
            "text/plain": [
              "<IPython.core.display.HTML object>"
            ],
            "text/html": [
              " View run <strong style=\"color:#cdcd00\">weighted_CNN_with_residuals_hparam_tuning_11</strong> at: <a href='https://wandb.ai/mrekh21-free-university-of-tbilisi-/emotion-recognition/runs/l7vqnuib' target=\"_blank\">https://wandb.ai/mrekh21-free-university-of-tbilisi-/emotion-recognition/runs/l7vqnuib</a><br> View project at: <a href='https://wandb.ai/mrekh21-free-university-of-tbilisi-/emotion-recognition' target=\"_blank\">https://wandb.ai/mrekh21-free-university-of-tbilisi-/emotion-recognition</a><br>Synced 5 W&B file(s), 0 media file(s), 0 artifact file(s) and 0 other file(s)"
            ]
          },
          "metadata": {}
        },
        {
          "output_type": "display_data",
          "data": {
            "text/plain": [
              "<IPython.core.display.HTML object>"
            ],
            "text/html": [
              "Find logs at: <code>./wandb/run-20250602_135028-l7vqnuib/logs</code>"
            ]
          },
          "metadata": {}
        },
        {
          "output_type": "stream",
          "name": "stderr",
          "text": [
            "\rHyperparameter Trials:  55%|█████▌    | 11/20 [27:45<23:56, 159.65s/it]"
          ]
        },
        {
          "output_type": "stream",
          "name": "stdout",
          "text": [
            "\n",
            " Running config 12/20: {'conv_layers_config': [(32, 3), (64, 3), (128, 3)], 'dropout_conv': 0.1, 'dropout_fc': 0.2, 'norm_type': 'layer', 'pool_type': 'max', 'lr': 0.01, 'batch_size': 64, 'epochs': 20}\n"
          ]
        },
        {
          "output_type": "display_data",
          "data": {
            "text/plain": [
              "<IPython.core.display.HTML object>"
            ],
            "text/html": [
              "Tracking run with wandb version 0.19.11"
            ]
          },
          "metadata": {}
        },
        {
          "output_type": "display_data",
          "data": {
            "text/plain": [
              "<IPython.core.display.HTML object>"
            ],
            "text/html": [
              "Run data is saved locally in <code>/content/Emotion_Recognition/wandb/run-20250602_135215-60edrvzx</code>"
            ]
          },
          "metadata": {}
        },
        {
          "output_type": "display_data",
          "data": {
            "text/plain": [
              "<IPython.core.display.HTML object>"
            ],
            "text/html": [
              "Syncing run <strong><a href='https://wandb.ai/mrekh21-free-university-of-tbilisi-/emotion-recognition/runs/60edrvzx' target=\"_blank\">weighted_CNN_with_residuals_hparam_tuning_12</a></strong> to <a href='https://wandb.ai/mrekh21-free-university-of-tbilisi-/emotion-recognition' target=\"_blank\">Weights & Biases</a> (<a href='https://wandb.me/developer-guide' target=\"_blank\">docs</a>)<br>"
            ]
          },
          "metadata": {}
        },
        {
          "output_type": "display_data",
          "data": {
            "text/plain": [
              "<IPython.core.display.HTML object>"
            ],
            "text/html": [
              " View project at <a href='https://wandb.ai/mrekh21-free-university-of-tbilisi-/emotion-recognition' target=\"_blank\">https://wandb.ai/mrekh21-free-university-of-tbilisi-/emotion-recognition</a>"
            ]
          },
          "metadata": {}
        },
        {
          "output_type": "display_data",
          "data": {
            "text/plain": [
              "<IPython.core.display.HTML object>"
            ],
            "text/html": [
              " View run at <a href='https://wandb.ai/mrekh21-free-university-of-tbilisi-/emotion-recognition/runs/60edrvzx' target=\"_blank\">https://wandb.ai/mrekh21-free-university-of-tbilisi-/emotion-recognition/runs/60edrvzx</a>"
            ]
          },
          "metadata": {}
        },
        {
          "output_type": "display_data",
          "data": {
            "text/plain": [
              "<IPython.core.display.HTML object>"
            ],
            "text/html": []
          },
          "metadata": {}
        },
        {
          "output_type": "display_data",
          "data": {
            "text/plain": [
              "<IPython.core.display.HTML object>"
            ],
            "text/html": [
              "<br>    <style><br>        .wandb-row {<br>            display: flex;<br>            flex-direction: row;<br>            flex-wrap: wrap;<br>            justify-content: flex-start;<br>            width: 100%;<br>        }<br>        .wandb-col {<br>            display: flex;<br>            flex-direction: column;<br>            flex-basis: 100%;<br>            flex: 1;<br>            padding: 10px;<br>        }<br>    </style><br><div class=\"wandb-row\"><div class=\"wandb-col\"><h3>Run history:</h3><br/><table class=\"wandb\"><tr><td>epoch</td><td>▁▂▂▃▄▅▅▆▇▇█</td></tr><tr><td>train_acc</td><td>▅▇▁▄▃▂▇█▅▇▂</td></tr><tr><td>train_loss</td><td>█▁▁▁▁▁▁▁▁▁▁</td></tr><tr><td>val_acc</td><td>▁▄▆▄▅██▄▆▄▆</td></tr><tr><td>val_loss</td><td>▃▁▂█▄▄▂▄▁▃▁</td></tr></table><br/></div><div class=\"wandb-col\"><h3>Run summary:</h3><br/><table class=\"wandb\"><tr><td>epoch</td><td>11</td></tr><tr><td>train_acc</td><td>0.15103</td></tr><tr><td>train_loss</td><td>1.94646</td></tr><tr><td>val_acc</td><td>0.16913</td></tr><tr><td>val_loss</td><td>1.94587</td></tr></table><br/></div></div>"
            ]
          },
          "metadata": {}
        },
        {
          "output_type": "display_data",
          "data": {
            "text/plain": [
              "<IPython.core.display.HTML object>"
            ],
            "text/html": [
              " View run <strong style=\"color:#cdcd00\">weighted_CNN_with_residuals_hparam_tuning_12</strong> at: <a href='https://wandb.ai/mrekh21-free-university-of-tbilisi-/emotion-recognition/runs/60edrvzx' target=\"_blank\">https://wandb.ai/mrekh21-free-university-of-tbilisi-/emotion-recognition/runs/60edrvzx</a><br> View project at: <a href='https://wandb.ai/mrekh21-free-university-of-tbilisi-/emotion-recognition' target=\"_blank\">https://wandb.ai/mrekh21-free-university-of-tbilisi-/emotion-recognition</a><br>Synced 5 W&B file(s), 0 media file(s), 0 artifact file(s) and 0 other file(s)"
            ]
          },
          "metadata": {}
        },
        {
          "output_type": "display_data",
          "data": {
            "text/plain": [
              "<IPython.core.display.HTML object>"
            ],
            "text/html": [
              "Find logs at: <code>./wandb/run-20250602_135215-60edrvzx/logs</code>"
            ]
          },
          "metadata": {}
        },
        {
          "output_type": "stream",
          "name": "stderr",
          "text": [
            "\rHyperparameter Trials:  60%|██████    | 12/20 [29:16<18:30, 138.81s/it]"
          ]
        },
        {
          "output_type": "stream",
          "name": "stdout",
          "text": [
            "\n",
            " Running config 13/20: {'conv_layers_config': [(32, 3), (64, 3), (128, 3)], 'dropout_conv': 0.3, 'dropout_fc': 0.2, 'norm_type': 'layer', 'pool_type': 'avg', 'lr': 0.01, 'batch_size': 128, 'epochs': 20}\n"
          ]
        },
        {
          "output_type": "display_data",
          "data": {
            "text/plain": [
              "<IPython.core.display.HTML object>"
            ],
            "text/html": [
              "Tracking run with wandb version 0.19.11"
            ]
          },
          "metadata": {}
        },
        {
          "output_type": "display_data",
          "data": {
            "text/plain": [
              "<IPython.core.display.HTML object>"
            ],
            "text/html": [
              "Run data is saved locally in <code>/content/Emotion_Recognition/wandb/run-20250602_135346-cy5o8zm0</code>"
            ]
          },
          "metadata": {}
        },
        {
          "output_type": "display_data",
          "data": {
            "text/plain": [
              "<IPython.core.display.HTML object>"
            ],
            "text/html": [
              "Syncing run <strong><a href='https://wandb.ai/mrekh21-free-university-of-tbilisi-/emotion-recognition/runs/cy5o8zm0' target=\"_blank\">weighted_CNN_with_residuals_hparam_tuning_13</a></strong> to <a href='https://wandb.ai/mrekh21-free-university-of-tbilisi-/emotion-recognition' target=\"_blank\">Weights & Biases</a> (<a href='https://wandb.me/developer-guide' target=\"_blank\">docs</a>)<br>"
            ]
          },
          "metadata": {}
        },
        {
          "output_type": "display_data",
          "data": {
            "text/plain": [
              "<IPython.core.display.HTML object>"
            ],
            "text/html": [
              " View project at <a href='https://wandb.ai/mrekh21-free-university-of-tbilisi-/emotion-recognition' target=\"_blank\">https://wandb.ai/mrekh21-free-university-of-tbilisi-/emotion-recognition</a>"
            ]
          },
          "metadata": {}
        },
        {
          "output_type": "display_data",
          "data": {
            "text/plain": [
              "<IPython.core.display.HTML object>"
            ],
            "text/html": [
              " View run at <a href='https://wandb.ai/mrekh21-free-university-of-tbilisi-/emotion-recognition/runs/cy5o8zm0' target=\"_blank\">https://wandb.ai/mrekh21-free-university-of-tbilisi-/emotion-recognition/runs/cy5o8zm0</a>"
            ]
          },
          "metadata": {}
        },
        {
          "output_type": "display_data",
          "data": {
            "text/plain": [
              "<IPython.core.display.HTML object>"
            ],
            "text/html": []
          },
          "metadata": {}
        },
        {
          "output_type": "display_data",
          "data": {
            "text/plain": [
              "<IPython.core.display.HTML object>"
            ],
            "text/html": [
              "<br>    <style><br>        .wandb-row {<br>            display: flex;<br>            flex-direction: row;<br>            flex-wrap: wrap;<br>            justify-content: flex-start;<br>            width: 100%;<br>        }<br>        .wandb-col {<br>            display: flex;<br>            flex-direction: column;<br>            flex-basis: 100%;<br>            flex: 1;<br>            padding: 10px;<br>        }<br>    </style><br><div class=\"wandb-row\"><div class=\"wandb-col\"><h3>Run history:</h3><br/><table class=\"wandb\"><tr><td>epoch</td><td>▁▂▃▃▄▅▆▆▇█</td></tr><tr><td>train_acc</td><td>▁▃▆▅▇▇▇███</td></tr><tr><td>train_loss</td><td>█▅▄▃▃▃▂▂▂▁</td></tr><tr><td>val_acc</td><td>▂▁▂▅█▄▅█▇▆</td></tr><tr><td>val_loss</td><td>█▇▄▄▄▄▃▂▂▁</td></tr></table><br/></div><div class=\"wandb-col\"><h3>Run summary:</h3><br/><table class=\"wandb\"><tr><td>epoch</td><td>10</td></tr><tr><td>train_acc</td><td>0.26549</td></tr><tr><td>train_loss</td><td>1.77808</td></tr><tr><td>val_acc</td><td>0.27501</td></tr><tr><td>val_loss</td><td>1.74243</td></tr></table><br/></div></div>"
            ]
          },
          "metadata": {}
        },
        {
          "output_type": "display_data",
          "data": {
            "text/plain": [
              "<IPython.core.display.HTML object>"
            ],
            "text/html": [
              " View run <strong style=\"color:#cdcd00\">weighted_CNN_with_residuals_hparam_tuning_13</strong> at: <a href='https://wandb.ai/mrekh21-free-university-of-tbilisi-/emotion-recognition/runs/cy5o8zm0' target=\"_blank\">https://wandb.ai/mrekh21-free-university-of-tbilisi-/emotion-recognition/runs/cy5o8zm0</a><br> View project at: <a href='https://wandb.ai/mrekh21-free-university-of-tbilisi-/emotion-recognition' target=\"_blank\">https://wandb.ai/mrekh21-free-university-of-tbilisi-/emotion-recognition</a><br>Synced 5 W&B file(s), 0 media file(s), 0 artifact file(s) and 0 other file(s)"
            ]
          },
          "metadata": {}
        },
        {
          "output_type": "display_data",
          "data": {
            "text/plain": [
              "<IPython.core.display.HTML object>"
            ],
            "text/html": [
              "Find logs at: <code>./wandb/run-20250602_135346-cy5o8zm0/logs</code>"
            ]
          },
          "metadata": {}
        },
        {
          "output_type": "stream",
          "name": "stderr",
          "text": [
            "\rHyperparameter Trials:  65%|██████▌   | 13/20 [30:36<14:06, 120.97s/it]"
          ]
        },
        {
          "output_type": "stream",
          "name": "stdout",
          "text": [
            "\n",
            " Running config 14/20: {'conv_layers_config': [(32, 3), (64, 3), (128, 3)], 'dropout_conv': 0.2, 'dropout_fc': 0.3, 'norm_type': 'layer', 'pool_type': 'max', 'lr': 0.05, 'batch_size': 64, 'epochs': 20}\n"
          ]
        },
        {
          "output_type": "display_data",
          "data": {
            "text/plain": [
              "<IPython.core.display.HTML object>"
            ],
            "text/html": [
              "Tracking run with wandb version 0.19.11"
            ]
          },
          "metadata": {}
        },
        {
          "output_type": "display_data",
          "data": {
            "text/plain": [
              "<IPython.core.display.HTML object>"
            ],
            "text/html": [
              "Run data is saved locally in <code>/content/Emotion_Recognition/wandb/run-20250602_135506-fr5s1n7d</code>"
            ]
          },
          "metadata": {}
        },
        {
          "output_type": "display_data",
          "data": {
            "text/plain": [
              "<IPython.core.display.HTML object>"
            ],
            "text/html": [
              "Syncing run <strong><a href='https://wandb.ai/mrekh21-free-university-of-tbilisi-/emotion-recognition/runs/fr5s1n7d' target=\"_blank\">weighted_CNN_with_residuals_hparam_tuning_14</a></strong> to <a href='https://wandb.ai/mrekh21-free-university-of-tbilisi-/emotion-recognition' target=\"_blank\">Weights & Biases</a> (<a href='https://wandb.me/developer-guide' target=\"_blank\">docs</a>)<br>"
            ]
          },
          "metadata": {}
        },
        {
          "output_type": "display_data",
          "data": {
            "text/plain": [
              "<IPython.core.display.HTML object>"
            ],
            "text/html": [
              " View project at <a href='https://wandb.ai/mrekh21-free-university-of-tbilisi-/emotion-recognition' target=\"_blank\">https://wandb.ai/mrekh21-free-university-of-tbilisi-/emotion-recognition</a>"
            ]
          },
          "metadata": {}
        },
        {
          "output_type": "display_data",
          "data": {
            "text/plain": [
              "<IPython.core.display.HTML object>"
            ],
            "text/html": [
              " View run at <a href='https://wandb.ai/mrekh21-free-university-of-tbilisi-/emotion-recognition/runs/fr5s1n7d' target=\"_blank\">https://wandb.ai/mrekh21-free-university-of-tbilisi-/emotion-recognition/runs/fr5s1n7d</a>"
            ]
          },
          "metadata": {}
        },
        {
          "output_type": "display_data",
          "data": {
            "text/plain": [
              "<IPython.core.display.HTML object>"
            ],
            "text/html": []
          },
          "metadata": {}
        },
        {
          "output_type": "display_data",
          "data": {
            "text/plain": [
              "<IPython.core.display.HTML object>"
            ],
            "text/html": [
              "<br>    <style><br>        .wandb-row {<br>            display: flex;<br>            flex-direction: row;<br>            flex-wrap: wrap;<br>            justify-content: flex-start;<br>            width: 100%;<br>        }<br>        .wandb-col {<br>            display: flex;<br>            flex-direction: column;<br>            flex-basis: 100%;<br>            flex: 1;<br>            padding: 10px;<br>        }<br>    </style><br><div class=\"wandb-row\"><div class=\"wandb-col\"><h3>Run history:</h3><br/><table class=\"wandb\"><tr><td>epoch</td><td>▁▂▂▃▃▄▅▅▆▆▇▇█</td></tr><tr><td>train_acc</td><td>▆▅█▇▁▃▅▅▆▃▂▄▇</td></tr><tr><td>train_loss</td><td>█▁▁▁▁▁▁▁▁▁▁▁▁</td></tr><tr><td>val_acc</td><td>▅▄▆▅▆▄▁█▄▄█▆▄</td></tr><tr><td>val_loss</td><td>▄▃▁▂▃▂▂▁▁▅▃█▃</td></tr></table><br/></div><div class=\"wandb-col\"><h3>Run summary:</h3><br/><table class=\"wandb\"><tr><td>epoch</td><td>13</td></tr><tr><td>train_acc</td><td>0.15985</td></tr><tr><td>train_loss</td><td>1.94974</td></tr><tr><td>val_acc</td><td>0.11563</td></tr><tr><td>val_loss</td><td>1.95237</td></tr></table><br/></div></div>"
            ]
          },
          "metadata": {}
        },
        {
          "output_type": "display_data",
          "data": {
            "text/plain": [
              "<IPython.core.display.HTML object>"
            ],
            "text/html": [
              " View run <strong style=\"color:#cdcd00\">weighted_CNN_with_residuals_hparam_tuning_14</strong> at: <a href='https://wandb.ai/mrekh21-free-university-of-tbilisi-/emotion-recognition/runs/fr5s1n7d' target=\"_blank\">https://wandb.ai/mrekh21-free-university-of-tbilisi-/emotion-recognition/runs/fr5s1n7d</a><br> View project at: <a href='https://wandb.ai/mrekh21-free-university-of-tbilisi-/emotion-recognition' target=\"_blank\">https://wandb.ai/mrekh21-free-university-of-tbilisi-/emotion-recognition</a><br>Synced 5 W&B file(s), 0 media file(s), 0 artifact file(s) and 0 other file(s)"
            ]
          },
          "metadata": {}
        },
        {
          "output_type": "display_data",
          "data": {
            "text/plain": [
              "<IPython.core.display.HTML object>"
            ],
            "text/html": [
              "Find logs at: <code>./wandb/run-20250602_135506-fr5s1n7d/logs</code>"
            ]
          },
          "metadata": {}
        },
        {
          "output_type": "stream",
          "name": "stderr",
          "text": [
            "\rHyperparameter Trials:  70%|███████   | 14/20 [32:22<11:38, 116.43s/it]"
          ]
        },
        {
          "output_type": "stream",
          "name": "stdout",
          "text": [
            "\n",
            " Running config 15/20: {'conv_layers_config': [(16, 3), (32, 3), (64, 3)], 'dropout_conv': 0.1, 'dropout_fc': 0.3, 'norm_type': 'layer', 'pool_type': 'max', 'lr': 0.05, 'batch_size': 64, 'epochs': 20}\n"
          ]
        },
        {
          "output_type": "display_data",
          "data": {
            "text/plain": [
              "<IPython.core.display.HTML object>"
            ],
            "text/html": [
              "Tracking run with wandb version 0.19.11"
            ]
          },
          "metadata": {}
        },
        {
          "output_type": "display_data",
          "data": {
            "text/plain": [
              "<IPython.core.display.HTML object>"
            ],
            "text/html": [
              "Run data is saved locally in <code>/content/Emotion_Recognition/wandb/run-20250602_135652-k4p0543c</code>"
            ]
          },
          "metadata": {}
        },
        {
          "output_type": "display_data",
          "data": {
            "text/plain": [
              "<IPython.core.display.HTML object>"
            ],
            "text/html": [
              "Syncing run <strong><a href='https://wandb.ai/mrekh21-free-university-of-tbilisi-/emotion-recognition/runs/k4p0543c' target=\"_blank\">weighted_CNN_with_residuals_hparam_tuning_15</a></strong> to <a href='https://wandb.ai/mrekh21-free-university-of-tbilisi-/emotion-recognition' target=\"_blank\">Weights & Biases</a> (<a href='https://wandb.me/developer-guide' target=\"_blank\">docs</a>)<br>"
            ]
          },
          "metadata": {}
        },
        {
          "output_type": "display_data",
          "data": {
            "text/plain": [
              "<IPython.core.display.HTML object>"
            ],
            "text/html": [
              " View project at <a href='https://wandb.ai/mrekh21-free-university-of-tbilisi-/emotion-recognition' target=\"_blank\">https://wandb.ai/mrekh21-free-university-of-tbilisi-/emotion-recognition</a>"
            ]
          },
          "metadata": {}
        },
        {
          "output_type": "display_data",
          "data": {
            "text/plain": [
              "<IPython.core.display.HTML object>"
            ],
            "text/html": [
              " View run at <a href='https://wandb.ai/mrekh21-free-university-of-tbilisi-/emotion-recognition/runs/k4p0543c' target=\"_blank\">https://wandb.ai/mrekh21-free-university-of-tbilisi-/emotion-recognition/runs/k4p0543c</a>"
            ]
          },
          "metadata": {}
        },
        {
          "output_type": "display_data",
          "data": {
            "text/plain": [
              "<IPython.core.display.HTML object>"
            ],
            "text/html": []
          },
          "metadata": {}
        },
        {
          "output_type": "display_data",
          "data": {
            "text/plain": [
              "<IPython.core.display.HTML object>"
            ],
            "text/html": [
              "<br>    <style><br>        .wandb-row {<br>            display: flex;<br>            flex-direction: row;<br>            flex-wrap: wrap;<br>            justify-content: flex-start;<br>            width: 100%;<br>        }<br>        .wandb-col {<br>            display: flex;<br>            flex-direction: column;<br>            flex-basis: 100%;<br>            flex: 1;<br>            padding: 10px;<br>        }<br>    </style><br><div class=\"wandb-row\"><div class=\"wandb-col\"><h3>Run history:</h3><br/><table class=\"wandb\"><tr><td>epoch</td><td>▁▂▃▄▅▅▆▇█</td></tr><tr><td>train_acc</td><td>▁▂▅▅▂▅▃▇█</td></tr><tr><td>train_loss</td><td>█▁▁▁▁▁▁▁▁</td></tr><tr><td>val_acc</td><td>▆▆▁█▆█▅▇▆</td></tr><tr><td>val_loss</td><td>█▅█▂▆▁▃▁▃</td></tr></table><br/></div><div class=\"wandb-col\"><h3>Run summary:</h3><br/><table class=\"wandb\"><tr><td>epoch</td><td>9</td></tr><tr><td>train_acc</td><td>0.16587</td></tr><tr><td>train_loss</td><td>1.95048</td></tr><tr><td>val_acc</td><td>0.13012</td></tr><tr><td>val_loss</td><td>1.95008</td></tr></table><br/></div></div>"
            ]
          },
          "metadata": {}
        },
        {
          "output_type": "display_data",
          "data": {
            "text/plain": [
              "<IPython.core.display.HTML object>"
            ],
            "text/html": [
              " View run <strong style=\"color:#cdcd00\">weighted_CNN_with_residuals_hparam_tuning_15</strong> at: <a href='https://wandb.ai/mrekh21-free-university-of-tbilisi-/emotion-recognition/runs/k4p0543c' target=\"_blank\">https://wandb.ai/mrekh21-free-university-of-tbilisi-/emotion-recognition/runs/k4p0543c</a><br> View project at: <a href='https://wandb.ai/mrekh21-free-university-of-tbilisi-/emotion-recognition' target=\"_blank\">https://wandb.ai/mrekh21-free-university-of-tbilisi-/emotion-recognition</a><br>Synced 5 W&B file(s), 0 media file(s), 0 artifact file(s) and 0 other file(s)"
            ]
          },
          "metadata": {}
        },
        {
          "output_type": "display_data",
          "data": {
            "text/plain": [
              "<IPython.core.display.HTML object>"
            ],
            "text/html": [
              "Find logs at: <code>./wandb/run-20250602_135652-k4p0543c/logs</code>"
            ]
          },
          "metadata": {}
        },
        {
          "output_type": "stream",
          "name": "stderr",
          "text": [
            "\rHyperparameter Trials:  75%|███████▌  | 15/20 [33:05<07:51, 94.34s/it] "
          ]
        },
        {
          "output_type": "stream",
          "name": "stdout",
          "text": [
            "\n",
            " Running config 16/20: {'conv_layers_config': [(16, 3), (32, 3), (64, 3)], 'dropout_conv': 0.2, 'dropout_fc': 0.3, 'norm_type': 'batch', 'pool_type': 'none', 'lr': 0.001, 'batch_size': 64, 'epochs': 20}\n"
          ]
        },
        {
          "output_type": "display_data",
          "data": {
            "text/plain": [
              "<IPython.core.display.HTML object>"
            ],
            "text/html": [
              "Tracking run with wandb version 0.19.11"
            ]
          },
          "metadata": {}
        },
        {
          "output_type": "display_data",
          "data": {
            "text/plain": [
              "<IPython.core.display.HTML object>"
            ],
            "text/html": [
              "Run data is saved locally in <code>/content/Emotion_Recognition/wandb/run-20250602_135735-7ymk5x98</code>"
            ]
          },
          "metadata": {}
        },
        {
          "output_type": "display_data",
          "data": {
            "text/plain": [
              "<IPython.core.display.HTML object>"
            ],
            "text/html": [
              "Syncing run <strong><a href='https://wandb.ai/mrekh21-free-university-of-tbilisi-/emotion-recognition/runs/7ymk5x98' target=\"_blank\">weighted_CNN_with_residuals_hparam_tuning_16</a></strong> to <a href='https://wandb.ai/mrekh21-free-university-of-tbilisi-/emotion-recognition' target=\"_blank\">Weights & Biases</a> (<a href='https://wandb.me/developer-guide' target=\"_blank\">docs</a>)<br>"
            ]
          },
          "metadata": {}
        },
        {
          "output_type": "display_data",
          "data": {
            "text/plain": [
              "<IPython.core.display.HTML object>"
            ],
            "text/html": [
              " View project at <a href='https://wandb.ai/mrekh21-free-university-of-tbilisi-/emotion-recognition' target=\"_blank\">https://wandb.ai/mrekh21-free-university-of-tbilisi-/emotion-recognition</a>"
            ]
          },
          "metadata": {}
        },
        {
          "output_type": "display_data",
          "data": {
            "text/plain": [
              "<IPython.core.display.HTML object>"
            ],
            "text/html": [
              " View run at <a href='https://wandb.ai/mrekh21-free-university-of-tbilisi-/emotion-recognition/runs/7ymk5x98' target=\"_blank\">https://wandb.ai/mrekh21-free-university-of-tbilisi-/emotion-recognition/runs/7ymk5x98</a>"
            ]
          },
          "metadata": {}
        },
        {
          "output_type": "display_data",
          "data": {
            "text/plain": [
              "<IPython.core.display.HTML object>"
            ],
            "text/html": []
          },
          "metadata": {}
        },
        {
          "output_type": "display_data",
          "data": {
            "text/plain": [
              "<IPython.core.display.HTML object>"
            ],
            "text/html": [
              "<br>    <style><br>        .wandb-row {<br>            display: flex;<br>            flex-direction: row;<br>            flex-wrap: wrap;<br>            justify-content: flex-start;<br>            width: 100%;<br>        }<br>        .wandb-col {<br>            display: flex;<br>            flex-direction: column;<br>            flex-basis: 100%;<br>            flex: 1;<br>            padding: 10px;<br>        }<br>    </style><br><div class=\"wandb-row\"><div class=\"wandb-col\"><h3>Run history:</h3><br/><table class=\"wandb\"><tr><td>epoch</td><td>▁▂▃▄▅▆▇█</td></tr><tr><td>train_acc</td><td>▂▂▅▃▇▂█▁</td></tr><tr><td>train_loss</td><td>█▁▁▁▁▁▁▁</td></tr><tr><td>val_acc</td><td>▁▂██▂█▁▂</td></tr><tr><td>val_loss</td><td>▂▁▆▅▆██▆</td></tr></table><br/></div><div class=\"wandb-col\"><h3>Run summary:</h3><br/><table class=\"wandb\"><tr><td>epoch</td><td>8</td></tr><tr><td>train_acc</td><td>0.15692</td></tr><tr><td>train_loss</td><td>1.94525</td></tr><tr><td>val_acc</td><td>0.18194</td></tr><tr><td>val_loss</td><td>1.94578</td></tr></table><br/></div></div>"
            ]
          },
          "metadata": {}
        },
        {
          "output_type": "display_data",
          "data": {
            "text/plain": [
              "<IPython.core.display.HTML object>"
            ],
            "text/html": [
              " View run <strong style=\"color:#cdcd00\">weighted_CNN_with_residuals_hparam_tuning_16</strong> at: <a href='https://wandb.ai/mrekh21-free-university-of-tbilisi-/emotion-recognition/runs/7ymk5x98' target=\"_blank\">https://wandb.ai/mrekh21-free-university-of-tbilisi-/emotion-recognition/runs/7ymk5x98</a><br> View project at: <a href='https://wandb.ai/mrekh21-free-university-of-tbilisi-/emotion-recognition' target=\"_blank\">https://wandb.ai/mrekh21-free-university-of-tbilisi-/emotion-recognition</a><br>Synced 5 W&B file(s), 0 media file(s), 0 artifact file(s) and 0 other file(s)"
            ]
          },
          "metadata": {}
        },
        {
          "output_type": "display_data",
          "data": {
            "text/plain": [
              "<IPython.core.display.HTML object>"
            ],
            "text/html": [
              "Find logs at: <code>./wandb/run-20250602_135735-7ymk5x98/logs</code>"
            ]
          },
          "metadata": {}
        },
        {
          "output_type": "stream",
          "name": "stderr",
          "text": [
            "\rHyperparameter Trials:  80%|████████  | 16/20 [35:40<07:31, 112.81s/it]"
          ]
        },
        {
          "output_type": "stream",
          "name": "stdout",
          "text": [
            "\n",
            " Running config 17/20: {'conv_layers_config': [(32, 3), (64, 3), (128, 3)], 'dropout_conv': 0.3, 'dropout_fc': 0.4, 'norm_type': 'layer', 'pool_type': 'avg', 'lr': 0.001, 'batch_size': 64, 'epochs': 20}\n"
          ]
        },
        {
          "output_type": "display_data",
          "data": {
            "text/plain": [
              "<IPython.core.display.HTML object>"
            ],
            "text/html": [
              "Tracking run with wandb version 0.19.11"
            ]
          },
          "metadata": {}
        },
        {
          "output_type": "display_data",
          "data": {
            "text/plain": [
              "<IPython.core.display.HTML object>"
            ],
            "text/html": [
              "Run data is saved locally in <code>/content/Emotion_Recognition/wandb/run-20250602_140011-ebs1hliw</code>"
            ]
          },
          "metadata": {}
        },
        {
          "output_type": "display_data",
          "data": {
            "text/plain": [
              "<IPython.core.display.HTML object>"
            ],
            "text/html": [
              "Syncing run <strong><a href='https://wandb.ai/mrekh21-free-university-of-tbilisi-/emotion-recognition/runs/ebs1hliw' target=\"_blank\">weighted_CNN_with_residuals_hparam_tuning_17</a></strong> to <a href='https://wandb.ai/mrekh21-free-university-of-tbilisi-/emotion-recognition' target=\"_blank\">Weights & Biases</a> (<a href='https://wandb.me/developer-guide' target=\"_blank\">docs</a>)<br>"
            ]
          },
          "metadata": {}
        },
        {
          "output_type": "display_data",
          "data": {
            "text/plain": [
              "<IPython.core.display.HTML object>"
            ],
            "text/html": [
              " View project at <a href='https://wandb.ai/mrekh21-free-university-of-tbilisi-/emotion-recognition' target=\"_blank\">https://wandb.ai/mrekh21-free-university-of-tbilisi-/emotion-recognition</a>"
            ]
          },
          "metadata": {}
        },
        {
          "output_type": "display_data",
          "data": {
            "text/plain": [
              "<IPython.core.display.HTML object>"
            ],
            "text/html": [
              " View run at <a href='https://wandb.ai/mrekh21-free-university-of-tbilisi-/emotion-recognition/runs/ebs1hliw' target=\"_blank\">https://wandb.ai/mrekh21-free-university-of-tbilisi-/emotion-recognition/runs/ebs1hliw</a>"
            ]
          },
          "metadata": {}
        },
        {
          "output_type": "display_data",
          "data": {
            "text/plain": [
              "<IPython.core.display.HTML object>"
            ],
            "text/html": []
          },
          "metadata": {}
        },
        {
          "output_type": "display_data",
          "data": {
            "text/plain": [
              "<IPython.core.display.HTML object>"
            ],
            "text/html": [
              "<br>    <style><br>        .wandb-row {<br>            display: flex;<br>            flex-direction: row;<br>            flex-wrap: wrap;<br>            justify-content: flex-start;<br>            width: 100%;<br>        }<br>        .wandb-col {<br>            display: flex;<br>            flex-direction: column;<br>            flex-basis: 100%;<br>            flex: 1;<br>            padding: 10px;<br>        }<br>    </style><br><div class=\"wandb-row\"><div class=\"wandb-col\"><h3>Run history:</h3><br/><table class=\"wandb\"><tr><td>epoch</td><td>▁▁▂▂▂▃▃▄▄▄▅▅▅▆▆▇▇▇██</td></tr><tr><td>train_acc</td><td>▁▂▃▄▅▅▅▅▆▆▆▇▇▇▇▇████</td></tr><tr><td>train_loss</td><td>██▇▇▆▅▅▅▄▄▄▃▃▃▂▂▂▂▁▁</td></tr><tr><td>val_acc</td><td>▁▃▃▄▅▅▆▆▅▆▇▆▇▇▆▇▇▇██</td></tr><tr><td>val_loss</td><td>██▇▆▅▅▅▄▅▄▄▃▃▃▃▂▂▂▁▁</td></tr></table><br/></div><div class=\"wandb-col\"><h3>Run summary:</h3><br/><table class=\"wandb\"><tr><td>epoch</td><td>20</td></tr><tr><td>train_acc</td><td>0.4292</td></tr><tr><td>train_loss</td><td>1.40935</td></tr><tr><td>val_acc</td><td>0.48899</td></tr><tr><td>val_loss</td><td>1.3196</td></tr></table><br/></div></div>"
            ]
          },
          "metadata": {}
        },
        {
          "output_type": "display_data",
          "data": {
            "text/plain": [
              "<IPython.core.display.HTML object>"
            ],
            "text/html": [
              " View run <strong style=\"color:#cdcd00\">weighted_CNN_with_residuals_hparam_tuning_17</strong> at: <a href='https://wandb.ai/mrekh21-free-university-of-tbilisi-/emotion-recognition/runs/ebs1hliw' target=\"_blank\">https://wandb.ai/mrekh21-free-university-of-tbilisi-/emotion-recognition/runs/ebs1hliw</a><br> View project at: <a href='https://wandb.ai/mrekh21-free-university-of-tbilisi-/emotion-recognition' target=\"_blank\">https://wandb.ai/mrekh21-free-university-of-tbilisi-/emotion-recognition</a><br>Synced 5 W&B file(s), 0 media file(s), 0 artifact file(s) and 0 other file(s)"
            ]
          },
          "metadata": {}
        },
        {
          "output_type": "display_data",
          "data": {
            "text/plain": [
              "<IPython.core.display.HTML object>"
            ],
            "text/html": [
              "Find logs at: <code>./wandb/run-20250602_140011-ebs1hliw/logs</code>"
            ]
          },
          "metadata": {}
        },
        {
          "output_type": "stream",
          "name": "stderr",
          "text": [
            "\rHyperparameter Trials:  85%|████████▌ | 17/20 [38:25<06:25, 128.35s/it]"
          ]
        },
        {
          "output_type": "stream",
          "name": "stdout",
          "text": [
            "\n",
            " Running config 18/20: {'conv_layers_config': [(16, 3), (32, 3), (64, 3)], 'dropout_conv': 0.3, 'dropout_fc': 0.4, 'norm_type': 'layer', 'pool_type': 'avg', 'lr': 0.001, 'batch_size': 64, 'epochs': 20}\n"
          ]
        },
        {
          "output_type": "display_data",
          "data": {
            "text/plain": [
              "<IPython.core.display.HTML object>"
            ],
            "text/html": [
              "Tracking run with wandb version 0.19.11"
            ]
          },
          "metadata": {}
        },
        {
          "output_type": "display_data",
          "data": {
            "text/plain": [
              "<IPython.core.display.HTML object>"
            ],
            "text/html": [
              "Run data is saved locally in <code>/content/Emotion_Recognition/wandb/run-20250602_140255-bovepzex</code>"
            ]
          },
          "metadata": {}
        },
        {
          "output_type": "display_data",
          "data": {
            "text/plain": [
              "<IPython.core.display.HTML object>"
            ],
            "text/html": [
              "Syncing run <strong><a href='https://wandb.ai/mrekh21-free-university-of-tbilisi-/emotion-recognition/runs/bovepzex' target=\"_blank\">weighted_CNN_with_residuals_hparam_tuning_18</a></strong> to <a href='https://wandb.ai/mrekh21-free-university-of-tbilisi-/emotion-recognition' target=\"_blank\">Weights & Biases</a> (<a href='https://wandb.me/developer-guide' target=\"_blank\">docs</a>)<br>"
            ]
          },
          "metadata": {}
        },
        {
          "output_type": "display_data",
          "data": {
            "text/plain": [
              "<IPython.core.display.HTML object>"
            ],
            "text/html": [
              " View project at <a href='https://wandb.ai/mrekh21-free-university-of-tbilisi-/emotion-recognition' target=\"_blank\">https://wandb.ai/mrekh21-free-university-of-tbilisi-/emotion-recognition</a>"
            ]
          },
          "metadata": {}
        },
        {
          "output_type": "display_data",
          "data": {
            "text/plain": [
              "<IPython.core.display.HTML object>"
            ],
            "text/html": [
              " View run at <a href='https://wandb.ai/mrekh21-free-university-of-tbilisi-/emotion-recognition/runs/bovepzex' target=\"_blank\">https://wandb.ai/mrekh21-free-university-of-tbilisi-/emotion-recognition/runs/bovepzex</a>"
            ]
          },
          "metadata": {}
        },
        {
          "output_type": "display_data",
          "data": {
            "text/plain": [
              "<IPython.core.display.HTML object>"
            ],
            "text/html": []
          },
          "metadata": {}
        },
        {
          "output_type": "display_data",
          "data": {
            "text/plain": [
              "<IPython.core.display.HTML object>"
            ],
            "text/html": [
              "<br>    <style><br>        .wandb-row {<br>            display: flex;<br>            flex-direction: row;<br>            flex-wrap: wrap;<br>            justify-content: flex-start;<br>            width: 100%;<br>        }<br>        .wandb-col {<br>            display: flex;<br>            flex-direction: column;<br>            flex-basis: 100%;<br>            flex: 1;<br>            padding: 10px;<br>        }<br>    </style><br><div class=\"wandb-row\"><div class=\"wandb-col\"><h3>Run history:</h3><br/><table class=\"wandb\"><tr><td>epoch</td><td>▁▁▂▂▂▃▃▄▄▄▅▅▅▆▆▇▇▇██</td></tr><tr><td>train_acc</td><td>▁▃▄▄▅▅▅▅▆▆▆▆▇▇▇▇▇███</td></tr><tr><td>train_loss</td><td>█▇▇▆▆▅▅▄▄▄▃▃▃▃▂▂▂▂▁▁</td></tr><tr><td>val_acc</td><td>▁▄▄▄▅▅▅▆▆▆▆▇▆▇▆▇▇███</td></tr><tr><td>val_loss</td><td>█▇▆▅▅▄▄▃▄▃▃▂▂▂▂▁▁▁▁▁</td></tr></table><br/></div><div class=\"wandb-col\"><h3>Run summary:</h3><br/><table class=\"wandb\"><tr><td>epoch</td><td>20</td></tr><tr><td>train_acc</td><td>0.45223</td></tr><tr><td>train_loss</td><td>1.37821</td></tr><tr><td>val_acc</td><td>0.48955</td></tr><tr><td>val_loss</td><td>1.37162</td></tr></table><br/></div></div>"
            ]
          },
          "metadata": {}
        },
        {
          "output_type": "display_data",
          "data": {
            "text/plain": [
              "<IPython.core.display.HTML object>"
            ],
            "text/html": [
              " View run <strong style=\"color:#cdcd00\">weighted_CNN_with_residuals_hparam_tuning_18</strong> at: <a href='https://wandb.ai/mrekh21-free-university-of-tbilisi-/emotion-recognition/runs/bovepzex' target=\"_blank\">https://wandb.ai/mrekh21-free-university-of-tbilisi-/emotion-recognition/runs/bovepzex</a><br> View project at: <a href='https://wandb.ai/mrekh21-free-university-of-tbilisi-/emotion-recognition' target=\"_blank\">https://wandb.ai/mrekh21-free-university-of-tbilisi-/emotion-recognition</a><br>Synced 5 W&B file(s), 0 media file(s), 0 artifact file(s) and 0 other file(s)"
            ]
          },
          "metadata": {}
        },
        {
          "output_type": "display_data",
          "data": {
            "text/plain": [
              "<IPython.core.display.HTML object>"
            ],
            "text/html": [
              "Find logs at: <code>./wandb/run-20250602_140255-bovepzex/logs</code>"
            ]
          },
          "metadata": {}
        },
        {
          "output_type": "stream",
          "name": "stderr",
          "text": [
            "\rHyperparameter Trials:  90%|█████████ | 18/20 [39:57<03:55, 117.60s/it]"
          ]
        },
        {
          "output_type": "stream",
          "name": "stdout",
          "text": [
            "\n",
            " Running config 19/20: {'conv_layers_config': [(16, 3), (32, 3), (64, 3)], 'dropout_conv': 0.2, 'dropout_fc': 0.3, 'norm_type': 'batch', 'pool_type': 'none', 'lr': 0.05, 'batch_size': 64, 'epochs': 20}\n"
          ]
        },
        {
          "output_type": "display_data",
          "data": {
            "text/plain": [
              "<IPython.core.display.HTML object>"
            ],
            "text/html": [
              "Tracking run with wandb version 0.19.11"
            ]
          },
          "metadata": {}
        },
        {
          "output_type": "display_data",
          "data": {
            "text/plain": [
              "<IPython.core.display.HTML object>"
            ],
            "text/html": [
              "Run data is saved locally in <code>/content/Emotion_Recognition/wandb/run-20250602_140428-wlbf9oi3</code>"
            ]
          },
          "metadata": {}
        },
        {
          "output_type": "display_data",
          "data": {
            "text/plain": [
              "<IPython.core.display.HTML object>"
            ],
            "text/html": [
              "Syncing run <strong><a href='https://wandb.ai/mrekh21-free-university-of-tbilisi-/emotion-recognition/runs/wlbf9oi3' target=\"_blank\">weighted_CNN_with_residuals_hparam_tuning_19</a></strong> to <a href='https://wandb.ai/mrekh21-free-university-of-tbilisi-/emotion-recognition' target=\"_blank\">Weights & Biases</a> (<a href='https://wandb.me/developer-guide' target=\"_blank\">docs</a>)<br>"
            ]
          },
          "metadata": {}
        },
        {
          "output_type": "display_data",
          "data": {
            "text/plain": [
              "<IPython.core.display.HTML object>"
            ],
            "text/html": [
              " View project at <a href='https://wandb.ai/mrekh21-free-university-of-tbilisi-/emotion-recognition' target=\"_blank\">https://wandb.ai/mrekh21-free-university-of-tbilisi-/emotion-recognition</a>"
            ]
          },
          "metadata": {}
        },
        {
          "output_type": "display_data",
          "data": {
            "text/plain": [
              "<IPython.core.display.HTML object>"
            ],
            "text/html": [
              " View run at <a href='https://wandb.ai/mrekh21-free-university-of-tbilisi-/emotion-recognition/runs/wlbf9oi3' target=\"_blank\">https://wandb.ai/mrekh21-free-university-of-tbilisi-/emotion-recognition/runs/wlbf9oi3</a>"
            ]
          },
          "metadata": {}
        },
        {
          "output_type": "display_data",
          "data": {
            "text/plain": [
              "<IPython.core.display.HTML object>"
            ],
            "text/html": []
          },
          "metadata": {}
        },
        {
          "output_type": "display_data",
          "data": {
            "text/plain": [
              "<IPython.core.display.HTML object>"
            ],
            "text/html": [
              "<br>    <style><br>        .wandb-row {<br>            display: flex;<br>            flex-direction: row;<br>            flex-wrap: wrap;<br>            justify-content: flex-start;<br>            width: 100%;<br>        }<br>        .wandb-col {<br>            display: flex;<br>            flex-direction: column;<br>            flex-basis: 100%;<br>            flex: 1;<br>            padding: 10px;<br>        }<br>    </style><br><div class=\"wandb-row\"><div class=\"wandb-col\"><h3>Run history:</h3><br/><table class=\"wandb\"><tr><td>epoch</td><td>▁▂▃▄▅▆▇█</td></tr><tr><td>train_acc</td><td>▇▅▁█▅▆▆▆</td></tr><tr><td>train_loss</td><td>█▁▁▁▁▁▁▁</td></tr><tr><td>val_acc</td><td>▃▁██▃███</td></tr><tr><td>val_loss</td><td>▁▂█▂▃▄▂▁</td></tr></table><br/></div><div class=\"wandb-col\"><h3>Run summary:</h3><br/><table class=\"wandb\"><tr><td>epoch</td><td>8</td></tr><tr><td>train_acc</td><td>0.14473</td></tr><tr><td>train_loss</td><td>1.95028</td></tr><tr><td>val_acc</td><td>0.16913</td></tr><tr><td>val_loss</td><td>1.94774</td></tr></table><br/></div></div>"
            ]
          },
          "metadata": {}
        },
        {
          "output_type": "display_data",
          "data": {
            "text/plain": [
              "<IPython.core.display.HTML object>"
            ],
            "text/html": [
              " View run <strong style=\"color:#cdcd00\">weighted_CNN_with_residuals_hparam_tuning_19</strong> at: <a href='https://wandb.ai/mrekh21-free-university-of-tbilisi-/emotion-recognition/runs/wlbf9oi3' target=\"_blank\">https://wandb.ai/mrekh21-free-university-of-tbilisi-/emotion-recognition/runs/wlbf9oi3</a><br> View project at: <a href='https://wandb.ai/mrekh21-free-university-of-tbilisi-/emotion-recognition' target=\"_blank\">https://wandb.ai/mrekh21-free-university-of-tbilisi-/emotion-recognition</a><br>Synced 5 W&B file(s), 0 media file(s), 0 artifact file(s) and 0 other file(s)"
            ]
          },
          "metadata": {}
        },
        {
          "output_type": "display_data",
          "data": {
            "text/plain": [
              "<IPython.core.display.HTML object>"
            ],
            "text/html": [
              "Find logs at: <code>./wandb/run-20250602_140428-wlbf9oi3/logs</code>"
            ]
          },
          "metadata": {}
        },
        {
          "output_type": "stream",
          "name": "stderr",
          "text": [
            "\rHyperparameter Trials:  95%|█████████▌| 19/20 [42:37<02:10, 130.20s/it]"
          ]
        },
        {
          "output_type": "stream",
          "name": "stdout",
          "text": [
            "\n",
            " Running config 20/20: {'conv_layers_config': [(16, 3), (32, 3), (64, 3)], 'dropout_conv': 0.1, 'dropout_fc': 0.3, 'norm_type': 'layer', 'pool_type': 'none', 'lr': 0.01, 'batch_size': 128, 'epochs': 20}\n"
          ]
        },
        {
          "output_type": "display_data",
          "data": {
            "text/plain": [
              "<IPython.core.display.HTML object>"
            ],
            "text/html": [
              "Tracking run with wandb version 0.19.11"
            ]
          },
          "metadata": {}
        },
        {
          "output_type": "display_data",
          "data": {
            "text/plain": [
              "<IPython.core.display.HTML object>"
            ],
            "text/html": [
              "Run data is saved locally in <code>/content/Emotion_Recognition/wandb/run-20250602_140707-dvtdb0o7</code>"
            ]
          },
          "metadata": {}
        },
        {
          "output_type": "display_data",
          "data": {
            "text/plain": [
              "<IPython.core.display.HTML object>"
            ],
            "text/html": [
              "Syncing run <strong><a href='https://wandb.ai/mrekh21-free-university-of-tbilisi-/emotion-recognition/runs/dvtdb0o7' target=\"_blank\">weighted_CNN_with_residuals_hparam_tuning_20</a></strong> to <a href='https://wandb.ai/mrekh21-free-university-of-tbilisi-/emotion-recognition' target=\"_blank\">Weights & Biases</a> (<a href='https://wandb.me/developer-guide' target=\"_blank\">docs</a>)<br>"
            ]
          },
          "metadata": {}
        },
        {
          "output_type": "display_data",
          "data": {
            "text/plain": [
              "<IPython.core.display.HTML object>"
            ],
            "text/html": [
              " View project at <a href='https://wandb.ai/mrekh21-free-university-of-tbilisi-/emotion-recognition' target=\"_blank\">https://wandb.ai/mrekh21-free-university-of-tbilisi-/emotion-recognition</a>"
            ]
          },
          "metadata": {}
        },
        {
          "output_type": "display_data",
          "data": {
            "text/plain": [
              "<IPython.core.display.HTML object>"
            ],
            "text/html": [
              " View run at <a href='https://wandb.ai/mrekh21-free-university-of-tbilisi-/emotion-recognition/runs/dvtdb0o7' target=\"_blank\">https://wandb.ai/mrekh21-free-university-of-tbilisi-/emotion-recognition/runs/dvtdb0o7</a>"
            ]
          },
          "metadata": {}
        },
        {
          "output_type": "display_data",
          "data": {
            "text/plain": [
              "<IPython.core.display.HTML object>"
            ],
            "text/html": []
          },
          "metadata": {}
        },
        {
          "output_type": "display_data",
          "data": {
            "text/plain": [
              "<IPython.core.display.HTML object>"
            ],
            "text/html": [
              "<br>    <style><br>        .wandb-row {<br>            display: flex;<br>            flex-direction: row;<br>            flex-wrap: wrap;<br>            justify-content: flex-start;<br>            width: 100%;<br>        }<br>        .wandb-col {<br>            display: flex;<br>            flex-direction: column;<br>            flex-basis: 100%;<br>            flex: 1;<br>            padding: 10px;<br>        }<br>    </style><br><div class=\"wandb-row\"><div class=\"wandb-col\"><h3>Run history:</h3><br/><table class=\"wandb\"><tr><td>epoch</td><td>▁▁▂▂▂▃▃▄▄▄▅▅▅▆▆▇▇▇██</td></tr><tr><td>train_acc</td><td>▁▁▁▁▁▁▂▂▃▄▄▅▅▆▆▇▇▇██</td></tr><tr><td>train_loss</td><td>█▃▃▃▃▃▂▂▂▂▂▂▂▂▁▁▁▁▁▁</td></tr><tr><td>val_acc</td><td>▃▂▅▃▁▁▅▆▅▆▇▇▇▇███▇██</td></tr><tr><td>val_loss</td><td>▂▂▂▂▂▂▁▁▁▁▂▂▃▃▅▅▆▄▆█</td></tr></table><br/></div><div class=\"wandb-col\"><h3>Run summary:</h3><br/><table class=\"wandb\"><tr><td>epoch</td><td>20</td></tr><tr><td>train_acc</td><td>0.73252</td></tr><tr><td>train_loss</td><td>0.63975</td></tr><tr><td>val_acc</td><td>0.3246</td></tr><tr><td>val_loss</td><td>2.83184</td></tr></table><br/></div></div>"
            ]
          },
          "metadata": {}
        },
        {
          "output_type": "display_data",
          "data": {
            "text/plain": [
              "<IPython.core.display.HTML object>"
            ],
            "text/html": [
              " View run <strong style=\"color:#cdcd00\">weighted_CNN_with_residuals_hparam_tuning_20</strong> at: <a href='https://wandb.ai/mrekh21-free-university-of-tbilisi-/emotion-recognition/runs/dvtdb0o7' target=\"_blank\">https://wandb.ai/mrekh21-free-university-of-tbilisi-/emotion-recognition/runs/dvtdb0o7</a><br> View project at: <a href='https://wandb.ai/mrekh21-free-university-of-tbilisi-/emotion-recognition' target=\"_blank\">https://wandb.ai/mrekh21-free-university-of-tbilisi-/emotion-recognition</a><br>Synced 5 W&B file(s), 0 media file(s), 0 artifact file(s) and 0 other file(s)"
            ]
          },
          "metadata": {}
        },
        {
          "output_type": "display_data",
          "data": {
            "text/plain": [
              "<IPython.core.display.HTML object>"
            ],
            "text/html": [
              "Find logs at: <code>./wandb/run-20250602_140707-dvtdb0o7/logs</code>"
            ]
          },
          "metadata": {}
        },
        {
          "output_type": "stream",
          "name": "stderr",
          "text": [
            "Hyperparameter Trials: 100%|██████████| 20/20 [48:29<00:00, 145.50s/it]"
          ]
        },
        {
          "output_type": "stream",
          "name": "stdout",
          "text": [
            "\n",
            " Best validation accuracy: 0.4965171356923934\n",
            "Best hyperparameters: {'conv_layers_config': [(16, 3), (32, 3), (64, 3)], 'dropout_conv': 0.3, 'dropout_fc': 0.4, 'norm_type': 'layer', 'pool_type': 'avg', 'lr': 0.001, 'batch_size': 64, 'epochs': 20}\n"
          ]
        },
        {
          "output_type": "stream",
          "name": "stderr",
          "text": [
            "\n"
          ]
        }
      ]
    },
    {
      "cell_type": "code",
      "source": [
        "from tqdm import tqdm\n",
        "\n",
        "\n",
        "device = torch.device(\"cuda\" if torch.cuda.is_available() else \"cpu\")\n",
        "\n",
        "\n",
        "# best_config = {\n",
        "#     'conv_layers_config': [(32, 3), (64, 3), (128, 3)],\n",
        "#     'dropout_conv': 0.3,\n",
        "#     'dropout_fc': 0.3,\n",
        "#     'norm_type': 'batch',\n",
        "#     'pool_type': 'max',\n",
        "#     'lr': 0.001,\n",
        "#     'batch_size': 64,\n",
        "#     'epochs': 15\n",
        "# }\n",
        "\n",
        "best_config = {\n",
        "    'conv_layers_config': [(16, 3), (32, 3), (64, 3)],\n",
        "    'dropout_conv': 0.3,\n",
        "    'dropout_fc': 0.4,\n",
        "    'norm_type': 'layer',\n",
        "    'pool_type': 'avg',\n",
        "    'lr': 0.001,\n",
        "    'batch_size': 64,\n",
        "    'epochs': 50\n",
        "}\n",
        "\n",
        "\n",
        "\n",
        "def train_final_model(config, run_name=\"weighted_CNN_with_residuals_best_model\"):\n",
        "    wandb.init(project=\"emotion-recognition\", name=run_name, config=config)\n",
        "\n",
        "    model = GeneralResNetCNN(\n",
        "        input_channels=1,\n",
        "        num_classes=7,\n",
        "        conv_layers_config=config[\"conv_layers_config\"],\n",
        "        dropout_conv=config[\"dropout_conv\"],\n",
        "        dropout_fc=config[\"dropout_fc\"],\n",
        "        norm_type=config[\"norm_type\"],\n",
        "        pool_type=config[\"pool_type\"],\n",
        "        image_size=48\n",
        "    ).to(device)\n",
        "\n",
        "\n",
        "    optimizer = torch.optim.Adam(model.parameters(), lr=config[\"lr\"])\n",
        "    #criterion = nn.CrossEntropyLoss()\n",
        "    criterion = nn.CrossEntropyLoss(weight=class_weights)\n",
        "\n",
        "    train_loader = DataLoader(train_dataset, batch_size=config[\"batch_size\"], shuffle=True)\n",
        "    val_loader = DataLoader(val_dataset, batch_size=config[\"batch_size\"], shuffle=False)\n",
        "\n",
        "    best_val_loss = float('inf')\n",
        "    patience = 5\n",
        "    counter = 0\n",
        "\n",
        "    for epoch in range(config[\"epochs\"]):\n",
        "        model.train()\n",
        "        train_loss, train_acc = train_one_epoch(model, train_loader, criterion, optimizer)\n",
        "\n",
        "        model.eval()\n",
        "        val_loss, val_acc = evaluate(model, val_loader, criterion)\n",
        "\n",
        "        wandb.log({\n",
        "            \"epoch\": epoch + 1,\n",
        "            \"train_loss\": train_loss,\n",
        "            \"train_acc\": train_acc,\n",
        "            \"val_loss\": val_loss,\n",
        "            \"val_acc\": val_acc\n",
        "        })\n",
        "\n",
        "        print(f\"Epoch {epoch+1}: Train Acc={train_acc:.4f}, Val Acc={val_acc:.4f}, Val Loss={val_loss:.4f}, Train Loss={train_loss:.4f}\")\n",
        "\n",
        "        if val_loss < best_val_loss:\n",
        "            best_val_loss = val_loss\n",
        "            counter = 0\n",
        "        else:\n",
        "            counter += 1\n",
        "            if counter >= patience:\n",
        "                print(f\"Early stopping triggered at epoch {epoch+1}\")\n",
        "                break\n",
        "\n",
        "    wandb.finish()\n",
        "    print(f\"\\nBest Validation Loss: {best_val_loss:.4f}\")\n",
        "\n",
        "\n",
        "\n",
        "train_final_model(best_config)"
      ],
      "metadata": {
        "id": "M2y4m6e1jaLm",
        "colab": {
          "base_uri": "https://localhost:8080/",
          "height": 1000
        },
        "outputId": "90e4807b-b2e0-408f-90ef-5622eaa2377f"
      },
      "execution_count": 80,
      "outputs": [
        {
          "output_type": "display_data",
          "data": {
            "text/plain": [
              "<IPython.core.display.HTML object>"
            ],
            "text/html": [
              "Tracking run with wandb version 0.19.11"
            ]
          },
          "metadata": {}
        },
        {
          "output_type": "display_data",
          "data": {
            "text/plain": [
              "<IPython.core.display.HTML object>"
            ],
            "text/html": [
              "Run data is saved locally in <code>/content/Emotion_Recognition/wandb/run-20250602_141343-3bbgendx</code>"
            ]
          },
          "metadata": {}
        },
        {
          "output_type": "display_data",
          "data": {
            "text/plain": [
              "<IPython.core.display.HTML object>"
            ],
            "text/html": [
              "Syncing run <strong><a href='https://wandb.ai/mrekh21-free-university-of-tbilisi-/emotion-recognition/runs/3bbgendx' target=\"_blank\">weighted_CNN_with_residuals_best_model</a></strong> to <a href='https://wandb.ai/mrekh21-free-university-of-tbilisi-/emotion-recognition' target=\"_blank\">Weights & Biases</a> (<a href='https://wandb.me/developer-guide' target=\"_blank\">docs</a>)<br>"
            ]
          },
          "metadata": {}
        },
        {
          "output_type": "display_data",
          "data": {
            "text/plain": [
              "<IPython.core.display.HTML object>"
            ],
            "text/html": [
              " View project at <a href='https://wandb.ai/mrekh21-free-university-of-tbilisi-/emotion-recognition' target=\"_blank\">https://wandb.ai/mrekh21-free-university-of-tbilisi-/emotion-recognition</a>"
            ]
          },
          "metadata": {}
        },
        {
          "output_type": "display_data",
          "data": {
            "text/plain": [
              "<IPython.core.display.HTML object>"
            ],
            "text/html": [
              " View run at <a href='https://wandb.ai/mrekh21-free-university-of-tbilisi-/emotion-recognition/runs/3bbgendx' target=\"_blank\">https://wandb.ai/mrekh21-free-university-of-tbilisi-/emotion-recognition/runs/3bbgendx</a>"
            ]
          },
          "metadata": {}
        },
        {
          "output_type": "stream",
          "name": "stdout",
          "text": [
            "Epoch 1: Train Acc=0.1791, Val Acc=0.1716, Val Loss=1.9138, Train Loss=1.9421\n",
            "Epoch 2: Train Acc=0.2367, Val Acc=0.3001, Val Loss=1.8200, Train Loss=1.8776\n",
            "Epoch 3: Train Acc=0.2671, Val Acc=0.3224, Val Loss=1.7275, Train Loss=1.8176\n",
            "Epoch 4: Train Acc=0.2999, Val Acc=0.3394, Val Loss=1.6822, Train Loss=1.7614\n",
            "Epoch 5: Train Acc=0.3287, Val Acc=0.3656, Val Loss=1.6042, Train Loss=1.7173\n",
            "Epoch 6: Train Acc=0.3402, Val Acc=0.3918, Val Loss=1.6195, Train Loss=1.6767\n",
            "Epoch 7: Train Acc=0.3580, Val Acc=0.3845, Val Loss=1.5506, Train Loss=1.6309\n",
            "Epoch 8: Train Acc=0.3635, Val Acc=0.4188, Val Loss=1.5288, Train Loss=1.6098\n",
            "Epoch 9: Train Acc=0.3810, Val Acc=0.4029, Val Loss=1.5242, Train Loss=1.5735\n",
            "Epoch 10: Train Acc=0.3915, Val Acc=0.4413, Val Loss=1.4783, Train Loss=1.5363\n",
            "Epoch 11: Train Acc=0.4029, Val Acc=0.4433, Val Loss=1.4616, Train Loss=1.5195\n",
            "Epoch 12: Train Acc=0.4123, Val Acc=0.4586, Val Loss=1.4459, Train Loss=1.4842\n",
            "Epoch 13: Train Acc=0.4213, Val Acc=0.4514, Val Loss=1.4261, Train Loss=1.4740\n",
            "Epoch 14: Train Acc=0.4232, Val Acc=0.4380, Val Loss=1.4190, Train Loss=1.4465\n",
            "Epoch 15: Train Acc=0.4307, Val Acc=0.4731, Val Loss=1.4098, Train Loss=1.4285\n",
            "Epoch 16: Train Acc=0.4430, Val Acc=0.4748, Val Loss=1.3762, Train Loss=1.4002\n",
            "Epoch 17: Train Acc=0.4491, Val Acc=0.4798, Val Loss=1.3701, Train Loss=1.3875\n",
            "Epoch 18: Train Acc=0.4523, Val Acc=0.4896, Val Loss=1.3656, Train Loss=1.3646\n",
            "Epoch 19: Train Acc=0.4583, Val Acc=0.4896, Val Loss=1.3248, Train Loss=1.3473\n",
            "Epoch 20: Train Acc=0.4616, Val Acc=0.4960, Val Loss=1.3351, Train Loss=1.3355\n",
            "Epoch 21: Train Acc=0.4730, Val Acc=0.4873, Val Loss=1.3329, Train Loss=1.3190\n",
            "Epoch 22: Train Acc=0.4711, Val Acc=0.5046, Val Loss=1.2979, Train Loss=1.3133\n",
            "Epoch 23: Train Acc=0.4771, Val Acc=0.5049, Val Loss=1.3006, Train Loss=1.2908\n",
            "Epoch 24: Train Acc=0.4803, Val Acc=0.5102, Val Loss=1.2960, Train Loss=1.2829\n",
            "Epoch 25: Train Acc=0.4871, Val Acc=0.5202, Val Loss=1.3117, Train Loss=1.2636\n",
            "Epoch 26: Train Acc=0.4883, Val Acc=0.5054, Val Loss=1.2710, Train Loss=1.2487\n",
            "Epoch 27: Train Acc=0.4977, Val Acc=0.5138, Val Loss=1.2881, Train Loss=1.2393\n",
            "Epoch 28: Train Acc=0.4990, Val Acc=0.5219, Val Loss=1.2692, Train Loss=1.2393\n",
            "Epoch 29: Train Acc=0.5005, Val Acc=0.5194, Val Loss=1.2782, Train Loss=1.2262\n",
            "Epoch 30: Train Acc=0.5059, Val Acc=0.5274, Val Loss=1.2917, Train Loss=1.2121\n",
            "Epoch 31: Train Acc=0.5104, Val Acc=0.5274, Val Loss=1.2760, Train Loss=1.1980\n",
            "Epoch 32: Train Acc=0.5137, Val Acc=0.5258, Val Loss=1.2786, Train Loss=1.1935\n",
            "Epoch 33: Train Acc=0.5188, Val Acc=0.5386, Val Loss=1.3236, Train Loss=1.1808\n",
            "Early stopping triggered at epoch 33\n"
          ]
        },
        {
          "output_type": "display_data",
          "data": {
            "text/plain": [
              "<IPython.core.display.HTML object>"
            ],
            "text/html": []
          },
          "metadata": {}
        },
        {
          "output_type": "display_data",
          "data": {
            "text/plain": [
              "<IPython.core.display.HTML object>"
            ],
            "text/html": [
              "<br>    <style><br>        .wandb-row {<br>            display: flex;<br>            flex-direction: row;<br>            flex-wrap: wrap;<br>            justify-content: flex-start;<br>            width: 100%;<br>        }<br>        .wandb-col {<br>            display: flex;<br>            flex-direction: column;<br>            flex-basis: 100%;<br>            flex: 1;<br>            padding: 10px;<br>        }<br>    </style><br><div class=\"wandb-row\"><div class=\"wandb-col\"><h3>Run history:</h3><br/><table class=\"wandb\"><tr><td>epoch</td><td>▁▁▁▂▂▂▂▃▃▃▃▃▄▄▄▄▅▅▅▅▅▆▆▆▆▆▇▇▇▇███</td></tr><tr><td>train_acc</td><td>▁▂▃▃▄▄▅▅▅▅▆▆▆▆▆▆▇▇▇▇▇▇▇▇▇▇███████</td></tr><tr><td>train_loss</td><td>█▇▇▆▆▆▅▅▅▄▄▄▄▃▃▃▃▃▃▂▂▂▂▂▂▂▂▂▁▁▁▁▁</td></tr><tr><td>val_acc</td><td>▁▃▄▄▅▅▅▆▅▆▆▆▆▆▇▇▇▇▇▇▇▇▇▇█▇███████</td></tr><tr><td>val_loss</td><td>█▇▆▅▅▅▄▄▄▃▃▃▃▃▃▂▂▂▂▂▂▁▁▁▁▁▁▁▁▁▁▁▂</td></tr></table><br/></div><div class=\"wandb-col\"><h3>Run summary:</h3><br/><table class=\"wandb\"><tr><td>epoch</td><td>33</td></tr><tr><td>train_acc</td><td>0.51879</td></tr><tr><td>train_loss</td><td>1.18076</td></tr><tr><td>val_acc</td><td>0.53859</td></tr><tr><td>val_loss</td><td>1.32361</td></tr></table><br/></div></div>"
            ]
          },
          "metadata": {}
        },
        {
          "output_type": "display_data",
          "data": {
            "text/plain": [
              "<IPython.core.display.HTML object>"
            ],
            "text/html": [
              " View run <strong style=\"color:#cdcd00\">weighted_CNN_with_residuals_best_model</strong> at: <a href='https://wandb.ai/mrekh21-free-university-of-tbilisi-/emotion-recognition/runs/3bbgendx' target=\"_blank\">https://wandb.ai/mrekh21-free-university-of-tbilisi-/emotion-recognition/runs/3bbgendx</a><br> View project at: <a href='https://wandb.ai/mrekh21-free-university-of-tbilisi-/emotion-recognition' target=\"_blank\">https://wandb.ai/mrekh21-free-university-of-tbilisi-/emotion-recognition</a><br>Synced 5 W&B file(s), 0 media file(s), 0 artifact file(s) and 0 other file(s)"
            ]
          },
          "metadata": {}
        },
        {
          "output_type": "display_data",
          "data": {
            "text/plain": [
              "<IPython.core.display.HTML object>"
            ],
            "text/html": [
              "Find logs at: <code>./wandb/run-20250602_141343-3bbgendx/logs</code>"
            ]
          },
          "metadata": {}
        },
        {
          "output_type": "stream",
          "name": "stdout",
          "text": [
            "\n",
            "Best Validation Loss: 1.2692\n"
          ]
        }
      ]
    },
    {
      "cell_type": "code",
      "source": [
        "from tqdm import tqdm\n",
        "\n",
        "\n",
        "device = torch.device(\"cuda\" if torch.cuda.is_available() else \"cpu\")\n",
        "\n",
        "\n",
        "best_config = {\n",
        "    'conv_layers_config': [(32, 3), (64, 3), (128, 3)],\n",
        "    'dropout_conv': 0.3,\n",
        "    'dropout_fc': 0.3,\n",
        "    'norm_type': 'batch',\n",
        "    'pool_type': 'max',\n",
        "    'lr': 0.001,\n",
        "    'batch_size': 64,\n",
        "    'epochs': 15\n",
        "}\n",
        "\n",
        "\n",
        "def train_final_model(config, run_name=\"final_model\"):\n",
        "    wandb.init(project=\"emotion-recognition\", name=run_name, config=config)\n",
        "\n",
        "    model = GeneralResNetCNN(\n",
        "        input_channels=1,\n",
        "        num_classes=7,\n",
        "        conv_layers_config=config[\"conv_layers_config\"],\n",
        "        dropout_conv=config[\"dropout_conv\"],\n",
        "        dropout_fc=config[\"dropout_fc\"],\n",
        "        norm_type=config[\"norm_type\"],\n",
        "        pool_type=config[\"pool_type\"],\n",
        "        image_size=48\n",
        "    ).to(device)\n",
        "\n",
        "\n",
        "    optimizer = torch.optim.Adam(model.parameters(), lr=config[\"lr\"])\n",
        "    criterion = nn.CrossEntropyLoss()\n",
        "\n",
        "    train_loader = DataLoader(train_dataset, batch_size=config[\"batch_size\"], shuffle=True)\n",
        "    val_loader = DataLoader(val_dataset, batch_size=config[\"batch_size\"], shuffle=False)\n",
        "\n",
        "    best_val_loss = float('inf')\n",
        "    patience = 5\n",
        "    counter = 0\n",
        "\n",
        "    for epoch in range(config[\"epochs\"]):\n",
        "        model.train()\n",
        "        train_loss, train_acc = train_one_epoch(model, train_loader, criterion, optimizer)\n",
        "\n",
        "        model.eval()\n",
        "        val_loss, val_acc = evaluate(model, val_loader, criterion)\n",
        "\n",
        "        wandb.log({\n",
        "            \"epoch\": epoch + 1,\n",
        "            \"train_loss\": train_loss,\n",
        "            \"train_acc\": train_acc,\n",
        "            \"val_loss\": val_loss,\n",
        "            \"val_acc\": val_acc\n",
        "        })\n",
        "\n",
        "        print(f\"Epoch {epoch+1}: Train Acc={train_acc:.4f}, Val Acc={val_acc:.4f}, Val Loss={val_loss:.4f}, Train Loss={train_loss:.4f}\")\n",
        "\n",
        "        if val_loss < best_val_loss:\n",
        "            best_val_loss = val_loss\n",
        "            counter = 0\n",
        "        else:\n",
        "            counter += 1\n",
        "            if counter >= patience:\n",
        "                print(f\"Early stopping triggered at epoch {epoch+1}\")\n",
        "                break\n",
        "\n",
        "    wandb.finish()\n",
        "    print(f\"\\nBest Validation Loss: {best_val_loss:.4f}\")\n",
        "    return model\n",
        "\n",
        "\n",
        "final_model = train_final_model(best_config)"
      ],
      "metadata": {
        "id": "_dvK8yHXjaQU",
        "colab": {
          "base_uri": "https://localhost:8080/",
          "height": 867
        },
        "outputId": "92e6200d-b70b-40ea-fc78-4b9957bbf225"
      },
      "execution_count": 81,
      "outputs": [
        {
          "output_type": "display_data",
          "data": {
            "text/plain": [
              "<IPython.core.display.HTML object>"
            ],
            "text/html": [
              "Tracking run with wandb version 0.19.11"
            ]
          },
          "metadata": {}
        },
        {
          "output_type": "display_data",
          "data": {
            "text/plain": [
              "<IPython.core.display.HTML object>"
            ],
            "text/html": [
              "Run data is saved locally in <code>/content/Emotion_Recognition/wandb/run-20250602_141857-d2dyl7zh</code>"
            ]
          },
          "metadata": {}
        },
        {
          "output_type": "display_data",
          "data": {
            "text/plain": [
              "<IPython.core.display.HTML object>"
            ],
            "text/html": [
              "Syncing run <strong><a href='https://wandb.ai/mrekh21-free-university-of-tbilisi-/emotion-recognition/runs/d2dyl7zh' target=\"_blank\">final_model</a></strong> to <a href='https://wandb.ai/mrekh21-free-university-of-tbilisi-/emotion-recognition' target=\"_blank\">Weights & Biases</a> (<a href='https://wandb.me/developer-guide' target=\"_blank\">docs</a>)<br>"
            ]
          },
          "metadata": {}
        },
        {
          "output_type": "display_data",
          "data": {
            "text/plain": [
              "<IPython.core.display.HTML object>"
            ],
            "text/html": [
              " View project at <a href='https://wandb.ai/mrekh21-free-university-of-tbilisi-/emotion-recognition' target=\"_blank\">https://wandb.ai/mrekh21-free-university-of-tbilisi-/emotion-recognition</a>"
            ]
          },
          "metadata": {}
        },
        {
          "output_type": "display_data",
          "data": {
            "text/plain": [
              "<IPython.core.display.HTML object>"
            ],
            "text/html": [
              " View run at <a href='https://wandb.ai/mrekh21-free-university-of-tbilisi-/emotion-recognition/runs/d2dyl7zh' target=\"_blank\">https://wandb.ai/mrekh21-free-university-of-tbilisi-/emotion-recognition/runs/d2dyl7zh</a>"
            ]
          },
          "metadata": {}
        },
        {
          "output_type": "stream",
          "name": "stdout",
          "text": [
            "Epoch 1: Train Acc=0.3075, Val Acc=0.4486, Val Loss=1.4862, Train Loss=1.7286\n",
            "Epoch 2: Train Acc=0.4431, Val Acc=0.5093, Val Loss=1.3000, Train Loss=1.4390\n",
            "Epoch 3: Train Acc=0.4887, Val Acc=0.5096, Val Loss=1.2597, Train Loss=1.3353\n",
            "Epoch 4: Train Acc=0.5087, Val Acc=0.5458, Val Loss=1.1956, Train Loss=1.2821\n",
            "Epoch 5: Train Acc=0.5240, Val Acc=0.5522, Val Loss=1.1467, Train Loss=1.2397\n",
            "Epoch 6: Train Acc=0.5428, Val Acc=0.5651, Val Loss=1.1238, Train Loss=1.2011\n",
            "Epoch 7: Train Acc=0.5504, Val Acc=0.5687, Val Loss=1.1143, Train Loss=1.1692\n",
            "Epoch 8: Train Acc=0.5640, Val Acc=0.5899, Val Loss=1.0813, Train Loss=1.1410\n",
            "Epoch 9: Train Acc=0.5765, Val Acc=0.5809, Val Loss=1.0882, Train Loss=1.1102\n",
            "Epoch 10: Train Acc=0.5904, Val Acc=0.6002, Val Loss=1.0534, Train Loss=1.0836\n",
            "Epoch 11: Train Acc=0.6020, Val Acc=0.6035, Val Loss=1.0566, Train Loss=1.0547\n",
            "Epoch 12: Train Acc=0.6055, Val Acc=0.6074, Val Loss=1.0532, Train Loss=1.0407\n",
            "Epoch 13: Train Acc=0.6174, Val Acc=0.6018, Val Loss=1.0576, Train Loss=1.0136\n",
            "Epoch 14: Train Acc=0.6202, Val Acc=0.6043, Val Loss=1.0604, Train Loss=0.9998\n",
            "Epoch 15: Train Acc=0.6289, Val Acc=0.6144, Val Loss=1.0411, Train Loss=0.9760\n"
          ]
        },
        {
          "output_type": "display_data",
          "data": {
            "text/plain": [
              "<IPython.core.display.HTML object>"
            ],
            "text/html": []
          },
          "metadata": {}
        },
        {
          "output_type": "display_data",
          "data": {
            "text/plain": [
              "<IPython.core.display.HTML object>"
            ],
            "text/html": [
              "<br>    <style><br>        .wandb-row {<br>            display: flex;<br>            flex-direction: row;<br>            flex-wrap: wrap;<br>            justify-content: flex-start;<br>            width: 100%;<br>        }<br>        .wandb-col {<br>            display: flex;<br>            flex-direction: column;<br>            flex-basis: 100%;<br>            flex: 1;<br>            padding: 10px;<br>        }<br>    </style><br><div class=\"wandb-row\"><div class=\"wandb-col\"><h3>Run history:</h3><br/><table class=\"wandb\"><tr><td>epoch</td><td>▁▁▂▃▃▃▄▅▅▅▆▇▇▇█</td></tr><tr><td>train_acc</td><td>▁▄▅▅▆▆▆▇▇▇▇▇███</td></tr><tr><td>train_loss</td><td>█▅▄▄▃▃▃▃▂▂▂▂▁▁▁</td></tr><tr><td>val_acc</td><td>▁▄▄▅▅▆▆▇▇▇██▇██</td></tr><tr><td>val_loss</td><td>█▅▄▃▃▂▂▂▂▁▁▁▁▁▁</td></tr></table><br/></div><div class=\"wandb-col\"><h3>Run summary:</h3><br/><table class=\"wandb\"><tr><td>epoch</td><td>15</td></tr><tr><td>train_acc</td><td>0.62886</td></tr><tr><td>train_loss</td><td>0.97599</td></tr><tr><td>val_acc</td><td>0.61438</td></tr><tr><td>val_loss</td><td>1.04113</td></tr></table><br/></div></div>"
            ]
          },
          "metadata": {}
        },
        {
          "output_type": "display_data",
          "data": {
            "text/plain": [
              "<IPython.core.display.HTML object>"
            ],
            "text/html": [
              " View run <strong style=\"color:#cdcd00\">final_model</strong> at: <a href='https://wandb.ai/mrekh21-free-university-of-tbilisi-/emotion-recognition/runs/d2dyl7zh' target=\"_blank\">https://wandb.ai/mrekh21-free-university-of-tbilisi-/emotion-recognition/runs/d2dyl7zh</a><br> View project at: <a href='https://wandb.ai/mrekh21-free-university-of-tbilisi-/emotion-recognition' target=\"_blank\">https://wandb.ai/mrekh21-free-university-of-tbilisi-/emotion-recognition</a><br>Synced 5 W&B file(s), 0 media file(s), 0 artifact file(s) and 0 other file(s)"
            ]
          },
          "metadata": {}
        },
        {
          "output_type": "display_data",
          "data": {
            "text/plain": [
              "<IPython.core.display.HTML object>"
            ],
            "text/html": [
              "Find logs at: <code>./wandb/run-20250602_141857-d2dyl7zh/logs</code>"
            ]
          },
          "metadata": {}
        },
        {
          "output_type": "stream",
          "name": "stdout",
          "text": [
            "\n",
            "Best Validation Loss: 1.0411\n"
          ]
        }
      ]
    },
    {
      "cell_type": "code",
      "source": [
        "import torch\n",
        "from torch.utils.data import DataLoader, TensorDataset\n",
        "\n",
        "device = torch.device(\"cuda\" if torch.cuda.is_available() else \"cpu\")\n",
        "\n",
        "# Convert to tensors\n",
        "X_test_tensor = torch.tensor(X_test).float().permute(0, 3, 1, 2)  # (N, 1, 48, 48)\n",
        "y_test_tensor = torch.tensor(y_test).long()\n",
        "\n",
        "test_dataset = TensorDataset(X_test_tensor, y_test_tensor)\n",
        "test_loader = DataLoader(test_dataset, batch_size=config[\"batch_size\"], shuffle=False)"
      ],
      "metadata": {
        "id": "eK7ZZpRFkj4f"
      },
      "execution_count": 82,
      "outputs": []
    },
    {
      "cell_type": "code",
      "source": [
        "final_model.eval()\n",
        "\n",
        "all_preds = []\n",
        "all_labels = []\n",
        "\n",
        "with torch.no_grad():\n",
        "    for images, labels in tqdm(test_loader):\n",
        "        images = images.to(device)\n",
        "        labels = labels.to(device)\n",
        "\n",
        "        outputs = final_model(images)\n",
        "        preds = torch.argmax(outputs, dim=1)\n",
        "\n",
        "        all_preds.extend(preds.cpu().numpy())\n",
        "        all_labels.extend(labels.cpu().numpy())\n"
      ],
      "metadata": {
        "id": "ESsAy4EZjaWs",
        "colab": {
          "base_uri": "https://localhost:8080/"
        },
        "outputId": "2a735e94-b961-48fc-c856-69895a734dc4"
      },
      "execution_count": 83,
      "outputs": [
        {
          "output_type": "stream",
          "name": "stderr",
          "text": [
            "100%|██████████| 29/29 [00:00<00:00, 77.90it/s]\n"
          ]
        }
      ]
    },
    {
      "cell_type": "code",
      "source": [
        "from sklearn.metrics import accuracy_score, precision_recall_fscore_support, confusion_matrix, classification_report\n",
        "\n",
        "# Accuracy\n",
        "acc = accuracy_score(all_labels, all_preds)\n",
        "\n",
        "# Precision, Recall, F1 (macro, micro, weighted depending on your use case)\n",
        "precision, recall, f1, _ = precision_recall_fscore_support(all_labels, all_preds, average='macro')\n",
        "\n",
        "# Confusion matrix\n",
        "conf_matrix = confusion_matrix(all_labels, all_preds)\n",
        "\n",
        "# Detailed classification report (per class metrics)\n",
        "report = classification_report(all_labels, all_preds)\n",
        "\n",
        "print(f\"Accuracy: {acc:.4f}\")\n",
        "print(f\"Precision (macro): {precision:.4f}\")\n",
        "print(f\"Recall (macro): {recall:.4f}\")\n",
        "print(f\"F1 Score (macro): {f1:.4f}\")\n",
        "print(\"\\nConfusion Matrix:\")\n",
        "print(conf_matrix)\n",
        "\n",
        "print(\"\\nClassification Report:\")\n",
        "print(report)"
      ],
      "metadata": {
        "colab": {
          "base_uri": "https://localhost:8080/"
        },
        "id": "YHALA6N5j7uS",
        "outputId": "d72e0aec-e1b7-40d4-ca97-6623db4c167f"
      },
      "execution_count": 84,
      "outputs": [
        {
          "output_type": "stream",
          "name": "stdout",
          "text": [
            "Accuracy: 0.6186\n",
            "Precision (macro): 0.5965\n",
            "Recall (macro): 0.5516\n",
            "F1 Score (macro): 0.5568\n",
            "\n",
            "Confusion Matrix:\n",
            "[[270   1  34  25  67  12  82]\n",
            " [ 30  14   3   1   4   1   2]\n",
            " [ 74   4 133  28 126  76  87]\n",
            " [ 21   0  14 767  23  16  38]\n",
            " [ 67   3  38  40 274   7 165]\n",
            " [  5   0  44  31   7 315  14]\n",
            " [ 26   1  13  40  88  11 447]]\n",
            "\n",
            "Classification Report:\n",
            "              precision    recall  f1-score   support\n",
            "\n",
            "           0       0.55      0.55      0.55       491\n",
            "           1       0.61      0.25      0.36        55\n",
            "           2       0.48      0.25      0.33       528\n",
            "           3       0.82      0.87      0.85       879\n",
            "           4       0.47      0.46      0.46       594\n",
            "           5       0.72      0.76      0.74       416\n",
            "           6       0.54      0.71      0.61       626\n",
            "\n",
            "    accuracy                           0.62      3589\n",
            "   macro avg       0.60      0.55      0.56      3589\n",
            "weighted avg       0.61      0.62      0.61      3589\n",
            "\n"
          ]
        }
      ]
    },
    {
      "cell_type": "code",
      "source": [
        "from sklearn.metrics import accuracy_score, precision_recall_fscore_support, confusion_matrix, classification_report\n",
        "import torch\n",
        "import numpy as np\n",
        "from tqdm import tqdm\n",
        "\n",
        "wandb.init(project=\"emotion-recognition\", name=\"final_test_evaluation\", job_type=\"evaluation\")\n",
        "\n",
        "\n",
        "def evaluate_model(model, dataloader):\n",
        "    model.eval()\n",
        "    all_preds = []\n",
        "    all_labels = []\n",
        "\n",
        "    with torch.no_grad():\n",
        "        for images, labels in tqdm(dataloader):\n",
        "            images = images.to(device)\n",
        "            labels = labels.to(device)\n",
        "\n",
        "            outputs = model(images)\n",
        "            preds = torch.argmax(outputs, dim=1)\n",
        "\n",
        "            all_preds.extend(preds.cpu().numpy())\n",
        "            all_labels.extend(labels.cpu().numpy())\n",
        "\n",
        "    return np.array(all_preds), np.array(all_labels)\n",
        "\n",
        "# Run evaluation\n",
        "y_pred, y_true = evaluate_model(final_model, test_loader)\n",
        "\n",
        "# Compute metrics\n",
        "acc = accuracy_score(y_true, y_pred)\n",
        "precision, recall, f1, _ = precision_recall_fscore_support(y_true, y_pred, average='macro')\n",
        "conf_matrix = confusion_matrix(y_true, y_pred)\n",
        "class_report = classification_report(y_true, y_pred, output_dict=True)\n",
        "\n",
        "# Log scalar metrics\n",
        "wandb.log({\n",
        "    \"test/accuracy\": acc,\n",
        "    \"test/precision_macro\": precision,\n",
        "    \"test/recall_macro\": recall,\n",
        "    \"test/f1_macro\": f1,\n",
        "})\n",
        "\n",
        "# Optional: Log the confusion matrix\n",
        "wandb.log({\n",
        "    \"test/confusion_matrix\": wandb.plot.confusion_matrix(\n",
        "        probs=None,\n",
        "        y_true=y_true,\n",
        "        preds=y_pred,\n",
        "        class_names=[str(i) for i in range(7)]  # or use your actual emotion labels\n",
        "    )\n",
        "})\n",
        "\n",
        "# Optional: log full classification report\n",
        "for label, metrics in class_report.items():\n",
        "    if isinstance(metrics, dict):  # skip 'accuracy' line\n",
        "        wandb.log({\n",
        "            f\"class_{label}/precision\": metrics['precision'],\n",
        "            f\"class_{label}/recall\": metrics['recall'],\n",
        "            f\"class_{label}/f1-score\": metrics['f1-score'],\n",
        "            f\"class_{label}/support\": metrics['support'],\n",
        "        })\n",
        "\n",
        "wandb.finish()"
      ],
      "metadata": {
        "colab": {
          "base_uri": "https://localhost:8080/",
          "height": 1000
        },
        "id": "ul2Y8_qTmiW4",
        "outputId": "0b3fdd8d-6003-472b-fd63-ab87f2ddcbeb"
      },
      "execution_count": 85,
      "outputs": [
        {
          "output_type": "display_data",
          "data": {
            "text/plain": [
              "<IPython.core.display.HTML object>"
            ],
            "text/html": [
              "Tracking run with wandb version 0.19.11"
            ]
          },
          "metadata": {}
        },
        {
          "output_type": "display_data",
          "data": {
            "text/plain": [
              "<IPython.core.display.HTML object>"
            ],
            "text/html": [
              "Run data is saved locally in <code>/content/Emotion_Recognition/wandb/run-20250602_142153-i5o6g8ck</code>"
            ]
          },
          "metadata": {}
        },
        {
          "output_type": "display_data",
          "data": {
            "text/plain": [
              "<IPython.core.display.HTML object>"
            ],
            "text/html": [
              "Syncing run <strong><a href='https://wandb.ai/mrekh21-free-university-of-tbilisi-/emotion-recognition/runs/i5o6g8ck' target=\"_blank\">final_test_evaluation</a></strong> to <a href='https://wandb.ai/mrekh21-free-university-of-tbilisi-/emotion-recognition' target=\"_blank\">Weights & Biases</a> (<a href='https://wandb.me/developer-guide' target=\"_blank\">docs</a>)<br>"
            ]
          },
          "metadata": {}
        },
        {
          "output_type": "display_data",
          "data": {
            "text/plain": [
              "<IPython.core.display.HTML object>"
            ],
            "text/html": [
              " View project at <a href='https://wandb.ai/mrekh21-free-university-of-tbilisi-/emotion-recognition' target=\"_blank\">https://wandb.ai/mrekh21-free-university-of-tbilisi-/emotion-recognition</a>"
            ]
          },
          "metadata": {}
        },
        {
          "output_type": "display_data",
          "data": {
            "text/plain": [
              "<IPython.core.display.HTML object>"
            ],
            "text/html": [
              " View run at <a href='https://wandb.ai/mrekh21-free-university-of-tbilisi-/emotion-recognition/runs/i5o6g8ck' target=\"_blank\">https://wandb.ai/mrekh21-free-university-of-tbilisi-/emotion-recognition/runs/i5o6g8ck</a>"
            ]
          },
          "metadata": {}
        },
        {
          "output_type": "stream",
          "name": "stderr",
          "text": [
            "100%|██████████| 29/29 [00:00<00:00, 75.05it/s]\n"
          ]
        },
        {
          "output_type": "display_data",
          "data": {
            "text/plain": [
              "<IPython.core.display.HTML object>"
            ],
            "text/html": []
          },
          "metadata": {}
        },
        {
          "output_type": "display_data",
          "data": {
            "text/plain": [
              "<IPython.core.display.HTML object>"
            ],
            "text/html": [
              "<br>    <style><br>        .wandb-row {<br>            display: flex;<br>            flex-direction: row;<br>            flex-wrap: wrap;<br>            justify-content: flex-start;<br>            width: 100%;<br>        }<br>        .wandb-col {<br>            display: flex;<br>            flex-direction: column;<br>            flex-basis: 100%;<br>            flex: 1;<br>            padding: 10px;<br>        }<br>    </style><br><div class=\"wandb-row\"><div class=\"wandb-col\"><h3>Run history:</h3><br/><table class=\"wandb\"><tr><td>class_0/f1-score</td><td>▁</td></tr><tr><td>class_0/precision</td><td>▁</td></tr><tr><td>class_0/recall</td><td>▁</td></tr><tr><td>class_0/support</td><td>▁</td></tr><tr><td>class_1/f1-score</td><td>▁</td></tr><tr><td>class_1/precision</td><td>▁</td></tr><tr><td>class_1/recall</td><td>▁</td></tr><tr><td>class_1/support</td><td>▁</td></tr><tr><td>class_2/f1-score</td><td>▁</td></tr><tr><td>class_2/precision</td><td>▁</td></tr><tr><td>class_2/recall</td><td>▁</td></tr><tr><td>class_2/support</td><td>▁</td></tr><tr><td>class_3/f1-score</td><td>▁</td></tr><tr><td>class_3/precision</td><td>▁</td></tr><tr><td>class_3/recall</td><td>▁</td></tr><tr><td>class_3/support</td><td>▁</td></tr><tr><td>class_4/f1-score</td><td>▁</td></tr><tr><td>class_4/precision</td><td>▁</td></tr><tr><td>class_4/recall</td><td>▁</td></tr><tr><td>class_4/support</td><td>▁</td></tr><tr><td>class_5/f1-score</td><td>▁</td></tr><tr><td>class_5/precision</td><td>▁</td></tr><tr><td>class_5/recall</td><td>▁</td></tr><tr><td>class_5/support</td><td>▁</td></tr><tr><td>class_6/f1-score</td><td>▁</td></tr><tr><td>class_6/precision</td><td>▁</td></tr><tr><td>class_6/recall</td><td>▁</td></tr><tr><td>class_6/support</td><td>▁</td></tr><tr><td>class_macro avg/f1-score</td><td>▁</td></tr><tr><td>class_macro avg/precision</td><td>▁</td></tr><tr><td>class_macro avg/recall</td><td>▁</td></tr><tr><td>class_macro avg/support</td><td>▁</td></tr><tr><td>class_weighted avg/f1-score</td><td>▁</td></tr><tr><td>class_weighted avg/precision</td><td>▁</td></tr><tr><td>class_weighted avg/recall</td><td>▁</td></tr><tr><td>class_weighted avg/support</td><td>▁</td></tr><tr><td>test/accuracy</td><td>▁</td></tr><tr><td>test/f1_macro</td><td>▁</td></tr><tr><td>test/precision_macro</td><td>▁</td></tr><tr><td>test/recall_macro</td><td>▁</td></tr></table><br/></div><div class=\"wandb-col\"><h3>Run summary:</h3><br/><table class=\"wandb\"><tr><td>class_0/f1-score</td><td>0.54878</td></tr><tr><td>class_0/precision</td><td>0.54767</td></tr><tr><td>class_0/recall</td><td>0.5499</td></tr><tr><td>class_0/support</td><td>491</td></tr><tr><td>class_1/f1-score</td><td>0.35897</td></tr><tr><td>class_1/precision</td><td>0.6087</td></tr><tr><td>class_1/recall</td><td>0.25455</td></tr><tr><td>class_1/support</td><td>55</td></tr><tr><td>class_2/f1-score</td><td>0.32962</td></tr><tr><td>class_2/precision</td><td>0.4767</td></tr><tr><td>class_2/recall</td><td>0.25189</td></tr><tr><td>class_2/support</td><td>528</td></tr><tr><td>class_3/f1-score</td><td>0.84705</td></tr><tr><td>class_3/precision</td><td>0.82296</td></tr><tr><td>class_3/recall</td><td>0.87258</td></tr><tr><td>class_3/support</td><td>879</td></tr><tr><td>class_4/f1-score</td><td>0.46323</td></tr><tr><td>class_4/precision</td><td>0.4652</td></tr><tr><td>class_4/recall</td><td>0.46128</td></tr><tr><td>class_4/support</td><td>594</td></tr><tr><td>class_5/f1-score</td><td>0.7377</td></tr><tr><td>class_5/precision</td><td>0.71918</td></tr><tr><td>class_5/recall</td><td>0.75721</td></tr><tr><td>class_5/support</td><td>416</td></tr><tr><td>class_6/f1-score</td><td>0.61191</td></tr><tr><td>class_6/precision</td><td>0.53533</td></tr><tr><td>class_6/recall</td><td>0.71406</td></tr><tr><td>class_6/support</td><td>626</td></tr><tr><td>class_macro avg/f1-score</td><td>0.55675</td></tr><tr><td>class_macro avg/precision</td><td>0.59653</td></tr><tr><td>class_macro avg/recall</td><td>0.55164</td></tr><tr><td>class_macro avg/support</td><td>3589</td></tr><tr><td>class_weighted avg/f1-score</td><td>0.60543</td></tr><tr><td>class_weighted avg/precision</td><td>0.60966</td></tr><tr><td>class_weighted avg/recall</td><td>0.61856</td></tr><tr><td>class_weighted avg/support</td><td>3589</td></tr><tr><td>test/accuracy</td><td>0.61856</td></tr><tr><td>test/f1_macro</td><td>0.55675</td></tr><tr><td>test/precision_macro</td><td>0.59653</td></tr><tr><td>test/recall_macro</td><td>0.55164</td></tr></table><br/></div></div>"
            ]
          },
          "metadata": {}
        },
        {
          "output_type": "display_data",
          "data": {
            "text/plain": [
              "<IPython.core.display.HTML object>"
            ],
            "text/html": [
              " View run <strong style=\"color:#cdcd00\">final_test_evaluation</strong> at: <a href='https://wandb.ai/mrekh21-free-university-of-tbilisi-/emotion-recognition/runs/i5o6g8ck' target=\"_blank\">https://wandb.ai/mrekh21-free-university-of-tbilisi-/emotion-recognition/runs/i5o6g8ck</a><br> View project at: <a href='https://wandb.ai/mrekh21-free-university-of-tbilisi-/emotion-recognition' target=\"_blank\">https://wandb.ai/mrekh21-free-university-of-tbilisi-/emotion-recognition</a><br>Synced 5 W&B file(s), 1 media file(s), 2 artifact file(s) and 0 other file(s)"
            ]
          },
          "metadata": {}
        },
        {
          "output_type": "display_data",
          "data": {
            "text/plain": [
              "<IPython.core.display.HTML object>"
            ],
            "text/html": [
              "Find logs at: <code>./wandb/run-20250602_142153-i5o6g8ck/logs</code>"
            ]
          },
          "metadata": {}
        }
      ]
    },
    {
      "cell_type": "code",
      "source": [
        "import pandas as pd\n",
        "\n",
        "submission = pd.DataFrame({\n",
        "    'emotion' : y_pred\n",
        "})\n",
        "\n",
        "submission.to_csv('submission.csv', index=False)"
      ],
      "metadata": {
        "id": "BvbzbB_ynbl6"
      },
      "execution_count": 87,
      "outputs": []
    },
    {
      "cell_type": "code",
      "source": [],
      "metadata": {
        "id": "nk3MElDcHcqP"
      },
      "execution_count": 89,
      "outputs": []
    }
  ]
}